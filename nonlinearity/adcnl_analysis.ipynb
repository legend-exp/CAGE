{
 "cells": [
  {
   "cell_type": "code",
   "execution_count": null,
   "id": "feebaa16-4350-483f-8219-8652efc0a078",
   "metadata": {},
   "outputs": [],
   "source": [
    "#!/usr/bin/env python3\n",
    "import sys, os\n",
    "import json\n",
    "import numpy as np\n",
    "import argparse\n",
    "from parse import parse\n",
    "import pandas as pd\n",
    "import h5py\n",
    "import time\n",
    "#!pip install ipympl==0.7.0 --user\n",
    "\n",
    "import matplotlib.pyplot as plt\n",
    "plt.style.use('../clint.mpl')\n",
    "%matplotlib widget\n",
    "\n",
    "from pygama import DataGroup\n",
    "import pygama.lh5 as lh5\n",
    "import pygama.analysis.histograms as pgh\n",
    "from pygama.io.daq_to_raw import daq_to_raw"
   ]
  },
  {
   "cell_type": "code",
   "execution_count": null,
   "id": "786b7584-0666-4aa8-91fd-f449b072ee0a",
   "metadata": {},
   "outputs": [],
   "source": [
    "daq_dir = '/global/cfs/cdirs/legend/data/sisadcnl/Data'\n",
    "raw_dir = '/global/cfs/cdirs/legend/data/sisadcnl/LH5/raw'"
   ]
  },
  {
   "cell_type": "markdown",
   "id": "9a2019ab-1ef7-4350-b892-d91c804156d5",
   "metadata": {},
   "source": [
    "# Make Raw Files"
   ]
  },
  {
   "cell_type": "code",
   "execution_count": null,
   "id": "07a6d03e-4c49-471a-bc5a-84f32df0219d",
   "metadata": {},
   "outputs": [],
   "source": [
    "config = {'daq': 'ORCA'}\n",
    "files = {\n",
    "    1: ['2021/07/2021-7-28-CAGERun', np.arange(2,3)],\n",
    "    2: ['2021/08/2021-8-2-CAGERun', np.arange(3,16)], #run 16 is bad/corrupted\n",
    "    3: ['2021/08/2021-8-9-CAGERun', np.arange(17,37)],\n",
    "    4: ['2021/08/2021-8-10-CAGERun', np.arange(37,65)]\n",
    "}\n",
    "\n",
    "runs = np.arange(1,5)\n",
    "for r in runs:\n",
    "    print(files[r])\n",
    "    prefix = files[r][0]\n",
    "    cycles = files[r][1]\n",
    "    for cyc in cycles:\n",
    "        f_daq = f'{daq_dir}/{prefix}{cyc}' \n",
    "        f_raw = f'{raw_dir}/run{cyc}.lh5'\n",
    "        if not os.path.exists(f_raw):\n",
    "            daq_to_raw(f_daq, f_raw, config=config)\n",
    "        else:\n",
    "            print(f'Raw file already exists for cycle {cyc}')"
   ]
  },
  {
   "cell_type": "markdown",
   "id": "e7d1b99b-fd22-42f0-9130-5c274ceb5802",
   "metadata": {},
   "source": [
    "# Plot Individual Waveforms"
   ]
  },
  {
   "cell_type": "code",
   "execution_count": null,
   "id": "b530356a-34ae-4c3f-a077-58cf4deca29b",
   "metadata": {},
   "outputs": [],
   "source": [
    "def plot_wf(run, ind, save=False, name=None):\n",
    "    plt.figure()\n",
    "    with h5py.File(f'{raw_dir}/run{run}.lh5') as f:\n",
    "        values = f['ORSIS3302DecoderForEnergy']['raw']['waveform']['values'][ind]\n",
    "        samples = np.arange(len(values))\n",
    "        plt.plot(samples, values)\n",
    "        plt.xlabel('Sample')\n",
    "        plt.ylabel('ADU')\n",
    "    if save:\n",
    "        name = name if name else 'adcnl_wf_run{run}_{ind}.png'\n",
    "        plt.savefig(name)\n",
    "    plt.show()"
   ]
  },
  {
   "cell_type": "code",
   "execution_count": null,
   "id": "da88f13b-725e-4505-b296-7d7ba4af1fa4",
   "metadata": {},
   "outputs": [],
   "source": [
    "plot_wf(6, 3000)"
   ]
  },
  {
   "cell_type": "markdown",
   "id": "6e63a8ff-4c03-4b3f-aaec-f2ec5497f979",
   "metadata": {},
   "source": [
    "# Find Low Counts"
   ]
  },
  {
   "cell_type": "code",
   "execution_count": null,
   "id": "83320944-1c9f-4f1f-8d06-da1f8df77c7b",
   "metadata": {},
   "outputs": [],
   "source": [
    "def drop_badwfs(values, threshold=6000):\n",
    "    return np.delete(values, np.unique(np.where(values < threshold)[0]), axis=0)"
   ]
  },
  {
   "cell_type": "markdown",
   "id": "207f8994-87d4-4806-ba71-3a2cfea9c6a9",
   "metadata": {},
   "source": [
    "# Histogram ADCs"
   ]
  },
  {
   "cell_type": "code",
   "execution_count": null,
   "id": "37fa64f9-8688-4112-a7b5-ee15034ff768",
   "metadata": {},
   "outputs": [],
   "source": [
    "def hist_adcs(runs, bins, plot=True):\n",
    "    counts = np.zeros(len(bins)-1)\n",
    "    for r in runs:\n",
    "        print(f'Getting waveforms from run {r}...')\n",
    "        with h5py.File(f'{raw_dir}/run{r}.lh5') as f:\n",
    "            ndval = drop_badwfs(f['ORSIS3302DecoderForEnergy']['raw']['waveform']['values'][()])\n",
    "            bc = np.bincount(np.ravel(ndval))\n",
    "            counts += np.concatenate((bc, np.zeros(len(counts)-len(bc))))\n",
    "    if plot:\n",
    "        plt.figure()\n",
    "        pgh.plot_hist(counts, bins)\n",
    "    return counts"
   ]
  },
  {
   "cell_type": "code",
   "execution_count": null,
   "id": "d61e93fd-ef61-49d4-8074-5de42252df7c",
   "metadata": {},
   "outputs": [],
   "source": [
    "bins = np.arange(-0.5, 64001.5)"
   ]
  },
  {
   "cell_type": "code",
   "execution_count": null,
   "id": "514e7000-1287-4154-8962-465ba7e38bb9",
   "metadata": {},
   "outputs": [],
   "source": [
    "counts_up = hist_adcs(np.arange(37,65), bins, False)"
   ]
  },
  {
   "cell_type": "code",
   "execution_count": null,
   "id": "4317fd1f-6175-4aa6-ba83-10d97dc97e5d",
   "metadata": {},
   "outputs": [],
   "source": [
    "counts_overnight = counts_up\n",
    "counts_up = hist_adcs(np.arange(2,10), bins, False)\n",
    "counts_down = hist_adcs(np.arange(10,16), bins, False)\n"
   ]
  },
  {
   "cell_type": "code",
   "execution_count": null,
   "id": "23b771a8-d248-4612-8a1e-feaa9bd0aa42",
   "metadata": {},
   "outputs": [],
   "source": [
    "counts = counts_overnight + counts_up"
   ]
  },
  {
   "cell_type": "code",
   "execution_count": null,
   "id": "b63f85ae-4f12-4a5c-a285-398b34ac7ed5",
   "metadata": {},
   "outputs": [],
   "source": [
    "lo = 6400\n",
    "hi = 57800\n",
    "dnlplus_overnight = counts_overnight/np.mean(counts_overnight[lo:hi])\n",
    "dnlplus_up = counts_up/np.mean(counts_up[lo:hi])\n",
    "dnlplus_down = counts_down/np.mean(counts_down[lo:hi])\n",
    "dnlplus = counts/np.mean(counts[lo:hi])"
   ]
  },
  {
   "cell_type": "code",
   "execution_count": null,
   "id": "a46bfda4-a58f-48df-8637-cb7a7547c485",
   "metadata": {},
   "outputs": [],
   "source": [
    "inl_overnight = np.cumsum((dnlplus_overnight - 1)[lo:hi])\n",
    "inl_up = np.cumsum((dnlplus_up - 1)[lo:hi])\n",
    "inl_down = np.cumsum((dnlplus_down - 1)[lo:hi])\n",
    "inl = np.cumsum((dnlplus - 1)[lo:hi])"
   ]
  },
  {
   "cell_type": "code",
   "execution_count": null,
   "id": "64eac2ab-fa7b-4c97-b678-2d53396dccda",
   "metadata": {},
   "outputs": [],
   "source": [
    "plt.figure()\n",
    "pgh.plot_hist(counts_overnight, bins, label='overnight')\n",
    "pgh.plot_hist(counts_up, bins, label='2.5 hour')\n",
    "plt.title('Up Ramp')\n",
    "plt.xlabel('adu')\n",
    "plt.ylabel('Counts')\n",
    "plt.legend()"
   ]
  },
  {
   "cell_type": "code",
   "execution_count": null,
   "id": "b0097357-ab84-479f-b2cc-984e4aa0334b",
   "metadata": {},
   "outputs": [],
   "source": [
    "# DNL plots\n",
    "plt.figure()\n",
    "pgh.plot_hist(dnlplus_overnight, bins, label='overnight', alpha=0.6)\n",
    "plt.title('Up Ramp Comparison')\n",
    "plt.xlabel('adu')\n",
    "plt.ylabel('DNL+1')\n",
    "# plt.figure()\n",
    "pgh.plot_hist(dnlplus_up, bins, label='2.5 hour', alpha=0.6)\n",
    "plt.axhline(1, color='red')\n",
    "# plt.axhline(1, color='orange')\n",
    "plt.legend()\n",
    "# plt.title('Up Ramp')\n",
    "# plt.xlabel('adu')\n",
    "# plt.ylabel('DNL+1')\n",
    "plt.figure()\n",
    "pgh.plot_hist(dnlplus_down, bins)\n",
    "plt.axhline(1, color='orange')\n",
    "plt.title('Down Ramp')\n",
    "plt.xlabel('adu')\n",
    "plt.ylabel('DNL+1')\n",
    "plt.figure()\n",
    "pgh.plot_hist(dnlplus, bins)\n",
    "plt.axhline(1, color='orange')\n",
    "plt.title('All Waveforms')\n",
    "plt.xlabel('adu')\n",
    "plt.ylabel('DNL+1')"
   ]
  },
  {
   "cell_type": "code",
   "execution_count": null,
   "id": "6d63e8c7-c91e-43f2-be2d-6986e4f7b013",
   "metadata": {},
   "outputs": [],
   "source": [
    "# INL Plots\n",
    "plt.figure()\n",
    "pgh.plot_hist(inl_overnight, bins[lo:hi+1])\n",
    "plt.title('Overnight Ramp')\n",
    "plt.xlabel('adu')\n",
    "plt.ylabel('INL')\n",
    "plt.figure()\n",
    "pgh.plot_hist(inl_up, bins[lo:hi+1])\n",
    "plt.title('Up Ramp')\n",
    "plt.xlabel('adu')\n",
    "plt.ylabel('INL')\n",
    "plt.figure()\n",
    "pgh.plot_hist(inl_down, bins[lo:hi+1])\n",
    "plt.title('Down Ramp')\n",
    "plt.xlabel('adu')\n",
    "plt.ylabel('INL')\n",
    "plt.figure()\n",
    "pgh.plot_hist(inl, bins[lo:hi+1])\n",
    "plt.title('All Waveforms')\n",
    "plt.xlabel('adu')\n",
    "plt.ylabel('INL')"
   ]
  },
  {
   "cell_type": "markdown",
   "id": "94acfade-7c9e-4674-a39e-9d7087dda24f",
   "metadata": {},
   "source": [
    "# Superpulses"
   ]
  },
  {
   "cell_type": "code",
   "execution_count": null,
   "id": "692e1382-beb0-4ea1-a2e7-7913e22efd8e",
   "metadata": {},
   "outputs": [],
   "source": [
    "def norm_df(df):\n",
    "    subbed = df.sub(df.min(axis=1),axis=0)\n",
    "    normed = subbed.div(subbed.max(axis=1), axis=0)\n",
    "    return normed\n",
    "\n",
    "def mean_df(df):\n",
    "    return df.mean().to_frame().transpose()\n",
    "\n",
    "def get_superpulse(runs, plot=True):\n",
    "    sums = np.zeros(2000)\n",
    "    tot = 0\n",
    "    for r in runs:\n",
    "        print(f'Getting waveforms from run {r}...')\n",
    "        with h5py.File(f'{raw_dir}/run{r}.lh5') as f:\n",
    "            ndval = drop_badwfs(f['ORSIS3302DecoderForEnergy']['raw']['waveform']['values'][()])\n",
    "            subbed = ndval.T - np.amin(ndval, axis=1)\n",
    "            ndval_norm = (subbed/np.amax(subbed, axis=0)).T\n",
    "            #print((np.amin(ndval_norm, axis=1) == 0).all(), (np.amax(ndval_norm, axis=1) == 1).all())\n",
    "            sums += np.sum(ndval_norm, axis=0)\n",
    "            tot += len(ndval)\n",
    "    means = sums/tot\n",
    "    print(f'Sums: {sums}\\nMeans: {means}\\nTotal: {tot})')\n",
    "    if plot:\n",
    "        x = np.arange(2000)\n",
    "        plt.figure()\n",
    "        plt.plot(x, means)\n",
    "        plt.xlabel('sample')\n",
    "        plt.ylabel('normalized adu')\n",
    "    return means\n",
    "                "
   ]
  },
  {
   "cell_type": "code",
   "execution_count": null,
   "id": "949e7f58-f3a9-4715-8ebb-8d8229fe5070",
   "metadata": {},
   "outputs": [],
   "source": [
    "run = 4\n",
    "cycles = files[run][1]\n",
    "superpulse = get_superpulse(cycles)"
   ]
  },
  {
   "cell_type": "code",
   "execution_count": null,
   "id": "38f5f666-0a64-4c36-a82a-04b0a8a770c6",
   "metadata": {},
   "outputs": [],
   "source": [
    "superpulse_down = get_superpulse(np.arange(10,16))"
   ]
  },
  {
   "cell_type": "code",
   "execution_count": null,
   "id": "6939c825-9e29-4904-bcee-ebcae570174b",
   "metadata": {},
   "outputs": [],
   "source": [
    "x = np.arange(1999)\n",
    "plt.figure()\n",
    "plt.plot(x, superpulse_down[:-1])\n",
    "#plt.plot(x, superpulse[:-1])\n",
    "plt.xlabel('sample')\n",
    "plt.ylabel('normalized adu')"
   ]
  },
  {
   "cell_type": "code",
   "execution_count": null,
   "id": "43548490-2e6e-4908-a6d2-1c91cd9fe923",
   "metadata": {},
   "outputs": [],
   "source": [
    "run = 4\n",
    "prefix = files[run][0]\n",
    "cycles = files[run][1]\n",
    "browser = WaveformBrowser([f'{raw_dir}/run{cycles[i]}.lh5' for i in np.arange(len(cycles))], 'ORSIS3302DecoderForEnergy/raw')"
   ]
  }
 ],
 "metadata": {
  "kernelspec": {
   "display_name": "legend-base",
   "language": "python",
   "name": "legend-base"
  },
  "language_info": {
   "codemirror_mode": {
    "name": "ipython",
    "version": 3
   },
   "file_extension": ".py",
   "mimetype": "text/x-python",
   "name": "python",
   "nbconvert_exporter": "python",
   "pygments_lexer": "ipython3",
   "version": "3.8.5"
  }
 },
 "nbformat": 4,
 "nbformat_minor": 5
}
