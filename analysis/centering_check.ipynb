{
 "cells": [
  {
   "cell_type": "code",
   "execution_count": null,
   "id": "39e37c76-52dc-4552-9b47-f06a63b7353c",
   "metadata": {},
   "outputs": [],
   "source": [
    "from io import StringIO\n",
    "import pandas as pd\n",
    "import numpy as np\n",
    "import matplotlib.pyplot as plt\n",
    "\n",
    "tb = StringIO(\"\"\"\n",
    "x_mm rot0 rot180 rot145\n",
    "0  0   112 111\n",
    "1  138 246 123\n",
    "2  202 538 124\n",
    "3  376 688 128\n",
    "4  656 763 217\n",
    "5  750 678 471\n",
    "6  750 649 645\n",
    "7  760 656 741\n",
    "8  999 999 782\n",
    "9  999 999 682\n",
    "10 999 999 753\n",
    "\"\"\")\n",
    "df = pd.read_csv(tb, delim_whitespace=True)"
   ]
  },
  {
   "cell_type": "code",
   "execution_count": null,
   "id": "c2d06cda-b289-4397-81de-737f28c0eb6b",
   "metadata": {},
   "outputs": [],
   "source": [
    "%matplotlib widget\n",
    "\n",
    "df2 = df.mask((df == 999) | (df == 0))\n",
    "\n",
    "\n",
    "# interpolate the 50% crossing point\n",
    "x_smooth = np.arange(0, 10, 0.1)\n",
    "\n",
    "rot0_smooth = np.interp(x_smooth, df2.x_mm, df2.rot0)\n",
    "rot180_smooth = np.interp(x_smooth, df2.x_mm, df2.rot180)\n",
    "rot145_smooth = np.interp(x_smooth, df2.x_mm, df2.rot145)\n",
    "\n",
    "# assume max is 700 and baseline count rate is 100\n",
    "ix50_rot0 = np.where(rot0_smooth > 700/2 + 100)[0][0]\n",
    "ix50_rot180 = np.where(rot180_smooth > 700/2 + 100)[0][0]\n",
    "ix50_rot145 = np.where(rot145_smooth > 700/2 + 100)[0][0]\n",
    "\n",
    "plt.plot(x_smooth[ix50_rot0], rot0_smooth[ix50_rot0], '.b', ms=20)\n",
    "plt.plot(x_smooth[ix50_rot180], rot180_smooth[ix50_rot180], '.g', ms=20)\n",
    "plt.plot(x_smooth[ix50_rot145], rot145_smooth[ix50_rot145], '.r', ms=20)\n",
    "         \n",
    "plt.plot(df2.x_mm, df2.rot0, '--bo', label=f'rotary 0, 50 pct @ {x_smooth[ix50_rot0]:.1f} mm')\n",
    "plt.plot(df2.x_mm, df2.rot180, '--go', label=f'rotary 180, 50 pct @ {x_smooth[ix50_rot180]:.1f} mm')\n",
    "plt.plot(df2.x_mm, df2.rot145, '--ro', label=f'rotary 145, 50 pct @ {x_smooth[ix50_rot145]:.1f} mm')\n",
    "plt.axhline(700, c='k', label='avg max alpha rate')\n",
    "plt.legend(loc = 4, fontsize=12)\n",
    "\n",
    "plt.xlabel('Distance [mm]', ha='right', x=1)\n",
    "plt.ylabel('Alpha counts', ha='right', y=1)"
   ]
  },
  {
   "cell_type": "code",
   "execution_count": null,
   "id": "28c9996d-b8d7-4d66-a4c6-bf0d438f8aff",
   "metadata": {},
   "outputs": [],
   "source": []
  }
 ],
 "metadata": {
  "kernelspec": {
   "display_name": "legend-base",
   "language": "python",
   "name": "legend-base"
  },
  "language_info": {
   "codemirror_mode": {
    "name": "ipython",
    "version": 3
   },
   "file_extension": ".py",
   "mimetype": "text/x-python",
   "name": "python",
   "nbconvert_exporter": "python",
   "pygments_lexer": "ipython3",
   "version": "3.9.12"
  }
 },
 "nbformat": 4,
 "nbformat_minor": 5
}
