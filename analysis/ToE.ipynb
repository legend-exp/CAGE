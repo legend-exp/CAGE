{
 "cells": [
  {
   "cell_type": "markdown",
   "id": "56f66c6f-470e-42b6-bb8c-5d5f6e22b2ed",
   "metadata": {},
   "source": [
    "Notebook to look at T/E for 60 keV gammas, and compare superpulses from the 60 keV sideband region with 60 keV peak region after T/E cuts\n",
    "\n",
    "Also to look at some features in the T/E vs E plot and show they are just from noise"
   ]
  },
  {
   "cell_type": "code",
   "execution_count": null,
   "id": "7b2dedfb-1321-4fd5-9755-4080c676fed1",
   "metadata": {},
   "outputs": [],
   "source": [
    "#!/usr/bin/env python3\n",
    "import os\n",
    "import json\n",
    "import h5py\n",
    "import argparse\n",
    "import pandas as pd\n",
    "import numpy as np\n",
    "import tinydb as db\n",
    "from tinydb.storages import MemoryStorage\n",
    "import matplotlib.pyplot as plt\n",
    "# plt.style.use('../clint.mpl')\n",
    "import matplotlib as mpl\n",
    "from matplotlib.colors import LogNorm\n",
    "\n",
    "import boost_histogram as bh\n",
    "import pickle as pl\n",
    "\n",
    "import lmfit\n",
    "# from lmfit.models import SkewedGaussianModel, SkewedVoigtModel\n",
    "from lmfit.lineshapes import gaussian2d, lorentzian\n",
    "\n",
    "from astropy.modeling import models, fitting\n",
    "\n",
    "import scipy.stats as stats\n",
    "import scipy.optimize as opt\n",
    "from pygama import DataGroup\n",
    "import pygama.lh5 as lh5\n",
    "import pygama.analysis.histograms as pgh\n",
    "import pygama.analysis.peak_fitting as pgf\n",
    "import cage_utils\n",
    "plt.rcParams['figure.figsize'] = [14, 10]"
   ]
  },
  {
   "cell_type": "markdown",
   "id": "f1894d9c-b8f3-4b9a-9841-60cb0af99dd9",
   "metadata": {},
   "source": [
    "Load data"
   ]
  },
  {
   "cell_type": "code",
   "execution_count": null,
   "id": "69d3c20d-1ae4-4161-96de-7580ced8e250",
   "metadata": {},
   "outputs": [],
   "source": [
    "run = 60 #44 #70 #64\n",
    "dsp_id = '02'\n",
    "user = True\n",
    "hit =True\n",
    "cal = True\n",
    "lowE=False\n",
    "etype = 'trapEftp_cal'\n",
    "\n",
    "corr_DCR=True\n",
    "corr_AoE=True\n",
    "corr_ToE=True\n",
    "\n",
    "norm = True\n",
    "cut = True\n",
    "\n",
    "\n",
    "dsp_list = ['energy', 'trapEftp', 'trapEmax', 'trapEftp_cal', 'bl','bl_sig', 'bl_slope', 'AoE', 'dcr', \"tp_0\", \"tp_02\", \"tp_05\", \"tp_10\", \"tp_20\", \"tp_30\", \"tp_40\", \"tp_50\", \"tp_60\", \"tp_70\", \"tp_80\", \"tp_90\", \"tp_96\", 'tp_max', 'ToE', 'log_tail_fit_slope', 'wf_max', 'wf_argmax', 'trapE_argmax', 'lf_max']\n",
    "\n",
    "df_raw, dg, runtype, rt_min, radius, angle_det, rotary = cage_utils.getDataFrame(run, user=user, hit=hit, cal=cal, dsp_list=dsp_list, lowE=lowE)\n",
    "\n",
    "df = cage_utils.apply_DC_Cuts(run, df_raw)\n",
    "\n",
    "# df_60 = df.query('trapEftp_cal > 55 and trapEftp_cal < 65').copy()\n",
    "# df_60 = df.query('trapEftp_cal > 55 and trapEftp_cal < 80').copy()\n"
   ]
  },
  {
   "cell_type": "markdown",
   "id": "a5dd82af-c8df-4933-a627-433c4edc288c",
   "metadata": {},
   "source": [
    "Now open json file with cut parameters and load them"
   ]
  },
  {
   "cell_type": "code",
   "execution_count": null,
   "id": "722abb73-4b93-4133-9451-d5b3c70d0914",
   "metadata": {},
   "outputs": [],
   "source": [
    "with open('./analysis_60keV.json') as f:\n",
    "        params = json.load(f)"
   ]
  },
  {
   "cell_type": "code",
   "execution_count": null,
   "id": "2e651d7e-e9b9-4022-952a-582457b0029c",
   "metadata": {},
   "outputs": [],
   "source": [
    "mean_60 = params[str(run)]['mean_60']\n",
    "sig_60 = params[str(run)]['sig_60']\n",
    "chiSquare_fit_60 = params[str(run)]['chiSquare_fit_60']\n",
    "cut_60_3sig = params[str(run)]['cut_60_3sig']\n",
    "bkg_60_left = params[str(run)]['bkg_60_left']\n",
    "bkg_60_right = params[str(run)]['bkg_60_right']\n",
    "bkg_60 = params[str(run)]['bkg_60']"
   ]
  },
  {
   "cell_type": "code",
   "execution_count": null,
   "id": "5d8f8935-4fb5-472c-8775-cd48211fd313",
   "metadata": {},
   "outputs": [],
   "source": [
    "\n",
    "cut_60_3sig = f'({mean_60-3*sig_60} <= trapEftp_cal <= {mean_60+3*sig_60})'\n",
    "cut_60_left = f'({mean_60-3*sig_60} <= trapEftp_cal < {mean_60})'\n",
    "cut_60_right = f'({mean_60} <= trapEftp_cal < {mean_60+3*sig_60})'\n",
    "\n",
    "\n",
    "bkg_60_left_min = mean_60-7.*sig_60\n",
    "bkg_60_left_max = mean_60-4*sig_60\n",
    "\n",
    "bkg_60_right_min = mean_60+4*sig_60\n",
    "bkg_60_right_max = mean_60+7.*sig_60\n",
    "\n",
    "bkg_60_left = f'({mean_60-7.*sig_60} <= trapEftp_cal < {mean_60-4*sig_60})'\n",
    "bkg_60_right = f'({mean_60+4*sig_60} < trapEftp_cal <= {mean_60+7.*sig_60})'\n",
    "\n",
    "\n",
    "counts_peak = len(df.query(cut_60_3sig).copy())\n",
    "err_peak = np.sqrt(counts_peak)\n",
    "\n",
    "left_counts = len(df.query(bkg_60_left))\n",
    "right_counts = len(df.query(bkg_60_right))\n",
    "\n",
    "total_bkg = len(df.query(bkg_60).copy())\n",
    "err_bkg = np.sqrt(total_bkg)\n",
    "\n",
    "\n",
    "counts = counts_peak - total_bkg\n",
    "err = np.sqrt(counts_peak + total_bkg)\n",
    "print(f'bkg_subtracted counts: {counts}')\n",
    "print(f'error: {err}')\n",
    "print(f'{(err/counts)*100:.3f}%')\n"
   ]
  },
  {
   "cell_type": "markdown",
   "id": "90a2a8f9-167e-4406-bd40-d447fcc25c36",
   "metadata": {},
   "source": [
    "Create new dataframes with energy cuts for the sideband and 60 keV peak regions"
   ]
  },
  {
   "cell_type": "code",
   "execution_count": null,
   "id": "dc6c69e8-5216-41b1-a3e4-78f5fc97badf",
   "metadata": {},
   "outputs": [],
   "source": [
    "df_60 = df.query(cut_60_3sig).copy()\n",
    "df_bkg = df.query(bkg_60).copy()"
   ]
  },
  {
   "cell_type": "markdown",
   "id": "508c4d17-115e-4ad8-a059-e4cbdf80c8b2",
   "metadata": {},
   "source": [
    "Plots T/E vs Energy"
   ]
  },
  {
   "cell_type": "code",
   "execution_count": null,
   "id": "6ec0c32c-8eef-482d-a725-6265e7a2a069",
   "metadata": {},
   "outputs": [],
   "source": [
    "fig, ax = plt.subplots()\n",
    "elo, ehi, epb = 50, 70, 0.5\n",
    "ToElo, ToEhi, ToEpb= 0.3,  0.5, 0.0025\n",
    "\n",
    "nbx = int((ehi-elo)/epb)\n",
    "nby = int((ToEhi-ToElo)/ToEpb)\n",
    "\n",
    "\n",
    "\n",
    "# fig.suptitle(f'T/E vs Energy', horizontalalignment='center', fontsize=16)\n",
    "\n",
    "ToE_hist_norm, xedges, yedges = np.histogram2d(df['trapEftp_cal'], df['ToE'], bins=[nbx, nby], range=([elo, ehi], [ToElo, ToEhi]))\n",
    "X, Y = np.mgrid[elo:ehi:nbx*1j, ToElo:ToEhi:nby*1j]\n",
    "\n",
    "\n",
    "pcm = plt.pcolormesh(X, Y, ToE_hist_norm,  shading='nearest') #0.002, 0.2\n",
    "\n",
    "cb = plt.colorbar()\n",
    "cb.set_label(\"counts\", ha = 'right', va='center', rotation=270, fontsize=14)\n",
    "cb.ax.tick_params(labelsize=12)\n",
    "ax.set_xlabel(f'Energy (keV)', fontsize=16)\n",
    "ax.set_ylabel('T/E (arb)', fontsize=16)\n",
    "plt.setp(ax.get_xticklabels(), fontsize=14)\n",
    "plt.setp(ax.get_yticklabels(), fontsize=14)\n",
    "\n",
    "\n",
    "ax.text(0.95, 0.83, f'r = {radius} mm \\ntheta = {angle_det} deg', verticalalignment='bottom',\n",
    "            horizontalalignment='right', transform=ax.transAxes, color='green', fontsize=14, bbox={'facecolor': 'white', 'alpha': 0.5, 'pad': 10})\n",
    "\n",
    "# plt.legend()\n",
    "plt.title(f'T/E vs Energy \\n{runtype} run {run}, {rt_min:.2f} mins', fontsize=18)\n",
    "plt.tight_layout()\n",
    "# plt.ylim(-0.05, 0.1)\n",
    "# plt.ylim(-0.05, 0.08)\n",
    "# plt.ylim(0.42, 0.51)\n",
    "# plt.xlim(52.5, 65)\n",
    "plt.show()"
   ]
  },
  {
   "cell_type": "markdown",
   "id": "836fe0f6-45bc-46de-adf1-0f0a425066e1",
   "metadata": {},
   "source": [
    "1D T/E"
   ]
  },
  {
   "cell_type": "code",
   "execution_count": null,
   "id": "709afd15-6206-4ba9-bc7e-967fe5caf2e1",
   "metadata": {},
   "outputs": [],
   "source": [
    "ToElo, ToEhi, ToEpb= 0.1,  0.5, 0.0025\n",
    "nbx = int((ToEhi-ToElo)/ToEpb)\n",
    "\n",
    "# bl_sig_lo, bl_sig_hi = 3.1, 5. # run 70\n",
    "# bl_sig_lo, bl_sig_hi = 3.1, 5.25\n",
    "# bl_sig_lo_raw, bl_sig_hi_raw = quant_raw_sig[0], quant_raw_sig[1]  \n",
    "\n",
    "ToE_hist, bins = np.histogram(df['ToE'], bins=nbx,\n",
    "                range=[ToElo, ToEhi])\n",
    "\n",
    "plt.plot(bins[1:], ToE_hist, ds='steps', c='b', lw=1)\n",
    "\n",
    "\n",
    "# plt.axvline(bl_sig_lo_raw, c='r', lw=1)\n",
    "# plt.axvline(bl_sig_hi_raw, c='r', lw=1)\n",
    "\n",
    "plt.xlabel('ToE', fontsize=16)\n",
    "plt.ylabel('counts', fontsize=16)\n",
    "plt.show()"
   ]
  },
  {
   "cell_type": "code",
   "execution_count": null,
   "id": "dc4a4af3-f208-4761-908c-62d308f1bc23",
   "metadata": {},
   "outputs": [],
   "source": [
    "ToElo, ToEhi, ToEpb= 0.3,  0.5, 0.0025\n",
    "nbx = int((ToEhi-ToElo)/ToEpb)\n",
    "\n",
    "print(nbx)\n",
    "\n",
    "# bl_sig_lo, bl_sig_hi = 3.1, 5. # run 70\n",
    "# bl_sig_lo, bl_sig_hi = 3.1, 5.25\n",
    "# bl_sig_lo_raw, bl_sig_hi_raw = quant_raw_sig[0], quant_raw_sig[1]  \n",
    "\n",
    "ToE_hist, bins = np.histogram(df_60['ToE'], bins=nbx,\n",
    "                range=[ToElo, ToEhi])\n",
    "\n",
    "plt.plot(bins[1:], ToE_hist, ds='steps', c='b', lw=1)\n",
    "\n",
    "\n",
    "# plt.axvline(bl_sig_lo_raw, c='r', lw=1)\n",
    "# plt.axvline(bl_sig_hi_raw, c='r', lw=1)\n",
    "\n",
    "plt.xlabel('ToE', fontsize=16)\n",
    "plt.ylabel('counts', fontsize=16)\n",
    "\n",
    "# plt.xlim(0.35, 0.5)\n",
    "plt.show()"
   ]
  },
  {
   "cell_type": "markdown",
   "id": "f4ff941c-fef5-475a-8ea4-7193f1372644",
   "metadata": {},
   "source": [
    "Come up with T/E cut based on fit of the 1D T/E distribution. \n",
    "Start with 60 keV peak region\n",
    "\n",
    "As is, works only for earlier runs"
   ]
  },
  {
   "cell_type": "code",
   "execution_count": null,
   "id": "1aa42e22-994c-4b6d-9d93-a908d93bee12",
   "metadata": {},
   "outputs": [],
   "source": [
    "# First use gauss_mode_width_max to use for initial guesses in fit_hist\n",
    "\n",
    "if run < 66:\n",
    "    ToE_60_hist, bins, tvars = pgh.get_hist(df_60['ToE'], bins=50, range=[0.43, 0.5]) #range=[54, 65]\n",
    "    # plt.plot(bins[1:], ToE_60_hist, ds='steps', c='b', lw=1)\n",
    "    pars, cov = pgf.gauss_mode_width_max(ToE_60_hist, bins, tvars)\n",
    "    mode = pars[0]\n",
    "    width = pars[1]\n",
    "    amp = pars[2]\n",
    "    print(f'mode: {mode}')\n",
    "    print(f'width: {width}')\n",
    "    print(f'amp: {amp}')"
   ]
  },
  {
   "cell_type": "code",
   "execution_count": null,
   "id": "81f16e47-c15e-43bd-b06c-42280adf5eed",
   "metadata": {},
   "outputs": [],
   "source": [
    "if run < 66: \n",
    "    Tpars, Tcov = pgf.fit_hist(cage_utils.gauss_fit_func, ToE_60_hist, bins, tvars, guess = (amp, mode, width, 1))\n",
    "\n",
    "    chi_2_ToE_60 = pgf.goodness_of_fit(ToE_60_hist, bins, cage_utils.gauss_fit_func, Tpars)\n",
    "\n",
    "\n",
    "    ToE_60_mean = Tpars[1]\n",
    "    ToE_60_sig = Tpars[2]\n",
    "    ToE_60_amp = Tpars[0]\n",
    "    ToE_60_const = Tpars[3]\n",
    "\n",
    "\n",
    "    print(f'chi square: {chi_2_ToE_60}')\n",
    "    print(f'mean: {ToE_60_mean}')\n",
    "    print(f'width: {ToE_60_sig}')\n",
    "    print(f'amp: {ToE_60_amp}')\n",
    "    print(f'C: {ToE_60_const}')\n",
    "    \n",
    "    plt.plot(bins[1:], cage_utils.gauss_fit_func(bins[1:], *Tpars), c = 'r')\n",
    "    plt.plot(bins[1:], ToE_60_hist, ds='steps', c='b', lw=1)"
   ]
  },
  {
   "cell_type": "markdown",
   "id": "dbd469a9-ec36-487b-99f1-fd7d00e63602",
   "metadata": {},
   "source": [
    "Repeat fit for sideband region"
   ]
  },
  {
   "cell_type": "code",
   "execution_count": null,
   "id": "ee0a8599-2a76-410f-a717-d4bfd5eb676e",
   "metadata": {},
   "outputs": [],
   "source": [
    "# First use gauss_mode_width_max to use for initial guesses in fit_hist\n",
    "\n",
    "ToE_60_main, bins, tvars = pgh.get_hist(df_60['ToE'], bins=100, range=[0.37, 0.42]) #range=[0.35, 0.42] for run < 66\n",
    "# plt.plot(bins[1:], ToE_60_main, ds='steps', c='b', lw=1)\n",
    "pars, cov = pgf.gauss_mode_width_max(ToE_60_main, bins, tvars)\n",
    "mode = pars[0]\n",
    "width = pars[1]\n",
    "amp = pars[2]\n",
    "print(f'mode: {mode}')\n",
    "print(f'width: {width}')\n",
    "print(f'amp: {amp}')"
   ]
  },
  {
   "cell_type": "code",
   "execution_count": null,
   "id": "927b760d-01c5-432b-aaae-809b9be01175",
   "metadata": {},
   "outputs": [],
   "source": [
    "plt.plot(bins[1:], ToE_60_main, ds='steps', c='b', lw=1)"
   ]
  },
  {
   "cell_type": "code",
   "execution_count": null,
   "id": "dec3789a-8f71-46e5-a1cc-587a32f918dc",
   "metadata": {},
   "outputs": [],
   "source": [
    "main_Tpars, main_Tcov = pgf.fit_hist(cage_utils.gauss_fit_func, ToE_60_main, bins, tvars, guess = (amp, mode, width, 1))\n",
    "\n",
    "chi_2_ToE_main = pgf.goodness_of_fit(ToE_60_main, bins, cage_utils.gauss_fit_func, main_Tpars)\n",
    "\n",
    "ToE_main_mean = main_Tpars[1]\n",
    "ToE_main_sig = main_Tpars[2]\n",
    "ToE_main_amp = main_Tpars[0]\n",
    "ToE_main_const = main_Tpars[3]\n",
    "\n",
    "# fwhm = width_fit*2.355\n",
    "\n",
    "print(f'chi square: {chi_2_ToE_main}')\n",
    "print(f'mean: {ToE_main_mean}')\n",
    "print(f'width: {ToE_main_sig}')\n",
    "print(f'amp: {ToE_main_amp}')\n",
    "print(f'C: {ToE_main_const }')\n"
   ]
  },
  {
   "cell_type": "code",
   "execution_count": null,
   "id": "bee25b30-cd24-4593-8e04-c957e026d36f",
   "metadata": {},
   "outputs": [],
   "source": [
    "plt.plot(bins[1:], cage_utils.gauss_fit_func(bins[1:], *main_Tpars), c = 'r')\n",
    "plt.plot(bins[1:], ToE_60_main, ds='steps', c='b', lw=1)"
   ]
  },
  {
   "cell_type": "markdown",
   "id": "50898062-fbdc-466d-a643-a11ba47ff913",
   "metadata": {},
   "source": [
    "Define T/E cuts for 60 keV and sideband regions"
   ]
  },
  {
   "cell_type": "code",
   "execution_count": null,
   "id": "c7604d53-5f73-4fc0-aa9a-20d39bcea43a",
   "metadata": {},
   "outputs": [],
   "source": [
    "ToE_60_hi = 2*ToE_60_sig + ToE_60_mean\n",
    "ToE_60_lo = ToE_60_mean - 2*ToE_60_sig \n",
    "\n",
    "ToE_bkg_hi = (2*ToE_main_sig + ToE_main_mean)\n",
    "ToE_bkg_lo = (ToE_main_mean - 2*ToE_main_sig)\n",
    "\n",
    "if ToE_60_lo < ToE_bkg_hi:\n",
    "    ToE_60_lo = ToE_bkg_hi \n",
    "\n",
    "print(f'ToE background: {ToE_bkg_lo:.3f}, {ToE_bkg_hi:.3f}')\n",
    "print(f'ToE 60 keV: {ToE_60_lo:.3f}, {ToE_60_hi:.3f}')"
   ]
  },
  {
   "cell_type": "code",
   "execution_count": null,
   "id": "a1e6eb6b-7fed-4f21-81b8-faf2a5e338d8",
   "metadata": {},
   "outputs": [],
   "source": [
    "ToE_60 = f'({ToE_60_lo} <= ToE < {ToE_60_hi})'\n",
    "ToE_left = f'({ToE_60_lo} <= ToE < {ToE_60_mean})'\n",
    "ToE_right = f'({ToE_60_mean} <= ToE < {ToE_60_hi})'\n",
    "\n",
    "ToE_bkg = f'({ToE_bkg_lo} < ToE < {ToE_bkg_hi})'\n",
    "\n",
    "# ToE_bkg_left = f'({ToE_bkg_lo}<= ToE <{ToE_main_mean})'\n",
    "# ToE_bkg_right = f'({ToE_main_mean}<= ToE <{ToE_bkg_hi})'\n",
    "\n",
    "bkg_left = f'({ToE_bkg} and {bkg_60_left})' \n",
    "bkg_right = f'({ToE_bkg} and {bkg_60_right})' \n",
    "bkg = f'{bkg_left} or {bkg_right}'\n",
    "\n",
    "ToE_60_3sigma = f'{cut_60_3sig} and {ToE_60}'\n",
    "\n",
    "ToE_60_left = f'{cut_60_left} and {ToE_right}'\n",
    "ToE_60_right = f'{cut_60_right} and {ToE_left}'\n",
    "\n",
    "\n",
    "# print(ToE_left)\n",
    "# print(ToE_60_left)\n",
    "# print(ToE_60_right)\n",
    "\n",
    "print(ToE_60_3sigma)\n",
    "print(bkg)\n",
    "\n",
    "# print(bkg_left)\n",
    "# print(bkg_right)\n",
    "# print(bkg)"
   ]
  },
  {
   "cell_type": "markdown",
   "id": "56d90fd6-6703-46c7-8286-7b2e0736e1c7",
   "metadata": {},
   "source": [
    "Now look at superpulses. "
   ]
  },
  {
   "cell_type": "code",
   "execution_count": null,
   "id": "c6166032-4cc8-493a-b5d0-b02b7071fb95",
   "metadata": {},
   "outputs": [],
   "source": [
    "times, all_60_raw = cage_utils.get_superpulse_taligned(df, dg, ToE_60_3sigma, all=True, norm=False)"
   ]
  },
  {
   "cell_type": "code",
   "execution_count": null,
   "id": "e9bafc8b-36e6-4266-babd-94bc2539a2df",
   "metadata": {},
   "outputs": [],
   "source": [
    "times, bkg_60_raw = cage_utils.get_superpulse_taligned(df, dg, bkg, all=True, norm=False)"
   ]
  },
  {
   "cell_type": "code",
   "execution_count": null,
   "id": "8a3eeec6-3aab-43cf-867f-43b309964dd5",
   "metadata": {},
   "outputs": [],
   "source": [
    "fig, ax = plt.subplots()\n",
    "plt.plot(times[:-1], all_60_raw[:-1], '-b', label=('60 keV'))\n",
    "plt.plot(times[:-1], bkg_60_raw[:-1], '-g', label=('background'))\n",
    "\n",
    "\n",
    "# plt.xlim(0, 4300)\n",
    "# plt.ylim(-0.025, 0.1)\n",
    "\n",
    "plt.xlim(3700, 4300)\n",
    "# plt.ylim(-0.025, 0.2)\n",
    "\n",
    "# plt.xlim(3700, 3710)\n",
    "# plt.ylim(-0.025, 0.1)\n",
    "\n",
    "\n",
    "# plt.xlim(3800, 8000)\n",
    "# plt.ylim(0.75, 1)\n",
    "\n",
    "# plt.xlim(3800, 4300)\n",
    "# plt.ylim(0.95, 1)\n",
    "\n",
    "plt.setp(ax.get_xticklabels(), fontsize=14)\n",
    "plt.setp(ax.get_yticklabels(), fontsize=14)\n",
    "\n",
    "plt.xlabel('samples', fontsize = 16)\n",
    "plt.ylabel('normalized', fontsize=16)\n",
    "\n",
    "plt.legend(fontsize=16)\n",
    "\n",
    "plt.title(f'run {run}; {radius} mm', fontsize = 16)\n",
    "plt.show()"
   ]
  },
  {
   "cell_type": "markdown",
   "id": "b02c4339-d23b-470b-973e-436fbaf5ad62",
   "metadata": {},
   "source": [
    "Now, notch filter superpulses to remove digitizer noise"
   ]
  },
  {
   "cell_type": "code",
   "execution_count": null,
   "id": "42a14aa7-821a-4f20-b28d-ac66c909896e",
   "metadata": {},
   "outputs": [],
   "source": [
    "#pre_bkg_60_notched = notchFilter(bkg_60, f_notch=25e6, Q=20)\n",
    "bkg_60_notched = cage_utils.notchFilter_SIS3302(bkg_60_raw, Q=20)\n",
    "\n",
    "#pre_all_60_notched = notchFilter(all_60, f_notch=25e6, Q=20)\n",
    "all_60_notched = cage_utils.notchFilter_SIS3302(all_60_raw, Q=20)\n",
    "\n",
    "bkg_60 = np.divide(bkg_60_notched, np.amax(bkg_60_notched))\n",
    "all_60 = np.divide(all_60_notched, np.amax(all_60_notched))"
   ]
  },
  {
   "cell_type": "code",
   "execution_count": null,
   "id": "b48f012b-4b71-464e-9eea-1eb1947fbc4a",
   "metadata": {},
   "outputs": [],
   "source": []
  },
  {
   "cell_type": "code",
   "execution_count": null,
   "id": "e12e7e07-a7d8-4368-91fd-58eb22a7916f",
   "metadata": {},
   "outputs": [],
   "source": [
    "fig, ax = plt.subplots()\n",
    "plt.plot(times[:-1], all_60[:-1], '-b', label=('60 keV'))\n",
    "plt.plot(times[:-1], bkg_60[:-1], '-g', label=('background'))\n",
    "\n",
    "\n",
    "# plt.xlim(0, 4300)\n",
    "# plt.ylim(-0.025, 0.1)\n",
    "\n",
    "# plt.xlim(3700, 4300)\n",
    "# plt.ylim(-0.025, 0.2)\n",
    "\n",
    "# plt.xlim(3700, 3710)\n",
    "# plt.ylim(-0.025, 0.1)\n",
    "\n",
    "\n",
    "# plt.xlim(3800, 8000)\n",
    "# plt.ylim(0.75, 1)\n",
    "\n",
    "plt.xlim(3800, 4300)\n",
    "plt.ylim(0.95, 1.001)\n",
    "\n",
    "plt.setp(ax.get_xticklabels(), fontsize=14)\n",
    "plt.setp(ax.get_yticklabels(), fontsize=14)\n",
    "\n",
    "plt.xlabel('samples', fontsize = 16)\n",
    "plt.ylabel('normalized', fontsize=16)\n",
    "\n",
    "plt.legend(fontsize=16)\n",
    "\n",
    "plt.title(f'run {run}; {radius} mm', fontsize = 16)\n",
    "plt.show()"
   ]
  },
  {
   "cell_type": "markdown",
   "id": "d0c11242-2f38-4618-bfff-92cc832ed784",
   "metadata": {},
   "source": [
    "Save the results of the T/E cuts, if necessary"
   ]
  },
  {
   "cell_type": "code",
   "execution_count": null,
   "id": "5159529b-62ee-4afa-8049-c4a901ae1a7d",
   "metadata": {},
   "outputs": [],
   "source": [
    "nwfs_60 = len(df.query(ToE_60_3sigma).copy())\n",
    "nwfs_bkg = len(df.query(bkg).copy())\n",
    "\n",
    "print(nwfs_60, nwfs_bkg)"
   ]
  },
  {
   "cell_type": "code",
   "execution_count": null,
   "id": "d7e9e755-5924-478d-8ff7-f6da3cad5a32",
   "metadata": {},
   "outputs": [],
   "source": [
    "#Cuts to write:\n",
    "# write_params = True\n",
    "write_params = False\n",
    "\n",
    "param_keys = ['ToE_60', 'ToE_bkg', 'bkg', 'ToE_60_3sigma']\n",
    "param_list = [ToE_60, ToE_bkg, bkg, ToE_60_3sigma]\n",
    "\n",
    "\n",
    "if write_params == True:\n",
    "    for key, cut in zip(param_keys, param_list):\n",
    "        cage_utils.writeJson('./analysis_60keV.json', run, key, cut)\n"
   ]
  },
  {
   "cell_type": "markdown",
   "id": "5b67261e-602f-47a6-a59c-16e6ddbd576a",
   "metadata": {},
   "source": [
    "PZ-correct notched superpulses"
   ]
  },
  {
   "cell_type": "code",
   "execution_count": null,
   "id": "735c9313-61b0-4b71-a93a-134344e2de9b",
   "metadata": {},
   "outputs": [],
   "source": [
    "\n",
    "all_60_pz = cage_utils.double_pole_zero([all_60_notched], 21250, 433, 0.045)[0]\n",
    "\n",
    "Etrap_all_60 = cage_utils.trap_norm(all_60_pz, 100, 400)\n",
    "trap0_all_60 = cage_utils.asymTrapFilter(all_60_pz, 100, 1, 400)\n",
    "max_trap0_all_60 = np.argmax(trap0_all_60)\n",
    "\n",
    "t0_all_60 = cage_utils.time_point_thresh_max(trap0_all_60, 0.0, max_trap0_all_60, \n",
    "                                            max_trap0_all_60 - 200)\n",
    "\n",
    "Eftp_all_60 = Etrap_all_60[t0_all_60 + 400]\n",
    "\n",
    "all_60_pz_norm = np.divide(all_60_pz, Eftp_all_60)\n",
    "\n",
    "# print(np.amax(all_60_pz_norm))"
   ]
  },
  {
   "cell_type": "code",
   "execution_count": null,
   "id": "de617084-cf78-4e7b-873c-9f920c851d38",
   "metadata": {},
   "outputs": [],
   "source": [
    "Save superpulses"
   ]
  },
  {
   "cell_type": "code",
   "execution_count": null,
   "id": "3ccf885e-f242-45d9-86f5-dd826abf321e",
   "metadata": {},
   "outputs": [],
   "source": [
    "# waveform_dict = {'run': , 'times':np.array(times), 'pure_60_wf': np.array(all_60), 'bkg_60': np.array(bkg_60), 'left_60': np.array(left_60), 'right_60': np.array(right_60)}\n",
    "# bkg_and_60 = np.zeros(len(all_60))\n",
    "\n",
    "wf_dict = {'run': run, 'nwfs_bkg': nwfs_bkg, 'nwfs_60': nwfs_60, 'samples': [times], 'bkg': [bkg_60], 'pure_60': [all_60], \n",
    "          'bkg_raw': [bkg_60_raw], 'pure_60_raw': [all_60_raw], 'pure_60_pz': [all_60_pz_norm]}\n",
    "wf_df = pd.DataFrame(data=wf_dict)\n",
    "print(wf_df)"
   ]
  },
  {
   "cell_type": "code",
   "execution_count": null,
   "id": "c2749a90-82f2-4c24-a900-6ecf04a37e7c",
   "metadata": {},
   "outputs": [],
   "source": [
    "save_superpulse = False\n",
    "\n",
    "if save_superpulse ==True:\n",
    "    outfile = f'./data/normScan/run{run}_superpulses.hdf5'\n",
    "    wf_df.to_hdf(outfile, key='superpulses', mode='w')"
   ]
  },
  {
   "cell_type": "markdown",
   "id": "8bfe15a0-36f1-4bc3-a2f7-5199aea87db1",
   "metadata": {},
   "source": [
    "Load superpulses obtained from the sideband subtration method and compare them to superpulses from T/E cut\n",
    "(Did this to validate sideband subtraction method)"
   ]
  },
  {
   "cell_type": "code",
   "execution_count": null,
   "id": "b4dcfe78-19b1-4a84-8eb4-00acf316d102",
   "metadata": {},
   "outputs": [],
   "source": [
    "f_superpulse = './data/normScan/superpulses_60keV_allRuns.hdf5'\n",
    "# f_superpulse = './data/normScan/superpulses_1sig_60keV_allRuns.hdf5'\n",
    "data_superpulse = pd.read_hdf(f_superpulse, key = '/superpulses')\n",
    "\n",
    "data_superpulse = data_superpulse.query(f'run=={run}').copy()\n",
    "    \n",
    "bkg_sub_wf = np.array(data_superpulse['pure_60_pz'][0])"
   ]
  },
  {
   "cell_type": "code",
   "execution_count": null,
   "id": "6cc9a474-11e1-4de7-9fef-b959bae519bb",
   "metadata": {},
   "outputs": [],
   "source": [
    "print(bkg_sub_wf)"
   ]
  },
  {
   "cell_type": "markdown",
   "id": "2fe6b8f9-efa9-4f92-8fde-6727aad4fb14",
   "metadata": {},
   "source": [
    "Make plots of superpulses comparing T/E cut to the superpulses from sideband subtraction"
   ]
  },
  {
   "cell_type": "code",
   "execution_count": null,
   "id": "731d65ff-acd9-4c88-a1a4-de16a2fbdca0",
   "metadata": {},
   "outputs": [],
   "source": [
    "fig, ax = plt.subplots()\n",
    "plt.plot(times, all_60_pz_norm, '-b', lw=2, label=('T/E cut'))\n",
    "plt.plot(times, bkg_sub_wf, '-g', lw=2, label=('sideband \\nsubtraction'))\n",
    "\n",
    "#bl\n",
    "# plt.xlim(0, 4300)\n",
    "# plt.ylim(-0.025, 0.1)\n",
    "\n",
    "#rise\n",
    "plt.xlim(3700, 3875)\n",
    "plt.ylim(-0.023, 0.2)\n",
    "\n",
    "#rise tail\n",
    "# plt.xlim(3750, 3875)\n",
    "# plt.ylim(-0.025, 1.01)\n",
    "\n",
    "#tail\n",
    "# plt.xlim(3800, 4300)\n",
    "# plt.ylim(0.955, 1.01)\n",
    "\n",
    "#fullTail\n",
    "# plt.xlim(3800, 8000)\n",
    "# plt.ylim(0.75, 1.01)\n",
    "\n",
    "plt.setp(ax.get_xticklabels(), fontsize=28) #16\n",
    "plt.setp(ax.get_yticklabels(), fontsize=28)\n",
    "plt.xlabel('clock cycles', fontsize=32) #20\n",
    "plt.ylabel('normalized ADU', fontsize=32)\n",
    "\n",
    "# plt.setp(ax.get_xticklabels(), fontsize=14)\n",
    "# plt.setp(ax.get_yticklabels(), fontsize=14)\n",
    "\n",
    "# plt.xlabel('samples', fontsize = 16)\n",
    "# plt.ylabel('normalized', fontsize=16)\n",
    "\n",
    "plt.legend(fontsize=28)\n",
    "\n",
    "plt.title(f'T/E cut vs. sideband subtraction \\nrun {run}; {radius} mm', fontsize = 32)\n",
    "# plt.savefig(f'./plots/new_normScan/60keV_analysis/1sig/waveforms/run{run}_wf_bkg_sub.png', dpi=200)\n",
    "plt.savefig(f'./plots/new_normScan/60keV_analysis/waveforms/diss_run{run}_wf_bkg_sub_rise.png', dpi=200)\n",
    "plt.savefig(f'./plots/new_normScan/60keV_analysis/waveforms/diss_run{run}_wf_bkg_sub_rise.pdf', dpi=200)\n",
    "plt.show()"
   ]
  },
  {
   "cell_type": "code",
   "execution_count": null,
   "id": "0a687d5a-47bb-4375-a7f3-1ee0388299c5",
   "metadata": {},
   "outputs": [],
   "source": [
    "diff = bkg_sub_wf - all_60_pz_norm"
   ]
  },
  {
   "cell_type": "code",
   "execution_count": null,
   "id": "1335eb06-10c1-4fcc-ab8c-a7a0815e30df",
   "metadata": {},
   "outputs": [],
   "source": [
    "fig, ax = plt.subplots()\n",
    "plt.plot(diff)\n",
    "\n",
    "plt.ticklabel_format(axis=\"y\", style=\"sci\", scilimits=(-0.1,0.1), useMathText=True)\n",
    "ax.yaxis.get_offset_text().set_fontsize(24)\n",
    "\n",
    "\n",
    "\n",
    "plt.setp(ax.get_xticklabels(), fontsize=28) #16\n",
    "plt.setp(ax.get_yticklabels(), fontsize=28)\n",
    "plt.xlabel('clock cycles', fontsize=32) #20\n",
    "plt.ylabel('normalized ADU', va='bottom', fontsize=32)\n",
    "\n",
    "# plt.legend(fontsize=16)\n",
    "\n",
    "plt.title(f'Difference \\nrun {run}; {radius} mm', fontsize = 32)\n",
    "# plt.savefig(f'./plots/new_normScan/60keV_analysis/1sig/waveforms/run{run}_wf_bkg_sub_diff.png', dpi=200)\n",
    "plt.savefig(f'./plots/new_normScan/60keV_analysis/waveforms/run{run}_wf_bkg_sub_diff.png', dpi=200)\n",
    "plt.savefig(f'./plots/new_normScan/60keV_analysis/waveforms/run{run}_wf_bkg_sub_diff.pdf', dpi=200)"
   ]
  },
  {
   "cell_type": "markdown",
   "id": "fb24aa34-9553-4417-9058-65d520eb019d",
   "metadata": {},
   "source": [
    "Now look at superpulses from the upper left blob on the T/E vs Energy hist and compare them to \n",
    "superpulses from the bottom right. This was to show the non-flat shape was likely just do to noise"
   ]
  },
  {
   "cell_type": "code",
   "execution_count": null,
   "id": "193e4609-b1bf-4c70-9055-472b9bb2cf9b",
   "metadata": {},
   "outputs": [],
   "source": [
    "times, left_60 = cage_utils.get_superpulse_taligned(df, dg, ToE_60_left, all=True, norm=False)"
   ]
  },
  {
   "cell_type": "code",
   "execution_count": null,
   "id": "1b639aea-ce2b-40f4-b7c1-cddb8c40cc27",
   "metadata": {},
   "outputs": [],
   "source": [
    "times, right_60 = cage_utils.get_superpulse_taligned(df, dg, ToE_60_right, all=True, norm=False)"
   ]
  },
  {
   "cell_type": "code",
   "execution_count": null,
   "id": "c7a95e2d-7342-491d-b69d-c1737d3ed17d",
   "metadata": {},
   "outputs": [],
   "source": [
    "#pre_bkg_60_notched = notchFilter(bkg_60, f_notch=25e6, Q=20)\n",
    "left_60_notched = cage_utils.notchFilter_SIS3302(left_60, Q=20)\n",
    "\n",
    "#pre_all_60_notched = notchFilter(all_60, f_notch=25e6, Q=20)\n",
    "right_60_notched = cage_utils.notchFilter_SIS3302(right_60, Q=20)\n"
   ]
  },
  {
   "cell_type": "code",
   "execution_count": null,
   "id": "f85ae41f-f807-4b75-b366-81e0fd27ebca",
   "metadata": {},
   "outputs": [],
   "source": [
    "fig, ax = plt.subplots()\n",
    "plt.plot(times, left_60_notched, '-b', label=('left'))\n",
    "plt.plot(times, right_60_notched, '-g', label=('right'))\n",
    "plt.legend()\n",
    "\n",
    "# plt.xlim(3900, 4100)\n",
    "\n",
    "# plt.xlim(0, 4300)\n",
    "# plt.ylim(-2, 15)\n",
    "\n",
    "# plt.xlim(3700, 8000)\n",
    "# plt.ylim(120, 175)\n",
    "\n",
    "plt.setp(ax.get_xticklabels(), fontsize=16)\n",
    "plt.setp(ax.get_yticklabels(), fontsize=16)\n",
    "\n",
    "plt.xlabel('samples', fontsize = 16)\n",
    "plt.ylabel('ADC', fontsize=16)\n",
    "\n",
    "plt.legend(fontsize=16)\n",
    "\n",
    "plt.title(f'run {run}; {radius} mm', fontsize = 16)\n",
    "\n",
    "plt.savefig(f'./plots/new_normScan/60keV_analysis/waveforms/run{run}_ToE_noiseComp.png', dpi=200)\n",
    "\n",
    "plt.show()"
   ]
  },
  {
   "cell_type": "markdown",
   "id": "a4570f2c-74ac-406a-99c3-f65d63c580e7",
   "metadata": {},
   "source": [
    "Tried an additional basline subtraction "
   ]
  },
  {
   "cell_type": "code",
   "execution_count": null,
   "id": "7e9757ad-2859-4844-910c-7fc1a1dc3f1c",
   "metadata": {},
   "outputs": [],
   "source": [
    "bl_mean_left = np.mean(left_60_notched[:3800])\n",
    "bl_mean_right = np.mean(right_60_notched[:3800])\n",
    "\n",
    "bl_sub_left = left_60_notched - bl_mean_left\n",
    "bl_sub_right = right_60_notched - bl_mean_right"
   ]
  },
  {
   "cell_type": "code",
   "execution_count": null,
   "id": "f0e710d7-2a3f-4735-a757-4f54607cf3b6",
   "metadata": {},
   "outputs": [],
   "source": [
    "fig, ax = plt.subplots()\n",
    "plt.plot(times, bl_sub_left[:len(bl_sub_left)-1], '-b', label=('left'))\n",
    "plt.plot(times, bl_sub_right[:len(bl_sub_right)-1], '-g', label=('right'))\n",
    "plt.legend()\n",
    "\n",
    "# plt.xlim(3900, 4100)\n",
    "\n",
    "# plt.xlim(0, 4300)\n",
    "# plt.ylim(-2, 15)\n",
    "\n",
    "# plt.xlim(3800, 8000)\n",
    "# plt.ylim(120, 175)\n",
    "\n",
    "# plt.xlim(3900, 4200)\n",
    "# plt.ylim(25, 140)\n",
    "\n",
    "plt.xlim(3500, 6500)\n",
    "\n",
    "plt.setp(ax.get_xticklabels(), fontsize=14)\n",
    "plt.setp(ax.get_yticklabels(), fontsize=14)\n",
    "\n",
    "plt.xlabel('samples', fontsize = 16)\n",
    "plt.ylabel('ADC', fontsize=16)\n",
    "\n",
    "plt.legend(fontsize=16)\n",
    "\n",
    "plt.title(f'run {run}; {radius} mm', fontsize = 16)\n",
    "\n",
    "plt.show()"
   ]
  }
 ],
 "metadata": {
  "kernelspec": {
   "display_name": "legend-base",
   "language": "python",
   "name": "legend-base"
  },
  "language_info": {
   "codemirror_mode": {
    "name": "ipython",
    "version": 3
   },
   "file_extension": ".py",
   "mimetype": "text/x-python",
   "name": "python",
   "nbconvert_exporter": "python",
   "pygments_lexer": "ipython3",
   "version": "3.8.8"
  }
 },
 "nbformat": 4,
 "nbformat_minor": 5
}
