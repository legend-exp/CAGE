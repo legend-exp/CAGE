{
 "cells": [
  {
   "cell_type": "markdown",
   "metadata": {},
   "source": [
    "Quick analysis"
   ]
  },
  {
   "cell_type": "code",
   "execution_count": null,
   "metadata": {},
   "outputs": [],
   "source": [
    "#!/usr/bin/env python3\n",
    "import os\n",
    "import json\n",
    "import h5py\n",
    "import argparse\n",
    "import pandas as pd\n",
    "import numpy as np\n",
    "import tinydb as db\n",
    "from tinydb.storages import MemoryStorage\n",
    "import matplotlib.pyplot as plt\n",
    "# plt.style.use('../clint.mpl')\n",
    "from matplotlib.colors import LogNorm\n",
    "\n",
    "import boost_histogram as bh\n",
    "import pickle as pl\n",
    "\n",
    "from pygama import DataGroup\n",
    "import pygama.io.lh5 as lh5\n",
    "import pygama.analysis.histograms as pgh\n",
    "import pygama.analysis.peak_fitting as pgf"
   ]
  },
  {
   "cell_type": "code",
   "execution_count": null,
   "metadata": {},
   "outputs": [],
   "source": [
    "dg = DataGroup('$CAGE_SW/processing/cage.json', load=True)\n",
    "run = 77\n",
    "str_query = f'run=={run} and skip==False'\n",
    "dg.fileDB.query(str_query, inplace=True)\n",
    "view_cols = ['runtype', 'run', 'cycle', 'startTime', 'runtime', 'threshold']\n",
    "print(dg.fileDB[view_cols])"
   ]
  },
  {
   "cell_type": "code",
   "execution_count": null,
   "metadata": {},
   "outputs": [],
   "source": [
    "#get runtime, startime, runtype\n",
    "\n",
    "runtype_list = np.array(dg.fileDB['runtype'])\n",
    "runtype = runtype_list[0]\n",
    "\n",
    "rt_min = dg.fileDB['runtime'].sum()\n",
    "u_start = dg.fileDB.iloc[0]['startTime']\n",
    "t_start = pd.to_datetime(u_start, unit='s') # str"
   ]
  },
  {
   "cell_type": "code",
   "execution_count": null,
   "metadata": {},
   "outputs": [],
   "source": [
    "user = True\n",
    "lowE=True"
   ]
  },
  {
   "cell_type": "code",
   "execution_count": null,
   "metadata": {},
   "outputs": [],
   "source": [
    "lh5_dir = dg.lh5_user_dir if user else dg.lh5_dir\n",
    "print(lh5_dir)\n",
    "hit_list = lh5_dir + dg.fileDB['hit_path'] + '/' + dg.fileDB['hit_file']\n",
    "\n",
    "if lowE==True:\n",
    "    hit_list = lh5_dir + dg.fileDB['hit_path'] + '/lowE/' + dg.fileDB['hit_file']\n",
    "\n",
    "print(hit_list)\n",
    "df_hit = lh5.load_dfs(hit_list, ['trapEftp_cal', 'bl','bl_sig','A_10','ts_sec', 'dcr'], 'ORSIS3302DecoderForEnergy/hit')\n",
    "# df_hit = lh5.load_dfs(alpha_hit_list, ['trapEmax', 'bl','bl_sig','A_10','ts_sec', 'dcr_raw'], 'ORSIS3302DecoderForEnergy/hit')\n",
    "# print(df_hit)\n",
    "print(df_hit.columns)\n",
    "\n",
    "dsc = df_hit[['bl','bl_sig','A_10','ts_sec', 'dcr']].describe()\n",
    "# dsc = df_hit[['bl','bl_sig','A_10','ts_sec', 'dcr_raw']].describe()\n",
    "print(dsc)"
   ]
  },
  {
   "cell_type": "code",
   "execution_count": null,
   "metadata": {},
   "outputs": [],
   "source": []
  },
  {
   "cell_type": "code",
   "execution_count": null,
   "metadata": {},
   "outputs": [],
   "source": [
    "cal = True\n",
    "hit = True"
   ]
  },
  {
   "cell_type": "code",
   "execution_count": null,
   "metadata": {},
   "outputs": [],
   "source": [
    "# Baseline vs E\n",
    "\n",
    "etype = 'trapEftp_cal'\n",
    "\n",
    "elo, ehi, epb = 0, 50, 1\n",
    "blo, bhi, bpb = 0, 10000, 100\n",
    "nbx = int((ehi-elo)/epb)\n",
    "nby = int((bhi-blo)/bpb)\n",
    "\n",
    "h = plt.hist2d(df_hit['trapEftp_cal'], df_hit['bl'], bins=[nbx,nby],\n",
    "                       range=[[elo, ehi], [blo, bhi]], cmap='jet')\n",
    "\n",
    "cb = plt.colorbar(h[3], ax=plt.gca())\n",
    "plt.xlabel('trapEftp', ha='right', x=1)\n",
    "plt.ylabel('bl', ha='right', y=1)\n",
    "plt.title('Baseline, alpha')\n",
    "# plt.tight_layout()\n",
    "plt.show()"
   ]
  },
  {
   "cell_type": "code",
   "execution_count": null,
   "metadata": {},
   "outputs": [],
   "source": [
    "blo, bhi, bpb = 0, 10000, 100\n",
    "nbx = int((bhi-blo)/bpb)\n",
    "\n",
    "bl_hist, bins = np.histogram(df_hit['bl'], bins=nbx,\n",
    "                range=[blo, bhi])\n",
    "\n",
    "plt.semilogy(bins[1:], bl_hist, ds='steps', c='b', lw=1)\n",
    "\n",
    "bl_cut_lo, bl_cut_hi = 8500,10000\n",
    "\n",
    "plt.axvline(bl_cut_lo, c='r', lw=1)\n",
    "plt.axvline(bl_cut_hi, c='r', lw=1)\n",
    "\n",
    "plt.xlabel('bl', ha='right', x=1)\n",
    "plt.ylabel('counts', ha='right', y=1)\n",
    "plt.show()"
   ]
  },
  {
   "cell_type": "code",
   "execution_count": null,
   "metadata": {},
   "outputs": [],
   "source": [
    "# use baseline cut\n",
    "df_cut = df_hit.query('bl > 8500 and bl < 10000').copy()\n",
    "\n",
    "# add new A/E column\n",
    "df_cut['aoe'] = df_cut['A_10'] / df_cut['trapEftp_cal']\n",
    "\n",
    "#create dcr/E \n",
    "df_cut['dcr_norm'] = df_cut['dcr'] / df_cut['trapEftp_cal']"
   ]
  },
  {
   "cell_type": "code",
   "execution_count": null,
   "metadata": {},
   "outputs": [],
   "source": [
    "# Make energy spectrum\n",
    "elo, ehi, epb = 55, 65, 0.5\n",
    "# elo, ehi, epb = 0, 3000, 10\n",
    "# elo, ehi, epb = 0, 6000, 10\n",
    "        \n",
    "\n",
    "nbx = int((ehi-elo)/epb)\n",
    "\n",
    "energy_hist, bins = np.histogram(df_cut['trapEftp_cal'], bins=nbx,\n",
    "                range=[elo, ehi])\n",
    "\n",
    "plt.semilogy(bins[1:], energy_hist, ds='steps', c='b', lw=1) #, label=f'{etype}'\n",
    "\n",
    "plt.xlabel(etype, ha='right', x=1)\n",
    "plt.ylabel('cts / sec', ha='right', y=1)\n",
    "# plt.legend()\n",
    "plt.title(f'{etype}: {runtype} run {run} , {rt_min:.2f} mins')\n",
    "plt.savefig(f'./plots/normScan/{runtype}_energy_run{run}.pdf', dpi=200)\n",
    "plt.show()"
   ]
  },
  {
   "cell_type": "code",
   "execution_count": null,
   "metadata": {},
   "outputs": [],
   "source": [
    "# Alpha A/E\n",
    "alo, ahi, apb = 0.0, 0.09, 0.0001\n",
    "elo, ehi, epb = 0, 25000, 10\n",
    "# elo, ehi, epb = 0, 3000, 10\n",
    "# elo, ehi, epb = 0, 6000, 10\n",
    "        \n",
    "\n",
    "nbx = int((ehi-elo)/epb)\n",
    "nby = int((ahi-alo)/apb)\n",
    "\n",
    "h = plt.hist2d(df_cut['trapEftp'], df_cut['aoe'], bins=[nbx,nby],\n",
    "                range=[[elo, ehi], [alo, ahi]], cmap='jet', norm=LogNorm())\n",
    "\n",
    "plt.xlabel('trapEmax', ha='right', x=1)\n",
    "plt.ylabel('A/E', ha='right', y=1)\n",
    "# plt.legend()\n",
    "plt.title(f'A/E: {runtype} run {run}, {rt_min:.2f} mins')\n",
    "plt.tight_layout()\n",
    "plt.savefig(f'./plots/normScan/{runtype}_a10oE_run{run}.png', dpi=200)\n",
    "plt.show()"
   ]
  },
  {
   "cell_type": "code",
   "execution_count": null,
   "metadata": {},
   "outputs": [],
   "source": [
    "# DCR vs E\n",
    "etype = 'trapEmax'\n",
    "#       elo, ehi, epb = 0, 6000, 10\n",
    "elo, ehi, epb = 0, 25000, 10\n",
    "# dlo, dhi, dpb = -0.08, 0.025, 0.0005\n",
    "dlo, dhi, dpb = -0.1, 0.025, 0.0005\n",
    "\n",
    "nbx = int((ehi-elo)/epb)\n",
    "nby = int((dhi-dlo)/dpb)\n",
    "\n",
    "alpha_dcr_hist = plt.hist2d(df_cut['trapEmax'], df_cut['dcr_norm'], bins=[nbx,nby],\n",
    "                range=[[elo, ehi], [dlo, dhi]], cmap='jet', norm=LogNorm())\n",
    "\n",
    "plt.xlabel('trapEmax', ha='right', x=1)\n",
    "plt.ylabel('DCR_norm', ha='right', y=1)\n",
    "plt.title(f'DCR: {runtype} run {run}, {rt_min:.2f} mins')\n",
    "plt.tight_layout()\n",
    "plt.savefig(f'./plots/normScan/{runtype}_dcr_norm_run{run}.png', dpi=200)\n",
    "plt.show()"
   ]
  },
  {
   "cell_type": "code",
   "execution_count": null,
   "metadata": {},
   "outputs": [],
   "source": []
  }
 ],
 "metadata": {
  "kernelspec": {
   "display_name": "legend-base",
   "language": "python",
   "name": "legend-base"
  },
  "language_info": {
   "codemirror_mode": {
    "name": "ipython",
    "version": 3
   },
   "file_extension": ".py",
   "mimetype": "text/x-python",
   "name": "python",
   "nbconvert_exporter": "python",
   "pygments_lexer": "ipython3",
   "version": "3.8.5"
  }
 },
 "nbformat": 4,
 "nbformat_minor": 4
}
