{
 "cells": [
  {
   "cell_type": "code",
   "execution_count": null,
   "metadata": {},
   "outputs": [],
   "source": [
    "#!/usr/bin/env python3\n",
    "import os\n",
    "import json\n",
    "import h5py\n",
    "import argparse\n",
    "import pandas as pd\n",
    "import numpy as np\n",
    "import tinydb as db\n",
    "from tinydb.storages import MemoryStorage\n",
    "import matplotlib.pyplot as plt\n",
    "# plt.style.use('../clint.mpl')\n",
    "from matplotlib.colors import LogNorm\n",
    "\n",
    "# import boost_histogram as bh\n",
    "# import pickle as pl\n",
    "\n",
    "from pygama import DataGroup\n",
    "import pygama.lh5 as lh5\n",
    "import pygama.analysis.histograms as pgh\n",
    "import pygama.analysis.peak_fitting as pgf"
   ]
  },
  {
   "cell_type": "markdown",
   "metadata": {},
   "source": [
    "Load background data from the run of interest"
   ]
  },
  {
   "cell_type": "code",
   "execution_count": null,
   "metadata": {},
   "outputs": [],
   "source": [
    "bkg_dg = DataGroup('$CAGE_SW/processing/cage.json', load=True)\n",
    "# bkg_run = 'run==180 and skip==False'\n",
    "bkg_run = 'run==57 and skip==False'\n",
    "# bkg_run = 'run==34 and skip==False'\n",
    "bkg_dg.fileDB.query(bkg_run, inplace=True)\n",
    "view_cols = ['runtype', 'run', 'cycle', 'startTime', 'runtime', 'threshold']\n",
    "print(bkg_dg.fileDB[view_cols])"
   ]
  },
  {
   "cell_type": "code",
   "execution_count": null,
   "metadata": {},
   "outputs": [],
   "source": [
    "# user = True\n",
    "user = False\n",
    "# hit = False\n",
    "hit = True"
   ]
  },
  {
   "cell_type": "markdown",
   "metadata": {},
   "source": [
    "Load alpha data from the run of interest"
   ]
  },
  {
   "cell_type": "code",
   "execution_count": null,
   "metadata": {},
   "outputs": [],
   "source": [
    "alpha_dg = DataGroup('$CAGE_SW/processing/cage.json', load=True)\n",
    "alp_run = 124\n",
    "alpha_run = f'run=={alp_run} and skip==False'\n",
    "# alpha_run = 'run==143 and skip==False'\n",
    "# alpha_run = \"run>50 and runtype=='alp'\"\n",
    "# alpha_run = 'run==50 and skip==False'\n",
    "alpha_dg.fileDB.query(alpha_run, inplace=True)\n",
    "view_cols = ['runtype', 'run', 'cycle', 'startTime', 'runtime', 'threshold']\n",
    "print(alpha_dg.fileDB[view_cols])"
   ]
  },
  {
   "cell_type": "markdown",
   "metadata": {},
   "source": [
    "Plot raw energy histogram of the background data, then alpha data, from DSP files\n",
    "First get dsp data, runtimes so we can normalize by time"
   ]
  },
  {
   "cell_type": "markdown",
   "metadata": {},
   "source": [
    "First get file list and load background energy data (numpy array)"
   ]
  },
  {
   "cell_type": "code",
   "execution_count": null,
   "metadata": {},
   "outputs": [],
   "source": [
    "# get file list and load background energy data\n",
    "\n",
    "lh5_dir = bkg_dg.lh5_user_dir if user else bkg_dg.lh5_dir\n",
    "\n",
    "# if hit files\n",
    "if hit == True:\n",
    "    bkg_file_list = lh5_dir + bkg_dg.fileDB['hit_path'] + '/' + bkg_dg.fileDB['hit_file']\n",
    "    bkg_df = lh5.load_dfs(bkg_file_list, ['energy', 'trapEmax', 'trapEftp', 'trapEftp_cal', 'bl','bl_sig', 'bl_slope', 'lf_max', 'A_10','AoE', 'dcr', 'tp_0', 'tp_10', 'tp_90', 'tp_50', 'tp_80', 'tp_max', 'ts_sec', 'timestamp', 'ts_glo'], 'ORSIS3302DecoderForEnergy/hit')\n",
    "    # bkg_df = lh5.load_dfs(bkg_file_list, ['energy', 'trapEftp', 'trapEftp_cal', 'bl','bl_sig'], 'ORSIS3302DecoderForEnergy/hit')\n",
    "    \n",
    "else:\n",
    "    bkg_file_list = lh5_dir + bkg_dg.fileDB['dsp_path'] + '/' + bkg_dg.fileDB['dsp_file']\n",
    "    bkg_df = lh5.load_dfs(bkg_file_list, ['energy', 'trapEmax', 'trapEftp', 'bl','bl_sig', 'bl_slope', 'lf_max', 'A_10','AoE', 'dcr', 'tp_0', 'tp_10', 'tp_90', 'tp_50', 'tp_80', 'tp_max', 'timestamp'], 'ORSIS3302DecoderForEnergy/dsp')\n",
    "    \n",
    "print(bkg_file_list)\n",
    "\n",
    "bkg_rt_min = bkg_dg.fileDB['runtime'].sum()\n",
    "bkg_u_start = bkg_dg.fileDB.iloc[0]['startTime']\n",
    "bkg_t_start = pd.to_datetime(bkg_u_start, unit='s') # str\n",
    "print(f'Background Runtime: {bkg_rt_min} minutes')"
   ]
  },
  {
   "cell_type": "markdown",
   "metadata": {},
   "source": [
    "Get file list for alpha data"
   ]
  },
  {
   "cell_type": "code",
   "execution_count": null,
   "metadata": {},
   "outputs": [],
   "source": [
    "# get file list and load alpha data \n",
    "\n",
    "lh5_dir = alpha_dg.lh5_user_dir if user else alpha_dg.lh5_dir\n",
    "\n",
    "# if hit files\n",
    "if hit == True:\n",
    "    alpha_file_list = lh5_dir + alpha_dg.fileDB['hit_path'] + '/' + alpha_dg.fileDB['hit_file']\n",
    "    print(alpha_file_list)\n",
    "    alpha_df = lh5.load_dfs(alpha_file_list, ['energy', 'trapEmax', 'trapEftp', 'trapEftp_cal', 'bl','bl_sig', 'bl_slope', 'lf_max', 'A_10','AoE', 'dcr', 'tp_0', 'tp_10', 'tp_90', 'tp_50', 'tp_80', 'tp_max', 'ts_sec', 'timestamp', 'ts_glo'], 'ORSIS3302DecoderForEnergy/hit')\n",
    "    # alpha_df = lh5.load_dfs(alpha_file_list, ['energy', 'trapEftp', 'trapEftp_cal', 'bl','bl_sig'], 'ORSIS3302DecoderForEnergy/hit')\n",
    "    \n",
    "else:\n",
    "    alpha_file_list = lh5_dir + alpha_dg.fileDB['dsp_path'] + '/' + alpha_dg.fileDB['dsp_file']\n",
    "    alpha_df = lh5.load_dfs(alpha_file_list, ['energy', 'trapEmax', 'trapEftp', 'bl','bl_sig', 'bl_slope', 'lf_max', 'A_10','AoE', 'dcr', 'tp_0', 'tp_10', 'tp_90', 'tp_50', 'tp_80', 'tp_max', 'timestamp'], 'ORSIS3302DecoderForEnergy/dsp')\n",
    "    \n",
    "\n",
    "\n",
    "alpha_rt_min = alpha_dg.fileDB['runtime'].sum()\n",
    "alpha_u_start = alpha_dg.fileDB.iloc[0]['startTime']\n",
    "alpha_t_start = pd.to_datetime(alpha_u_start, unit='s') # str\n",
    "print(f'Alpha Runtime: {alpha_rt_min} minutes')"
   ]
  },
  {
   "cell_type": "markdown",
   "metadata": {},
   "source": [
    "Make a baseline cut"
   ]
  },
  {
   "cell_type": "code",
   "execution_count": null,
   "metadata": {},
   "outputs": [],
   "source": [
    "# blo, bhi, bpb = 9500, 10000, 1\n",
    "blo, bhi, bpb = 8800, 9400, 1 #run 60\n",
    "nbx = int((bhi-blo)/bpb)\n",
    "\n",
    "bl_hist, bins = np.histogram(bkg_df['bl'], bins=nbx,\n",
    "                range=[blo, bhi])\n",
    "\n",
    "plt.semilogy(bins[1:], bl_hist, ds='steps', c='b', lw=1)\n",
    "\n",
    "# bl_cut_lo, bl_cut_hi = 9700,9760\n",
    "bl_cut_lo, bl_cut_hi = 9100,9320 #run 60\n",
    "\n",
    "plt.axvline(bl_cut_lo, c='r', lw=1)\n",
    "plt.axvline(bl_cut_hi, c='r', lw=1)\n",
    "\n",
    "plt.xlabel('bl', ha='right', x=1)\n",
    "plt.ylabel('counts', ha='right', y=1)\n",
    "plt.show()"
   ]
  },
  {
   "cell_type": "code",
   "execution_count": null,
   "metadata": {},
   "outputs": [],
   "source": [
    "# blo, bhi, bpb = 9500, 10000, 1\n",
    "blo, bhi, bpb = 8800, 9400, 1 #run 60\n",
    "nbx = int((bhi-blo)/bpb)\n",
    "\n",
    "bl_hist, bins = np.histogram(alpha_df['bl'], bins=nbx,\n",
    "                range=[blo, bhi])\n",
    "\n",
    "plt.semilogy(bins[1:], bl_hist, ds='steps', c='b', lw=1)\n",
    "\n",
    "# bl_cut_lo, bl_cut_hi = 9700,9760\n",
    "bl_cut_lo, bl_cut_hi = 9100,9320 #run 60\n",
    "\n",
    "plt.axvline(bl_cut_lo, c='r', lw=1)\n",
    "plt.axvline(bl_cut_hi, c='r', lw=1)\n",
    "\n",
    "plt.xlabel('bl', ha='right', x=1)\n",
    "plt.ylabel('counts', ha='right', y=1)\n",
    "plt.show()"
   ]
  },
  {
   "cell_type": "code",
   "execution_count": null,
   "metadata": {},
   "outputs": [],
   "source": [
    "# BL and energy Cut\n",
    "\n",
    "\n",
    "\n",
    "bkg_df_cut = bkg_df.query(f'bl > {bl_cut_lo} and bl < {bl_cut_hi} and trapEftp_cal >10 and trapEftp_cal <6000').copy()\n",
    "\n",
    "if alp_run >= 117:\n",
    "    bl_cut_lo, bl_cut_hi = 9700, 9760\n",
    "        \n",
    "alpha_df_cut = alpha_df.query(f'bl > {bl_cut_lo} and bl < {bl_cut_hi} and trapEftp_cal >10 and trapEftp_cal <6000').copy()\n",
    "\n",
    "# bkg_df_cut = bkg_df.query(f'bl > {bl_cut_lo} and bl < {bl_cut_hi}').copy()\n",
    "# alpha_df_cut = alpha_df.query(f'bl > {bl_cut_lo} and bl < {bl_cut_hi}').copy()"
   ]
  },
  {
   "cell_type": "markdown",
   "metadata": {},
   "source": [
    "Create background histogram"
   ]
  },
  {
   "cell_type": "code",
   "execution_count": null,
   "metadata": {},
   "outputs": [],
   "source": [
    "# Create background histogram, normalized by runtime\n",
    "# elo, ehi, epb = 0, 25000, 10 \n",
    "elo, ehi, epb = 0, 6000, 1\n",
    "etype = 'trapEftp_cal'\n",
    "\n",
    "bkg_ene_cal = bkg_df_cut[etype]\n",
    "bkg_hist, bins, _ = pgh.get_hist(bkg_ene_cal, range=(elo, ehi), dx=epb)\n",
    "\n",
    "# normalize by runtime in seconds\n",
    "bkg_hist_rt = np.divide(bkg_hist, (bkg_rt_min))"
   ]
  },
  {
   "cell_type": "markdown",
   "metadata": {},
   "source": [
    "Create alpha histogram"
   ]
  },
  {
   "cell_type": "code",
   "execution_count": null,
   "metadata": {},
   "outputs": [],
   "source": [
    "# Create alpha histogram, normalized by runtime\n",
    "etype = 'trapEftp_cal'\n",
    "# elo, ehi, epb = 0, 25000, 10\n",
    "elo, ehi, epb = 0, 6000, 1\n",
    "\n",
    "alpha_ene_cal = alpha_df_cut[etype]\n",
    "alpha_hist, bins, _ = pgh.get_hist(alpha_ene_cal, range=(elo, ehi), dx=epb)\n",
    "\n",
    "# normalize by runtime in seconds\n",
    "alpha_hist_rt = np.divide(alpha_hist, (alpha_rt_min))"
   ]
  },
  {
   "cell_type": "markdown",
   "metadata": {},
   "source": [
    "Plot background spectrum"
   ]
  },
  {
   "cell_type": "code",
   "execution_count": null,
   "metadata": {},
   "outputs": [],
   "source": [
    "plt.rcParams['figure.figsize'] = [14, 10]"
   ]
  },
  {
   "cell_type": "code",
   "execution_count": null,
   "metadata": {},
   "outputs": [],
   "source": [
    "# Plot the histograms\n",
    "plt.semilogy(bins[1:], bkg_hist_rt, ds='steps', c='b', lw=1,\n",
    "            label=f'{etype}, {bkg_rt_min:.2f} mins')\n",
    "\n",
    "plt.xlabel(etype, ha='right', x=1)\n",
    "plt.ylabel('cts / min', ha='right', y=1)\n",
    "# plt.ylim(0.003,50)\n",
    "plt.legend()\n",
    "plt.title(f'Background run: {bkg_run}')\n",
    "plt.show()"
   ]
  },
  {
   "cell_type": "markdown",
   "metadata": {},
   "source": [
    "Plot alpha spectrum"
   ]
  },
  {
   "cell_type": "code",
   "execution_count": null,
   "metadata": {},
   "outputs": [],
   "source": [
    "# Plot the alpha histogram\n",
    "plt.semilogy(bins[1:], alpha_hist_rt, ds='steps', c='b', lw=1,\n",
    "            label=f'{etype}, {alpha_rt_min:.2f} mins')\n",
    "\n",
    "plt.xlabel(etype, ha='right', x=1)\n",
    "plt.ylabel('cts / min', ha='right', y=1)\n",
    "# plt.ylim(0.003,50)\n",
    "# plt.xlim(100, 360)\n",
    "plt.legend()\n",
    "plt.xlim(0, 200)\n",
    "plt.ylim(5, 20)\n",
    "plt.title(f'Alpha run: {alpha_run}')\n",
    "plt.show()"
   ]
  },
  {
   "cell_type": "markdown",
   "metadata": {},
   "source": [
    "Subtract the Background histogram from the alpha histogram"
   ]
  },
  {
   "cell_type": "code",
   "execution_count": null,
   "metadata": {},
   "outputs": [],
   "source": [
    "hist_bkg_sub = alpha_hist_rt - bkg_hist_rt"
   ]
  },
  {
   "cell_type": "markdown",
   "metadata": {},
   "source": [
    "Plot background-subtracted histogram "
   ]
  },
  {
   "cell_type": "code",
   "execution_count": null,
   "metadata": {},
   "outputs": [],
   "source": [
    "# Plot the background-subtracted histogram\n",
    "plt.plot(bins[1:], hist_bkg_sub, ds='steps', c='b', lw=1,\n",
    "            label=f'{etype}, background subtracted')\n",
    "\n",
    "plt.xlabel(etype, ha='right', x=1)\n",
    "plt.ylabel('cts / min', ha='right', y=1)\n",
    "plt.ylim(-0.2, 1)\n",
    "plt.xlim(1500, 6000)\n",
    "plt.legend()\n",
    "plt.title(f'Background subtracted, Alpha run: {alpha_run}')\n",
    "plt.show()"
   ]
  },
  {
   "cell_type": "code",
   "execution_count": null,
   "metadata": {},
   "outputs": [],
   "source": [
    "elo, ehi, epb = 0, 6000, 1\n",
    "nbx = int((ehi-elo)/epb)\n",
    "e_unit = ' (keV)'\n",
    "\n",
    "etype = 'trapEftp_cal'\n",
    "\n",
    "bkg_ene_hist, bins = np.histogram(bkg_df_cut[etype], bins=nbx, range=([elo, ehi]))\n",
    "bkg_ene_hist_norm = np.divide(bkg_ene_hist, (bkg_rt_min))\n",
    "\n",
    "# print(bins)\n",
    "\n",
    "plt.semilogy(bins[1:], bkg_ene_hist_norm, ds='steps', c='b', lw=1,\n",
    "            label=f'{etype}, background energy')\n",
    "\n",
    "plt.xlabel(etype, ha='right', x=1)\n",
    "plt.ylabel('cts / min', ha='right', y=1)\n",
    "plt.ylabel(f'counts/min/{str(epb)}{e_unit}', fontsize=16)\n",
    "# plt.xlim(2610, 2620)\n",
    "plt.ylim(0.001, 30)\n",
    "plt.legend()\n",
    "plt.title(f'Background subtracted, Alpha run: {alpha_run}')\n",
    "plt.show()"
   ]
  },
  {
   "cell_type": "code",
   "execution_count": null,
   "metadata": {},
   "outputs": [],
   "source": [
    "elo, ehi, epb = 0, 6000, 1\n",
    "nbx = int((ehi-elo)/epb)\n",
    "e_unit = ' (keV)'\n",
    "\n",
    "etype = 'trapEftp_cal'\n",
    "\n",
    "alp_ene_hist, bins = np.histogram(alpha_df_cut[etype], bins=nbx, range=([elo, ehi]))\n",
    "alp_ene_hist_norm = np.divide(alp_ene_hist, (alpha_rt_min))\n",
    "\n",
    "# print(bins)\n",
    "\n",
    "plt.semilogy(bins[1:], alp_ene_hist_norm, ds='steps', c='b', lw=1,\n",
    "            label=f'{etype}, background energy')\n",
    "\n",
    "plt.xlabel(etype, ha='right', x=1)\n",
    "plt.ylabel('cts / min', ha='right', y=1)\n",
    "plt.ylabel(f'counts/min/{str(epb)}{e_unit}', fontsize=16)\n",
    "# plt.xlim(2610, 2620)\n",
    "plt.ylim(0.001, 30)\n",
    "plt.legend()\n",
    "plt.title(f'Background subtracted, Alpha run: {alpha_run}')\n",
    "plt.show()"
   ]
  },
  {
   "cell_type": "code",
   "execution_count": null,
   "metadata": {},
   "outputs": [],
   "source": [
    "plt.semilogy(bins[1:], bkg_ene_hist_norm, ds='steps', c='b', lw=1,\n",
    "            label=f'{etype}, background run')\n",
    "\n",
    "plt.semilogy(bins[1:], alp_ene_hist_norm, ds='steps', c='r', lw=1,\n",
    "            label=f'{etype}, alpha')\n",
    "plt.legend()\n",
    "\n",
    "plt.show()"
   ]
  },
  {
   "cell_type": "code",
   "execution_count": null,
   "metadata": {},
   "outputs": [],
   "source": [
    "print(bkg_rt_min)\n",
    "print(np.amax(bkg_df_cut['lf_max']))\n",
    "print(np.amin(bkg_df_cut['lf_max']))\n",
    "\n",
    "# print(np.amax(bkg_df_cut['ts_sec']))\n",
    "\n",
    "print(np.amax(bkg_df_cut['timestamp']))\n",
    "\n",
    "print(len(bkg_df_cut['timestamp']))"
   ]
  },
  {
   "cell_type": "code",
   "execution_count": null,
   "metadata": {},
   "outputs": [],
   "source": [
    "bkg_df_cut['ts_corr'] = bkg_df_cut['ts_glo'] - bkg_df_cut['ts_glo'][0]\n",
    "\n",
    "print(np.amax(bkg_df_cut['ts_corr']))"
   ]
  },
  {
   "cell_type": "code",
   "execution_count": null,
   "metadata": {},
   "outputs": [],
   "source": [
    "# #t Histogram\n",
    "\n",
    "# tlo, thi, tpb = 0.0, 1000000000, 10000\n",
    "# # tlo, thi, tpb = 0.0, 4.1e9, 1000\n",
    "# # elo, ehi, epb = 0, 10000, 10\n",
    "# # elo, ehi, epb = 0, 3000, 10\n",
    "# flo, fhi, fpb = 100, 1e4, 10\n",
    "        \n",
    "\n",
    "# nbx = int((thi-tlo)/tpb)\n",
    "# nby = int((fhi-flo)/fpb)\n",
    "\n",
    "# bkg_lfmax_hist, xedges, yedges = np.histogram2d(bkg_df_cut['timestamp'], bkg_df_cut['lf_max'], bins=[nbx, nby], range=([tlo, thi], [flo, fhi]))\n",
    "\n",
    "# X, Y = np.mgrid[tlo:thi:nbx*1j, flo:fhi:nby*1j]\n",
    "\n",
    "# # bkg_aoe_hist_norm = np.divide(bkg_aoe_hist, (bkg_rt_min))\n",
    "\n",
    "# fig = plt.figure(figsize=(12, 8))\n",
    "\n",
    "# pcm1 = plt.pcolormesh(X, Y, bkg_lfmax_hist, norm=LogNorm()) #, norm=LogNorm(0.002, 0.2)\n",
    "\n",
    "# plt.xlabel(f'ts_sec')\n",
    "# plt.ylabel('lf_max')\n",
    "# plt.title(f'lf_max')\n",
    "\n",
    "# CB = plt.colorbar(pcm1)\n",
    "# # CB.set_label('Counts/min')\n",
    "\n",
    "# plt.show()"
   ]
  },
  {
   "cell_type": "code",
   "execution_count": null,
   "metadata": {},
   "outputs": [],
   "source": [
    "# tlo, thi, tpb = 0.0, 42, 1\n",
    "# nbx = int((thi-tlo)/tpb)\n",
    "# e_unit = ' (keV)'\n",
    "\n",
    "\n",
    "\n",
    "# bkg_ts_hist, bins = np.histogram(bkg_df_cut['timestamp'], bins=nbx, range=([tlo, thi]))\n",
    "\n",
    "\n",
    "# # print(bins)\n",
    "\n",
    "# plt.semilogy(bins[1:], bkg_ts_hist, ds='steps', c='b', lw=1,\n",
    "#             label=f'{etype}, background energy')\n",
    "\n",
    "# plt.xlabel('ts_sec', ha='right', x=1)\n",
    "# plt.ylabel('cts', ha='right', y=1)\n",
    "# # plt.ylabel(f'counts/min/{str(epb)}{e_unit}', fontsize=16)\n",
    "# # plt.xlim(2610, 2620)\n",
    "# # plt.ylim(0.001, 30)\n",
    "# plt.legend()\n",
    "# plt.title(f'Ts_sec')\n",
    "# plt.show()"
   ]
  },
  {
   "cell_type": "code",
   "execution_count": null,
   "metadata": {},
   "outputs": [],
   "source": [
    "# plt.plot(bkg_df_cut['timestamp'], bkg_df_cut['ts_sec'])\n",
    "\n",
    "# plt.title(f'runtime: {bkg_rt_min} min')\n",
    "# plt.xlabel('timestamp')\n",
    "# plt.ylabel('ts_sec')\n",
    "\n",
    "# print(np.amax(bkg_df_cut['ts_sec']))"
   ]
  },
  {
   "cell_type": "markdown",
   "metadata": {},
   "source": [
    "Use BL cut from above, create A/E"
   ]
  },
  {
   "cell_type": "code",
   "execution_count": null,
   "metadata": {},
   "outputs": [],
   "source": [
    "alo, ahi, apb = 0.0, 0.15, 0.00015\n",
    "nbx = int((ahi-alo)/apb)\n",
    "e_unit = ' (keV)'\n",
    "\n",
    "\n",
    "\n",
    "bkg_1daoe_hist, bins = np.histogram(bkg_df_cut['AoE'], bins=nbx, range=([alo, ahi]))\n",
    "bkg_1daoe_norm = np.divide(bkg_1daoe_hist, (bkg_rt_min))\n",
    "\n",
    "# print(bins)\n",
    "\n",
    "plt.semilogy(bins[1:], bkg_1daoe_hist, ds='steps', c='b', lw=1,\n",
    "            label=f'{etype}, background energy')\n",
    "\n",
    "plt.xlabel('AoE', ha='right', x=1)\n",
    "plt.ylabel('cts', ha='right', y=1)\n",
    "# plt.ylabel(f'counts/min/{str(epb)}{e_unit}', fontsize=16)\n",
    "# plt.xlim(2610, 2620)\n",
    "# plt.ylim(0.001, 30)\n",
    "plt.legend()\n",
    "plt.title(f'Background AoE')\n",
    "plt.show()"
   ]
  },
  {
   "cell_type": "code",
   "execution_count": null,
   "metadata": {},
   "outputs": [],
   "source": [
    "# Background A_10/trapEmax vs trapEmax (A/E vs E)\n",
    "import scipy\n",
    "from scipy import stats\n",
    "# add new A/E column\n",
    "# bkg_df_cut['AoE_cal'] = bkg_df_cut['A_10'] / bkg_df_cut['trapEftp_cal']\n",
    "\n",
    "mode_bg, counts = scipy.stats.mode(bkg_1daoe_hist)\n",
    "print(mode_bg)"
   ]
  },
  {
   "cell_type": "code",
   "execution_count": null,
   "metadata": {},
   "outputs": [],
   "source": [
    "# Background A_10/trapEmax vs trapEmax (A/E vs E)\n",
    "import scipy\n",
    "from scipy import stats\n",
    "# add new A/E column\n",
    "# bkg_df_cut['AoE_cal'] = bkg_df_cut['A_10'] / bkg_df_cut['trapEftp_cal']\n",
    "\n",
    "mode_bg, counts= scipy.stats.mode(np.array(bkg_df_cut['AoE']))\n",
    "print(mode_bg)\n",
    "\n",
    "np.mean(bkg_1daoe_hist)\n",
    "# bkg_df_cut['AoE_cal'] = np.divide(bkg_df_cut['A_10'], bkg_df_cut['trapEftp_cal'])\n",
    "\n",
    "# # add new A/E column\n",
    "# alpha_df_cut['AoE_cal'] = alpha_df_cut['A_10'] / alpha_df_cut['trapEftp_cal']"
   ]
  },
  {
   "cell_type": "code",
   "execution_count": null,
   "metadata": {},
   "outputs": [],
   "source": [
    "#A/E Histogram\n",
    "alo, ahi, apb= 0.005, 0.075, 0.0001\n",
    "# alo, ahi, apb = 0.0, 0.08, 0.00015 #dsp_id = 02\n",
    "# alo, ahi, apb = 0.0, 0.15, 0.00015 \n",
    "# elo, ehi, epb = 0, 10000, 10\n",
    "# elo, ehi, epb = 0, 3000, 10\n",
    "elo, ehi, epb = 0, 6000, 5\n",
    "        \n",
    "\n",
    "nbx = int((ehi-elo)/epb)\n",
    "nby = int((ahi-alo)/apb)\n",
    "\n",
    "bkg_aoe_hist, xedges, yedges = np.histogram2d(bkg_df_cut[etype], bkg_df_cut['AoE'], bins=[nbx, nby], range=([elo, ehi], [alo, ahi]))\n",
    "\n",
    "X, Y = np.mgrid[elo:ehi:nbx*1j, alo:ahi:nby*1j]\n",
    "\n",
    "bkg_aoe_hist_norm = np.divide(bkg_aoe_hist, (bkg_rt_min))\n",
    "\n",
    "fig = plt.figure(figsize=(12, 8))\n",
    "\n",
    "pcm1 = plt.pcolormesh(X, Y, bkg_aoe_hist_norm, norm=LogNorm(0.002, 0.2))\n",
    "\n",
    "plt.xlabel(f'{etype} (keV)')\n",
    "plt.title(f'Background A/E ({bkg_rt_min} min run)')\n",
    "\n",
    "CB = plt.colorbar(pcm1)\n",
    "CB.set_label('Counts/min')\n",
    "\n",
    "plt.show()\n"
   ]
  },
  {
   "cell_type": "code",
   "execution_count": null,
   "metadata": {},
   "outputs": [],
   "source": [
    "#A/E Histogram\n",
    "\n",
    "alo, ahi, apb = 0.0, 0.15, 0.00015 #0.00015\n",
    "# elo, ehi, epb = 0, 10000, 10\n",
    "# elo, ehi, epb = 0, 3000, 10\n",
    "elo, ehi, epb = 0, 6000, 5\n",
    "        \n",
    "\n",
    "nbx = int((ehi-elo)/epb)\n",
    "nby = int((ahi-alo)/apb)\n",
    "\n",
    "alpha_aoe_hist, xedges, yedges = np.histogram2d(alpha_df_cut[etype], alpha_df_cut['AoE'], bins=[nbx, nby], range=([elo, ehi], [alo, ahi]))\n",
    "\n",
    "X, Y = np.mgrid[elo:ehi:nbx*1j, alo:ahi:nby*1j]\n",
    "\n",
    "alpha_aoe_hist_norm = np.divide(alpha_aoe_hist, (alpha_rt_min))\n",
    "\n",
    "fig = plt.figure(figsize=(12, 8))\n",
    "\n",
    "pcm = plt.pcolormesh(X, Y, alpha_aoe_hist_norm, norm=LogNorm(0.002, 0.2))\n",
    "\n",
    "plt.xlabel(f'{etype} (keV)')\n",
    "plt.title(f'Alpha A/E ({alpha_rt_min:.2f} min run)')\n",
    "\n",
    "CB = plt.colorbar(pcm)\n",
    "CB.set_label('Counts/min')\n",
    "\n",
    "\n",
    "plt.show()"
   ]
  },
  {
   "cell_type": "code",
   "execution_count": null,
   "metadata": {},
   "outputs": [],
   "source": [
    "aoe_backgroundSub = bkg_aoe_hist_norm - alpha_aoe_hist_norm\n",
    "aoe_backgroundSub_1 = alpha_aoe_hist_norm - bkg_aoe_hist_norm\n",
    "print(np.sum(aoe_backgroundSub))\n",
    "print(np.sum(alpha_aoe_hist_norm))\n",
    "print(np.sum(bkg_aoe_hist_norm))"
   ]
  },
  {
   "cell_type": "code",
   "execution_count": null,
   "metadata": {},
   "outputs": [],
   "source": [
    "fig = plt.figure(figsize=(12, 8))\n",
    "\n",
    "pcm2 = plt.pcolormesh(X, Y, aoe_backgroundSub)\n",
    "\n",
    "plt.xlabel(f'{etype} (keV)')\n",
    "plt.title(f'Background-subtracted (bkg-alp) A/E')\n",
    "\n",
    "\n",
    "CB = plt.colorbar(pcm2)\n",
    "CB.set_label('Counts/min')\n",
    "\n",
    "plt.show()"
   ]
  },
  {
   "cell_type": "code",
   "execution_count": null,
   "metadata": {},
   "outputs": [],
   "source": [
    "fig = plt.figure(figsize=(12, 8))\n",
    "\n",
    "pcm2 = plt.pcolormesh(X, Y, aoe_backgroundSub_1) #, norm=LogNorm(0.002, 0.2)\n",
    "\n",
    "plt.xlabel(f'{etype} (keV)')\n",
    "plt.title(f'Background-subtracted (alp-bkg) A/E')\n",
    "\n",
    "\n",
    "CB = plt.colorbar(pcm2)\n",
    "CB.set_label('Counts/min')\n",
    "\n",
    "plt.show()"
   ]
  },
  {
   "cell_type": "markdown",
   "metadata": {},
   "source": [
    "DCR"
   ]
  },
  {
   "cell_type": "code",
   "execution_count": null,
   "metadata": {},
   "outputs": [],
   "source": [
    "# #creat new DCR\n",
    "# const = -0.0015\n",
    "# const2 = -0.0000015\n",
    "# # const2 = -0.0000000000003\n",
    "# bkg_df_cut['dcr_new'] = bkg_df_cut['dcr'] + const*(bkg_df_cut['trapEftp_cal']) + const2*(bkg_df_cut['trapEftp_cal'])**2\n",
    "\n",
    "# alpha_df_cut['dcr_new'] = alpha_df_cut['dcr'] + const*(alpha_df_cut['trapEftp_cal']) + const2*(alpha_df_cut['trapEftp_cal'])**2"
   ]
  },
  {
   "cell_type": "code",
   "execution_count": null,
   "metadata": {},
   "outputs": [],
   "source": [
    "#creat new DCR\n",
    "const = 0.\n",
    "const2 = 0.\n",
    "# const = -0.0003\n",
    "# const2 = -0.0000003\n",
    "# const2 = -0.0000000000003\n",
    "bkg_df_cut['dcr_new'] = bkg_df_cut['dcr'] \n",
    "alpha_df_cut['dcr_new'] = alpha_df_cut['dcr'] \n",
    "# bkg_df_cut['dcr_new'] = bkg_df_cut['dcr'] + const*(bkg_df_cut['trapEftp']) + const2*(bkg_df_cut['trapEftp'])**2 \n",
    "\n",
    "# alpha_df_cut['dcr_new'] = alpha_df_cut['dcr'] + const*(alpha_df_cut['trapEftp']) + const2*(alpha_df_cut['trapEftp'])**2 "
   ]
  },
  {
   "cell_type": "code",
   "execution_count": null,
   "metadata": {},
   "outputs": [],
   "source": [
    "#bkg DCR\n",
    "\n",
    "dlo, dhi, dpb = -20., 40, 0.1\n",
    "elo, ehi, epb = 0, 6000, 5\n",
    "        \n",
    "\n",
    "nbx = int((ehi-elo)/epb)\n",
    "nby = int((dhi-dlo)/dpb)\n",
    "\n",
    "bkg_dcr_hist, xedges, yedges = np.histogram2d(bkg_df_cut[etype], bkg_df_cut['dcr_new'], bins=[nbx, nby], range=([elo, ehi], [dlo, dhi]))\n",
    "\n",
    "X, Y = np.mgrid[elo:ehi:nbx*1j, dlo:dhi:nby*1j]\n",
    "\n",
    "bkg_dcr_hist_norm = np.divide(bkg_dcr_hist, (bkg_rt_min))\n",
    "\n",
    "fig = plt.figure(figsize=(12, 8))\n",
    "ax = plt.subplot()\n",
    "\n",
    "ax.text(0.95, 0.83, f'{np.sum(bkg_dcr_hist_norm):.1f} counts/min', verticalalignment='bottom',\n",
    "                    horizontalalignment='right', transform=ax.transAxes, color='green', fontsize=14, bbox={'facecolor': 'white', 'alpha': 0.5, 'pad': 10})\n",
    "\n",
    "\n",
    "pcm1 = plt.pcolormesh(X, Y, bkg_dcr_hist_norm, norm=LogNorm(0.002, 0.2))\n",
    "\n",
    "plt.xlabel(f'{etype} (keV)')\n",
    "plt.title(f'Background DCR ({bkg_rt_min} min run)')\n",
    "\n",
    "CB = plt.colorbar(pcm1)\n",
    "CB.set_label('Counts/min')\n",
    "\n",
    "plt.show()"
   ]
  },
  {
   "cell_type": "code",
   "execution_count": null,
   "metadata": {},
   "outputs": [],
   "source": [
    "#Alpha DCR\n",
    "\n",
    "dlo, dhi, dpb = -20., 40, 0.1\n",
    "elo, ehi, epb = 0, 6000, 5\n",
    "        \n",
    "\n",
    "nbx = int((ehi-elo)/epb)\n",
    "nby = int((dhi-dlo)/dpb)\n",
    "\n",
    "alpha_dcr_hist, xedges, yedges = np.histogram2d(alpha_df_cut[etype], alpha_df_cut['dcr_new'], bins=[nbx, nby], range=([elo, ehi], [dlo, dhi]))\n",
    "\n",
    "X, Y = np.mgrid[elo:ehi:nbx*1j, dlo:dhi:nby*1j]\n",
    "\n",
    "alpha_dcr_hist_norm = np.divide(alpha_dcr_hist, (alpha_rt_min))\n",
    "\n",
    "fig = plt.figure(figsize=(12, 8))\n",
    "ax = plt.subplot()\n",
    "\n",
    "ax.text(0.95, 0.83, f'{np.sum(alpha_dcr_hist_norm):.1f} counts/min', verticalalignment='bottom',\n",
    "                    horizontalalignment='right', transform=ax.transAxes, color='green', fontsize=14, bbox={'facecolor': 'white', 'alpha': 0.5, 'pad': 10})\n",
    "\n",
    "pcm1 = plt.pcolormesh(X, Y, alpha_dcr_hist_norm, norm=LogNorm(0.002, 0.2))\n",
    "\n",
    "\n",
    "plt.xlabel(f'{etype} (keV)')\n",
    "plt.title(f'Alpha DCR ({alpha_rt_min} min run)')\n",
    "\n",
    "CB = plt.colorbar(pcm1)\n",
    "CB.set_label('Counts/min')\n",
    "\n",
    "plt.show()"
   ]
  },
  {
   "cell_type": "markdown",
   "metadata": {},
   "source": [
    "Create BG subtracted DCR hists"
   ]
  },
  {
   "cell_type": "code",
   "execution_count": null,
   "metadata": {},
   "outputs": [],
   "source": [
    "dcr_backgroundSub = (bkg_dcr_hist_norm - alpha_dcr_hist_norm)\n",
    "dcr_backgroundSub_1 = (alpha_dcr_hist_norm - bkg_dcr_hist_norm)\n",
    "\n",
    "clipped = dcr_backgroundSub_1.clip(0)\n",
    "print(np.min(dcr_backgroundSub_1))\n",
    "print(np.sum(alpha_dcr_hist_norm))\n",
    "print(np.sum(alpha_dcr_hist_norm) - np.sum(bkg_dcr_hist_norm))\n",
    "# print(np.sum(dcr_backgroundSub_1))"
   ]
  },
  {
   "cell_type": "code",
   "execution_count": null,
   "metadata": {},
   "outputs": [],
   "source": [
    "print(np.sum(bkg_dcr_hist_norm) - np.sum(dcr_backgroundSub))\n",
    "print(np.min(dcr_backgroundSub))"
   ]
  },
  {
   "cell_type": "code",
   "execution_count": null,
   "metadata": {},
   "outputs": [],
   "source": [
    "fig = plt.figure(figsize=(12, 8))\n",
    "ax = plt.subplot()\n",
    "\n",
    "\n",
    "pcm2 = plt.pcolormesh(X, Y, dcr_backgroundSub, norm=LogNorm(0.002, 0.2))\n",
    "\n",
    "ax.text(0.95, 0.83, f'{np.sum(dcr_backgroundSub):.1f} counts', verticalalignment='bottom',\n",
    "                    horizontalalignment='right', transform=ax.transAxes, color='green', fontsize=14, bbox={'facecolor': 'white', 'alpha': 0.5, 'pad': 10})\n",
    "\n",
    "plt.xlabel(f'{etype} (keV)')\n",
    "plt.title(f'Background-subtracted (bkg-alp) DCR')\n",
    "\n",
    "\n",
    "CB = plt.colorbar(pcm2)\n",
    "CB.set_label('Counts/min')\n",
    "\n",
    "plt.show()"
   ]
  },
  {
   "cell_type": "code",
   "execution_count": null,
   "metadata": {},
   "outputs": [],
   "source": [
    "fig = plt.figure(figsize=(12, 8))\n",
    "ax = plt.subplot()\n",
    "\n",
    "pcm2 = plt.pcolormesh(X, Y, dcr_backgroundSub_1, norm=LogNorm(0.002, 0.2))\n",
    "\n",
    "plt.xlabel(f'{etype} (keV)')\n",
    "plt.title(f'Background-subtracted (alp-bkg) DCR')\n",
    "\n",
    "# leg = plt.legend(f'{np.sum(dcr_backgroundSub_1)} counts', loc= 'upper right')\n",
    "# leg.show()\n",
    "ax.text(0.95, 0.83, f'{np.sum(dcr_backgroundSub_1):.1f} counts', verticalalignment='bottom',\n",
    "                    horizontalalignment='right', transform=ax.transAxes, color='green', fontsize=14, bbox={'facecolor': 'white', 'alpha': 0.5, 'pad': 10})\n",
    "\n",
    "CB = plt.colorbar(pcm2)\n",
    "CB.set_label('Counts/min')\n",
    "\n",
    "plt.show()"
   ]
  },
  {
   "cell_type": "code",
   "execution_count": null,
   "metadata": {},
   "outputs": [],
   "source": [
    "# with open('test3d_save_hist.pkl', 'wb') as f:\n",
    "#     pl.dump(energy_aoe_dcr_hist, f)"
   ]
  }
 ],
 "metadata": {
  "kernelspec": {
   "display_name": "legend-base",
   "language": "python",
   "name": "legend-base"
  },
  "language_info": {
   "codemirror_mode": {
    "name": "ipython",
    "version": 3
   },
   "file_extension": ".py",
   "mimetype": "text/x-python",
   "name": "python",
   "nbconvert_exporter": "python",
   "pygments_lexer": "ipython3",
   "version": "3.8.5"
  }
 },
 "nbformat": 4,
 "nbformat_minor": 4
}
