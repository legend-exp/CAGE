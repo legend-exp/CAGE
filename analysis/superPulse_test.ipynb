{
 "cells": [
  {
   "cell_type": "code",
   "execution_count": null,
   "id": "ba41015a-a1bf-41bc-b536-6b627cb041b7",
   "metadata": {},
   "outputs": [],
   "source": [
    "#!/usr/bin/env python3\n",
    "import os\n",
    "import json\n",
    "import h5py\n",
    "import argparse\n",
    "import pandas as pd\n",
    "import numpy as np\n",
    "import tinydb as db\n",
    "from tinydb.storages import MemoryStorage\n",
    "import matplotlib as mpl\n",
    "import matplotlib.pyplot as plt\n",
    "# plt.style.use('../clint.mpl')\n",
    "from matplotlib.colors import LogNorm\n",
    "\n",
    "import boost_histogram as bh\n",
    "import pickle as pl\n",
    "\n",
    "import scipy\n",
    "\n",
    "from pygama import DataGroup\n",
    "import pygama.lh5 as lh5\n",
    "import pygama.analysis.histograms as pgh\n",
    "import pygama.analysis.peak_fitting as pgf\n",
    "import cage_utils\n",
    "plt.rcParams['figure.figsize'] = [14, 10]"
   ]
  },
  {
   "cell_type": "code",
   "execution_count": null,
   "id": "26288c7d-a99c-4658-8f52-12ae463c983a",
   "metadata": {},
   "outputs": [],
   "source": [
    "def asymTrapFilter(wf_in, rise, flat, fall):\n",
    "    \"\"\" Computes an asymmetric trapezoidal filter\"\"\"\n",
    "    wf_out = np.zeros(len(wf_in))\n",
    "    wf_out[0] = wf_in[0]/float(rise)\n",
    "    for i in range(1, rise):\n",
    "        wf_out[i] = wf_out[i-1] + (wf_in[i])/float(rise)\n",
    "    for i in range(rise, rise+flat):\n",
    "        wf_out[i] = wf_out[i-1] + (wf_in[i] - wf_in[i-rise])/float(rise)\n",
    "    for i in range(rise+flat, rise+flat+fall):\n",
    "        wf_out[i] = wf_out[i-1] + (wf_in[i] - wf_in[i-rise])/float(rise) - wf_in[i-rise-flat]/float(fall)\n",
    "    for i in range(rise+flat+fall, len(wf_in)):\n",
    "        wf_out[i] = wf_out[i-1] + (wf_in[i] - wf_in[i-rise])/float(rise) - (wf_in[i-rise-flat] - wf_in[i-rise-flat-fall])/float(fall)\n",
    "        \n",
    "    return(wf_out)"
   ]
  },
  {
   "cell_type": "code",
   "execution_count": null,
   "id": "33399f2a-e4e4-4fe9-aeb5-9d974555774c",
   "metadata": {},
   "outputs": [],
   "source": [
    "def time_point_thresh(wf_in, threshold, tp_max):\n",
    "    \"\"\"\n",
    "    Find the last timepoint before tp_max that wf_in crosses a threshold\n",
    "     wf_in: input waveform\n",
    "     threshold: threshold to search for\n",
    "     tp_out: final time that waveform is less than threshold\n",
    "    \"\"\"\n",
    "    for i in range(tp_max, 0, -1):\n",
    "        if(wf_in[i]>threshold and wf_in[i-1]<threshold):\n",
    "            tp_out = i\n",
    "    return tp_out"
   ]
  },
  {
   "cell_type": "code",
   "execution_count": null,
   "id": "a16b58ae-211e-4dd6-bfd9-59707637f2f7",
   "metadata": {},
   "outputs": [],
   "source": [
    "f_superpulse = './data/normScan/run60_superpulses.hdf5'\n",
    "f_pulser = './data/superpulses_oct2020.h5'\n",
    "\n",
    "with pd.HDFStore(f_pulser, 'r') as f:\n",
    "    print(\"Keys:\", f.keys())\n",
    "with pd.HDFStore(f_superpulse, 'r') as f:\n",
    "    print(\"Keys:\", f.keys())\n",
    "    \n",
    "data_superpulse = pd.read_hdf(f_superpulse, key = '/superpulses')\n",
    "data_pulser = pd.read_hdf(f_pulser, key = '/superpulses')"
   ]
  },
  {
   "cell_type": "code",
   "execution_count": null,
   "id": "f4a95f81-737f-4d43-9ff3-44e2e9262c4f",
   "metadata": {},
   "outputs": [],
   "source": [
    "data_pulser.head()"
   ]
  },
  {
   "cell_type": "code",
   "execution_count": null,
   "id": "8895afb0-bff7-4612-b6bd-facf9eb66758",
   "metadata": {},
   "outputs": [],
   "source": [
    "pulser_super = data_pulser['superpulse'][0]\n",
    "superpulse_60 = data_superpulse['pure_60'][0]\n",
    "superpulse_60_notched = cage_utils.notchFilter_SIS3302(superpulse_60, Q=20)\n",
    "pulser_super_notched = cage_utils.notchFilter_SIS3302(pulser_super, Q=20)"
   ]
  },
  {
   "cell_type": "code",
   "execution_count": null,
   "id": "31d9540a-8e76-456b-91c3-30e04e76d9e3",
   "metadata": {},
   "outputs": [],
   "source": [
    "trap_super60 = asymTrapFilter(superpulse_60_notched, 2, 100, 400)\n",
    "max_trap_60 = np.argmax(trap_super60)\n",
    "tp_0_60 = time_point_thresh(trap_super60, 0.002, max_trap_60)\n",
    "print(tp_0_60)"
   ]
  },
  {
   "cell_type": "code",
   "execution_count": null,
   "id": "d7c5ee05-ecfd-4329-b873-d2b416e616e5",
   "metadata": {},
   "outputs": [],
   "source": [
    "plt.plot(superpulse_60_notched[:-1] )\n",
    "plt.plot(trap_super60[:-1])\n",
    "plt.title('physics superpulse')\n",
    "plt.axvline(tp_0_60)\n",
    "plt.xlim(3800, 4200)\n",
    "plt.ylim(-0.01, 0.2)"
   ]
  },
  {
   "cell_type": "code",
   "execution_count": null,
   "id": "78cd1365-e72d-4540-b79f-cd7184df1394",
   "metadata": {},
   "outputs": [],
   "source": [
    "trap_pulser = asymTrapFilter(pulser_super_notched, 2, 100, 400)\n",
    "max_trap_pulser = np.argmax(trap_pulser)\n",
    "tp_0_pulser = time_point_thresh(trap_pulser, 0.004, max_trap_pulser)\n",
    "print(tp_0_pulser)"
   ]
  },
  {
   "cell_type": "code",
   "execution_count": null,
   "id": "1f0e2eb3-a31e-4be0-b48f-3a9d8694f79f",
   "metadata": {},
   "outputs": [],
   "source": [
    "plt.plot(pulser_super_notched[:-1])\n",
    "plt.plot(trap_pulser[:-1])\n",
    "plt.axvline(tp_0_pulser)\n",
    "plt.xlim(3800, 4200)\n",
    "plt.ylim(-0.01, 0.2)\n",
    "plt.title('pulser superpulse')"
   ]
  },
  {
   "cell_type": "code",
   "execution_count": null,
   "id": "684eb074-2665-4cb9-a0f6-42828e8c9cdb",
   "metadata": {},
   "outputs": [],
   "source": []
  },
  {
   "cell_type": "code",
   "execution_count": null,
   "id": "9a5dcc9b-e245-4b4d-82ec-807134ed515f",
   "metadata": {},
   "outputs": [],
   "source": [
    "range(len(pulser_super_notched))"
   ]
  },
  {
   "cell_type": "code",
   "execution_count": null,
   "id": "d228728e-e16c-4c82-b5dc-ef06cd9955d1",
   "metadata": {},
   "outputs": [],
   "source": [
    "# # pulser_super_notched_zeroed = [0.0 for ind in enumerate(pulser_super_notched) if int(ind)<tp_0_pulser]\n",
    "# pulser_super_notched_zeroed = [0.0 for i in range(len(pulser_super_notched)) if i< tp_0_pulser]\n",
    "# print(pulser_super_notched_zeroed)\n",
    "pulser_super_notched_zeroed = pulser_super_notched\n",
    "\n",
    "for i in range(len(pulser_super_notched)):\n",
    "    if i < tp_0_pulser:\n",
    "        pulser_super_notched_zeroed[i] = 0.0\n",
    "        \n",
    "print(pulser_super_notched_zeroed)\n",
    "\n",
    "# (index, element) for index, element in enumerate(a_list)"
   ]
  },
  {
   "cell_type": "code",
   "execution_count": null,
   "id": "2f60d44d-060e-49ca-9021-9872ff2cde4a",
   "metadata": {},
   "outputs": [],
   "source": [
    "plt.plot(pulser_super_notched_zeroed)"
   ]
  },
  {
   "cell_type": "code",
   "execution_count": null,
   "id": "ad59ff32-b49c-4512-994b-ad5995a11a76",
   "metadata": {},
   "outputs": [],
   "source": [
    "delta = tp_0_pulser- tp_0_60\n",
    "print(shift)\n",
    "\n",
    "from scipy.ndimage.interpolation import shift\n",
    "\n",
    "aligned_superpulse_60 = shift(superpulse_60_notched, delta-3, cval=0)\n",
    "print(aligned_superpulse_60 )"
   ]
  },
  {
   "cell_type": "code",
   "execution_count": null,
   "id": "aaa7879f-d8d6-4c91-84bb-e639e1c0a667",
   "metadata": {},
   "outputs": [],
   "source": [
    "import numpy as np\n",
    "from scipy.ndimage.interpolation import shift\n",
    "\n",
    "array = np.array([ 1,2,3,4,5])\n",
    "\n",
    "result = shift(array, 3, cval=0)\n",
    "print(result)"
   ]
  },
  {
   "cell_type": "code",
   "execution_count": null,
   "id": "6187f06a-d45a-4252-9254-5ef8bdab352d",
   "metadata": {},
   "outputs": [],
   "source": [
    "fft_pulser = scipy.fft.fft(aligned_superpulse_60)#, norm='forward'\n",
    "fft_60 = scipy.fft.fft(pulser_super_notched_zeroed)"
   ]
  },
  {
   "cell_type": "code",
   "execution_count": null,
   "id": "60b10a34-c943-48ab-b791-4b0340a00176",
   "metadata": {},
   "outputs": [],
   "source": [
    "plt.plot(fft_pulser)\n",
    "plt.title('FFT of pulser superpulse')"
   ]
  },
  {
   "cell_type": "code",
   "execution_count": null,
   "id": "9625e90c-db07-4995-9c92-79e59e5c6642",
   "metadata": {},
   "outputs": [],
   "source": [
    "plt.plot(fft_60[:-1])\n",
    "plt.title('FFT of physics superpulse')"
   ]
  },
  {
   "cell_type": "code",
   "execution_count": null,
   "id": "084d3603-731d-478e-955c-9befe1000152",
   "metadata": {},
   "outputs": [],
   "source": [
    "deconvo_fft = np.divide(fft_60, fft_pulser)\n",
    "deconvo = scipy.fft.ifft(deconvo_fft)"
   ]
  },
  {
   "cell_type": "code",
   "execution_count": null,
   "id": "73696a6f-09fb-4960-8087-7f296f484fe4",
   "metadata": {},
   "outputs": [],
   "source": [
    "plt.plot(deconvo_fft)\n",
    "plt.title('FFT_physics/FFT_pulser')"
   ]
  },
  {
   "cell_type": "code",
   "execution_count": null,
   "id": "4817ea59-5143-4c57-b41c-4e0c406c8f7f",
   "metadata": {},
   "outputs": [],
   "source": [
    "plt.plot(deconvo)\n",
    "plt.title('IFFT of FFT_physics/FFT_pulser')"
   ]
  },
  {
   "cell_type": "code",
   "execution_count": null,
   "id": "366853f5-fe73-458d-b566-8e8db3cc3ce2",
   "metadata": {},
   "outputs": [],
   "source": [
    "hmm = scipy.signal.deconvolve(superpulse_60_notched, pulser_super_notched)"
   ]
  },
  {
   "cell_type": "code",
   "execution_count": null,
   "id": "35796043-88ed-49c6-85de-15105d3369f0",
   "metadata": {},
   "outputs": [],
   "source": [
    "print(hmm)"
   ]
  },
  {
   "cell_type": "code",
   "execution_count": null,
   "id": "a212ed0f-c14e-4465-bce0-fbfbf9cc25ae",
   "metadata": {},
   "outputs": [],
   "source": [
    "plt.plot(hmm[1]*-1)"
   ]
  },
  {
   "cell_type": "code",
   "execution_count": null,
   "id": "3d6485a4-47ed-459c-b98f-cc24c2665a18",
   "metadata": {},
   "outputs": [],
   "source": [
    "print(len(pulser_super))"
   ]
  },
  {
   "cell_type": "code",
   "execution_count": null,
   "id": "189a716b-405f-4d98-8690-175102308409",
   "metadata": {},
   "outputs": [],
   "source": [
    "run = 60 #44 #70 #64\n",
    "dsp_id = '02'\n",
    "user = True\n",
    "hit =True\n",
    "cal = True\n",
    "lowE=False\n",
    "etype = 'trapEftp_cal'\n",
    "\n",
    "corr_DCR=True\n",
    "corr_AoE=True\n",
    "corr_ToE=True\n",
    "\n",
    "norm = True\n",
    "cut = True\n",
    "\n",
    "\n",
    "dsp_list = ['energy', 'trapEftp', 'trapEmax', 'trapEftp_cal', 'bl','bl_sig', 'bl_slope', 'AoE', 'dcr', \"tp_0\", \"tp_02\", \"tp_05\", \"tp_10\", \"tp_20\", \"tp_30\", \"tp_40\", \"tp_50\", \"tp_60\", \"tp_70\", \"tp_80\", \"tp_90\", \"tp_96\", 'tp_max', 'ToE', 'log_tail_fit_slope', 'wf_max', 'wf_argmax', 'trapE_argmax', 'lf_max']\n",
    "\n",
    "df_raw, dg, runtype, rt_min, radius, angle_det, rotary = cage_utils.getDataFrame(run, user=user, hit=hit, cal=cal, dsp_list=dsp_list, lowE=lowE)\n",
    "\n",
    "df = cage_utils.apply_DC_Cuts(run, df_raw)\n",
    "\n",
    "df_60 = df.query('trapEftp_cal > 55 and trapEftp_cal < 65').copy()\n",
    "\n",
    "\n",
    "if corr_ToE==True:\n",
    "    ToE_mode = cage_utils.mode_hist(df, param='ToE', a_bins=1000, alo=-0.1, ahi=0.45, cut=False, cut_str='')\n",
    "    df['ToE_plot'] = df['ToE'] - ToE_mode\n",
    "    df_60['ToE_plot'] = df_60['ToE'] - ToE_mode"
   ]
  },
  {
   "cell_type": "code",
   "execution_count": null,
   "id": "24e1394e-c6c3-4d87-a7c8-f346581282d9",
   "metadata": {},
   "outputs": [],
   "source": [
    "t, window_1_wfs = cage_utils.get_wfs(df_60, dg, cut_bkg_low, all=True)"
   ]
  },
  {
   "cell_type": "code",
   "execution_count": null,
   "id": "e2a71175-37b8-42a2-a142-0c71f47dcb3b",
   "metadata": {},
   "outputs": [],
   "source": [
    "# fig, ax = plt.subplots(figsize=(9,8))\n",
    "ax = plt.axes()\n",
    "\n",
    "# set up colorbar to plot waveforms of different energies different colors\n",
    "colors = plt.cm.viridis(np.linspace(0, 1, len(window_1_wfs)))\n",
    "c = np.arange(0, len(window_1_wfs))\n",
    "norm = mpl.colors.Normalize(vmin=c.min(), vmax=c.max())\n",
    "cmap = mpl.cm.ScalarMappable(norm=norm, cmap=mpl.cm.plasma)\n",
    "cmap.set_array([])\n",
    "\n",
    "for n in range(len(window_1_wfs)):\n",
    "    plt.plot(t, window_1_wfs[n][:len(window_1_wfs[n])-1], c=cmap.to_rgba(n))\n",
    "\n",
    "# cb = fig.colorbar(cmap, ticks=(57.5, 59.5))\n",
    "cb.set_label(\"Energy\", ha = 'right', va='center', rotation=270, fontsize=20)\n",
    "cb.ax.tick_params(labelsize=18)\n",
    "\n",
    "ax.text(0.95, 0.83, f'{cut_bkg_hi}', verticalalignment='top',\n",
    "                        horizontalalignment='right', transform=ax.transAxes, color='green', fontsize=14,\n",
    "                        bbox={'facecolor': 'white', 'alpha': 0.5, 'pad': 10})\n",
    "\n",
    "plt.title(f'run {run}: r = {radius} mm \\ntheta = {angle_det} deg')\n",
    "\n",
    "#     plt.xlim(3800, 8000)\n",
    "#     plt.ylim(0.4, 1.01)\n",
    "plt.setp(ax.get_xticklabels(), fontsize=16)\n",
    "plt.setp(ax.get_yticklabels(), fontsize=16)\n",
    "plt.title(f'60 keV waveforms for run {run}\\nr = {radius} mm; theta = {angle_det} deg', fontsize=20)\n",
    "plt.xlabel('clock cycles', fontsize=20)\n",
    "# plt.xlim(3900, 4050)"
   ]
  },
  {
   "cell_type": "code",
   "execution_count": null,
   "id": "fecbd003-1faf-4a6d-bc8d-0dc25eafc173",
   "metadata": {},
   "outputs": [],
   "source": []
  }
 ],
 "metadata": {
  "kernelspec": {
   "display_name": "legend-base",
   "language": "python",
   "name": "legend-base"
  },
  "language_info": {
   "codemirror_mode": {
    "name": "ipython",
    "version": 3
   },
   "file_extension": ".py",
   "mimetype": "text/x-python",
   "name": "python",
   "nbconvert_exporter": "python",
   "pygments_lexer": "ipython3",
   "version": "3.8.5"
  }
 },
 "nbformat": 4,
 "nbformat_minor": 5
}
