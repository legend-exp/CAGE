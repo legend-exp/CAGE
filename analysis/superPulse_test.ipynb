{
 "cells": [
  {
   "cell_type": "code",
   "execution_count": 1,
   "id": "ba41015a-a1bf-41bc-b536-6b627cb041b7",
   "metadata": {},
   "outputs": [],
   "source": [
    "#!/usr/bin/env python3\n",
    "import os\n",
    "import json\n",
    "import h5py\n",
    "import argparse\n",
    "import pandas as pd\n",
    "import numpy as np\n",
    "import tinydb as db\n",
    "from tinydb.storages import MemoryStorage\n",
    "import matplotlib as mpl\n",
    "import matplotlib.pyplot as plt\n",
    "# plt.style.use('../clint.mpl')\n",
    "from matplotlib.colors import LogNorm\n",
    "\n",
    "import boost_histogram as bh\n",
    "import pickle as pl\n",
    "\n",
    "import scipy\n",
    "\n",
    "from pygama import DataGroup\n",
    "import pygama.lh5 as lh5\n",
    "import pygama.analysis.histograms as pgh\n",
    "import pygama.analysis.peak_fitting as pgf\n",
    "import cage_utils\n",
    "plt.rcParams['figure.figsize'] = [14, 10]"
   ]
  },
  {
   "cell_type": "code",
   "execution_count": 2,
   "id": "26288c7d-a99c-4658-8f52-12ae463c983a",
   "metadata": {},
   "outputs": [],
   "source": [
    "def asymTrapFilter(wf_in, rise, flat, fall):\n",
    "    \"\"\" Computes an asymmetric trapezoidal filter\"\"\"\n",
    "    wf_out = np.zeros(len(wf_in))\n",
    "    wf_out[0] = wf_in[0]/float(rise)\n",
    "    for i in range(1, rise):\n",
    "        wf_out[i] = wf_out[i-1] + (wf_in[i])/float(rise)\n",
    "    for i in range(rise, rise+flat):\n",
    "        wf_out[i] = wf_out[i-1] + (wf_in[i] - wf_in[i-rise])/float(rise)\n",
    "    for i in range(rise+flat, rise+flat+fall):\n",
    "        wf_out[i] = wf_out[i-1] + (wf_in[i] - wf_in[i-rise])/float(rise) - wf_in[i-rise-flat]/float(fall)\n",
    "    for i in range(rise+flat+fall, len(wf_in)):\n",
    "        wf_out[i] = wf_out[i-1] + (wf_in[i] - wf_in[i-rise])/float(rise) - (wf_in[i-rise-flat] - wf_in[i-rise-flat-fall])/float(fall)\n",
    "        \n",
    "    return(wf_out)"
   ]
  },
  {
   "cell_type": "code",
   "execution_count": 3,
   "id": "33399f2a-e4e4-4fe9-aeb5-9d974555774c",
   "metadata": {},
   "outputs": [],
   "source": [
    "def time_point_thresh(wf_in, threshold, tp_max):\n",
    "    \"\"\"\n",
    "    Find the last timepoint before tp_max that wf_in crosses a threshold\n",
    "     wf_in: input waveform\n",
    "     threshold: threshold to search for\n",
    "     tp_out: final time that waveform is less than threshold\n",
    "    \"\"\"\n",
    "    for i in range(tp_max, 0, -1):\n",
    "        if(wf_in[i]>threshold and wf_in[i-1]<threshold):\n",
    "            tp_out = i\n",
    "    return tp_out"
   ]
  },
  {
   "cell_type": "code",
   "execution_count": 4,
   "id": "bd5e7c91-a03a-4236-bf7b-2f727f6a5921",
   "metadata": {},
   "outputs": [],
   "source": [
    "f_superpulse = './data/normScan/run64_superpulses.hdf5'\n",
    "\n",
    "f_pulser = './data/superpulses_oct2020.h5'\n",
    "# f_pulser = './data/CAGE_amp_long_transient_response.csv'"
   ]
  },
  {
   "cell_type": "code",
   "execution_count": 5,
   "id": "a16b58ae-211e-4dd6-bfd9-59707637f2f7",
   "metadata": {},
   "outputs": [
    {
     "name": "stdout",
     "output_type": "stream",
     "text": [
      "Keys: ['/superpulses']\n"
     ]
    }
   ],
   "source": [
    "# with pd.HDFStore(f_pulser, 'r') as f:\n",
    "#     print(\"Keys:\", f.keys())\n",
    "with pd.HDFStore(f_superpulse, 'r') as f:\n",
    "    print(\"Keys:\", f.keys())\n",
    "    \n",
    "data_superpulse = pd.read_hdf(f_superpulse, key = '/superpulses')\n",
    "data_pulser = pd.read_hdf(f_pulser, key = '/superpulses') "
   ]
  },
  {
   "cell_type": "code",
   "execution_count": 14,
   "id": "760637d9-8a9d-4126-8e9d-db015e428aeb",
   "metadata": {},
   "outputs": [
    {
     "name": "stdout",
     "output_type": "stream",
     "text": [
      "   V_pulser  run  E_keV  mV_firststage  index           unique_key  YYYY  mm  \\\n",
      "0      0.16  838     60           13.2    836  cage-cyc838-2020107  2020  10   \n",
      "\n",
      "   dd  cycle  ...                   dsp_file dsp_path  \\\n",
      "0   7    838  ...  cage_run58_cyc838_dsp.lh5     /dsp   \n",
      "\n",
      "                    hit_file hit_path     startTime  threshold    daq_gb  \\\n",
      "0  cage_run58_cyc838_hit.lh5     /hit  1.602109e+09       16.0  1.556451   \n",
      "\n",
      "       stopTime   runtime                                         superpulse  \n",
      "0  1.602110e+09  9.997692  [-0.00038934359960989353, 0.005904600270233672...  \n",
      "\n",
      "[1 rows x 28 columns]\n"
     ]
    }
   ],
   "source": [
    "print(data_pulser.head())"
   ]
  },
  {
   "cell_type": "code",
   "execution_count": null,
   "id": "2a10b073-6c4a-4c61-b47b-ba8d052fc013",
   "metadata": {},
   "outputs": [],
   "source": [
    "cols = ['time', 'v_out1', 'v_out']\n",
    "data_pulser=pd.read_csv(f_pulser, delimiter=' ,', header=0, names = cols)\n",
    "raw_impulse = np.array(data_pulser['v_out'])\n",
    "raw_time = np.array(data_pulser['time'])\n",
    "print(len(raw_impulse))"
   ]
  },
  {
   "cell_type": "code",
   "execution_count": null,
   "id": "bf14bef9-4530-4705-b79c-e3a26c14f4d7",
   "metadata": {},
   "outputs": [],
   "source": [
    "print(raw_time)"
   ]
  },
  {
   "cell_type": "code",
   "execution_count": null,
   "id": "9f84e023-8e69-45ca-99c1-7c2546a5751d",
   "metadata": {},
   "outputs": [],
   "source": [
    "time_full = raw_time[-1]-raw_time[0]\n",
    "time_delta = time_full/len(raw_time)\n",
    "print(time_delta)\n",
    "10e-9/time_delta"
   ]
  },
  {
   "cell_type": "code",
   "execution_count": null,
   "id": "b3e3f191-f9de-4bf5-8a8a-0e4d3643c987",
   "metadata": {},
   "outputs": [],
   "source": [
    "new_time = raw_time[300::4]\n",
    "sampled_impulse = raw_impulse[300::4]\n",
    "print(len(new_time))\n",
    "print(sampled_impulse[0])"
   ]
  },
  {
   "cell_type": "code",
   "execution_count": null,
   "id": "61e04a3c-db7e-448c-8f17-e4776e51ddbb",
   "metadata": {},
   "outputs": [],
   "source": [
    "plt.plot(sampled_impulse)\n",
    "plt.xlim(900, 950)"
   ]
  },
  {
   "cell_type": "code",
   "execution_count": null,
   "id": "29b72ff6-0d55-4f5e-8475-1dfa2ab19892",
   "metadata": {},
   "outputs": [],
   "source": [
    "bl = np.mean(new_impulse[:800])\n",
    "print(bl)"
   ]
  },
  {
   "cell_type": "code",
   "execution_count": null,
   "id": "892c51c2-ab03-4b9a-9c3e-b3bcc9330b04",
   "metadata": {},
   "outputs": [],
   "source": [
    "impulse_blSub = sampled_impulse - bl\n",
    "impulse_norm = impulse_blSub/np.amax(impulse_blSub)"
   ]
  },
  {
   "cell_type": "code",
   "execution_count": null,
   "id": "cef5a203-5db5-4b65-99f2-f4387c5ec68a",
   "metadata": {},
   "outputs": [],
   "source": [
    "plt.plot(impulse_norm)"
   ]
  },
  {
   "cell_type": "code",
   "execution_count": 6,
   "id": "8895afb0-bff7-4612-b6bd-facf9eb66758",
   "metadata": {},
   "outputs": [
    {
     "name": "stdout",
     "output_type": "stream",
     "text": [
      "0.00034926446361611925\n"
     ]
    }
   ],
   "source": [
    "raw_pulser_super = data_pulser['superpulse'][0]\n",
    "pulser_super_notched = cage_utils.notchFilter_SIS3302(raw_pulser_super, Q=20)\n",
    "pulser_bl_mean = np.mean(pulser_super_notched[100:3500])\n",
    "pulser_super = pulser_super_notched - pulser_bl_mean\n",
    "\n",
    "# pulser_super = impulse_norm\n",
    "\n",
    "raw_superpulse_60 = data_superpulse['pure_60'][0]\n",
    "raw_superpulse_60_notched = cage_utils.notchFilter_SIS3302(raw_superpulse_60, Q=20)\n",
    "bl_mean_60 = np.mean(raw_superpulse_60_notched[100:3500])\n",
    "print(bl_mean_60)\n",
    "superpulse_60 = raw_superpulse_60_notched - bl_mean_60"
   ]
  },
  {
   "cell_type": "code",
   "execution_count": 10,
   "id": "0999490a-c1c7-428a-913f-20691eb2dfa4",
   "metadata": {},
   "outputs": [],
   "source": [
    "times = data_superpulse['samples'][0]"
   ]
  },
  {
   "cell_type": "code",
   "execution_count": 15,
   "id": "1dab1781-a541-44c2-859d-47d0d2c9e261",
   "metadata": {},
   "outputs": [
    {
     "name": "stdout",
     "output_type": "stream",
     "text": [
      "8192\n"
     ]
    }
   ],
   "source": [
    "print(len(pulser_super))"
   ]
  },
  {
   "cell_type": "code",
   "execution_count": 13,
   "id": "0bdb4374-24b1-4a8c-b097-995cda00d92f",
   "metadata": {},
   "outputs": [
    {
     "name": "stdout",
     "output_type": "stream",
     "text": [
      "            WF type                                            samples  \\\n",
      "0  superpulse_60keV  [0, 1, 2, 3, 4, 5, 6, 7, 8, 9, 10, 11, 12, 13,...   \n",
      "\n",
      "                                            waveform  \n",
      "0  [-0.0013797931269024445, 0.002320059595536762,...  \n"
     ]
    }
   ],
   "source": [
    "wf_dict = {'WF type': 'superpulse_60keV', 'samples': [times], 'waveform': [superpulse_60]}\n",
    "wf_df = pd.DataFrame(data=wf_dict)\n",
    "print(wf_df)"
   ]
  },
  {
   "cell_type": "code",
   "execution_count": 17,
   "id": "a1445e34-fb9a-42bb-a131-794db822a80b",
   "metadata": {},
   "outputs": [
    {
     "name": "stdout",
     "output_type": "stream",
     "text": [
      "             WF type                                            samples  \\\n",
      "0  pulser_superpulse  [0, 1, 2, 3, 4, 5, 6, 7, 8, 9, 10, 11, 12, 13,...   \n",
      "\n",
      "                                            waveform  \n",
      "0  [-0.0019576910764730025, 0.00140125363761926, ...  \n"
     ]
    }
   ],
   "source": [
    "wf_dict2 = {'WF type': 'pulser_superpulse', 'samples': [times], 'waveform': [pulser_super]}\n",
    "wf_df_temp = pd.DataFrame(data=wf_dict2)\n",
    "print(wf_df_temp)"
   ]
  },
  {
   "cell_type": "code",
   "execution_count": 18,
   "id": "2565e626-73fa-490c-8a8c-cc966a012127",
   "metadata": {},
   "outputs": [],
   "source": [
    "wf_df = wf_df.append(wf_df_temp)"
   ]
  },
  {
   "cell_type": "code",
   "execution_count": 19,
   "id": "72c1575f-6d54-4e83-9214-e0f3194cc3f6",
   "metadata": {},
   "outputs": [
    {
     "name": "stderr",
     "output_type": "stream",
     "text": [
      "/global/homes/g/gothman/.local/lib/python3.8/site-packages/pandas/core/generic.py:2603: PerformanceWarning: \n",
      "your performance may suffer as PyTables will pickle object types that it cannot\n",
      "map directly to c-types [inferred_type->mixed,key->block0_values] [items->Index(['WF type', 'samples', 'waveform'], dtype='object')]\n",
      "\n",
      "  pytables.to_hdf(\n"
     ]
    }
   ],
   "source": [
    "outfile = f'./data/normScan/superpulses_forRecyo.hdf5'\n",
    "wf_df.to_hdf(outfile, key='superpulses', mode='w')"
   ]
  },
  {
   "cell_type": "code",
   "execution_count": null,
   "id": "8964cc8c-155e-42bf-84e5-3ef720790870",
   "metadata": {},
   "outputs": [],
   "source": [
    "test = cage_utils.notchFilter(raw_superpulse_60, 25e6, 20)\n",
    "test2 = cage_utils.notchFilter(test, 50e6, 20)\n",
    "print(len(test))\n",
    "print(len(test2))"
   ]
  },
  {
   "cell_type": "code",
   "execution_count": null,
   "id": "631ec95e-fb5c-4823-8738-158f29b74fd3",
   "metadata": {},
   "outputs": [],
   "source": [
    "print(len(superpulse_60))\n",
    "print(data_superpulse['samples'][0])"
   ]
  },
  {
   "cell_type": "code",
   "execution_count": null,
   "id": "381389d1-9d45-4051-93e7-3c0f93b82784",
   "metadata": {},
   "outputs": [],
   "source": [
    "plt.plot(pulser_super)\n",
    "# plt.ylim(-0.025, 0.25)"
   ]
  },
  {
   "cell_type": "code",
   "execution_count": null,
   "id": "d3789f93-9eb5-4ddf-af37-cae00b2d219a",
   "metadata": {},
   "outputs": [],
   "source": [
    "times = raw_superpulse_60 = data_superpulse['samples'][0]\n",
    "print(len(times))\n",
    "print(len(raw_superpulse_60_notched))"
   ]
  },
  {
   "cell_type": "code",
   "execution_count": null,
   "id": "f94cf398-94c3-4585-8b06-a10fd2b02dee",
   "metadata": {},
   "outputs": [],
   "source": [
    "plt.plot(times, superpulse_60[1:])\n",
    "print(len(superpulse_60))"
   ]
  },
  {
   "cell_type": "code",
   "execution_count": null,
   "id": "31d9540a-8e76-456b-91c3-30e04e76d9e3",
   "metadata": {},
   "outputs": [],
   "source": [
    "trap_super60 = asymTrapFilter(superpulse_60, 2, 100, 400)\n",
    "max_trap_60 = np.argmax(trap_super60)\n",
    "tp_0_60 = time_point_thresh(trap_super60, 0.002, max_trap_60)\n",
    "print(tp_0_60)\n",
    "# print(trap_super60[3955])"
   ]
  },
  {
   "cell_type": "code",
   "execution_count": null,
   "id": "d7c5ee05-ecfd-4329-b873-d2b416e616e5",
   "metadata": {},
   "outputs": [],
   "source": [
    "plt.plot(superpulse_60[:-1] )\n",
    "plt.plot(trap_super60[:-1])\n",
    "plt.title('physics superpulse')\n",
    "plt.axvline(tp_0_60)\n",
    "# plt.xlim(3800, 4200)\n",
    "plt.xlim(3950, 3960)\n",
    "# plt.xlim(0, 3800)\n",
    "plt.ylim(-0.01, 0.2)"
   ]
  },
  {
   "cell_type": "code",
   "execution_count": null,
   "id": "78cd1365-e72d-4540-b79f-cd7184df1394",
   "metadata": {},
   "outputs": [],
   "source": [
    "trap_pulser = asymTrapFilter(pulser_super, 2, 100, 400)\n",
    "max_trap_pulser = np.argmax(trap_pulser)\n",
    "tp_0_pulser = time_point_thresh(trap_pulser, 0.002, max_trap_pulser)\n",
    "print(tp_0_pulser)\n",
    "print(pulser_super[tp_0_pulser])"
   ]
  },
  {
   "cell_type": "code",
   "execution_count": null,
   "id": "1f0e2eb3-a31e-4be0-b48f-3a9d8694f79f",
   "metadata": {},
   "outputs": [],
   "source": [
    "plt.plot(pulser_super[:-1])\n",
    "plt.plot(trap_pulser[:-1])\n",
    "plt.axvline(tp_0_pulser)\n",
    "# plt.axvline(919)\n",
    "# plt.xlim(3800, 4200)\n",
    "plt.ylim(-0.001, 0.005)\n",
    "plt.xlim(910, 930)\n",
    "plt.title('pulser superpulse')"
   ]
  },
  {
   "cell_type": "code",
   "execution_count": null,
   "id": "d228728e-e16c-4c82-b5dc-ef06cd9955d1",
   "metadata": {},
   "outputs": [],
   "source": [
    "# # # pulser_super_notched_zeroed = [0.0 for ind in enumerate(pulser_super_notched) if int(ind)<tp_0_pulser]\n",
    "# # pulser_super_notched_zeroed = [0.0 for i in range(len(pulser_super_notched)) if i< tp_0_pulser]\n",
    "# # print(pulser_super_notched_zeroed)\n",
    "# pulser_super_zeroed = pulser_super\n",
    "\n",
    "# for i in range(len(pulser_super), 20000):\n",
    "#     if i < tp_0_pulser:\n",
    "#         pulser_super_zeroed[i] = 0.0\n",
    "        \n",
    "# print(pulser_super_zeroed)\n",
    "\n",
    "# # (index, element) for index, element in enumerate(a_list)"
   ]
  },
  {
   "cell_type": "code",
   "execution_count": null,
   "id": "ad59ff32-b49c-4512-994b-ad5995a11a76",
   "metadata": {},
   "outputs": [],
   "source": [
    "delta = tp_0_60 - tp_0_pulser\n",
    "print(delta)\n",
    "\n",
    "from scipy.ndimage.interpolation import shift\n",
    "\n",
    "shift_pulser_super = shift(pulser_super, delta, cval=0)\n",
    "print(shift_pulser_super )"
   ]
  },
  {
   "cell_type": "code",
   "execution_count": null,
   "id": "66167a1d-64ac-46b8-86c5-733058b11e73",
   "metadata": {},
   "outputs": [],
   "source": [
    "plt.plot(shift_pulser_super[:8191], '-r')\n",
    "plt.plot(superpulse_60[:-1])\n",
    "plt.xlim(3800, 4200)"
   ]
  },
  {
   "cell_type": "code",
   "execution_count": null,
   "id": "d468385e-9eb7-4f84-a67f-91ca172c5444",
   "metadata": {},
   "outputs": [],
   "source": [
    "shift_pulser_super[tp_0_60-1]"
   ]
  },
  {
   "cell_type": "code",
   "execution_count": null,
   "id": "10bff803-5509-4cbe-8a69-214c5ccc915b",
   "metadata": {},
   "outputs": [],
   "source": [
    "impulse_1 = shift_pulser_super[tp_0_60-1:8191]"
   ]
  },
  {
   "cell_type": "code",
   "execution_count": null,
   "id": "8088d56d-e19f-40a4-9668-7107473ef62e",
   "metadata": {},
   "outputs": [],
   "source": [
    "plt.plot(impulse_1)\n",
    "plt.plot(superpulse_60)"
   ]
  },
  {
   "cell_type": "code",
   "execution_count": null,
   "id": "4ffd1f6b-2960-4ce8-bb9a-4f1385ed1c13",
   "metadata": {},
   "outputs": [],
   "source": [
    "impulse = impulse_1[::10]"
   ]
  },
  {
   "cell_type": "code",
   "execution_count": null,
   "id": "71e67363-80cc-42b0-9467-366591d8a9b8",
   "metadata": {},
   "outputs": [],
   "source": [
    "plt.plot(impulse)\n",
    "plt.plot(superpulse_60[:8000])"
   ]
  },
  {
   "cell_type": "code",
   "execution_count": null,
   "id": "2d8809f3-7638-4487-998e-9eab5b8c96f9",
   "metadata": {},
   "outputs": [],
   "source": [
    "fft_impulse = scipy.fft.fft(impulse)#, norm='forward'\n",
    "fft_60 = scipy.fft.fft(superpulse_60[:8000]) "
   ]
  },
  {
   "cell_type": "code",
   "execution_count": null,
   "id": "6f0845fd-2d43-4b5f-84c4-4a35dc896da6",
   "metadata": {},
   "outputs": [],
   "source": [
    "hmm = scipy.signal.deconvolve(fft_60, fft_impulse)"
   ]
  },
  {
   "cell_type": "code",
   "execution_count": null,
   "id": "016951ca-a27f-49df-972d-8dcf473b7533",
   "metadata": {},
   "outputs": [],
   "source": [
    "hmm_deconvo = scipy.fft.ifft(hmm[0])\n",
    "hmm_1 = scipy.fft.ifft(hmm[1])"
   ]
  },
  {
   "cell_type": "code",
   "execution_count": null,
   "id": "f3248bf1-ed8c-4adb-96e4-3c0b4124989e",
   "metadata": {},
   "outputs": [],
   "source": [
    "plt.plot(hmm_deconvo)\n",
    "# plt.xlim(1000, 6000)\n",
    "# plt.ylim(0.0002, 0.0012)"
   ]
  },
  {
   "cell_type": "code",
   "execution_count": null,
   "id": "66db9029-bc4d-4756-aa3b-11b1c7df5fb8",
   "metadata": {},
   "outputs": [],
   "source": [
    "plt.plot(hmm_deconvo)\n",
    "plt.xlim(1000, 6000)\n",
    "# plt.ylim(0.0002, 0.0012)"
   ]
  },
  {
   "cell_type": "code",
   "execution_count": null,
   "id": "bd5d131c-10e6-404d-b2ad-18db166deda6",
   "metadata": {},
   "outputs": [],
   "source": [
    "plt.plot(hmm_1)"
   ]
  },
  {
   "cell_type": "code",
   "execution_count": null,
   "id": "90b5c6c5-62c1-451e-9727-c6bc961a4d25",
   "metadata": {},
   "outputs": [],
   "source": [
    "deconvo = scipy.signal.deconvolve(superpulse_60[:8000], impulse)"
   ]
  },
  {
   "cell_type": "code",
   "execution_count": null,
   "id": "96bc3106-7803-4a1b-afda-347823529445",
   "metadata": {},
   "outputs": [],
   "source": [
    "print(len(deconvo[0]))"
   ]
  },
  {
   "cell_type": "code",
   "execution_count": null,
   "id": "6cb76792-d41c-416e-8dfc-87ba0765a88b",
   "metadata": {},
   "outputs": [],
   "source": [
    "print(deconvo[0])"
   ]
  },
  {
   "cell_type": "code",
   "execution_count": null,
   "id": "2b5a6c8a-c676-4bb9-b72a-c487dcd09075",
   "metadata": {},
   "outputs": [],
   "source": [
    "plt.plot(deconvo[0])"
   ]
  },
  {
   "cell_type": "code",
   "execution_count": null,
   "id": "6187f06a-d45a-4252-9254-5ef8bdab352d",
   "metadata": {},
   "outputs": [],
   "source": [
    "fft_impulse = scipy.fft.fft(impulse)#, norm='forward'\n",
    "fft_60 = scipy.fft.fft(superpulse_60[:8000]) "
   ]
  },
  {
   "cell_type": "code",
   "execution_count": null,
   "id": "60b10a34-c943-48ab-b791-4b0340a00176",
   "metadata": {},
   "outputs": [],
   "source": [
    "plt.plot(fft_impulse)\n",
    "plt.title('FFT of pulser superpulse')"
   ]
  },
  {
   "cell_type": "code",
   "execution_count": null,
   "id": "9625e90c-db07-4995-9c92-79e59e5c6642",
   "metadata": {},
   "outputs": [],
   "source": [
    "plt.plot(fft_60[:-1])\n",
    "plt.title('FFT of physics superpulse')"
   ]
  },
  {
   "cell_type": "code",
   "execution_count": null,
   "id": "084d3603-731d-478e-955c-9befe1000152",
   "metadata": {},
   "outputs": [],
   "source": [
    "deconvo_fft = np.divide(fft_60, fft_impulse)\n",
    "deconvo = scipy.fft.ifft(deconvo_fft)"
   ]
  },
  {
   "cell_type": "code",
   "execution_count": null,
   "id": "73696a6f-09fb-4960-8087-7f296f484fe4",
   "metadata": {},
   "outputs": [],
   "source": [
    "plt.plot(deconvo_fft)\n",
    "plt.title('FFT_physics/FFT_pulser')"
   ]
  },
  {
   "cell_type": "code",
   "execution_count": null,
   "id": "4817ea59-5143-4c57-b41c-4e0c406c8f7f",
   "metadata": {},
   "outputs": [],
   "source": [
    "plt.plot(deconvo)\n",
    "plt.title('IFFT of FFT_physics/FFT_pulser')"
   ]
  },
  {
   "cell_type": "code",
   "execution_count": null,
   "id": "90d80367-360a-4dce-ace1-8a52a486a78d",
   "metadata": {},
   "outputs": [],
   "source": [
    "plt.plot(aligned_pulser_super_zeroed )\n",
    "plt.xlim(3950, 3960)"
   ]
  },
  {
   "cell_type": "code",
   "execution_count": null,
   "id": "0b6c7560-4441-4c99-8c6b-ae2cc8906d6d",
   "metadata": {},
   "outputs": [],
   "source": [
    "aligned_pulser_super_zeroed_snipped = aligned_pulser_super_zeroed[:8192]\n",
    "pulser_super_snipped = aligned_pulser_super_zeroed[:8192]\n",
    "# impulse = aligned_pulser_super_zeroed_snipped\n",
    "impulse_1 = pulser_super_snipped"
   ]
  },
  {
   "cell_type": "code",
   "execution_count": null,
   "id": "15d03c69-db5c-4376-a8cd-866477376ae8",
   "metadata": {},
   "outputs": [],
   "source": [
    "plt.plot(impulse_1, '-r')\n",
    "plt.plot(superpulse_60 )\n",
    "plt.xlim(3900, 4000)"
   ]
  },
  {
   "cell_type": "code",
   "execution_count": null,
   "id": "e10804c7-eb8e-47e3-80f8-66e12b0c0534",
   "metadata": {},
   "outputs": [],
   "source": [
    "impulse = impulse_1[tp_0_pulser+1::5]"
   ]
  },
  {
   "cell_type": "code",
   "execution_count": null,
   "id": "8c77740c-b735-4426-9d01-63bbb9760af0",
   "metadata": {},
   "outputs": [],
   "source": [
    "plt.plot(impulse)"
   ]
  },
  {
   "cell_type": "code",
   "execution_count": null,
   "id": "ad6f36aa-5b2f-458a-8c90-745d8f996920",
   "metadata": {},
   "outputs": [],
   "source": [
    "impulse_1[3957]"
   ]
  },
  {
   "cell_type": "code",
   "execution_count": null,
   "id": "366853f5-fe73-458d-b566-8e8db3cc3ce2",
   "metadata": {},
   "outputs": [],
   "source": [
    "hmm = scipy.signal.deconvolve(fft_60, fft_impulse)"
   ]
  },
  {
   "cell_type": "code",
   "execution_count": null,
   "id": "35796043-88ed-49c6-85de-15105d3369f0",
   "metadata": {},
   "outputs": [],
   "source": [
    "print(hmm[1])"
   ]
  },
  {
   "cell_type": "code",
   "execution_count": null,
   "id": "61896765-3bd0-4e85-98a1-d6e3be220d27",
   "metadata": {},
   "outputs": [],
   "source": [
    "hmm_deconvo = scipy.fft.ifft(hmm[1])"
   ]
  },
  {
   "cell_type": "code",
   "execution_count": null,
   "id": "3cb3c60a-53ba-49c2-8f80-e4e53d17e302",
   "metadata": {},
   "outputs": [],
   "source": [
    "plt.plot(hmm_deconvo)\n",
    "# plt.xlim(3950, 3970)"
   ]
  },
  {
   "cell_type": "code",
   "execution_count": null,
   "id": "a212ed0f-c14e-4465-bce0-fbfbf9cc25ae",
   "metadata": {},
   "outputs": [],
   "source": [
    "plt.plot(hmm[1]*-1)"
   ]
  },
  {
   "cell_type": "code",
   "execution_count": null,
   "id": "3d6485a4-47ed-459c-b98f-cc24c2665a18",
   "metadata": {},
   "outputs": [],
   "source": [
    "print(len(pulser_super))"
   ]
  },
  {
   "cell_type": "code",
   "execution_count": null,
   "id": "189a716b-405f-4d98-8690-175102308409",
   "metadata": {},
   "outputs": [],
   "source": [
    "run = 60 #44 #70 #64\n",
    "dsp_id = '02'\n",
    "user = True\n",
    "hit =True\n",
    "cal = True\n",
    "lowE=False\n",
    "etype = 'trapEftp_cal'\n",
    "\n",
    "corr_DCR=True\n",
    "corr_AoE=True\n",
    "corr_ToE=True\n",
    "\n",
    "norm = True\n",
    "cut = True\n",
    "\n",
    "\n",
    "dsp_list = ['energy', 'trapEftp', 'trapEmax', 'trapEftp_cal', 'bl','bl_sig', 'bl_slope', 'AoE', 'dcr', \"tp_0\", \"tp_02\", \"tp_05\", \"tp_10\", \"tp_20\", \"tp_30\", \"tp_40\", \"tp_50\", \"tp_60\", \"tp_70\", \"tp_80\", \"tp_90\", \"tp_96\", 'tp_max', 'ToE', 'log_tail_fit_slope', 'wf_max', 'wf_argmax', 'trapE_argmax', 'lf_max']\n",
    "\n",
    "df_raw, dg, runtype, rt_min, radius, angle_det, rotary = cage_utils.getDataFrame(run, user=user, hit=hit, cal=cal, dsp_list=dsp_list, lowE=lowE)\n",
    "\n",
    "df = cage_utils.apply_DC_Cuts(run, df_raw)\n",
    "\n",
    "df_60 = df.query('trapEftp_cal > 55 and trapEftp_cal < 65').copy()\n",
    "\n",
    "\n",
    "if corr_ToE==True:\n",
    "    ToE_mode = cage_utils.mode_hist(df, param='ToE', a_bins=1000, alo=-0.1, ahi=0.45, cut=False, cut_str='')\n",
    "    df['ToE_plot'] = df['ToE'] - ToE_mode\n",
    "    df_60['ToE_plot'] = df_60['ToE'] - ToE_mode"
   ]
  },
  {
   "cell_type": "code",
   "execution_count": null,
   "id": "24e1394e-c6c3-4d87-a7c8-f346581282d9",
   "metadata": {},
   "outputs": [],
   "source": [
    "t, window_1_wfs = cage_utils.get_wfs(df_60, dg, cut_bkg_low, all=True)"
   ]
  },
  {
   "cell_type": "code",
   "execution_count": null,
   "id": "e2a71175-37b8-42a2-a142-0c71f47dcb3b",
   "metadata": {},
   "outputs": [],
   "source": [
    "# fig, ax = plt.subplots(figsize=(9,8))\n",
    "ax = plt.axes()\n",
    "\n",
    "# set up colorbar to plot waveforms of different energies different colors\n",
    "colors = plt.cm.viridis(np.linspace(0, 1, len(window_1_wfs)))\n",
    "c = np.arange(0, len(window_1_wfs))\n",
    "norm = mpl.colors.Normalize(vmin=c.min(), vmax=c.max())\n",
    "cmap = mpl.cm.ScalarMappable(norm=norm, cmap=mpl.cm.plasma)\n",
    "cmap.set_array([])\n",
    "\n",
    "for n in range(len(window_1_wfs)):\n",
    "    plt.plot(t, window_1_wfs[n][:len(window_1_wfs[n])-1], c=cmap.to_rgba(n))\n",
    "\n",
    "# cb = fig.colorbar(cmap, ticks=(57.5, 59.5))\n",
    "cb.set_label(\"Energy\", ha = 'right', va='center', rotation=270, fontsize=20)\n",
    "cb.ax.tick_params(labelsize=18)\n",
    "\n",
    "ax.text(0.95, 0.83, f'{cut_bkg_hi}', verticalalignment='top',\n",
    "                        horizontalalignment='right', transform=ax.transAxes, color='green', fontsize=14,\n",
    "                        bbox={'facecolor': 'white', 'alpha': 0.5, 'pad': 10})\n",
    "\n",
    "plt.title(f'run {run}: r = {radius} mm \\ntheta = {angle_det} deg')\n",
    "\n",
    "#     plt.xlim(3800, 8000)\n",
    "#     plt.ylim(0.4, 1.01)\n",
    "plt.setp(ax.get_xticklabels(), fontsize=16)\n",
    "plt.setp(ax.get_yticklabels(), fontsize=16)\n",
    "plt.title(f'60 keV waveforms for run {run}\\nr = {radius} mm; theta = {angle_det} deg', fontsize=20)\n",
    "plt.xlabel('clock cycles', fontsize=20)\n",
    "# plt.xlim(3900, 4050)"
   ]
  },
  {
   "cell_type": "code",
   "execution_count": null,
   "id": "fecbd003-1faf-4a6d-bc8d-0dc25eafc173",
   "metadata": {},
   "outputs": [],
   "source": []
  }
 ],
 "metadata": {
  "kernelspec": {
   "display_name": "legend-base",
   "language": "python",
   "name": "legend-base"
  },
  "language_info": {
   "codemirror_mode": {
    "name": "ipython",
    "version": 3
   },
   "file_extension": ".py",
   "mimetype": "text/x-python",
   "name": "python",
   "nbconvert_exporter": "python",
   "pygments_lexer": "ipython3",
   "version": "3.8.5"
  }
 },
 "nbformat": 4,
 "nbformat_minor": 5
}
