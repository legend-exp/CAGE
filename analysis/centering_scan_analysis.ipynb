{
 "cells": [
  {
   "cell_type": "code",
   "execution_count": 1,
   "id": "009d472d-3f3d-47df-be31-106d2986dfd4",
   "metadata": {},
   "outputs": [],
   "source": [
    "#!/usr/bin/env python3\n",
    "import os\n",
    "import h5py\n",
    "import pandas as pd\n",
    "import numpy as np\n",
    "import matplotlib.pyplot as plt\n",
    "\n",
    "import pickle as pl\n",
    "\n",
    "from pygama import DataGroup\n",
    "import pygama.lh5 as lh5\n",
    "import pygama.analysis.histograms as pgh\n",
    "import pygama.analysis.peak_fitting as pgf\n",
    "plt.rcParams['figure.figsize'] = [14, 10]\n",
    "%matplotlib widget"
   ]
  },
  {
   "cell_type": "code",
   "execution_count": 2,
   "id": "814488da-02ec-4906-a2cf-ac3225b347dd",
   "metadata": {},
   "outputs": [],
   "source": [
    "dg = DataGroup('../processing/cage.json', load=True)\n",
    "hit_dir = '/global/cfs/cdirs/legend/data/cage/LH5/hit'\n",
    "dsp_dir = '/global/cfs/cdirs/legend/data/cage/LH5/dsp'"
   ]
  },
  {
   "cell_type": "code",
   "execution_count": 3,
   "id": "8e9f5395-72c4-486b-a019-7d00eed82ae6",
   "metadata": {},
   "outputs": [],
   "source": [
    "#runtimes are given in minutes\n",
    "def bkg_subtract(alp_run, bkg_run, bins=np.arange(0,18000, 50), plot=True):\n",
    "    alp_df = dg.fileDB.query(f'run == {alp_run} and skip==False')\n",
    "    bkg_df = dg.fileDB.query(f'run == {bkg_run} and skip==False')\n",
    "    \n",
    "    alp_runtime = 0\n",
    "    trapEftp_cal_alp = np.empty(0)\n",
    "    for i in range(len(alp_df)):\n",
    "        f_hit = f\"{hit_dir}/{alp_df['hit_file'].iloc[i]}\"\n",
    "        hit = h5py.File(f_hit)\n",
    "        trapEftp_cal_alp = np.append(trapEftp_cal_alp, np.array(hit['ORSIS3302DecoderForEnergy']['hit']['trapEftp_cal']))\n",
    "        alp_runtime += alp_df['runtime'].iloc[i]\n",
    "    \n",
    "    bkg_runtime = 0\n",
    "    trapEftp_cal_bkg = np.empty(0)\n",
    "    for i in range(len(bkg_df)):\n",
    "        f_hit = f\"{hit_dir}/{bkg_df['hit_file'].iloc[i]}\"\n",
    "        hit = h5py.File(f_hit)\n",
    "        trapEftp_cal_bkg = np.append(trapEftp_cal_bkg, np.array(hit['ORSIS3302DecoderForEnergy']['hit']['trapEftp_cal']))\n",
    "        bkg_runtime += bkg_df['runtime'].iloc[i]\n",
    "    \n",
    "    alp_hist = np.histogram(trapEftp_cal_alp, bins=bins)\n",
    "    bkg_hist = np.histogram(trapEftp_cal_bkg, bins=bins)\n",
    "\n",
    "    bkg_sub = alp_hist[0]/(alp_runtime*60) - bkg_hist[0]/(bkg_runtime*60)\n",
    "    \n",
    "    if plot:\n",
    "        plt.figure()\n",
    "        pgh.plot_hist(bkg_sub, bins)\n",
    "        plt.xlabel('energy [keV]')\n",
    "        plt.ylabel('rate [counts/sec]')\n",
    "        plt.show()\n",
    "    \n",
    "    return bkg_sub, alp_hist[0], bkg_hist[0], alp_runtime, bkg_runtime\n",
    "\n",
    "def get_error(alp, bkg, alp_t, bkg_t):\n",
    "    return np.sqrt(np.divide(alp,(alp_t*60)**2) + np.divide(bkg,(bkg_t*60)**2))"
   ]
  },
  {
   "cell_type": "markdown",
   "id": "8289c045-8fbb-4b0f-a743-4b2d85894a03",
   "metadata": {},
   "source": [
    "# Alpha Rate"
   ]
  },
  {
   "cell_type": "code",
   "execution_count": 47,
   "id": "923cb536-bb2f-4842-8ad2-14bbc2458444",
   "metadata": {},
   "outputs": [],
   "source": [
    "alp_bins = np.arange(0,5000, 50)\n",
    "lo = 2000\n",
    "hi = 4500\n",
    "ilo = np.where(alp_bins >= lo)[0][0]\n",
    "ihi = np.where(alp_bins >= hi)[0][0]"
   ]
  },
  {
   "cell_type": "code",
   "execution_count": 5,
   "id": "40a51f17-ba9e-4668-b5c6-986e6a781923",
   "metadata": {},
   "outputs": [],
   "source": [
    "alp_rot0_lin5 = bkg_subtract(245, 241, alp_bins, False)\n",
    "alp_rot0_lin6 = bkg_subtract(246, 241, alp_bins, False)\n",
    "alp_rot0_lin7 = bkg_subtract(247, 241, alp_bins, False)\n",
    "alp_rot0_lin8 = bkg_subtract(248, 241, alp_bins, False)\n",
    "alp_rot0_lin9 = bkg_subtract(249, 241, alp_bins, False)\n",
    "alp_rot0_lin10 = bkg_subtract(240, 241, alp_bins, False)"
   ]
  },
  {
   "cell_type": "code",
   "execution_count": 6,
   "id": "7cf1c149-b626-4d36-8e79-9d71c2957e75",
   "metadata": {},
   "outputs": [],
   "source": [
    "alp_rot180_lin5 = bkg_subtract(251, 256, alp_bins, False)\n",
    "alp_rot180_lin6 = bkg_subtract(252, 256, alp_bins, False)\n",
    "alp_rot180_lin7 = bkg_subtract(253, 256, alp_bins, False)\n",
    "alp_rot180_lin8 = bkg_subtract(254, 256, alp_bins, False)\n",
    "alp_rot180_lin9 = bkg_subtract(255, 256, alp_bins, False)"
   ]
  },
  {
   "cell_type": "code",
   "execution_count": 7,
   "id": "829be43b-1bd4-4646-bfc1-aa984b4a9d62",
   "metadata": {},
   "outputs": [],
   "source": [
    "alp_rot145_lin5 = bkg_subtract(257, 263, alp_bins, False)\n",
    "alp_rot145_lin6 = bkg_subtract(258, 263, alp_bins, False)\n",
    "alp_rot145_lin7 = bkg_subtract(259, 263, alp_bins, False)\n",
    "alp_rot145_lin8 = bkg_subtract(260, 263, alp_bins, False)\n",
    "alp_rot145_lin9 = bkg_subtract(261, 263, alp_bins, False)\n",
    "alp_rot145_lin10 = bkg_subtract(262, 263, alp_bins, False)"
   ]
  },
  {
   "cell_type": "code",
   "execution_count": 8,
   "id": "31c35fd0-fea5-4572-b697-bc5e3e339fd8",
   "metadata": {},
   "outputs": [],
   "source": [
    "alp_rot0_subs = np.array([alp_rot0_lin5[0], alp_rot0_lin6[0], alp_rot0_lin7[0], alp_rot0_lin8[0], alp_rot0_lin9[0], alp_rot0_lin10[0]])\n",
    "alp_rot0_alp = np.array([alp_rot0_lin5[1], alp_rot0_lin6[1], alp_rot0_lin7[1], alp_rot0_lin8[1], alp_rot0_lin9[1], alp_rot0_lin10[1]])\n",
    "alp_rot0_bkg = np.array([alp_rot0_lin5[2], alp_rot0_lin6[2], alp_rot0_lin7[2], alp_rot0_lin8[2], alp_rot0_lin9[2], alp_rot0_lin10[2]])\n",
    "alp_rot0_alp_t = np.array([alp_rot0_lin5[3], alp_rot0_lin6[3], alp_rot0_lin7[3], alp_rot0_lin8[3], alp_rot0_lin9[3], alp_rot0_lin10[3]])\n",
    "alp_rot0_bkg_t = np.array([alp_rot0_lin5[4], alp_rot0_lin6[4], alp_rot0_lin7[4], alp_rot0_lin8[4], alp_rot0_lin9[4], alp_rot0_lin10[4]])"
   ]
  },
  {
   "cell_type": "code",
   "execution_count": 9,
   "id": "53eb54e7-cc1c-43be-a202-5ad657dc92ad",
   "metadata": {},
   "outputs": [],
   "source": [
    "alp_rot180_subs = np.array([alp_rot180_lin5[0], alp_rot180_lin6[0], alp_rot180_lin7[0], alp_rot180_lin8[0], alp_rot180_lin9[0]])\n",
    "alp_rot180_alp = np.array([alp_rot180_lin5[1], alp_rot180_lin6[1], alp_rot180_lin7[1], alp_rot180_lin8[1], alp_rot180_lin9[1]])\n",
    "alp_rot180_bkg = np.array([alp_rot180_lin5[2], alp_rot180_lin6[2], alp_rot180_lin7[2], alp_rot180_lin8[2], alp_rot180_lin9[2]])\n",
    "alp_rot180_alp_t = np.array([alp_rot180_lin5[3], alp_rot180_lin6[3], alp_rot180_lin7[3], alp_rot180_lin8[3], alp_rot180_lin9[3]])\n",
    "alp_rot180_bkg_t = np.array([alp_rot180_lin5[4], alp_rot180_lin6[4], alp_rot180_lin7[4], alp_rot180_lin8[4], alp_rot180_lin9[4]])"
   ]
  },
  {
   "cell_type": "code",
   "execution_count": 10,
   "id": "e8851c1a-496f-4e8f-b343-b73ef5b60a8e",
   "metadata": {},
   "outputs": [],
   "source": [
    "alp_rot145_subs = np.array([alp_rot145_lin5[0], alp_rot145_lin6[0], alp_rot145_lin7[0], alp_rot145_lin8[0], alp_rot145_lin9[0], alp_rot145_lin10[0]])\n",
    "alp_rot145_alp = np.array([alp_rot145_lin5[1], alp_rot145_lin6[1], alp_rot145_lin7[1], alp_rot145_lin8[1], alp_rot145_lin9[1], alp_rot145_lin10[1]])\n",
    "alp_rot145_bkg = np.array([alp_rot145_lin5[2], alp_rot145_lin6[2], alp_rot145_lin7[2], alp_rot145_lin8[2], alp_rot145_lin9[2], alp_rot145_lin10[2]])\n",
    "alp_rot145_alp_t = np.array([alp_rot145_lin5[3], alp_rot145_lin6[3], alp_rot145_lin7[3], alp_rot145_lin8[3], alp_rot145_lin9[3], alp_rot145_lin10[3]])\n",
    "alp_rot145_bkg_t = np.array([alp_rot145_lin5[4], alp_rot145_lin6[4], alp_rot145_lin7[4], alp_rot145_lin8[4], alp_rot145_lin9[4], alp_rot145_lin10[4]])"
   ]
  },
  {
   "cell_type": "code",
   "execution_count": 11,
   "id": "2c9e0392-983d-451e-be01-fedd003cd85e",
   "metadata": {},
   "outputs": [
    {
     "data": {
      "application/vnd.jupyter.widget-view+json": {
       "model_id": "508847fd0c1f4ab2b78ae4f086364df2",
       "version_major": 2,
       "version_minor": 0
      },
      "text/plain": [
       "Canvas(toolbar=Toolbar(toolitems=[('Home', 'Reset original view', 'home', 'home'), ('Back', 'Back to previous …"
      ]
     },
     "metadata": {},
     "output_type": "display_data"
    },
    {
     "data": {
      "text/plain": [
       "Text(0, 0.5, 'alpha rate (count/sec)')"
      ]
     },
     "execution_count": 11,
     "metadata": {},
     "output_type": "execute_result"
    }
   ],
   "source": [
    "alp_rot0 = np.sum(alp_rot0_subs[:,ilo:ihi], axis=1)\n",
    "alp_rot180 = np.sum(alp_rot180_subs[:,ilo:ihi], axis=1)\n",
    "alp_rot145 = np.sum(alp_rot145_subs[:,ilo:ihi], axis=1)\n",
    "\n",
    "alp_rot0_err = get_error(np.sum(alp_rot0_alp[:,ilo:ihi], axis=1), np.sum(alp_rot0_bkg[:,ilo:ihi], axis=1), alp_rot0_alp_t, alp_rot0_bkg_t)\n",
    "alp_rot180_err = get_error(np.sum(alp_rot180_alp[:,ilo:ihi], axis=1), np.sum(alp_rot180_bkg[:,ilo:ihi], axis=1), alp_rot180_alp_t, alp_rot180_bkg_t)\n",
    "alp_rot145_err = get_error(np.sum(alp_rot145_alp[:,ilo:ihi], axis=1), np.sum(alp_rot145_bkg[:,ilo:ihi], axis=1), alp_rot145_alp_t, alp_rot145_bkg_t)\n",
    "\n",
    "lin = [5, 6, 7, 8, 9]\n",
    "lin2 = [5, 6, 7, 8, 9, 10]\n",
    "\n",
    "plt.figure(facecolor='w')\n",
    "plt.errorbar(lin2, alp_rot0, yerr=alp_rot0_err, marker='.', ls='none', label='rotary 0')\n",
    "plt.errorbar(lin, alp_rot180, yerr=alp_rot180_err, marker='.', ls='none', label='rotary 180')\n",
    "plt.errorbar(lin2, alp_rot145, yerr=alp_rot145_err, marker='.', ls='none', label='rotary 145')\n",
    "plt.legend()\n",
    "\n",
    "#plt.axvline(7.2, color='blue')\n",
    "#plt.axvline(6.7, color='orange')\n",
    "#plt.axvline(6.7, color='green')\n",
    "\n",
    "plt.xlabel('linear [mm]')\n",
    "plt.ylabel('alpha rate (count/sec)')"
   ]
  },
  {
   "cell_type": "code",
   "execution_count": 12,
   "id": "4aae11e6-b5b3-4f03-afc3-27042d0de778",
   "metadata": {},
   "outputs": [
    {
     "data": {
      "application/vnd.jupyter.widget-view+json": {
       "model_id": "97f26ac36adc469aa6439d6388bc6d67",
       "version_major": 2,
       "version_minor": 0
      },
      "text/plain": [
       "Canvas(toolbar=Toolbar(toolitems=[('Home', 'Reset original view', 'home', 'home'), ('Back', 'Back to previous …"
      ]
     },
     "metadata": {},
     "output_type": "display_data"
    },
    {
     "data": {
      "text/plain": [
       "<matplotlib.legend.Legend at 0x2aaaf2aadcd0>"
      ]
     },
     "execution_count": 12,
     "metadata": {},
     "output_type": "execute_result"
    }
   ],
   "source": [
    "plt.figure()\n",
    "pgh.plot_hist(alp_rot0_subs[0], alp_bins, label='rotary 0')\n",
    "pgh.plot_hist(alp_rot180_subs[0], alp_bins, label='rotary 180')\n",
    "pgh.plot_hist(alp_rot145_subs[0], alp_bins, label='rotary 145')\n",
    "plt.axvspan(alp_bins[ilo], alp_bins[ihi], alpha=0.4, color='green', label='alpha region')\n",
    "plt.xlabel('energy (keV)')\n",
    "plt.ylabel('alpha rate')\n",
    "plt.title('alpha rate at r=5mm')\n",
    "plt.legend()"
   ]
  },
  {
   "cell_type": "code",
   "execution_count": 14,
   "id": "ca14cba3-5b02-4ab8-a92a-9088fb95595e",
   "metadata": {},
   "outputs": [
    {
     "data": {
      "application/vnd.jupyter.widget-view+json": {
       "model_id": "5d6f85789e214cccb514c328f5aa2b35",
       "version_major": 2,
       "version_minor": 0
      },
      "text/plain": [
       "Canvas(toolbar=Toolbar(toolitems=[('Home', 'Reset original view', 'home', 'home'), ('Back', 'Back to previous …"
      ]
     },
     "metadata": {},
     "output_type": "display_data"
    },
    {
     "data": {
      "text/plain": [
       "<matplotlib.legend.Legend at 0x2aaaf2b5d8b0>"
      ]
     },
     "execution_count": 14,
     "metadata": {},
     "output_type": "execute_result"
    }
   ],
   "source": [
    "plt.figure()\n",
    "pgh.plot_hist(alp_rot0_lin5[0], alp_bins, label='linear 5')\n",
    "pgh.plot_hist(alp_rot0_lin6[0], alp_bins, label='linear 6')\n",
    "pgh.plot_hist(alp_rot0_lin7[0], alp_bins, label='linear 7')\n",
    "pgh.plot_hist(alp_rot0_lin8[0], alp_bins, label='linear 8')\n",
    "pgh.plot_hist(alp_rot0_lin9[0], alp_bins, label='linear 9')\n",
    "pgh.plot_hist(alp_rot0_lin10[0], alp_bins, label='linear 10')\n",
    "plt.axvspan(alp_bins[ilo], alp_bins[ihi], alpha=0.4, color='green', label='alpha region')\n",
    "plt.xlabel('energy (keV)')\n",
    "plt.ylabel('alpha rate')\n",
    "plt.title('rotary 0')\n",
    "plt.legend()"
   ]
  },
  {
   "cell_type": "code",
   "execution_count": 15,
   "id": "c34efce7-2808-4af2-9533-130538439e65",
   "metadata": {},
   "outputs": [
    {
     "data": {
      "application/vnd.jupyter.widget-view+json": {
       "model_id": "63428b6c26234a44a11816d687bb8f70",
       "version_major": 2,
       "version_minor": 0
      },
      "text/plain": [
       "Canvas(toolbar=Toolbar(toolitems=[('Home', 'Reset original view', 'home', 'home'), ('Back', 'Back to previous …"
      ]
     },
     "metadata": {},
     "output_type": "display_data"
    },
    {
     "data": {
      "text/plain": [
       "<matplotlib.legend.Legend at 0x2aaaf2be0f70>"
      ]
     },
     "execution_count": 15,
     "metadata": {},
     "output_type": "execute_result"
    }
   ],
   "source": [
    "plt.figure()\n",
    "pgh.plot_hist(alp_rot180_lin5[0], alp_bins, label='linear 5')\n",
    "pgh.plot_hist(alp_rot180_lin6[0], alp_bins, label='linear 6')\n",
    "pgh.plot_hist(alp_rot180_lin7[0], alp_bins, label='linear 7')\n",
    "pgh.plot_hist(alp_rot180_lin8[0], alp_bins, label='linear 8')\n",
    "pgh.plot_hist(alp_rot180_lin9[0], alp_bins, label='linear 9')\n",
    "plt.axvspan(alp_bins[ilo], alp_bins[ihi], alpha=0.4, color='green', label='alpha region')\n",
    "plt.xlabel('energy (keV)')\n",
    "plt.ylabel('alpha rate')\n",
    "plt.title('rotary 180')\n",
    "plt.legend()"
   ]
  },
  {
   "cell_type": "code",
   "execution_count": 16,
   "id": "87ce6f06-ebc7-4647-93e5-697a2aa23e4f",
   "metadata": {},
   "outputs": [
    {
     "data": {
      "application/vnd.jupyter.widget-view+json": {
       "model_id": "5ce2004e82654ec6a643ff0ce954c14c",
       "version_major": 2,
       "version_minor": 0
      },
      "text/plain": [
       "Canvas(toolbar=Toolbar(toolitems=[('Home', 'Reset original view', 'home', 'home'), ('Back', 'Back to previous …"
      ]
     },
     "metadata": {},
     "output_type": "display_data"
    },
    {
     "data": {
      "text/plain": [
       "<matplotlib.legend.Legend at 0x2aaaf2c1e880>"
      ]
     },
     "execution_count": 16,
     "metadata": {},
     "output_type": "execute_result"
    }
   ],
   "source": [
    "plt.figure()\n",
    "pgh.plot_hist(alp_rot145_lin5[0], alp_bins, label='linear 5')\n",
    "pgh.plot_hist(alp_rot145_lin6[0], alp_bins, label='linear 6')\n",
    "pgh.plot_hist(alp_rot145_lin7[0], alp_bins, label='linear 7')\n",
    "pgh.plot_hist(alp_rot145_lin8[0], alp_bins, label='linear 8')\n",
    "pgh.plot_hist(alp_rot145_lin9[0], alp_bins, label='linear 9')\n",
    "pgh.plot_hist(alp_rot145_lin10[0], alp_bins, label='linear 10')\n",
    "plt.axvspan(alp_bins[ilo], alp_bins[ihi], alpha=0.4, color='green', label='alpha region')\n",
    "plt.xlabel('energy (keV)')\n",
    "plt.ylabel('alpha rate')\n",
    "plt.title('rotary 145')\n",
    "plt.legend()"
   ]
  },
  {
   "cell_type": "code",
   "execution_count": null,
   "id": "e441423b-ecae-43ba-a929-8b4966343a51",
   "metadata": {},
   "outputs": [],
   "source": []
  },
  {
   "cell_type": "code",
   "execution_count": 17,
   "id": "01e65c95-a1d9-4bf0-b414-85e214b562b6",
   "metadata": {},
   "outputs": [],
   "source": [
    "alp_lin12_rot10 = bkg_subtract(279, 277, alp_bins, False)\n",
    "alp_lin12_rot15 = bkg_subtract(265, 277, alp_bins, False)\n",
    "alp_lin12_rot20 = bkg_subtract(264, 277, alp_bins, False)\n",
    "alp_lin12_rot30 = bkg_subtract(266, 277, alp_bins, False)\n",
    "alp_lin12_rot40 = bkg_subtract(267, 277, alp_bins, False)\n",
    "alp_lin12_rot50 = bkg_subtract(268, 277, alp_bins, False)\n",
    "alp_lin12_rot60 = bkg_subtract(269, 277, alp_bins, False)\n",
    "alp_lin12_rot70 = bkg_subtract(270, 277, alp_bins, False)\n",
    "alp_lin12_rot80 = bkg_subtract(271, 277, alp_bins, False)\n",
    "alp_lin12_rot90 = bkg_subtract(272, 277, alp_bins, False)\n",
    "alp_lin12_rot100 = bkg_subtract(273, 277, alp_bins, False)\n",
    "alp_lin12_rot110 = bkg_subtract(274, 277, alp_bins, False)\n",
    "alp_lin12_rot120 = bkg_subtract(275, 277, alp_bins, False)\n",
    "alp_lin12_rot130 = bkg_subtract(276, 277, alp_bins, False)\n",
    "alp_lin12_rot140 = bkg_subtract(278, 277, alp_bins, False)"
   ]
  },
  {
   "cell_type": "code",
   "execution_count": 18,
   "id": "450824f2-2f7a-4a8f-b77b-e10f9889f329",
   "metadata": {},
   "outputs": [],
   "source": [
    "alp_angled_rot10 = bkg_subtract(281, 277, alp_bins, False)\n",
    "alp_angled_rot15 = bkg_subtract(282, 277, alp_bins, False)\n",
    "alp_angled_rot20 = bkg_subtract(283, 277, alp_bins, False)\n",
    "alp_angled_rot30 = bkg_subtract(284, 277, alp_bins, False)\n",
    "alp_angled_rot40 = bkg_subtract(285, 277, alp_bins, False)\n",
    "alp_angled_rot50 = bkg_subtract(286, 277, alp_bins, False)\n",
    "alp_angled_rot60 = bkg_subtract(287, 277, alp_bins, False)\n",
    "alp_angled_rot70 = bkg_subtract(288, 277, alp_bins, False)\n",
    "alp_angled_rot80 = bkg_subtract(289, 277, alp_bins, False)\n",
    "alp_angled_rot90 = bkg_subtract(290, 277, alp_bins, False)\n",
    "alp_angled_rot100 = bkg_subtract(291, 277, alp_bins, False)\n",
    "alp_angled_rot110 = bkg_subtract(292, 277, alp_bins, False)\n",
    "alp_angled_rot120 = bkg_subtract(293, 277, alp_bins, False)\n",
    "alp_angled_rot130 = bkg_subtract(294, 277, alp_bins, False)\n",
    "alp_angled_rot140 = bkg_subtract(295, 277, alp_bins, False)"
   ]
  },
  {
   "cell_type": "code",
   "execution_count": 19,
   "id": "d0dde4f1-aeac-43ab-8356-d2dfde57781b",
   "metadata": {},
   "outputs": [],
   "source": [
    "#alp_lin14_rot70 = bkg_subtract(304, 277, False)\n",
    "alp_lin14_rot80 = bkg_subtract(303, 277, alp_bins, False)\n",
    "alp_lin14_rot90 = bkg_subtract(302, 277, alp_bins, False)\n",
    "alp_lin14_rot100 = bkg_subtract(301, 277, alp_bins, False)\n",
    "alp_lin14_rot110 = bkg_subtract(300, 277, alp_bins, False)\n",
    "alp_lin14_rot120 = bkg_subtract(299, 277, alp_bins, False)\n",
    "alp_lin14_rot130 = bkg_subtract(298, 277, alp_bins, False)\n",
    "alp_lin14_rot140 = bkg_subtract(297, 277, alp_bins, False)"
   ]
  },
  {
   "cell_type": "code",
   "execution_count": 20,
   "id": "2b0874eb-0c63-4e26-b8a6-da3272713dd0",
   "metadata": {},
   "outputs": [],
   "source": [
    "alp_lin12_subs = np.array([alp_lin12_rot10[0], alp_lin12_rot15[0], alp_lin12_rot20[0], alp_lin12_rot30[0], alp_lin12_rot40[0], alp_lin12_rot50[0], alp_lin12_rot60[0], alp_lin12_rot70[0], alp_lin12_rot80[0], alp_lin12_rot90[0], alp_lin12_rot100[0], alp_lin12_rot110[0], alp_lin12_rot120[0], alp_lin12_rot130[0], alp_lin12_rot140[0]])\n",
    "alp_lin12_alp = np.array([alp_lin12_rot10[1], alp_lin12_rot15[1], alp_lin12_rot20[1], alp_lin12_rot30[1], alp_lin12_rot40[1], alp_lin12_rot50[1], alp_lin12_rot60[1], alp_lin12_rot70[1], alp_lin12_rot80[1], alp_lin12_rot90[1], alp_lin12_rot100[1], alp_lin12_rot110[1], alp_lin12_rot120[1], alp_lin12_rot130[1], alp_lin12_rot140[1]])\n",
    "alp_lin12_bkg = np.array([alp_lin12_rot10[2], alp_lin12_rot15[2], alp_lin12_rot20[2], alp_lin12_rot30[2], alp_lin12_rot40[2], alp_lin12_rot50[2], alp_lin12_rot60[2], alp_lin12_rot70[2], alp_lin12_rot80[2], alp_lin12_rot90[2], alp_lin12_rot100[2], alp_lin12_rot110[2], alp_lin12_rot120[2], alp_lin12_rot130[2], alp_lin12_rot140[2]])\n",
    "alp_lin12_alp_t = np.array([alp_lin12_rot10[3], alp_lin12_rot15[3], alp_lin12_rot20[3], alp_lin12_rot30[3], alp_lin12_rot40[3], alp_lin12_rot50[3], alp_lin12_rot60[3], alp_lin12_rot70[3], alp_lin12_rot80[3], alp_lin12_rot90[3], alp_lin12_rot100[3], alp_lin12_rot110[3], alp_lin12_rot120[3], alp_lin12_rot130[3], alp_lin12_rot140[3]])\n",
    "alp_lin12_bkg_t = np.array([alp_lin12_rot10[4], alp_lin12_rot15[4], alp_lin12_rot20[4], alp_lin12_rot30[4], alp_lin12_rot40[4], alp_lin12_rot50[4], alp_lin12_rot60[4], alp_lin12_rot70[4], alp_lin12_rot80[4], alp_lin12_rot90[4], alp_lin12_rot100[4], alp_lin12_rot110[4], alp_lin12_rot120[4], alp_lin12_rot130[4], alp_lin12_rot140[4]])"
   ]
  },
  {
   "cell_type": "code",
   "execution_count": 21,
   "id": "ec3fe323-70ab-4e7f-a1fd-d669285c1a26",
   "metadata": {},
   "outputs": [],
   "source": [
    "alp_angled_subs = np.array([alp_angled_rot10[0], alp_angled_rot15[0], alp_angled_rot20[0], alp_angled_rot30[0], alp_angled_rot40[0], alp_angled_rot50[0], alp_angled_rot60[0], alp_angled_rot70[0], alp_angled_rot80[0], alp_angled_rot90[0], alp_angled_rot100[0], alp_angled_rot110[0], alp_angled_rot120[0], alp_angled_rot130[0], alp_angled_rot140[0]])\n",
    "alp_angled_alp = np.array([alp_angled_rot10[1], alp_angled_rot15[1], alp_angled_rot20[1], alp_angled_rot30[1], alp_angled_rot40[1], alp_angled_rot50[1], alp_angled_rot60[1], alp_angled_rot70[1], alp_angled_rot80[1], alp_angled_rot90[1], alp_angled_rot100[1], alp_angled_rot110[1], alp_angled_rot120[1], alp_angled_rot130[1], alp_angled_rot140[1]])\n",
    "alp_angled_bkg = np.array([alp_angled_rot10[2], alp_angled_rot15[2], alp_angled_rot20[2], alp_angled_rot30[2], alp_angled_rot40[2], alp_angled_rot50[2], alp_angled_rot60[2], alp_angled_rot70[2], alp_angled_rot80[2], alp_angled_rot90[2], alp_angled_rot100[2], alp_angled_rot110[2], alp_angled_rot120[2], alp_angled_rot130[2], alp_angled_rot140[2]])\n",
    "alp_angled_alp_t = np.array([alp_angled_rot10[3], alp_angled_rot15[3], alp_angled_rot20[3], alp_angled_rot30[3], alp_angled_rot40[3], alp_angled_rot50[3], alp_angled_rot60[3], alp_angled_rot70[3], alp_angled_rot80[3], alp_angled_rot90[3], alp_angled_rot100[3], alp_angled_rot110[3], alp_angled_rot120[3], alp_angled_rot130[3], alp_angled_rot140[3]])\n",
    "alp_angled_bkg_t = np.array([alp_angled_rot10[4], alp_angled_rot15[4], alp_angled_rot20[4], alp_angled_rot30[4], alp_angled_rot40[4], alp_angled_rot50[4], alp_angled_rot60[4], alp_angled_rot70[4], alp_angled_rot80[4], alp_angled_rot90[4], alp_angled_rot100[4], alp_angled_rot110[4], alp_angled_rot120[4], alp_angled_rot130[4], alp_angled_rot140[4]])"
   ]
  },
  {
   "cell_type": "code",
   "execution_count": 22,
   "id": "19b7970c-6ecf-4566-bbbf-1cae2e87dce9",
   "metadata": {},
   "outputs": [],
   "source": [
    "alp_lin14_subs = np.array([alp_lin14_rot80[0], alp_lin14_rot90[0], alp_lin14_rot100[0], alp_lin14_rot110[0], alp_lin14_rot120[0], alp_lin14_rot130[0], alp_lin14_rot140[0]])\n",
    "alp_lin14_alp = np.array([alp_lin14_rot80[1], alp_lin14_rot90[1], alp_lin14_rot100[1], alp_lin14_rot110[1], alp_lin14_rot120[1], alp_lin14_rot130[1], alp_lin14_rot140[1]])\n",
    "alp_lin14_bkg = np.array([alp_lin14_rot80[2], alp_lin14_rot90[2], alp_lin14_rot100[2], alp_lin14_rot110[2], alp_lin14_rot120[2], alp_lin14_rot130[2], alp_lin14_rot140[2]])\n",
    "alp_lin14_alp_t = np.array([alp_lin14_rot80[3], alp_lin14_rot90[3], alp_lin14_rot100[3], alp_lin14_rot110[3], alp_lin14_rot120[3], alp_lin14_rot130[3], alp_lin14_rot140[3]])\n",
    "alp_lin14_bkg_t = np.array([alp_lin14_rot80[4], alp_lin14_rot90[4], alp_lin14_rot100[4], alp_lin14_rot110[4], alp_lin14_rot120[4], alp_lin14_rot130[4], alp_lin14_rot140[4]])"
   ]
  },
  {
   "cell_type": "code",
   "execution_count": 23,
   "id": "30289734-bc16-43b8-8e61-77320c5b2a00",
   "metadata": {},
   "outputs": [
    {
     "data": {
      "application/vnd.jupyter.widget-view+json": {
       "model_id": "19f97134410740f9ab31687eb69c4776",
       "version_major": 2,
       "version_minor": 0
      },
      "text/plain": [
       "Canvas(toolbar=Toolbar(toolitems=[('Home', 'Reset original view', 'home', 'home'), ('Back', 'Back to previous …"
      ]
     },
     "metadata": {},
     "output_type": "display_data"
    },
    {
     "data": {
      "text/plain": [
       "Text(0, 0.5, 'alpha rate (count/sec)')"
      ]
     },
     "execution_count": 23,
     "metadata": {},
     "output_type": "execute_result"
    }
   ],
   "source": [
    "alp_lin12 = np.sum(alp_lin12_subs[:,ilo:ihi], axis=1)\n",
    "alp_angled = np.sum(alp_angled_subs[:,ilo:ihi], axis=1)\n",
    "alp_lin14 = np.sum(alp_lin14_subs[:,ilo:ihi], axis=1)\n",
    "\n",
    "alp_lin12_err = get_error(np.sum(alp_lin12_alp[:,ilo:ihi], axis=1), np.sum(alp_lin12_bkg[:,ilo:ihi], axis=1), alp_lin12_alp_t, alp_lin12_bkg_t)\n",
    "alp_angled_err = get_error(np.sum(alp_angled_alp[:,ilo:ihi], axis=1), np.sum(alp_angled_bkg[:,ilo:ihi], axis=1), alp_angled_alp_t, alp_angled_bkg_t)\n",
    "alp_lin14_err = get_error(np.sum(alp_lin14_alp[:,ilo:ihi], axis=1), np.sum(alp_lin14_bkg[:,ilo:ihi], axis=1), alp_lin14_alp_t, alp_lin14_bkg_t)\n",
    "\n",
    "rot = [10, 15, 20, 30, 40, 50, 60, 70, 80, 90, 100, 110, 120, 130, 140]\n",
    "rot14 = [80, 90, 100, 110, 120, 130, 140]\n",
    "\n",
    "plt.figure(facecolor='w')\n",
    "plt.errorbar(rot, alp_lin12, yerr=alp_lin12_err, marker='.', ls='none', label='linear 12')\n",
    "plt.errorbar(rot, alp_angled, yerr=alp_angled_err, marker='.', ls='none', label='alp_angled')\n",
    "plt.errorbar(rot14, alp_lin14, yerr=alp_lin14_err, marker='.', ls='none', label='linear 14')\n",
    "plt.legend()\n",
    "\n",
    "#plt.axvline(7.2, color='blue')\n",
    "#plt.axvline(6.7, color='orange')\n",
    "#plt.axvline(6.7, color='green')\n",
    "\n",
    "plt.xlabel('rotary [deg]')\n",
    "plt.ylabel('alpha rate (count/sec)')"
   ]
  },
  {
   "cell_type": "code",
   "execution_count": 24,
   "id": "68790159-d13a-4b9f-9c2a-15544a3bfb1f",
   "metadata": {},
   "outputs": [
    {
     "data": {
      "application/vnd.jupyter.widget-view+json": {
       "model_id": "367d14bfddb14bf2918898d3707b75d7",
       "version_major": 2,
       "version_minor": 0
      },
      "text/plain": [
       "Canvas(toolbar=Toolbar(toolitems=[('Home', 'Reset original view', 'home', 'home'), ('Back', 'Back to previous …"
      ]
     },
     "metadata": {},
     "output_type": "display_data"
    },
    {
     "data": {
      "text/plain": [
       "<matplotlib.legend.Legend at 0x2aaaf2d0dd00>"
      ]
     },
     "execution_count": 24,
     "metadata": {},
     "output_type": "execute_result"
    }
   ],
   "source": [
    "plt.figure()\n",
    "pgh.plot_hist(alp_lin12_rot100[0], alp_bins, label='linear 12')\n",
    "pgh.plot_hist(alp_angled_rot100[0], alp_bins, label='alp_angled')\n",
    "pgh.plot_hist(alp_lin14_rot100[0], alp_bins, label='linear 14')\n",
    "plt.axvspan(alp_bins[ilo], alp_bins[ihi], alpha=0.4, color='green', label='alpha region')\n",
    "plt.xlabel('energy (keV)')\n",
    "plt.ylabel('alpha rate')\n",
    "plt.title('rotary 100')\n",
    "plt.legend()"
   ]
  },
  {
   "cell_type": "code",
   "execution_count": 25,
   "id": "4e65ee00-244f-4307-8210-e7aee22f6f6d",
   "metadata": {},
   "outputs": [
    {
     "data": {
      "application/vnd.jupyter.widget-view+json": {
       "model_id": "74f5c610221f46debbc1db73c35f5d8f",
       "version_major": 2,
       "version_minor": 0
      },
      "text/plain": [
       "Canvas(toolbar=Toolbar(toolitems=[('Home', 'Reset original view', 'home', 'home'), ('Back', 'Back to previous …"
      ]
     },
     "metadata": {},
     "output_type": "display_data"
    },
    {
     "data": {
      "text/plain": [
       "<matplotlib.legend.Legend at 0x2aaaf2d6bac0>"
      ]
     },
     "execution_count": 25,
     "metadata": {},
     "output_type": "execute_result"
    }
   ],
   "source": [
    "plt.figure()\n",
    "pgh.plot_hist(alp_lin12_rot140[0], alp_bins, label='linear 12')\n",
    "pgh.plot_hist(alp_angled_rot140[0], alp_bins, label='alp_angled')\n",
    "pgh.plot_hist(alp_lin14_rot140[0], alp_bins, label='linear 14')\n",
    "plt.axvspan(alp_bins[ilo], alp_bins[ihi], alpha=0.4, color='green', label='alpha region')\n",
    "plt.xlabel('energy (keV)')\n",
    "plt.ylabel('alpha rate')\n",
    "plt.title('rotary 140')\n",
    "plt.legend()"
   ]
  },
  {
   "cell_type": "code",
   "execution_count": 48,
   "id": "5d911fa2-db37-4126-8b26-42e3b32aa757",
   "metadata": {},
   "outputs": [
    {
     "data": {
      "application/vnd.jupyter.widget-view+json": {
       "model_id": "be20d7d2adee47a99addbc7f01389813",
       "version_major": 2,
       "version_minor": 0
      },
      "text/plain": [
       "Canvas(toolbar=Toolbar(toolitems=[('Home', 'Reset original view', 'home', 'home'), ('Back', 'Back to previous …"
      ]
     },
     "metadata": {},
     "output_type": "display_data"
    },
    {
     "data": {
      "text/plain": [
       "<matplotlib.legend.Legend at 0x2aaaf38dcd00>"
      ]
     },
     "execution_count": 48,
     "metadata": {},
     "output_type": "execute_result"
    }
   ],
   "source": [
    "plt.figure()\n",
    "#pgh.plot_hist(alp_angled_rot100[0], alp_bins, label='rotary 100')\n",
    "pgh.plot_hist(alp_angled_rot110[0], alp_bins, label='rotary 110')\n",
    "pgh.plot_hist(alp_angled_rot120[0], alp_bins, label='rotary 120')\n",
    "pgh.plot_hist(alp_angled_rot130[0], alp_bins, label='rotary 130')\n",
    "pgh.plot_hist(alp_angled_rot140[0], alp_bins, label='rotary 140')\n",
    "plt.axvspan(alp_bins[ilo], alp_bins[ihi], alpha=0.4, color='green', label='alpha region')\n",
    "plt.xlabel('energy (keV)')\n",
    "plt.ylabel('alpha rate')\n",
    "plt.title('angled scan')\n",
    "plt.legend()"
   ]
  },
  {
   "cell_type": "markdown",
   "id": "4b2cc3b4-a6cc-4541-ab32-b665e120a0ee",
   "metadata": {},
   "source": [
    "# 60 keV Peak"
   ]
  },
  {
   "cell_type": "code",
   "execution_count": 4,
   "id": "01766d6d-5452-4b74-b69c-40ba7510e30b",
   "metadata": {},
   "outputs": [],
   "source": [
    "sixty_bins = np.arange(0,200, 5)"
   ]
  },
  {
   "cell_type": "code",
   "execution_count": 5,
   "id": "4c52be38-3b11-4e8a-97ea-207da9dc6dfc",
   "metadata": {},
   "outputs": [],
   "source": [
    "lo = 55\n",
    "hi = 65\n",
    "ilo = np.where(sixty_bins >= lo)[0][0]\n",
    "ihi = np.where(sixty_bins >= hi)[0][0]"
   ]
  },
  {
   "cell_type": "code",
   "execution_count": 6,
   "id": "887562ab-7fef-4f57-83d9-c7fbb70c62be",
   "metadata": {},
   "outputs": [],
   "source": [
    "sixty_rot0_lin5 = bkg_subtract(245, 241, sixty_bins, False)\n",
    "sixty_rot0_lin6 = bkg_subtract(246, 241, sixty_bins, False)\n",
    "sixty_rot0_lin7 = bkg_subtract(247, 241, sixty_bins, False)\n",
    "sixty_rot0_lin8 = bkg_subtract(248, 241, sixty_bins, False)\n",
    "sixty_rot0_lin9 = bkg_subtract(249, 241, sixty_bins, False)\n",
    "sixty_rot0_lin10 = bkg_subtract(240, 241, sixty_bins, False)"
   ]
  },
  {
   "cell_type": "code",
   "execution_count": 7,
   "id": "f3aeddbc-cb5c-4d74-964f-6072829b6d47",
   "metadata": {},
   "outputs": [],
   "source": [
    "sixty_rot180_lin5 = bkg_subtract(251, 256, sixty_bins, False)\n",
    "sixty_rot180_lin6 = bkg_subtract(252, 256, sixty_bins, False)\n",
    "sixty_rot180_lin7 = bkg_subtract(253, 256, sixty_bins, False)\n",
    "sixty_rot180_lin8 = bkg_subtract(254, 256, sixty_bins, False)\n",
    "sixty_rot180_lin9 = bkg_subtract(255, 256, sixty_bins, False)"
   ]
  },
  {
   "cell_type": "code",
   "execution_count": 8,
   "id": "ae91d80e-a856-48a7-9000-d377b947afd2",
   "metadata": {},
   "outputs": [],
   "source": [
    "sixty_rot145_lin5 = bkg_subtract(257, 263, sixty_bins, False)\n",
    "sixty_rot145_lin6 = bkg_subtract(258, 263, sixty_bins, False)\n",
    "sixty_rot145_lin7 = bkg_subtract(259, 263, sixty_bins, False)\n",
    "sixty_rot145_lin8 = bkg_subtract(260, 263, sixty_bins, False)\n",
    "sixty_rot145_lin9 = bkg_subtract(261, 263, sixty_bins, False)\n",
    "sixty_rot145_lin10 = bkg_subtract(262, 263, sixty_bins, False)"
   ]
  },
  {
   "cell_type": "code",
   "execution_count": 9,
   "id": "34a2fc52-6df7-40c5-a8c0-cf9419626aad",
   "metadata": {},
   "outputs": [],
   "source": [
    "sixty_rot0_subs = np.array([sixty_rot0_lin5[0], sixty_rot0_lin6[0], sixty_rot0_lin7[0], sixty_rot0_lin8[0], sixty_rot0_lin9[0], sixty_rot0_lin10[0]])\n",
    "sixty_rot0_alp = np.array([sixty_rot0_lin5[1], sixty_rot0_lin6[1], sixty_rot0_lin7[1], sixty_rot0_lin8[1], sixty_rot0_lin9[1], sixty_rot0_lin10[1]])\n",
    "sixty_rot0_bkg = np.array([sixty_rot0_lin5[2], sixty_rot0_lin6[2], sixty_rot0_lin7[2], sixty_rot0_lin8[2], sixty_rot0_lin9[2], sixty_rot0_lin10[2]])\n",
    "sixty_rot0_alp_t = np.array([sixty_rot0_lin5[3], sixty_rot0_lin6[3], sixty_rot0_lin7[3], sixty_rot0_lin8[3], sixty_rot0_lin9[3], sixty_rot0_lin10[3]])\n",
    "sixty_rot0_bkg_t = np.array([sixty_rot0_lin5[4], sixty_rot0_lin6[4], sixty_rot0_lin7[4], sixty_rot0_lin8[4], sixty_rot0_lin9[4], sixty_rot0_lin10[4]])"
   ]
  },
  {
   "cell_type": "code",
   "execution_count": 10,
   "id": "e5cab781-3348-4f7d-b0b1-91556102c238",
   "metadata": {},
   "outputs": [],
   "source": [
    "sixty_rot180_subs = np.array([sixty_rot180_lin5[0], sixty_rot180_lin6[0], sixty_rot180_lin7[0], sixty_rot180_lin8[0], sixty_rot180_lin9[0]])\n",
    "sixty_rot180_alp = np.array([sixty_rot180_lin5[1], sixty_rot180_lin6[1], sixty_rot180_lin7[1], sixty_rot180_lin8[1], sixty_rot180_lin9[1]])\n",
    "sixty_rot180_bkg = np.array([sixty_rot180_lin5[2], sixty_rot180_lin6[2], sixty_rot180_lin7[2], sixty_rot180_lin8[2], sixty_rot180_lin9[2]])\n",
    "sixty_rot180_alp_t = np.array([sixty_rot180_lin5[3], sixty_rot180_lin6[3], sixty_rot180_lin7[3], sixty_rot180_lin8[3], sixty_rot180_lin9[3]])\n",
    "sixty_rot180_bkg_t = np.array([sixty_rot180_lin5[4], sixty_rot180_lin6[4], sixty_rot180_lin7[4], sixty_rot180_lin8[4], sixty_rot180_lin9[4]])"
   ]
  },
  {
   "cell_type": "code",
   "execution_count": 11,
   "id": "201297cd-a850-450f-b185-cafb2011f5a6",
   "metadata": {},
   "outputs": [],
   "source": [
    "sixty_rot145_subs = np.array([sixty_rot145_lin5[0], sixty_rot145_lin6[0], sixty_rot145_lin7[0], sixty_rot145_lin8[0], sixty_rot145_lin9[0], sixty_rot145_lin10[0]])\n",
    "sixty_rot145_alp = np.array([sixty_rot145_lin5[1], sixty_rot145_lin6[1], sixty_rot145_lin7[1], sixty_rot145_lin8[1], sixty_rot145_lin9[1], sixty_rot145_lin10[1]])\n",
    "sixty_rot145_bkg = np.array([sixty_rot145_lin5[2], sixty_rot145_lin6[2], sixty_rot145_lin7[2], sixty_rot145_lin8[2], sixty_rot145_lin9[2], sixty_rot145_lin10[2]])\n",
    "sixty_rot145_alp_t = np.array([sixty_rot145_lin5[3], sixty_rot145_lin6[3], sixty_rot145_lin7[3], sixty_rot145_lin8[3], sixty_rot145_lin9[3], sixty_rot145_lin10[3]])\n",
    "sixty_rot145_bkg_t = np.array([sixty_rot145_lin5[4], sixty_rot145_lin6[4], sixty_rot145_lin7[4], sixty_rot145_lin8[4], sixty_rot145_lin9[4], sixty_rot145_lin10[4]])"
   ]
  },
  {
   "cell_type": "code",
   "execution_count": 35,
   "id": "0ab93906-7361-4116-89ef-38e900711369",
   "metadata": {},
   "outputs": [
    {
     "data": {
      "application/vnd.jupyter.widget-view+json": {
       "model_id": "62c2fcc13ad64968967f50629ce24b4d",
       "version_major": 2,
       "version_minor": 0
      },
      "text/plain": [
       "Canvas(toolbar=Toolbar(toolitems=[('Home', 'Reset original view', 'home', 'home'), ('Back', 'Back to previous …"
      ]
     },
     "metadata": {},
     "output_type": "display_data"
    },
    {
     "data": {
      "text/plain": [
       "Text(0, 0.5, '60 keV rate (count/sec)')"
      ]
     },
     "execution_count": 35,
     "metadata": {},
     "output_type": "execute_result"
    }
   ],
   "source": [
    "sixty_rot0 = np.sum(sixty_rot0_subs[:,ilo:ihi], axis=1)\n",
    "sixty_rot180 = np.sum(sixty_rot180_subs[:,ilo:ihi], axis=1)\n",
    "sixty_rot145 = np.sum(sixty_rot145_subs[:,ilo:ihi], axis=1)\n",
    "\n",
    "sixty_rot0_err = get_error(np.sum(sixty_rot0_alp[:,ilo:ihi], axis=1), np.sum(sixty_rot0_bkg[:,ilo:ihi], axis=1), sixty_rot0_alp_t, sixty_rot0_bkg_t)\n",
    "sixty_rot180_err = get_error(np.sum(sixty_rot180_alp[:,ilo:ihi], axis=1), np.sum(sixty_rot180_bkg[:,ilo:ihi], axis=1), sixty_rot180_alp_t, sixty_rot180_bkg_t)\n",
    "sixty_rot145_err = get_error(np.sum(sixty_rot145_alp[:,ilo:ihi], axis=1), np.sum(sixty_rot145_bkg[:,ilo:ihi], axis=1), sixty_rot145_alp_t, sixty_rot145_bkg_t)\n",
    "\n",
    "lin = [5, 6, 7, 8, 9]\n",
    "lin2 = [5, 6, 7, 8, 9, 10]\n",
    "\n",
    "plt.figure(facecolor='w')\n",
    "plt.errorbar(lin2, sixty_rot0, yerr=sixty_rot0_err, marker='.', ls='none', label='rotary 0')\n",
    "plt.errorbar(lin, sixty_rot180, yerr=sixty_rot180_err, marker='.', ls='none', label='rotary 180')\n",
    "plt.errorbar(lin2, sixty_rot145, yerr=sixty_rot145_err, marker='.', ls='none', label='rotary 145')\n",
    "plt.legend()\n",
    "\n",
    "#plt.axvline(7.2, color='blue')\n",
    "#plt.axvline(6.7, color='orange')\n",
    "#plt.axvline(6.7, color='green')\n",
    "\n",
    "plt.xlabel('linear [mm]')\n",
    "plt.ylabel('60 keV rate (count/sec)')"
   ]
  },
  {
   "cell_type": "code",
   "execution_count": 36,
   "id": "217c41c9-d87b-4256-81d7-2bbf135b2937",
   "metadata": {},
   "outputs": [
    {
     "data": {
      "application/vnd.jupyter.widget-view+json": {
       "model_id": "546161fa3e6c4525979f812d59a6a42f",
       "version_major": 2,
       "version_minor": 0
      },
      "text/plain": [
       "Canvas(toolbar=Toolbar(toolitems=[('Home', 'Reset original view', 'home', 'home'), ('Back', 'Back to previous …"
      ]
     },
     "metadata": {},
     "output_type": "display_data"
    },
    {
     "data": {
      "text/plain": [
       "<matplotlib.legend.Legend at 0x2aaaf2e7d460>"
      ]
     },
     "execution_count": 36,
     "metadata": {},
     "output_type": "execute_result"
    }
   ],
   "source": [
    "plt.figure()\n",
    "pgh.plot_hist(sixty_rot0_lin5[0], sixty_bins, label='linear 5')\n",
    "pgh.plot_hist(sixty_rot0_lin6[0], sixty_bins, label='linear 6')\n",
    "pgh.plot_hist(sixty_rot0_lin7[0], sixty_bins, label='linear 7')\n",
    "pgh.plot_hist(sixty_rot0_lin8[0], sixty_bins, label='linear 8')\n",
    "pgh.plot_hist(sixty_rot0_lin9[0], sixty_bins, label='linear 9')\n",
    "pgh.plot_hist(sixty_rot0_lin10[0], sixty_bins, label='linear 10')\n",
    "plt.axvspan(sixty_bins[ilo], sixty_bins[ihi], alpha=0.4, color='green', label='alpha region')\n",
    "plt.xlabel('energy (keV)')\n",
    "plt.ylabel('60 keV rate')\n",
    "plt.title('rotary 0')\n",
    "plt.legend()"
   ]
  },
  {
   "cell_type": "code",
   "execution_count": 12,
   "id": "11d3e561-75e8-45c2-88d2-52d7b051a76b",
   "metadata": {
    "tags": []
   },
   "outputs": [],
   "source": [
    "sixty_lin12_rot10 = bkg_subtract(279, 277, sixty_bins, False)\n",
    "sixty_lin12_rot15 = bkg_subtract(265, 277, sixty_bins, False)\n",
    "sixty_lin12_rot20 = bkg_subtract(264, 277, sixty_bins, False)\n",
    "sixty_lin12_rot30 = bkg_subtract(266, 277, sixty_bins, False)\n",
    "sixty_lin12_rot40 = bkg_subtract(267, 277, sixty_bins, False)\n",
    "sixty_lin12_rot50 = bkg_subtract(268, 277, sixty_bins, False)\n",
    "sixty_lin12_rot60 = bkg_subtract(269, 277, sixty_bins, False)\n",
    "sixty_lin12_rot70 = bkg_subtract(270, 277, sixty_bins, False)\n",
    "sixty_lin12_rot80 = bkg_subtract(271, 277, sixty_bins, False)\n",
    "sixty_lin12_rot90 = bkg_subtract(272, 277, sixty_bins, False)\n",
    "sixty_lin12_rot100 = bkg_subtract(273, 277, sixty_bins, False)\n",
    "sixty_lin12_rot110 = bkg_subtract(274, 277, sixty_bins, False)\n",
    "sixty_lin12_rot120 = bkg_subtract(275, 277, sixty_bins, False)\n",
    "sixty_lin12_rot130 = bkg_subtract(276, 277, sixty_bins, False)\n",
    "sixty_lin12_rot140 = bkg_subtract(278, 277, sixty_bins, False)"
   ]
  },
  {
   "cell_type": "code",
   "execution_count": 13,
   "id": "88faa0a6-2b60-45f6-889d-e8078fa630f6",
   "metadata": {},
   "outputs": [],
   "source": [
    "sixty_angled_rot10 = bkg_subtract(281, 277, sixty_bins, False)\n",
    "sixty_angled_rot15 = bkg_subtract(282, 277, sixty_bins, False)\n",
    "sixty_angled_rot20 = bkg_subtract(283, 277, sixty_bins, False)\n",
    "sixty_angled_rot30 = bkg_subtract(284, 277, sixty_bins, False)\n",
    "sixty_angled_rot40 = bkg_subtract(285, 277, sixty_bins, False)\n",
    "sixty_angled_rot50 = bkg_subtract(286, 277, sixty_bins, False)\n",
    "sixty_angled_rot60 = bkg_subtract(287, 277, sixty_bins, False)\n",
    "sixty_angled_rot70 = bkg_subtract(288, 277, sixty_bins, False)\n",
    "sixty_angled_rot80 = bkg_subtract(289, 277, sixty_bins, False)\n",
    "sixty_angled_rot90 = bkg_subtract(290, 277, sixty_bins, False)\n",
    "sixty_angled_rot100 = bkg_subtract(291, 277, sixty_bins, False)\n",
    "sixty_angled_rot110 = bkg_subtract(292, 277, sixty_bins, False)\n",
    "sixty_angled_rot120 = bkg_subtract(293, 277, sixty_bins, False)\n",
    "sixty_angled_rot130 = bkg_subtract(294, 277, sixty_bins, False)\n",
    "sixty_angled_rot140 = bkg_subtract(295, 277, sixty_bins, False)"
   ]
  },
  {
   "cell_type": "code",
   "execution_count": 14,
   "id": "be36812b-e1b5-45f3-b346-7a87ec0cfded",
   "metadata": {},
   "outputs": [],
   "source": [
    "#sixty_lin14_rot70 = bkg_subtract(304, 277, False)\n",
    "sixty_lin14_rot80 = bkg_subtract(303, 277, sixty_bins, False)\n",
    "sixty_lin14_rot90 = bkg_subtract(302, 277, sixty_bins, False)\n",
    "sixty_lin14_rot100 = bkg_subtract(301, 277, sixty_bins, False)\n",
    "sixty_lin14_rot110 = bkg_subtract(300, 277, sixty_bins, False)\n",
    "sixty_lin14_rot120 = bkg_subtract(299, 277, sixty_bins, False)\n",
    "sixty_lin14_rot130 = bkg_subtract(298, 277, sixty_bins, False)\n",
    "sixty_lin14_rot140 = bkg_subtract(297, 277, sixty_bins, False)"
   ]
  },
  {
   "cell_type": "code",
   "execution_count": 15,
   "id": "65d50f5c-3a90-446c-a6bb-c149dedc1dcc",
   "metadata": {},
   "outputs": [],
   "source": [
    "sixty_lin12_subs = np.array([sixty_lin12_rot10[0], sixty_lin12_rot15[0], sixty_lin12_rot20[0], sixty_lin12_rot30[0], sixty_lin12_rot40[0], sixty_lin12_rot50[0], sixty_lin12_rot60[0], sixty_lin12_rot70[0], sixty_lin12_rot80[0], sixty_lin12_rot90[0], sixty_lin12_rot100[0], sixty_lin12_rot110[0], sixty_lin12_rot120[0], sixty_lin12_rot130[0], sixty_lin12_rot140[0]])\n",
    "sixty_lin12_alp = np.array([sixty_lin12_rot10[1], sixty_lin12_rot15[1], sixty_lin12_rot20[1], sixty_lin12_rot30[1], sixty_lin12_rot40[1], sixty_lin12_rot50[1], sixty_lin12_rot60[1], sixty_lin12_rot70[1], sixty_lin12_rot80[1], sixty_lin12_rot90[1], sixty_lin12_rot100[1], sixty_lin12_rot110[1], sixty_lin12_rot120[1], sixty_lin12_rot130[1], sixty_lin12_rot140[1]])\n",
    "sixty_lin12_bkg = np.array([sixty_lin12_rot10[2], sixty_lin12_rot15[2], sixty_lin12_rot20[2], sixty_lin12_rot30[2], sixty_lin12_rot40[2], sixty_lin12_rot50[2], sixty_lin12_rot60[2], sixty_lin12_rot70[2], sixty_lin12_rot80[2], sixty_lin12_rot90[2], sixty_lin12_rot100[2], sixty_lin12_rot110[2], sixty_lin12_rot120[2], sixty_lin12_rot130[2], sixty_lin12_rot140[2]])\n",
    "sixty_lin12_alp_t = np.array([sixty_lin12_rot10[3], sixty_lin12_rot15[3], sixty_lin12_rot20[3], sixty_lin12_rot30[3], sixty_lin12_rot40[3], sixty_lin12_rot50[3], sixty_lin12_rot60[3], sixty_lin12_rot70[3], sixty_lin12_rot80[3], sixty_lin12_rot90[3], sixty_lin12_rot100[3], sixty_lin12_rot110[3], sixty_lin12_rot120[3], sixty_lin12_rot130[3], sixty_lin12_rot140[3]])\n",
    "sixty_lin12_bkg_t = np.array([sixty_lin12_rot10[4], sixty_lin12_rot15[4], sixty_lin12_rot20[4], sixty_lin12_rot30[4], sixty_lin12_rot40[4], sixty_lin12_rot50[4], sixty_lin12_rot60[4], sixty_lin12_rot70[4], sixty_lin12_rot80[4], sixty_lin12_rot90[4], sixty_lin12_rot100[4], sixty_lin12_rot110[4], sixty_lin12_rot120[4], sixty_lin12_rot130[4], sixty_lin12_rot140[4]])"
   ]
  },
  {
   "cell_type": "code",
   "execution_count": 16,
   "id": "337705b8-9011-4bd7-8251-b31ee2caf914",
   "metadata": {},
   "outputs": [],
   "source": [
    "sixty_angled_subs = np.array([sixty_angled_rot10[0], sixty_angled_rot15[0], sixty_angled_rot20[0], sixty_angled_rot30[0], sixty_angled_rot40[0], sixty_angled_rot50[0], sixty_angled_rot60[0], sixty_angled_rot70[0], sixty_angled_rot80[0], sixty_angled_rot90[0], sixty_angled_rot100[0], sixty_angled_rot110[0], sixty_angled_rot120[0], sixty_angled_rot130[0], sixty_angled_rot140[0]])\n",
    "sixty_angled_alp = np.array([sixty_angled_rot10[1], sixty_angled_rot15[1], sixty_angled_rot20[1], sixty_angled_rot30[1], sixty_angled_rot40[1], sixty_angled_rot50[1], sixty_angled_rot60[1], sixty_angled_rot70[1], sixty_angled_rot80[1], sixty_angled_rot90[1], sixty_angled_rot100[1], sixty_angled_rot110[1], sixty_angled_rot120[1], sixty_angled_rot130[1], sixty_angled_rot140[1]])\n",
    "sixty_angled_bkg = np.array([sixty_angled_rot10[2], sixty_angled_rot15[2], sixty_angled_rot20[2], sixty_angled_rot30[2], sixty_angled_rot40[2], sixty_angled_rot50[2], sixty_angled_rot60[2], sixty_angled_rot70[2], sixty_angled_rot80[2], sixty_angled_rot90[2], sixty_angled_rot100[2], sixty_angled_rot110[2], sixty_angled_rot120[2], sixty_angled_rot130[2], sixty_angled_rot140[2]])\n",
    "sixty_angled_alp_t = np.array([sixty_angled_rot10[3], sixty_angled_rot15[3], sixty_angled_rot20[3], sixty_angled_rot30[3], sixty_angled_rot40[3], sixty_angled_rot50[3], sixty_angled_rot60[3], sixty_angled_rot70[3], sixty_angled_rot80[3], sixty_angled_rot90[3], sixty_angled_rot100[3], sixty_angled_rot110[3], sixty_angled_rot120[3], sixty_angled_rot130[3], sixty_angled_rot140[3]])\n",
    "sixty_angled_bkg_t = np.array([sixty_angled_rot10[4], sixty_angled_rot15[4], sixty_angled_rot20[4], sixty_angled_rot30[4], sixty_angled_rot40[4], sixty_angled_rot50[4], sixty_angled_rot60[4], sixty_angled_rot70[4], sixty_angled_rot80[4], sixty_angled_rot90[4], sixty_angled_rot100[4], sixty_angled_rot110[4], sixty_angled_rot120[4], sixty_angled_rot130[4], sixty_angled_rot140[4]])"
   ]
  },
  {
   "cell_type": "code",
   "execution_count": 17,
   "id": "4e76bc6c-19bb-429c-bdd5-bef90e95915b",
   "metadata": {},
   "outputs": [],
   "source": [
    "sixty_lin14_subs = np.array([sixty_lin14_rot80[0], sixty_lin14_rot90[0], sixty_lin14_rot100[0], sixty_lin14_rot110[0], sixty_lin14_rot120[0], sixty_lin14_rot130[0], sixty_lin14_rot140[0]])\n",
    "sixty_lin14_alp = np.array([sixty_lin14_rot80[1], sixty_lin14_rot90[1], sixty_lin14_rot100[1], sixty_lin14_rot110[1], sixty_lin14_rot120[1], sixty_lin14_rot130[1], sixty_lin14_rot140[1]])\n",
    "sixty_lin14_bkg = np.array([sixty_lin14_rot80[2], sixty_lin14_rot90[2], sixty_lin14_rot100[2], sixty_lin14_rot110[2], sixty_lin14_rot120[2], sixty_lin14_rot130[2], sixty_lin14_rot140[2]])\n",
    "sixty_lin14_alp_t = np.array([sixty_lin14_rot80[3], sixty_lin14_rot90[3], sixty_lin14_rot100[3], sixty_lin14_rot110[3], sixty_lin14_rot120[3], sixty_lin14_rot130[3], sixty_lin14_rot140[3]])\n",
    "sixty_lin14_bkg_t = np.array([sixty_lin14_rot80[4], sixty_lin14_rot90[4], sixty_lin14_rot100[4], sixty_lin14_rot110[4], sixty_lin14_rot120[4], sixty_lin14_rot130[4], sixty_lin14_rot140[4]])"
   ]
  },
  {
   "cell_type": "code",
   "execution_count": 50,
   "id": "c62d63f7-fd80-4a53-b424-1fca86bcfc2a",
   "metadata": {},
   "outputs": [
    {
     "data": {
      "application/vnd.jupyter.widget-view+json": {
       "model_id": "79481fe4cb7040508b9c0acfe220035d",
       "version_major": 2,
       "version_minor": 0
      },
      "text/plain": [
       "Canvas(toolbar=Toolbar(toolitems=[('Home', 'Reset original view', 'home', 'home'), ('Back', 'Back to previous …"
      ]
     },
     "metadata": {},
     "output_type": "display_data"
    },
    {
     "data": {
      "text/plain": [
       "Text(0, 0.5, '60 keV rate (count/sec)')"
      ]
     },
     "execution_count": 50,
     "metadata": {},
     "output_type": "execute_result"
    }
   ],
   "source": [
    "sixty_lin12 = np.sum(sixty_lin12_subs[:,ilo:ihi], axis=1)\n",
    "sixty_angled = np.sum(sixty_angled_subs[:,ilo:ihi], axis=1)\n",
    "sixty_lin14 = np.sum(sixty_lin14_subs[:,ilo:ihi], axis=1)\n",
    "\n",
    "sixty_lin12_err = get_error(np.sum(sixty_lin12_alp[:,ilo:ihi], axis=1), np.sum(sixty_lin12_bkg[:,ilo:ihi], axis=1), sixty_lin12_alp_t, sixty_lin12_bkg_t)\n",
    "sixty_angled_err = get_error(np.sum(sixty_angled_alp[:,ilo:ihi], axis=1), np.sum(sixty_angled_bkg[:,ilo:ihi], axis=1), sixty_angled_alp_t, sixty_angled_bkg_t)\n",
    "sixty_lin14_err = get_error(np.sum(sixty_lin14_alp[:,ilo:ihi], axis=1), np.sum(sixty_lin14_bkg[:,ilo:ihi], axis=1), sixty_lin14_alp_t, sixty_lin14_bkg_t)\n",
    "\n",
    "rot = [10, 15, 20, 30, 40, 50, 60, 70, 80, 90, 100, 110, 120, 130, 140]\n",
    "rot14 = [80, 90, 100, 110, 120, 130, 140]\n",
    "\n",
    "plt.figure(facecolor='w')\n",
    "plt.errorbar(rot, sixty_lin12, yerr=sixty_lin12_err, marker='.', ls='none', label='linear 12')\n",
    "plt.errorbar(rot, sixty_angled, yerr=sixty_angled_err, marker='.', ls='none', label='angled')\n",
    "#plt.errorbar(rot14, sixty_lin14, yerr=sixty_lin14_err, marker='.', ls='none', label='linear 14')\n",
    "plt.legend()\n",
    "\n",
    "#plt.axvline(7.2, color='blue')\n",
    "#plt.axvline(6.7, color='orange')\n",
    "#plt.axvline(6.7, color='green')\n",
    "\n",
    "plt.xlabel('rotary [deg]')\n",
    "plt.ylabel('60 keV rate (count/sec)')"
   ]
  },
  {
   "cell_type": "code",
   "execution_count": 51,
   "id": "c915d7a8-6edc-4852-a2e8-8cf75ac0cddd",
   "metadata": {},
   "outputs": [
    {
     "data": {
      "application/vnd.jupyter.widget-view+json": {
       "model_id": "878cbe3634564e7c9d969fd137d2cbff",
       "version_major": 2,
       "version_minor": 0
      },
      "text/plain": [
       "Canvas(toolbar=Toolbar(toolitems=[('Home', 'Reset original view', 'home', 'home'), ('Back', 'Back to previous …"
      ]
     },
     "metadata": {},
     "output_type": "display_data"
    },
    {
     "data": {
      "text/plain": [
       "<matplotlib.legend.Legend at 0x2aaaf3a87490>"
      ]
     },
     "execution_count": 51,
     "metadata": {},
     "output_type": "execute_result"
    }
   ],
   "source": [
    "plt.figure()\n",
    "pgh.plot_hist(sixty_lin12_rot80[0], sixty_bins, label='linear 12')\n",
    "pgh.plot_hist(sixty_angled_rot80[0], sixty_bins, label='angled')\n",
    "plt.axvspan(sixty_bins[ilo], sixty_bins[ihi], alpha=0.4, color='green', label='alpha region')\n",
    "plt.xlabel('energy (keV)')\n",
    "plt.ylabel('60 keV rate')\n",
    "plt.title('rotary 80')\n",
    "plt.legend()"
   ]
  },
  {
   "cell_type": "code",
   "execution_count": 45,
   "id": "1a441222-5b14-46ca-81fa-bc9b88d4fbac",
   "metadata": {},
   "outputs": [
    {
     "data": {
      "application/vnd.jupyter.widget-view+json": {
       "model_id": "b031c15dcd1f4b18838736a50ea3fa58",
       "version_major": 2,
       "version_minor": 0
      },
      "text/plain": [
       "Canvas(toolbar=Toolbar(toolitems=[('Home', 'Reset original view', 'home', 'home'), ('Back', 'Back to previous …"
      ]
     },
     "metadata": {},
     "output_type": "display_data"
    },
    {
     "data": {
      "text/plain": [
       "<matplotlib.legend.Legend at 0x2aaaf2c776a0>"
      ]
     },
     "execution_count": 45,
     "metadata": {},
     "output_type": "execute_result"
    }
   ],
   "source": [
    "plt.figure()\n",
    "pgh.plot_hist(sixty_lin12_rot10[0], sixty_bins, label='rotary 10')\n",
    "pgh.plot_hist(sixty_lin12_rot15[0], sixty_bins, label='rotary 15')\n",
    "pgh.plot_hist(sixty_lin12_rot20[0], sixty_bins, label='rotary 20')\n",
    "pgh.plot_hist(sixty_lin12_rot30[0], sixty_bins, label='rotary 30')\n",
    "pgh.plot_hist(sixty_lin12_rot40[0], sixty_bins, label='rotary 40')\n",
    "pgh.plot_hist(sixty_lin12_rot50[0], sixty_bins, label='rotary 50')\n",
    "pgh.plot_hist(sixty_lin12_rot60[0], sixty_bins, label='rotary 60')\n",
    "pgh.plot_hist(sixty_lin12_rot70[0], sixty_bins, label='rotary 70')\n",
    "pgh.plot_hist(sixty_lin12_rot80[0], sixty_bins, label='rotary 80')\n",
    "pgh.plot_hist(sixty_lin12_rot90[0], sixty_bins, label='rotary 90')\n",
    "pgh.plot_hist(sixty_lin12_rot100[0], sixty_bins, label='rotary 100')\n",
    "pgh.plot_hist(sixty_lin12_rot110[0], sixty_bins, label='rotary 110')\n",
    "pgh.plot_hist(sixty_lin12_rot120[0], sixty_bins, label='rotary 120')\n",
    "pgh.plot_hist(sixty_lin12_rot130[0], sixty_bins, label='rotary 130')\n",
    "pgh.plot_hist(sixty_lin12_rot140[0], sixty_bins, label='rotary 140')\n",
    "plt.axvspan(sixty_bins[ilo], sixty_bins[ihi], alpha=0.4, color='green', label='alpha region')\n",
    "plt.xlabel('energy (keV)')\n",
    "plt.ylabel('60 keV rate')\n",
    "plt.title('linear 12')\n",
    "plt.legend()"
   ]
  },
  {
   "cell_type": "code",
   "execution_count": 61,
   "id": "03af0a82-ef1d-45d0-a9a7-434873bdd918",
   "metadata": {},
   "outputs": [
    {
     "data": {
      "application/vnd.jupyter.widget-view+json": {
       "model_id": "fce18c2cd555479c9820792efcca827d",
       "version_major": 2,
       "version_minor": 0
      },
      "text/plain": [
       "Canvas(toolbar=Toolbar(toolitems=[('Home', 'Reset original view', 'home', 'home'), ('Back', 'Back to previous …"
      ]
     },
     "metadata": {},
     "output_type": "display_data"
    },
    {
     "data": {
      "text/plain": [
       "<matplotlib.legend.Legend at 0x2aab0016fa60>"
      ]
     },
     "execution_count": 61,
     "metadata": {},
     "output_type": "execute_result"
    }
   ],
   "source": [
    "plt.figure()\n",
    "#pgh.plot_hist(sixty_lin12_rot15[0], sixty_bins, label='linear 12, rotary 15')\n",
    "pgh.plot_hist(sixty_angled_rot10[1], sixty_bins, label='rotary 10')\n",
    "pgh.plot_hist(sixty_angled_rot15[1], sixty_bins, label='rotary 15')\n",
    "pgh.plot_hist(sixty_angled_rot20[1], sixty_bins, label='rotary 20')\n",
    "pgh.plot_hist(sixty_angled_rot30[1], sixty_bins, label='rotary 30')\n",
    "pgh.plot_hist(sixty_angled_rot40[1], sixty_bins, label='rotary 40')\n",
    "pgh.plot_hist(sixty_angled_rot50[1], sixty_bins, label='rotary 50')\n",
    "pgh.plot_hist(sixty_angled_rot60[1], sixty_bins, label='rotary 60')\n",
    "pgh.plot_hist(sixty_angled_rot70[1], sixty_bins, label='rotary 70')\n",
    "pgh.plot_hist(sixty_angled_rot80[1], sixty_bins, label='rotary 80')\n",
    "pgh.plot_hist(sixty_angled_rot90[1], sixty_bins, label='rotary 90')\n",
    "#pgh.plot_hist(sixty_angled_rot100[1], sixty_bins, label='rotary 100')\n",
    "#pgh.plot_hist(sixty_angled_rot110[1], sixty_bins, label='rotary 110')\n",
    "#pgh.plot_hist(sixty_angled_rot120[1], sixty_bins, label='rotary 120')\n",
    "#pgh.plot_hist(sixty_angled_rot130[1], sixty_bins, label='rotary 130')\n",
    "#pgh.plot_hist(sixty_angled_rot140[1], sixty_bins, label='rotary 140')\n",
    "plt.axvspan(sixty_bins[ilo], sixty_bins[ihi], alpha=0.4, color='green', label='alpha region')\n",
    "plt.xlabel('energy (keV)')\n",
    "plt.ylabel('60 keV rate')\n",
    "plt.title('angled scan')\n",
    "plt.legend(loc='upper right')"
   ]
  },
  {
   "cell_type": "code",
   "execution_count": 19,
   "id": "a6be2fe1-62f5-4d4b-bfb1-15e3ddba6f0f",
   "metadata": {},
   "outputs": [
    {
     "data": {
      "application/vnd.jupyter.widget-view+json": {
       "model_id": "e12f8cf5fa254afb9298bc3438d7e6b1",
       "version_major": 2,
       "version_minor": 0
      },
      "text/plain": [
       "Canvas(toolbar=Toolbar(toolitems=[('Home', 'Reset original view', 'home', 'home'), ('Back', 'Back to previous …"
      ]
     },
     "metadata": {},
     "output_type": "display_data"
    },
    {
     "data": {
      "application/vnd.jupyter.widget-view+json": {
       "model_id": "6857999a75194edb95d7d8cc7eb842c9",
       "version_major": 2,
       "version_minor": 0
      },
      "text/plain": [
       "Canvas(toolbar=Toolbar(toolitems=[('Home', 'Reset original view', 'home', 'home'), ('Back', 'Back to previous …"
      ]
     },
     "metadata": {},
     "output_type": "display_data"
    },
    {
     "ename": "IndexError",
     "evalue": "index 20 is out of bounds for axis 0 with size 15",
     "output_type": "error",
     "traceback": [
      "\u001b[0;31m---------------------------------------------------------------------------\u001b[0m",
      "\u001b[0;31mIndexError\u001b[0m                                Traceback (most recent call last)",
      "\u001b[0;32m<ipython-input-19-db219fbe801f>\u001b[0m in \u001b[0;36m<module>\u001b[0;34m\u001b[0m\n\u001b[1;32m      3\u001b[0m \u001b[0;32mfor\u001b[0m \u001b[0mi\u001b[0m \u001b[0;32min\u001b[0m \u001b[0mnp\u001b[0m\u001b[0;34m.\u001b[0m\u001b[0marange\u001b[0m\u001b[0;34m(\u001b[0m\u001b[0;36m10\u001b[0m\u001b[0;34m,\u001b[0m \u001b[0;36m150\u001b[0m\u001b[0;34m,\u001b[0m \u001b[0;36m10\u001b[0m\u001b[0;34m)\u001b[0m\u001b[0;34m:\u001b[0m\u001b[0;34m\u001b[0m\u001b[0;34m\u001b[0m\u001b[0m\n\u001b[1;32m      4\u001b[0m     \u001b[0mplt\u001b[0m\u001b[0;34m.\u001b[0m\u001b[0mfigure\u001b[0m\u001b[0;34m(\u001b[0m\u001b[0;34m)\u001b[0m\u001b[0;34m\u001b[0m\u001b[0;34m\u001b[0m\u001b[0m\n\u001b[0;32m----> 5\u001b[0;31m     \u001b[0mpgh\u001b[0m\u001b[0;34m.\u001b[0m\u001b[0mplot_hist\u001b[0m\u001b[0;34m(\u001b[0m\u001b[0msixty_lin12_subs\u001b[0m\u001b[0;34m[\u001b[0m\u001b[0mi\u001b[0m\u001b[0;34m]\u001b[0m\u001b[0;34m,\u001b[0m \u001b[0msixty_bins\u001b[0m\u001b[0;34m,\u001b[0m \u001b[0mlabel\u001b[0m\u001b[0;34m=\u001b[0m\u001b[0;34m'linear 12'\u001b[0m\u001b[0;34m)\u001b[0m\u001b[0;34m\u001b[0m\u001b[0;34m\u001b[0m\u001b[0m\n\u001b[0m\u001b[1;32m      6\u001b[0m     \u001b[0mpgh\u001b[0m\u001b[0;34m.\u001b[0m\u001b[0mplot_hist\u001b[0m\u001b[0;34m(\u001b[0m\u001b[0msixty_angled_subs\u001b[0m\u001b[0;34m[\u001b[0m\u001b[0mi\u001b[0m\u001b[0;34m]\u001b[0m\u001b[0;34m,\u001b[0m \u001b[0msixty_bins\u001b[0m\u001b[0;34m,\u001b[0m \u001b[0mlabel\u001b[0m\u001b[0;34m=\u001b[0m\u001b[0;34m'angled'\u001b[0m\u001b[0;34m)\u001b[0m\u001b[0;34m\u001b[0m\u001b[0;34m\u001b[0m\u001b[0m\n\u001b[1;32m      7\u001b[0m     \u001b[0mplt\u001b[0m\u001b[0;34m.\u001b[0m\u001b[0maxvspan\u001b[0m\u001b[0;34m(\u001b[0m\u001b[0msixty_bins\u001b[0m\u001b[0;34m[\u001b[0m\u001b[0milo\u001b[0m\u001b[0;34m]\u001b[0m\u001b[0;34m,\u001b[0m \u001b[0msixty_bins\u001b[0m\u001b[0;34m[\u001b[0m\u001b[0mihi\u001b[0m\u001b[0;34m]\u001b[0m\u001b[0;34m,\u001b[0m \u001b[0malpha\u001b[0m\u001b[0;34m=\u001b[0m\u001b[0;36m0.4\u001b[0m\u001b[0;34m,\u001b[0m \u001b[0mcolor\u001b[0m\u001b[0;34m=\u001b[0m\u001b[0;34m'green'\u001b[0m\u001b[0;34m,\u001b[0m \u001b[0mlabel\u001b[0m\u001b[0;34m=\u001b[0m\u001b[0;34m'alpha region'\u001b[0m\u001b[0;34m)\u001b[0m\u001b[0;34m\u001b[0m\u001b[0;34m\u001b[0m\u001b[0m\n",
      "\u001b[0;31mIndexError\u001b[0m: index 20 is out of bounds for axis 0 with size 15"
     ]
    }
   ],
   "source": [
    "rot = [10, 15, 20, 30, 40, 50, 60, 70, 80, 90, 100, 110, 120, 130, 140]\n",
    "\n",
    "for i in np.arange(len(rot)):\n",
    "    plt.figure()\n",
    "    pgh.plot_hist(sixty_lin12_subs[i], sixty_bins, label='linear 12')\n",
    "    pgh.plot_hist(sixty_angled_subs[i], sixty_bins, label='angled')\n",
    "    plt.axvspan(sixty_bins[ilo], sixty_bins[ihi], alpha=0.4, color='green', label='alpha region')\n",
    "    plt.xlabel('energy (keV)')\n",
    "    plt.ylabel('60 keV rate')\n",
    "    plt.title(f'rotary {rot[i]}')\n",
    "    plt.legend()\n",
    "    plt.savefig(f'plots/centering_scans/rotary{rot[i]}_60kev.png')"
   ]
  },
  {
   "cell_type": "code",
   "execution_count": null,
   "id": "b588184c-0f3e-40b1-98e7-718d629c0a51",
   "metadata": {},
   "outputs": [],
   "source": []
  }
 ],
 "metadata": {
  "kernelspec": {
   "display_name": "legend-base",
   "language": "python",
   "name": "legend-base"
  },
  "language_info": {
   "codemirror_mode": {
    "name": "ipython",
    "version": 3
   },
   "file_extension": ".py",
   "mimetype": "text/x-python",
   "name": "python",
   "nbconvert_exporter": "python",
   "pygments_lexer": "ipython3",
   "version": "3.8.5"
  }
 },
 "nbformat": 4,
 "nbformat_minor": 5
}
