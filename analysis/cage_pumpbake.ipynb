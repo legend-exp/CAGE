{
 "cells": [
  {
   "cell_type": "code",
   "execution_count": null,
   "id": "ded87be2-c810-4dd4-8051-66506dd6ef8b",
   "metadata": {},
   "outputs": [],
   "source": [
    "import json\n",
    "import psycopg2\n",
    "import numpy as np\n",
    "import pandas as pd\n",
    "from datetime import datetime\n",
    "\n",
    "import matplotlib.pyplot as plt\n",
    "# plt.style.use(\"clint.mpl\")\n",
    "import matplotlib.dates as md\n",
    "\n",
    "# silence annoying warning about plotting pd.datetime objects with mpl\n",
    "# from pandas.plotting import register_matplotlib_converters\n",
    "# register_matplotlib_converters()"
   ]
  },
  {
   "cell_type": "code",
   "execution_count": null,
   "id": "6b281d15-70ff-4326-b8e4-c9182f8d371f",
   "metadata": {},
   "outputs": [],
   "source": [
    "with open(\"config.json\") as f:\n",
    "    config = json.load(f)\n",
    "\n",
    "db_conn = psycopg2.connect(dbname=config[\"db_name\"], \n",
    "                           user=config[\"db_user\"], \n",
    "                           password=config[\"password\"], \n",
    "                           host=config[\"cage_daq\"])\n",
    "db_cursor = db_conn.cursor()"
   ]
  },
  {
   "cell_type": "code",
   "execution_count": null,
   "id": "7f60388d-3421-4890-9bd3-ad4badb12bd3",
   "metadata": {},
   "outputs": [],
   "source": [
    "cmd = \"SELECT * FROM endpoint_id_map;\"\n",
    "db_cursor.execute(cmd)\n",
    "record = db_cursor.fetchall()\n",
    "df_end = pd.DataFrame(record, columns=[\"row\", \"endpoint_name\", \"data_type\"])\n",
    "# df_end"
   ]
  },
  {
   "cell_type": "code",
   "execution_count": null,
   "id": "ae010668-20ef-42bf-ab20-23a1ca2352e9",
   "metadata": {},
   "outputs": [],
   "source": [
    "endpoints = ['cage_pressure', 'cage_coldPlate_temp', 'cage_heater_temp', 'cage_topHat_temp', 'cage_motor_temp']\n",
    "\n",
    "# t_earlier = '2021-09-03T012:00'\n",
    "# t_later = '2021-09-08T00:00'\n",
    "\n",
    "t_earlier = '2021-11-20T012:00'\n",
    "t_later = '2021-11-23T00:00'\n",
    "\n",
    "dfs = {}\n",
    "\n",
    "for pt in endpoints:\n",
    "    query = f\"SELECT value_cal, timestamp FROM numeric_data \"\n",
    "    query += f\"WHERE endpoint_name='{pt}'\"\n",
    "    query += f\"AND timestamp>='{t_earlier}' and timestamp<='{t_later}';\"\n",
    "\n",
    "    db_cursor.execute(query)\n",
    "    record = db_cursor.fetchall()\n",
    "    df = pd.DataFrame(record, columns=[pt, 'timestamp']) \n",
    "    dfs[pt] = df\n",
    "    \n",
    "print(f'Found {len(dfs[endpoints[0]])} entries.')"
   ]
  },
  {
   "cell_type": "code",
   "execution_count": null,
   "id": "9405bc29-991d-4daf-a889-36ceac417dd0",
   "metadata": {},
   "outputs": [],
   "source": [
    "%matplotlib widget\n",
    "from matplotlib.dates import DateFormatter\n",
    "from matplotlib.ticker import FuncFormatter\n",
    "\n",
    "# ts = dfs['cage_pressure']['timestamp'].dt.tz_localize('US/Pacific')\n",
    "\n",
    "f, p = plt.subplots(2, 1, figsize=(8,8), gridspec_kw={'height_ratios': [1, 1.5]}, tight_layout=True)\n",
    "\n",
    "# f.suptitle('CAGE Pump & Bake, Sep 3--6, 2021')\n",
    "f.suptitle('CAGE Pump & Bake, Nov 19--22, 2021')\n",
    "\n",
    "df = dfs['cage_pressure']\n",
    "p[0].plot(df.timestamp.dt.tz_localize('US/Pacific'), df.cage_pressure)\n",
    "p[0].grid()\n",
    "p[0].set_xlabel('Date (US/Pacific)', ha='right', x=1)\n",
    "p[0].set_ylabel('Pressure (mbar)')\n",
    "# p[0].Axes.ticklabel_format(axis='y', style='sci')\n",
    "p[0].ticklabel_format(style='sci', axis='y')\n",
    "\n",
    "# date_form = DateFormatter(\"%m-%d %H:%m\")\n",
    "# p[0].xaxis.set_major_formatter(date_form)\n",
    "\n",
    "def scientific(x, pos):\n",
    "    # x:  tick value - ie. what you currently see in yticks\n",
    "    # pos: a position - ie. the index of the tick (from 0 to 9 in this example)\n",
    "    return '%.1e' % x\n",
    "scientific_formatter = FuncFormatter(scientific)\n",
    "p[0].yaxis.set_major_formatter(scientific_formatter)\n",
    "\n",
    "for ept in endpoints[1:]:\n",
    "    df = dfs[ept]\n",
    "    p[1].plot(df.timestamp.dt.tz_localize('US/Pacific'), df[ept], label=ept)\n",
    "    \n",
    "p[1].legend()\n",
    "p[1].grid()\n",
    "p[1].set_ylabel('Temp (C)')\n",
    "p[1].set_xlabel('Date (US/Pacific)', ha='right', x=1)"
   ]
  },
  {
   "cell_type": "code",
   "execution_count": null,
   "id": "dcc77c3e-dff1-4022-a66e-e5e8c7953a38",
   "metadata": {},
   "outputs": [],
   "source": []
  }
 ],
 "metadata": {
  "kernelspec": {
   "display_name": "Python 3 (ipykernel)",
   "language": "python",
   "name": "python3"
  },
  "language_info": {
   "codemirror_mode": {
    "name": "ipython",
    "version": 3
   },
   "file_extension": ".py",
   "mimetype": "text/x-python",
   "name": "python",
   "nbconvert_exporter": "python",
   "pygments_lexer": "ipython3",
   "version": "3.9.6"
  }
 },
 "nbformat": 4,
 "nbformat_minor": 5
}
