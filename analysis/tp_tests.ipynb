{
 "cells": [
  {
   "cell_type": "markdown",
   "metadata": {},
   "source": [
    "Quick analysis"
   ]
  },
  {
   "cell_type": "code",
   "execution_count": 1,
   "metadata": {},
   "outputs": [],
   "source": [
    "#!/usr/bin/env python3\n",
    "import os\n",
    "import json\n",
    "import h5py\n",
    "import argparse\n",
    "import pandas as pd\n",
    "import numpy as np\n",
    "import tinydb as db\n",
    "from tinydb.storages import MemoryStorage\n",
    "import matplotlib.pyplot as plt\n",
    "# plt.style.use('../clint.mpl')\n",
    "import matplotlib as mpl\n",
    "from matplotlib.colors import LogNorm\n",
    "\n",
    "import boost_histogram as bh\n",
    "import pickle as pl\n",
    "\n",
    "from pygama import DataGroup\n",
    "import pygama.lh5 as lh5\n",
    "import pygama.analysis.histograms as pgh\n",
    "import pygama.analysis.peak_fitting as pgf\n",
    "import cage_utils\n",
    "plt.rcParams['figure.figsize'] = [14, 10]"
   ]
  },
  {
   "cell_type": "code",
   "execution_count": 2,
   "metadata": {},
   "outputs": [
    {
     "name": "stdout",
     "output_type": "stream",
     "text": [
      "Radius: 7.5; Angle: 90; Rotary: 0.0\n",
      "user: True; cal: True; hit: True\n",
      "Using hit files\n",
      "loading data for /global/project/projectdirs/legend/users/gothman/CAGE//hit/cage_run64_cyc869_hit.lh5 /global/project/projectdirs/legend/users/gothman/CAGE//hit/cage_run64_cyc870_hit.lh5 /global/project/projectdirs/legend/users/gothman/CAGE//hit/cage_run64_cyc871_hit.lh5 /global/project/projectdirs/legend/users/gothman/CAGE//hit/cage_run64_cyc872_hit.lh5 /global/project/projectdirs/legend/users/gothman/CAGE//hit/cage_run64_cyc873_hit.lh5 /global/project/projectdirs/legend/users/gothman/CAGE//hit/cage_run64_cyc874_hit.lh5 /global/project/projectdirs/legend/users/gothman/CAGE//hit/cage_run64_cyc875_hit.lh5 /global/project/projectdirs/legend/users/gothman/CAGE//hit/cage_run64_cyc876_hit.lh5 /global/project/projectdirs/legend/users/gothman/CAGE//hit/cage_run64_cyc877_hit.lh5 /global/project/projectdirs/legend/users/gothman/CAGE//hit/cage_run64_cyc878_hit.lh5\n",
      "No options specified for cut selection! Using default: {'bl_slope_cut_raw', 'ftp_max_cut_raw', 'bl_sig_cut_raw', 'wf_max_cut', 'bl_mean_cut_raw'}\n",
      "total counts before cuts: 1123599\n",
      "applying cut: bl_slope_cut_raw\n",
      "Percentage surviving bl_slope_cut_raw cut: 95.00\n",
      "applying cut: ftp_max_cut_raw\n",
      "Percentage surviving ftp_max_cut_raw cut: 95.00\n",
      "applying cut: bl_sig_cut_raw\n",
      "Percentage surviving bl_sig_cut_raw cut: 95.00\n",
      "applying cut: wf_max_cut\n",
      "Percentage surviving wf_max_cut cut: 98.21\n",
      "applying cut: bl_mean_cut_raw\n",
      "Percentage surviving bl_mean_cut_raw cut: 95.00\n",
      "Percentage surviving cuts: 85.40\n",
      "Fit results\n",
      " slope: 0.004546599183306416\n",
      " offset: 0.7547271689784235\n"
     ]
    }
   ],
   "source": [
    "run = 64 #44 #70 #64\n",
    "dsp_id = '02'\n",
    "user = True\n",
    "hit =True\n",
    "cal = True\n",
    "lowE=False\n",
    "etype = 'trapEftp_cal'\n",
    "\n",
    "corr_DCR=True\n",
    "corr_AoE=True\n",
    "corr_ToE=True\n",
    "\n",
    "norm = True\n",
    "cut = True\n",
    "\n",
    "\n",
    "dsp_list = ['energy', 'trapEftp', 'trapEmax', 'trapEftp_cal', 'bl','bl_sig', 'bl_slope', 'AoE', 'dcr', \"tp_0\", \"tp_02\", \"tp_05\", \"tp_10\", \"tp_20\", \"tp_30\", \"tp_40\", \"tp_50\", \"tp_60\", \"tp_70\", \"tp_80\", \"tp_90\", \"tp_96\", 'tp_max', 'ToE', 'log_tail_fit_slope', 'wf_max', 'wf_argmax', 'trapE_argmax', 'lf_max']\n",
    "\n",
    "df_raw, dg, runtype, rt_min, radius, angle_det, rotary = cage_utils.getDataFrame(run, user=user, hit=hit, cal=cal, dsp_list=dsp_list, lowE=lowE)\n",
    "\n",
    "df = cage_utils.apply_DC_Cuts(run, df_raw)\n",
    "\n",
    "if 'dcr' in dsp_list and corr_DCR==True:\n",
    "    if run>57:\n",
    "        const, offset, err = cage_utils.corrDCR(df, etype, e_bins=300, elo=0, ehi=6000, dcr_fit_lo=-30, dcr_fit_hi=40)\n",
    "        df['dcr_plot'] = df['dcr']-offset + ((-1*const))*df[etype]\n",
    "    elif corr_DCR==True and run<57:\n",
    "        const = const = 0.0011\n",
    "        df['dcr_plot'] = df['dcr'] - const*df['trapEftp']\n",
    "else:\n",
    "    df['dcr_plot'] = df['dcr']\n",
    "    \n",
    "if 'AoE' in dsp_list and corr_AoE==True:\n",
    "    AoE_mode = cage_utils.mode_hist(df, param='AoE', a_bins=1000, alo=0.005, ahi=0.075, cut=False, cut_str='')\n",
    "    df['AoE_plot'] = df['AoE'] - AoE_mode\n",
    "else:\n",
    "    df['AoE_plot'] = df['AoE']\n",
    "\n",
    "if 'ToE' in dsp_list and corr_ToE==True:\n",
    "    ToE_mode = cage_utils.mode_hist(df, param='ToE', a_bins=1000, alo=0.30, ahi=0.45, cut=False, cut_str='')\n",
    "    df['ToE_plot'] = df['ToE'] - ToE_mode\n",
    "else:\n",
    "    df['ToE_plot'] = df['ToE']"
   ]
  },
  {
   "cell_type": "code",
   "execution_count": 3,
   "metadata": {},
   "outputs": [],
   "source": [
    "with open('./analysis_60keV.json') as f:\n",
    "        params = json.load(f)"
   ]
  },
  {
   "cell_type": "code",
   "execution_count": 4,
   "metadata": {},
   "outputs": [],
   "source": [
    "mean_60 = params[str(run)]['mean_60']\n",
    "sig_60 = params[str(run)]['sig_60']\n",
    "chiSquare_fit_60 = params[str(run)]['chiSquare_fit_60']\n",
    "cut_60_3sig = params[str(run)]['cut_60_3sig']\n",
    "bkg_60_left = params[str(run)]['bkg_60_left']\n",
    "bkg_60_right = params[str(run)]['bkg_60_right']\n",
    "bkg_60 = params[str(run)]['bkg_60']"
   ]
  },
  {
   "cell_type": "code",
   "execution_count": 5,
   "metadata": {},
   "outputs": [
    {
     "name": "stdout",
     "output_type": "stream",
     "text": [
      "bkg_subtracted counts: 4234\n",
      "error: 136.10290224679267\n",
      "3.215%\n"
     ]
    }
   ],
   "source": [
    "\n",
    "cut_60_3sig = f'({mean_60-3*sig_60} <= trapEftp_cal <= {mean_60+3*sig_60})'\n",
    "cut_60_left = f'({mean_60-3*sig_60} <= trapEftp_cal < {mean_60})'\n",
    "cut_60_right = f'({mean_60} <= trapEftp_cal < {mean_60+3*sig_60})'\n",
    "\n",
    "\n",
    "bkg_60_left_min = mean_60-7.*sig_60\n",
    "bkg_60_left_max = mean_60-4*sig_60\n",
    "\n",
    "bkg_60_right_min = mean_60+4*sig_60\n",
    "bkg_60_right_max = mean_60+7.*sig_60\n",
    "\n",
    "bkg_60_left = f'({mean_60-7.*sig_60} <= trapEftp_cal < {mean_60-4*sig_60})'\n",
    "bkg_60_right = f'({mean_60+4*sig_60} < trapEftp_cal <= {mean_60+7.*sig_60})'\n",
    "\n",
    "\n",
    "counts_peak = len(df.query(cut_60_3sig).copy())\n",
    "err_peak = np.sqrt(counts_peak)\n",
    "\n",
    "left_counts = len(df.query(bkg_60_left))\n",
    "right_counts = len(df.query(bkg_60_right))\n",
    "\n",
    "total_bkg = len(df.query(bkg_60).copy())\n",
    "err_bkg = np.sqrt(total_bkg)\n",
    "\n",
    "\n",
    "counts = counts_peak - total_bkg\n",
    "err = np.sqrt(counts_peak + total_bkg)\n",
    "print(f'bkg_subtracted counts: {counts}')\n",
    "print(f'error: {err}')\n",
    "print(f'{(err/counts)*100:.3f}%')\n"
   ]
  },
  {
   "cell_type": "code",
   "execution_count": 6,
   "metadata": {},
   "outputs": [],
   "source": [
    "df_60 = df.query(cut_60_3sig).copy()\n",
    "df_bkg = df.query(bkg_60).copy()"
   ]
  },
  {
   "cell_type": "code",
   "execution_count": 7,
   "metadata": {},
   "outputs": [],
   "source": [
    "# Create all the timepoint parameters!\n",
    "\n",
    "df['tp0010'] = df['tp_10'] - df['tp_0']\n",
    "df['tp0020'] = df['tp_20'] - df['tp_0']\n",
    "df['tp0030'] = df['tp_30'] - df['tp_0']\n",
    "df['tp0040'] = df['tp_40'] - df['tp_0']\n",
    "df['tp0050'] = df['tp_50'] - df['tp_0']\n",
    "df['tp0060'] = df['tp_60'] - df['tp_0']\n",
    "df['tp0070'] = df['tp_70'] - df['tp_0']\n",
    "df['tp0080'] = df['tp_80'] - df['tp_0']\n",
    "df['tp0090'] = df['tp_90'] - df['tp_0']\n",
    "df['tp0096'] = df['tp_96'] - df['tp_0']\n",
    "\n",
    "df['tp0205'] = df['tp_05'] - df['tp_02']\n",
    "df['tp0210'] = df['tp_10'] - df['tp_02']\n",
    "df['tp0220'] = df['tp_20'] - df['tp_02']\n",
    "df['tp0250'] = df['tp_50'] - df['tp_02']\n",
    "\n",
    "\n",
    "df['tp0510'] = df['tp_10'] - df['tp_05']\n",
    "df['tp0520'] = df['tp_20'] - df['tp_05']\n",
    "df['tp0550'] = df['tp_50'] - df['tp_05']\n",
    "\n",
    "df['tp1020'] = df['tp_20'] - df['tp_10']\n",
    "df['tp1030'] = df['tp_30'] - df['tp_10']\n",
    "df['tp1040'] = df['tp_40'] - df['tp_10']\n",
    "df['tp1050'] = df['tp_50'] - df['tp_10']\n",
    "df['tp1060'] = df['tp_60'] - df['tp_10']\n",
    "df['tp1070'] = df['tp_70'] - df['tp_10']\n",
    "df['tp1080'] = df['tp_80'] - df['tp_10']\n",
    "df['tp1090'] = df['tp_90'] - df['tp_10']\n",
    "df['tp1096'] = df['tp_96'] - df['tp_10']\n",
    "\n",
    "df['tp2030'] = df['tp_30'] - df['tp_20']\n",
    "df['tp2040'] = df['tp_40'] - df['tp_20']\n",
    "df['tp2050'] = df['tp_50'] - df['tp_20']\n",
    "df['tp2060'] = df['tp_60'] - df['tp_20']\n",
    "df['tp2070'] = df['tp_70'] - df['tp_20']\n",
    "df['tp2080'] = df['tp_80'] - df['tp_20']\n",
    "df['tp2090'] = df['tp_90'] - df['tp_20']\n",
    "df['tp2096'] = df['tp_96'] - df['tp_20']\n",
    "\n",
    "df['tp3040'] = df['tp_40'] - df['tp_30']\n",
    "df['tp3050'] = df['tp_50'] - df['tp_30']\n",
    "df['tp3060'] = df['tp_60'] - df['tp_30']\n",
    "df['tp3070'] = df['tp_70'] - df['tp_30']\n",
    "df['tp3080'] = df['tp_80'] - df['tp_30']\n",
    "df['tp3090'] = df['tp_90'] - df['tp_30']\n",
    "df['tp3096'] = df['tp_96'] - df['tp_30']\n",
    "\n",
    "df['tp4050'] = df['tp_50'] - df['tp_40']\n",
    "df['tp4060'] = df['tp_60'] - df['tp_40']\n",
    "df['tp4070'] = df['tp_70'] - df['tp_40']\n",
    "df['tp4080'] = df['tp_80'] - df['tp_40']\n",
    "df['tp4090'] = df['tp_90'] - df['tp_40']\n",
    "df['tp4096'] = df['tp_96'] - df['tp_40']\n",
    "\n",
    "df['tp4050'] = df['tp_50'] - df['tp_40']\n",
    "df['tp4060'] = df['tp_60'] - df['tp_40']\n",
    "df['tp4070'] = df['tp_70'] - df['tp_40']\n",
    "df['tp4080'] = df['tp_80'] - df['tp_40']\n",
    "df['tp4090'] = df['tp_90'] - df['tp_40']\n",
    "df['tp4096'] = df['tp_96'] - df['tp_40']\n",
    "\n",
    "df['tp5060'] = df['tp_60'] - df['tp_50']\n",
    "df['tp5070'] = df['tp_70'] - df['tp_50']\n",
    "df['tp5080'] = df['tp_80'] - df['tp_50']\n",
    "df['tp5090'] = df['tp_90'] - df['tp_50']\n",
    "df['tp5096'] = df['tp_96'] - df['tp_50']\n",
    "\n",
    "df['tp6070'] = df['tp_70'] - df['tp_60']\n",
    "df['tp6080'] = df['tp_80'] - df['tp_60']\n",
    "df['tp6090'] = df['tp_90'] - df['tp_60']\n",
    "df['tp6096'] = df['tp_96'] - df['tp_60']\n",
    "\n",
    "df['tp7080'] = df['tp_80'] - df['tp_70']\n",
    "df['tp7090'] = df['tp_90'] - df['tp_70']\n",
    "df['tp7096'] = df['tp_96'] - df['tp_70']\n",
    "\n",
    "df['tp8090'] = df['tp_90'] - df['tp_80']\n",
    "df['tp8096'] = df['tp_96'] - df['tp_80']\n",
    "\n",
    "df['tp9096'] = df['tp_96'] - df['tp_90']"
   ]
  },
  {
   "cell_type": "code",
   "execution_count": 8,
   "metadata": {},
   "outputs": [],
   "source": [
    "df['tp0max'] = df['tp_max'] - df['tp_0']\n",
    "df['tp0max_E'] = df['tp0max']/df['trapEmax']\n",
    "df['tp0max_energy'] = df['tp0max']/(df['energy']-df['trapEftp'])\n",
    "df['tp0max_wf'] = df['tp0max']/df['wf_max']\n",
    "df['max_ftp'] = df['trapEmax']/df['trapEftp']"
   ]
  },
  {
   "cell_type": "code",
   "execution_count": 9,
   "metadata": {},
   "outputs": [
    {
     "data": {
      "image/png": "[encoded data removed]",
      "text/plain": [
       "<Figure size 1008x720 with 1 Axes>"
      ]
     },
     "metadata": {
      "needs_background": "light"
     },
     "output_type": "display_data"
    }
   ],
   "source": [
    "# Make energy spectrum\n",
    "elo, ehi, epb = 50, 80, 0.5\n",
    "# elo, ehi, epb = 0, 3000, 10\n",
    "# elo, ehi, epb = 0, 6000, 10\n",
    "        \n",
    "\n",
    "nbx = int((ehi-elo)/epb)\n",
    "\n",
    "energy_hist, bins = np.histogram(df['trapEftp_cal'], bins=nbx,\n",
    "                range=[elo, ehi])\n",
    "\n",
    "plt.semilogy(bins[1:], energy_hist, ds='steps', c='b', lw=1) #, label=f'{etype}'\n",
    "\n",
    "# plt.xlabel(etype, ha='right', x=1)\n",
    "# plt.ylabel('cts / sec', ha='right', y=1)\n",
    "# # plt.legend()\n",
    "# # plt.title(f'{etype}: {runtype} run {run} , {rt_min:.2f} mins')\n",
    "# plt.savefig(f'./plots/normScan/{runtype}_energy_run{run}.pdf', dpi=200)\n",
    "# plt.xlim(80000, 150000)\n",
    "plt.show()"
   ]
  },
  {
   "cell_type": "code",
   "execution_count": 10,
   "metadata": {},
   "outputs": [
    {
     "name": "stdout",
     "output_type": "stream",
     "text": [
      "Using cut: trapEftp_cal > 30 and trapEftp_cal < 5500\n"
     ]
    }
   ],
   "source": [
    "# Create a cut if appropriate\n",
    "eCut_lo, eCut_hi = 30, 5500\n",
    "dcr_lo, dcr_hi = 20, 125\n",
    "\n",
    "cut_str = f'trapEftp_cal > {eCut_lo} and trapEftp_cal < {eCut_hi}' # and dcr_plot > {dcr_lo} and dcr_plot <{dcr_hi}\n",
    "\n",
    "if cut == True:\n",
    "    print(f'Using cut: {cut_str}')\n",
    "    df_cut = df.query(cut_str).copy()\n",
    "else:\n",
    "    df_cut = df"
   ]
  },
  {
   "cell_type": "code",
   "execution_count": 11,
   "metadata": {},
   "outputs": [],
   "source": [
    "if norm==True:\n",
    "    rt = np.array([(1/rt_min)])\n",
    "    wts = np.repeat(rt, len(df_cut[etype]))\n",
    "else:\n",
    "    rt = np.array([(1/1.)])\n",
    "    wts = np.repeat(rt, len(df_cut[etype]))"
   ]
  },
  {
   "cell_type": "code",
   "execution_count": 12,
   "metadata": {},
   "outputs": [
    {
     "name": "stdout",
     "output_type": "stream",
     "text": [
      "[0.00333445 0.00333445 0.00333445 ... 0.00333445 0.00333445 0.00333445]\n"
     ]
    },
    {
     "name": "stderr",
     "output_type": "stream",
     "text": [
      "<ipython-input-12-da06adc9987b>:21: MatplotlibDeprecationWarning: shading='flat' when X and Y have the same dimensions as C is deprecated since 3.3.  Either specify the corners of the quadrilaterals with X and Y, or pass shading='auto', 'nearest' or 'gouraud', or set rcParams['pcolor.shading'].  This will become an error two minor releases later.\n",
      "  pcm1 = plt.pcolormesh(XX, YY, dcr_corr_vs_E_hist_norm, norm=LogNorm())\n"
     ]
    },
    {
     "data": {
      "image/png": "[encoded data removed]",
      "text/plain": [
       "<Figure size 1008x720 with 1 Axes>"
      ]
     },
     "metadata": {
      "needs_background": "light"
     },
     "output_type": "display_data"
    }
   ],
   "source": [
    "# %matplotlib widget\n",
    "\n",
    "\n",
    "nb_dcr_corr = 100 #500\n",
    "dlo_corr_norm, dhi_corr_norm = -20, 150\n",
    "nb_energy = 299 #599\n",
    "elo = 50\n",
    "ehi = 6000\n",
    "\n",
    "#normalize hist by runtime\n",
    "rt = np.array([(1/rt_min)])\n",
    "wts = np.repeat(rt, len(df_cut['trapEftp_cal']))\n",
    "print(wts)\n",
    "\n",
    "dcr_corr_vs_E_hist_norm, xedges, yedges = np.histogram2d(df_cut['trapEftp_cal'], df_cut['dcr_plot'], bins=[nb_energy, nb_dcr_corr], range=([elo, ehi], [dlo_corr_norm, dhi_corr_norm]), weights=wts)\n",
    "\n",
    "# dcr_corr_vs_E_hist_norm = np.divide(dcr_corr_vs_E_hist, rt_min)\n",
    "\n",
    "XX, YY = np.mgrid[elo:ehi:nb_energy*1j, dlo_corr_norm:dhi_corr_norm:nb_dcr_corr*1j]\n",
    "\n",
    "pcm1 = plt.pcolormesh(XX, YY, dcr_corr_vs_E_hist_norm, norm=LogNorm())\n",
    "# plt.ylim(-20,20)\n",
    "plt.show()"
   ]
  },
  {
   "cell_type": "code",
   "execution_count": null,
   "metadata": {},
   "outputs": [],
   "source": []
  },
  {
   "cell_type": "code",
   "execution_count": 13,
   "metadata": {},
   "outputs": [
    {
     "name": "stderr",
     "output_type": "stream",
     "text": [
      "<ipython-input-13-bb52e6ae84a2>:26: MatplotlibDeprecationWarning: shading='flat' when X and Y have the same dimensions as C is deprecated since 3.3.  Either specify the corners of the quadrilaterals with X and Y, or pass shading='auto', 'nearest' or 'gouraud', or set rcParams['pcolor.shading'].  This will become an error two minor releases later.\n",
      "  pcm = plt.pcolormesh(X, Y, aoe_hist_norm, norm=LogNorm(0.001, 0.1)) #0.002, 0.2\n"
     ]
    },
    {
     "data": {
      "image/png": "[encoded data removed]",
      "text/plain": [
       "<Figure size 1008x720 with 2 Axes>"
      ]
     },
     "metadata": {
      "needs_background": "light"
     },
     "output_type": "display_data"
    }
   ],
   "source": [
    "# normalized by runtime\n",
    "fig, ax = plt.subplots()\n",
    "alo, ahi, apb = 0.0, 0.09, 0.0001\n",
    "if run>=36:\n",
    "    alo, ahi, apb = 0.005, 0.075, 0.0001\n",
    "if run>=117:\n",
    "    alo, ahi, apb = 0.0, 0.15, 0.00015\n",
    "\n",
    "if corr_AoE==True:\n",
    "    alo, ahi, apb= -0.03, 0.03, 0.0005\n",
    "    \n",
    "elo, ehi, epb = 500, 6000, 1\n",
    "\n",
    "wts = np.repeat(rt, len(df_cut[etype]))\n",
    "\n",
    "nbx = int((ehi-elo)/epb)\n",
    "nby = int((ahi-alo)/apb)\n",
    "\n",
    "fig.suptitle(f'A/E vs Energy', horizontalalignment='center', fontsize=16)\n",
    "\n",
    "aoe_hist_norm, xedges, yedges = np.histogram2d(df_cut[etype], df_cut['AoE_plot'], bins=[nbx, nby], range=([elo, ehi], [alo, ahi]), weights=wts)\n",
    "X, Y = np.mgrid[elo:ehi:nbx*1j, alo:ahi:nby*1j]\n",
    "\n",
    "#             aoe_hist_norm = np.divide(aoe_hist, (rt_min))\n",
    "\n",
    "pcm = plt.pcolormesh(X, Y, aoe_hist_norm, norm=LogNorm(0.001, 0.1)) #0.002, 0.2\n",
    "\n",
    "cb = plt.colorbar()\n",
    "cb.set_label(\"counts/min\", ha = 'right', va='center', rotation=270, fontsize=14)\n",
    "cb.ax.tick_params(labelsize=12)\n",
    "ax.set_xlabel(f'Energy (kev)', fontsize=16)\n",
    "ax.set_ylabel('A/E (arb)', fontsize=16)\n",
    "plt.setp(ax.get_xticklabels(), fontsize=14)\n",
    "plt.setp(ax.get_yticklabels(), fontsize=14)\n",
    "\n",
    "\n",
    "ax.text(0.95, 0.83, f'r = {radius} mm \\ntheta = {angle_det} deg', verticalalignment='bottom',\n",
    "            horizontalalignment='right', transform=ax.transAxes, color='green', fontsize=14, bbox={'facecolor': 'white', 'alpha': 0.5, 'pad': 10})\n",
    "\n",
    "# plt.legend()\n",
    "plt.title(f'\\n{runtype} run {run}, {rt_min:.2f} mins', fontsize=12)\n",
    "plt.tight_layout()"
   ]
  },
  {
   "cell_type": "code",
   "execution_count": 14,
   "metadata": {},
   "outputs": [
    {
     "name": "stdout",
     "output_type": "stream",
     "text": [
      "[0.00333445 0.00333445 0.00333445 ... 0.00333445 0.00333445 0.00333445]\n"
     ]
    },
    {
     "name": "stderr",
     "output_type": "stream",
     "text": [
      "<ipython-input-14-d42cfbdc7b02>:29: MatplotlibDeprecationWarning: shading='flat' when X and Y have the same dimensions as C is deprecated since 3.3.  Either specify the corners of the quadrilaterals with X and Y, or pass shading='auto', 'nearest' or 'gouraud', or set rcParams['pcolor.shading'].  This will become an error two minor releases later.\n",
      "  pcm1 = plt.pcolormesh(XX, YY, dcr_corr_vs_AoE_hist_norm, norm=LogNorm())\n"
     ]
    },
    {
     "data": {
      "image/png": "[encoded data removed]",
      "text/plain": [
       "<Figure size 1008x720 with 1 Axes>"
      ]
     },
     "metadata": {
      "needs_background": "light"
     },
     "output_type": "display_data"
    }
   ],
   "source": [
    "# %matplotlib widget\n",
    "\n",
    "\n",
    "nb_dcr_corr = 100 #500\n",
    "dlo_corr_norm, dhi_corr_norm = -20, 150\n",
    "\n",
    "alo, ahi, apb = 0.0, 0.09, 0.0001\n",
    "if run>=36:\n",
    "    alo, ahi, apb = 0.005, 0.075, 0.0001\n",
    "if run>=117:\n",
    "    alo, ahi, apb = 0.0, 0.15, 0.00015\n",
    "\n",
    "if corr_AoE==True:\n",
    "    alo, ahi, apb= -0.03, 0.03, 0.0005\n",
    "    \n",
    "nbx = int((ahi-alo)/apb)\n",
    "\n",
    "#normalize hist by runtime\n",
    "rt = np.array([(1/rt_min)])\n",
    "wts = np.repeat(rt, len(df_cut['trapEftp_cal']))\n",
    "print(wts)\n",
    "\n",
    "dcr_corr_vs_AoE_hist_norm, xedges, yedges = np.histogram2d(df_cut['AoE_plot'], df_cut['dcr_plot'], bins=[nbx, nb_dcr_corr], range=([alo, ahi], [dlo_corr_norm, dhi_corr_norm]), weights=wts)\n",
    "\n",
    "# dcr_corr_vs_E_hist_norm = np.divide(dcr_corr_vs_E_hist, rt_min)\n",
    "\n",
    "XX, YY = np.mgrid[alo:ahi:nbx*1j, dlo_corr_norm:dhi_corr_norm:nb_dcr_corr*1j]\n",
    "\n",
    "pcm1 = plt.pcolormesh(XX, YY, dcr_corr_vs_AoE_hist_norm, norm=LogNorm())\n",
    "# plt.ylim(-20,20)\n",
    "plt.title('A/E Vs DCR')\n",
    "plt.xlabel('A/E (corrected)')\n",
    "plt.ylabel('DCR (corrected)')\n",
    "plt.show()"
   ]
  },
  {
   "cell_type": "code",
   "execution_count": 21,
   "metadata": {},
   "outputs": [],
   "source": [
    "\n",
    "df_60['tp0020'] = df_60['tp_20'] - df_60['tp_0']\n",
    "df_60['tp0030'] = df_60['tp_30'] - df_60['tp_0']\n",
    "df_60['tp0050'] = df_60['tp_50'] - df_60['tp_0']\n",
    "df_60['tp0205'] = df_60['tp_05'] - df_60['tp_02']\n",
    "df_60['tp0210'] = df_60['tp_10'] - df_60['tp_02']\n",
    "df_60['tp0220'] = df_60['tp_20'] - df_60['tp_02']\n",
    "df_60['tp0250'] = df_60['tp_50'] - df_60['tp_02']\n",
    "df_60['tp0510'] = df_60['tp_10'] - df_60['tp_05']\n",
    "df_60['tp0520'] = df_60['tp_20'] - df_60['tp_05']\n",
    "df_60['tp0550'] = df_60['tp_50'] - df_60['tp_05']\n",
    "\n",
    "df_60['tp1090'] = df_60['tp_90'] - df_60['tp_10']\n",
    "df_60['tp1096'] = df_60['tp_96'] - df_60['tp_10']\n",
    "\n",
    "df_bkg['tp0020'] = df_bkg['tp_20'] - df_bkg['tp_0']\n",
    "df_bkg['tp0030'] = df_bkg['tp_30'] - df_bkg['tp_0']\n",
    "df_bkg['tp0050'] = df_bkg['tp_50'] - df_bkg['tp_0']\n",
    "df_bkg['tp0205'] = df_bkg['tp_05'] - df_bkg['tp_02']\n",
    "df_bkg['tp0210'] = df_bkg['tp_10'] - df_bkg['tp_02']\n",
    "df_bkg['tp0220'] = df_bkg['tp_20'] - df_bkg['tp_02']\n",
    "df_bkg['tp0250'] = df_bkg['tp_50'] - df_bkg['tp_02']\n",
    "df_bkg['tp0510'] = df_bkg['tp_10'] - df_bkg['tp_05']\n",
    "df_bkg['tp0520'] = df_bkg['tp_20'] - df_bkg['tp_05']\n",
    "df_bkg['tp0550'] = df_bkg['tp_50'] - df_bkg['tp_05']\n",
    "\n",
    "df_bkg['tp1090'] = df_bkg['tp_90'] - df_bkg['tp_10']\n",
    "df_bkg['tp1096'] = df_bkg['tp_96'] - df_bkg['tp_10']\n",
    "\n",
    "df_60['tp0230'] = df_60['tp_30'] - df_60['tp_02']\n",
    "df_60['tp0530'] = df_60['tp_30'] - df_60['tp_05']\n",
    "df_bkg['tp0230'] = df_bkg['tp_30'] - df_bkg['tp_02']\n",
    "df_bkg['tp0530'] = df_bkg['tp_30'] - df_bkg['tp_05']"
   ]
  },
  {
   "cell_type": "code",
   "execution_count": null,
   "metadata": {},
   "outputs": [],
   "source": [
    "tp_list = ['tp0205', 'tp0210', 'tp0220', 'tp0250', 'tp0510', 'tp0520', 'tp0550']\n",
    "\n",
    "for tp in tp_list:\n",
    "    print(tp)"
   ]
  },
  {
   "cell_type": "code",
   "execution_count": 53,
   "metadata": {},
   "outputs": [
    {
     "data": {
      "text/plain": [
       "Text(0.95, 0.83, 'r = 7.5 mm \\ntheta = 90 deg \\nruntime 299.90')"
      ]
     },
     "execution_count": 53,
     "metadata": {},
     "output_type": "execute_result"
    },
    {
     "data": {
      "image/png": "[encoded data removed]",
      "text/plain": [
       "<Figure size 1008x720 with 1 Axes>"
      ]
     },
     "metadata": {
      "needs_background": "light"
     },
     "output_type": "display_data"
    }
   ],
   "source": [
    "fig, ax = plt.subplots()\n",
    "tlo, thi, tpb = 0, 800, 10\n",
    "nbx = int((thi-tlo)/tpb)\n",
    "\n",
    "\n",
    "tp0550_hist, bins = np.histogram(df['tp0550'], bins=nbx,\n",
    "                range=[tlo, thi])\n",
    "\n",
    "plt.plot(bins[1:], tp0550_hist, ds='steps', c='b', lw=1)\n",
    "\n",
    "\n",
    "\n",
    "plt.xlabel('bl', fontsize=16)\n",
    "plt.ylabel('counts', fontsize=16)\n",
    "\n",
    "plt.title('Baseline Mean after wf_max cut\\nwith 95% cut lines', fontsize = 16)\n",
    "\n",
    "plt.setp(ax.get_xticklabels(), fontsize=14)\n",
    "plt.setp(ax.get_yticklabels(), fontsize=14)\n",
    "\n",
    "ax.text(0.95, 0.83, f'r = {radius} mm \\ntheta = {angle_det} deg \\nruntime {rt_min:.2f}', verticalalignment='bottom',\n",
    "            horizontalalignment='right', transform=ax.transAxes, color='black', fontsize=14, bbox={'facecolor': 'white', 'alpha': 0.5, 'pad': 10})\n",
    "\n",
    "# if saveFig:\n",
    "#     plt.savefig(f'./plots/{campaign}/run{run}_bl_mean.png', dpi=200)"
   ]
  },
  {
   "cell_type": "code",
   "execution_count": 60,
   "metadata": {},
   "outputs": [
    {
     "data": {
      "text/plain": [
       "Text(0.95, 0.83, 'r = 7.5 mm \\ntheta = 90 deg \\nruntime 299.90')"
      ]
     },
     "execution_count": 60,
     "metadata": {},
     "output_type": "execute_result"
    },
    {
     "data": {
      "image/png": "[encoded data removed]",
      "text/plain": [
       "<Figure size 1008x720 with 1 Axes>"
      ]
     },
     "metadata": {
      "needs_background": "light"
     },
     "output_type": "display_data"
    }
   ],
   "source": [
    "fig, ax = plt.subplots()\n",
    "tlo, thi, tpb = 0, 800, 10\n",
    "nbx = int((thi-tlo)/tpb)\n",
    "\n",
    "\n",
    "tp0550_hist_60, bins = np.histogram(df_60['tp0220'], bins=nbx,\n",
    "                range=[tlo, thi])\n",
    "\n",
    "plt.plot(bins[1:], tp0550_hist_60, ds='steps', c='b', lw=1)\n",
    "\n",
    "\n",
    "\n",
    "plt.xlabel('bl', fontsize=16)\n",
    "plt.ylabel('counts', fontsize=16)\n",
    "\n",
    "plt.title('Baseline Mean after wf_max cut\\nwith 95% cut lines', fontsize = 16)\n",
    "\n",
    "plt.setp(ax.get_xticklabels(), fontsize=14)\n",
    "plt.setp(ax.get_yticklabels(), fontsize=14)\n",
    "\n",
    "ax.text(0.95, 0.83, f'r = {radius} mm \\ntheta = {angle_det} deg \\nruntime {rt_min:.2f}', verticalalignment='bottom',\n",
    "            horizontalalignment='right', transform=ax.transAxes, color='black', fontsize=14, bbox={'facecolor': 'white', 'alpha': 0.5, 'pad': 10})\n",
    "\n",
    "# if saveFig:\n",
    "#     plt.savefig(f'./plots/{campaign}/run{run}_bl_mean.png', dpi=200)"
   ]
  },
  {
   "cell_type": "code",
   "execution_count": 61,
   "metadata": {},
   "outputs": [
    {
     "data": {
      "text/plain": [
       "Text(0.95, 0.83, 'r = 7.5 mm \\ntheta = 90 deg \\nruntime 299.90')"
      ]
     },
     "execution_count": 61,
     "metadata": {},
     "output_type": "execute_result"
    },
    {
     "data": {
      "image/png": "[encoded data removed]",
      "text/plain": [
       "<Figure size 1008x720 with 1 Axes>"
      ]
     },
     "metadata": {
      "needs_background": "light"
     },
     "output_type": "display_data"
    }
   ],
   "source": [
    "fig, ax = plt.subplots()\n",
    "tlo, thi, tpb = 0, 800, 10\n",
    "nbx = int((thi-tlo)/tpb)\n",
    "\n",
    "\n",
    "tp0550_hist_bkg, bins = np.histogram(df_bkg['tp0220'], bins=nbx,\n",
    "                range=[tlo, thi])\n",
    "\n",
    "plt.plot(bins[1:], tp0550_hist_bkg, ds='steps', c='b', lw=1)\n",
    "\n",
    "\n",
    "\n",
    "plt.xlabel('bl', fontsize=16)\n",
    "plt.ylabel('counts', fontsize=16)\n",
    "\n",
    "plt.title('Baseline Mean after wf_max cut\\nwith 95% cut lines', fontsize = 16)\n",
    "\n",
    "plt.setp(ax.get_xticklabels(), fontsize=14)\n",
    "plt.setp(ax.get_yticklabels(), fontsize=14)\n",
    "\n",
    "ax.text(0.95, 0.83, f'r = {radius} mm \\ntheta = {angle_det} deg \\nruntime {rt_min:.2f}', verticalalignment='bottom',\n",
    "            horizontalalignment='right', transform=ax.transAxes, color='black', fontsize=14, bbox={'facecolor': 'white', 'alpha': 0.5, 'pad': 10})\n",
    "\n",
    "# if saveFig:\n",
    "#     plt.savefig(f'./plots/{campaign}/run{run}_bl_mean.png', dpi=200)"
   ]
  },
  {
   "cell_type": "code",
   "execution_count": 62,
   "metadata": {},
   "outputs": [
    {
     "data": {
      "text/plain": [
       "[<matplotlib.lines.Line2D at 0x2aaaf37ffc70>]"
      ]
     },
     "execution_count": 62,
     "metadata": {},
     "output_type": "execute_result"
    },
    {
     "data": {
      "image/png": "[encoded data removed]",
      "text/plain": [
       "<Figure size 1008x720 with 1 Axes>"
      ]
     },
     "metadata": {
      "needs_background": "light"
     },
     "output_type": "display_data"
    }
   ],
   "source": [
    "tp0550_hist_bkg_sub = tp0550_hist_60 - tp0550_hist_bkg\n",
    "plt.plot(bins[1:], tp0550_hist_bkg_sub, ds='steps', c='b', lw=1)"
   ]
  },
  {
   "cell_type": "code",
   "execution_count": null,
   "metadata": {},
   "outputs": [],
   "source": [
    "print(len(bins))"
   ]
  },
  {
   "cell_type": "code",
   "execution_count": 63,
   "metadata": {},
   "outputs": [
    {
     "name": "stdout",
     "output_type": "stream",
     "text": [
      "79.60168160626408\n"
     ]
    }
   ],
   "source": [
    "pars, cov = pgf.gauss_mode_width_max(tp0550_hist_bkg_sub, bins, n_bins = 5)\n",
    "mode = pars[0]\n",
    "width = pars[1]\n",
    "amp = pars[2]\n",
    "print(mode)"
   ]
  },
  {
   "cell_type": "code",
   "execution_count": 64,
   "metadata": {},
   "outputs": [
    {
     "name": "stdout",
     "output_type": "stream",
     "text": [
      "[ 79.60168161  18.92208985 812.08541832   0.        ]\n"
     ]
    },
    {
     "name": "stderr",
     "output_type": "stream",
     "text": [
      "/global/cfs/cdirs/majorana/projecta/majorana/users/gothman/joule_pygama/pygama/analysis/peak_fitting.py:56: RuntimeWarning: invalid value encountered in sqrt\n",
      "  sigma = np.sqrt(var)[mask]\n",
      "/global/homes/g/gothman/.local/lib/python3.8/site-packages/scipy/optimize/minpack.py:828: OptimizeWarning: Covariance of the parameters could not be estimated\n",
      "  warnings.warn('Covariance of the parameters could not be estimated',\n"
     ]
    }
   ],
   "source": [
    "\n",
    "fit_pars, fit_cov = pgf.fit_hist(pgf.gauss_basic, tp0550_hist_bkg_sub, bins, guess = (mode, width, amp, 0))\n",
    "# fit_pars, fit_cov = pgf.fit_hist(cage_utils.gauss_fit_func, tp0550_hist_bkg_sub, bins, guess = (amp, mode, width, 0))\n",
    "print(fit_pars)"
   ]
  },
  {
   "cell_type": "code",
   "execution_count": 65,
   "metadata": {},
   "outputs": [
    {
     "data": {
      "text/plain": [
       "[<matplotlib.lines.Line2D at 0x2aaaf2f22880>]"
      ]
     },
     "execution_count": 65,
     "metadata": {},
     "output_type": "execute_result"
    },
    {
     "data": {
      "image/png": "[encoded data removed]",
      "text/plain": [
       "<Figure size 1008x720 with 1 Axes>"
      ]
     },
     "metadata": {
      "needs_background": "light"
     },
     "output_type": "display_data"
    }
   ],
   "source": [
    "plt.plot(bins[1:], pgf.gauss_basic(bins[1:], *fit_pars), c = 'r')\n",
    "# plt.plot(bins[1:], cage_utils.gauss_fit_func(bins[1:], *fit_pars), c = 'r')\n",
    "plt.plot(bins[1:], tp0550_hist_bkg_sub, ds='steps', c='b', lw=1)\n",
    "# plt.xlim(50, 150)"
   ]
  },
  {
   "cell_type": "code",
   "execution_count": null,
   "metadata": {},
   "outputs": [],
   "source": [
    "quant = np.quantile(tp0550_hist_bkg_sub, q = (0.5, .96))\n",
    "print(quant)"
   ]
  },
  {
   "cell_type": "code",
   "execution_count": null,
   "metadata": {},
   "outputs": [],
   "source": [
    "mean = fit_pars[0]\n",
    "sig = fit_pars[1]"
   ]
  },
  {
   "cell_type": "code",
   "execution_count": null,
   "metadata": {},
   "outputs": [],
   "source": [
    "def myround(x, base=5):\n",
    "    return base * round(x/base)"
   ]
  },
  {
   "cell_type": "code",
   "execution_count": null,
   "metadata": {},
   "outputs": [],
   "source": [
    "max_test = np.argmax(tp0550_hist_bkg_sub)\n",
    "test = np.digitize([mode], bins)\n",
    "max_ar = np.amax(tp0550_hist_bkg_sub)\n",
    "\n",
    "print(f'argmax: {max_test}')\n",
    "print(test)\n",
    "print(max_ar)\n",
    "print(max_test, test)\n",
    "print(tp0550_hist_bkg_sub[test[0]-1])"
   ]
  },
  {
   "cell_type": "code",
   "execution_count": null,
   "metadata": {},
   "outputs": [],
   "source": [
    "tp_hist_bkg_sub_clip = tp0550_hist_bkg_sub.clip(min=0.0)\n",
    "bin_centers = pgh.get_bin_centers(bins)\n",
    "\n",
    "print(bins)\n",
    "            \n",
    "cut_3sig_lo = mean-3*sig\n",
    "cut_3sig_hi = mean+3*sig\n",
    "\n",
    "# cut_3sig_lo = myround(cut_3sig_lo)\n",
    "# cut_3sig_hi = myround(cut_3sig_hi)\n",
    "cuts = [cut_3sig_lo, cut_3sig_hi]\n",
    "test = np.digitize(cuts, bins)\n",
    "\n",
    "print(test)\n",
    "\n",
    "print(cut_3sig_lo, cut_3sig_hi)\n",
    "            \n",
    "# idx_lo = np.argwhere(bin_centers == cut_3sig_lo)[0][0]\n",
    "# idx_hi = np.argwhere(bin_centers == cut_3sig_hi)[0][0]\n",
    "\n",
    "idx_lo = test[0]-1\n",
    "idx_hi = test[1]\n",
    "\n",
    "print(idx_lo, idx_hi)\n",
    "            \n",
    "counts = np.sum(tp_hist_bkg_sub_clip[idx_lo:idx_hi])\n",
    "\n",
    "print(counts)"
   ]
  },
  {
   "cell_type": "code",
   "execution_count": null,
   "metadata": {},
   "outputs": [],
   "source": [
    "print(tp_hist_bkg_sub_clip[idx_lo])\n",
    "print(tp_hist_bkg_sub_clip[idx_hi-1])\n",
    "print(tp_hist_bkg_sub_clip[idx_lo:idx_hi])"
   ]
  },
  {
   "cell_type": "code",
   "execution_count": null,
   "metadata": {},
   "outputs": [],
   "source": [
    "tp_hi = [10, 20, 30, 40, 50, 60, 70, 80, 90, 96]\n",
    "tp_param_list = []\n",
    "for t in tp_hi:\n",
    "    tp_param_list.append(f'tp00{t}')\n",
    "print(tp_param_list)\n",
    "\n",
    "for tp_param in tp_param_list:\n",
    "    if run>=36 and run<117:\n",
    "        dlo, dhi = -40, 170\n",
    "        d_bins = 200\n",
    "    elif run>=117:\n",
    "        # dlo, dhi, dpb = -20., 40, 0.1\n",
    "        dlo, dhi = -40, 170\n",
    "        d_bins = 200\n",
    "    fig, ax = plt.subplots()   \n",
    "    tlo, thi, tpb = 0, 3000, 10\n",
    "    t_bins = int((thi-tlo)/tpb)\n",
    "    fig.suptitle(f'\\nDCR vs {tp_param}', horizontalalignment='center', fontsize=16)\n",
    "    tpVdcr_hist_norm, xedges, yedges = np.histogram2d(df_cut[f'{tp_param}'], df_cut['dcr_plot'], bins=[t_bins, d_bins], range=([tlo, thi], [dlo, dhi]), weights=wts)\n",
    "    X, Y = np.mgrid[tlo:thi:t_bins*1j, dlo:dhi:d_bins*1j]\n",
    "    \n",
    "    pcm = plt.pcolormesh(X, Y, tpVdcr_hist_norm, norm=LogNorm(0.001, 10))\n",
    "    cb = plt.colorbar()\n",
    "    cb.set_label(\"counts/min\", ha = 'right', va='center', rotation=270, fontsize=14)\n",
    "    cb.ax.tick_params(labelsize=12)\n",
    "    ax.set_xlabel(f'{tp_param}(arb)', fontsize=16)\n",
    "    ax.set_ylabel('DCR (arb)', fontsize=16)\n",
    "    plt.setp(ax.get_xticklabels(), fontsize=12)\n",
    "    plt.setp(ax.get_yticklabels(), fontsize=14)\n",
    "    plt.ylim(0, 125)\n",
    "    plt.xlim(0,500)\n",
    "    plt.show()"
   ]
  },
  {
   "cell_type": "code",
   "execution_count": null,
   "metadata": {},
   "outputs": [],
   "source": [
    "tp_hi = [10, 20]\n",
    "tp_param_list = []\n",
    "for t in tp_hi:\n",
    "    tp_param_list.append(f'tp02{t}')\n",
    "print(tp_param_list)\n",
    "\n",
    "for tp_param in tp_param_list:\n",
    "    if run>=36 and run<117:\n",
    "        dlo, dhi = -40, 170\n",
    "        d_bins = 200\n",
    "    elif run>=117:\n",
    "        # dlo, dhi, dpb = -20., 40, 0.1\n",
    "        dlo, dhi = -40, 170\n",
    "        d_bins = 200\n",
    "    fig, ax = plt.subplots()   \n",
    "    tlo, thi, tpb = 0, 500, 10\n",
    "    t_bins = int((thi-tlo)/tpb)\n",
    "    fig.suptitle(f'\\nDCR vs {tp_param}', horizontalalignment='center', fontsize=16)\n",
    "    tpVdcr_hist_norm, xedges, yedges = np.histogram2d(df_cut[f'{tp_param}'], df_cut['dcr_plot'], bins=[t_bins, d_bins], range=([tlo, thi], [dlo, dhi]), weights=wts)\n",
    "    X, Y = np.mgrid[tlo:thi:t_bins*1j, dlo:dhi:d_bins*1j]\n",
    "    \n",
    "    pcm = plt.pcolormesh(X, Y, tpVdcr_hist_norm, norm=LogNorm(0.001, 10))\n",
    "    cb = plt.colorbar()\n",
    "    cb.set_label(\"counts/min\", ha = 'right', va='center', rotation=270, fontsize=14)\n",
    "    cb.ax.tick_params(labelsize=12)\n",
    "    ax.set_xlabel(f'{tp_param}(arb)', fontsize=16)\n",
    "    ax.set_ylabel('DCR (arb)', fontsize=16)\n",
    "    plt.setp(ax.get_xticklabels(), fontsize=12)\n",
    "    plt.setp(ax.get_yticklabels(), fontsize=14)\n",
    "#     plt.xlim(0,500)\n",
    "#     plt.ylim(0, 50)\n",
    "    plt.show()"
   ]
  },
  {
   "cell_type": "code",
   "execution_count": null,
   "metadata": {},
   "outputs": [],
   "source": [
    "tp_hi = [10, 20]\n",
    "tp_param_list = []\n",
    "for t in tp_hi:\n",
    "    tp_param_list.append(f'tp02{t}')\n",
    "print(tp_param_list)\n",
    "\n",
    "for tp_param in tp_param_list:\n",
    "\n",
    "    elo, ehi = 50, 5500\n",
    "    e_bins = int((ehi - elo )/10)\n",
    "\n",
    "    fig, ax = plt.subplots()   \n",
    "    tlo, thi, tpb = 0, 500, 10\n",
    "    t_bins = int((thi-tlo)/tpb)\n",
    "    fig.suptitle(f'\\nDCR vs {tp_param}', horizontalalignment='center', fontsize=16)\n",
    "    EvsTP_hist_norm, xedges, yedges = np.histogram2d(df_cut['trapEftp_cal'], df_cut[f'{tp_param}'], bins=[e_bins, t_bins], range=([elo, ehi], [tlo, thi]), weights=wts)\n",
    "    X, Y = np.mgrid[elo:ehi:e_bins*1j, tlo:thi:t_bins*1j]\n",
    "    \n",
    "    pcm = plt.pcolormesh(X, Y, EvsTP_hist_norm, norm=LogNorm(0.001, 10))\n",
    "    cb = plt.colorbar()\n",
    "    cb.set_label(\"counts/min\", ha = 'right', va='center', rotation=270, fontsize=14)\n",
    "    cb.ax.tick_params(labelsize=12)\n",
    "    ax.set_xlabel('trapEftp_cal', fontsize=16)\n",
    "    ax.set_ylabel(f'{tp_param}(arb)', fontsize=16)\n",
    "    plt.setp(ax.get_xticklabels(), fontsize=12)\n",
    "    plt.setp(ax.get_yticklabels(), fontsize=14)\n",
    "#     plt.xlim(0,500)\n",
    "    plt.show()"
   ]
  },
  {
   "cell_type": "code",
   "execution_count": null,
   "metadata": {},
   "outputs": [],
   "source": [
    "tp_hi = [10, 20]\n",
    "tp_param_list = []\n",
    "for t in tp_hi:\n",
    "    tp_param_list.append(f'tp02{t}')\n",
    "print(tp_param_list)\n",
    "\n",
    "for tp_param in tp_param_list:\n",
    "    slo, shi, spb = -5.5e-5, -4.5e-5, 10\n",
    "    s_bins = 50\n",
    "    fig, ax = plt.subplots()   \n",
    "    tlo, thi, tpb = 0, 500, 10\n",
    "    t_bins = int((thi-tlo)/tpb)\n",
    "    fig.suptitle(f'\\nDCR vs {tp_param}', horizontalalignment='center', fontsize=16)\n",
    "    tpVdcr_hist_norm, xedges, yedges = np.histogram2d(df_cut[f'{tp_param}'], df_cut['log_tail_fit_slope'], bins=[t_bins, s_bins], range=([tlo, thi], [slo, shi]), weights=wts)\n",
    "    X, Y = np.mgrid[tlo:thi:t_bins*1j, slo:shi:s_bins*1j]\n",
    "    \n",
    "    pcm = plt.pcolormesh(X, Y, tpVdcr_hist_norm, norm=LogNorm(0.001, 10))\n",
    "    cb = plt.colorbar()\n",
    "    cb.set_label(\"counts/min\", ha = 'right', va='center', rotation=270, fontsize=14)\n",
    "    cb.ax.tick_params(labelsize=12)\n",
    "    ax.set_xlabel(f'{tp_param}(arb)', fontsize=16)\n",
    "    ax.set_ylabel('DCR (arb)', fontsize=16)\n",
    "    plt.setp(ax.get_xticklabels(), fontsize=12)\n",
    "    plt.setp(ax.get_yticklabels(), fontsize=14)\n",
    "#     plt.xlim(0,500)\n",
    "#     plt.ylim(0, 50)\n",
    "    plt.show()"
   ]
  },
  {
   "cell_type": "code",
   "execution_count": null,
   "metadata": {},
   "outputs": [],
   "source": [
    "tp_hi = [10, 20]\n",
    "tp_param_list = []\n",
    "for t in tp_hi:\n",
    "    tp_param_list.append(f'tp05{t}')\n",
    "print(tp_param_list)\n",
    "\n",
    "for tp_param in tp_param_list:\n",
    "    if run>=36 and run<117:\n",
    "        dlo, dhi = -40, 170\n",
    "        d_bins = 200\n",
    "    elif run>=117:\n",
    "        # dlo, dhi, dpb = -20., 40, 0.1\n",
    "        dlo, dhi = -40, 170\n",
    "        d_bins = 200\n",
    "    fig, ax = plt.subplots()   \n",
    "    tlo, thi, tpb = 0, 500, 10\n",
    "    t_bins = int((thi-tlo)/tpb)\n",
    "    fig.suptitle(f'\\nDCR vs {tp_param}', horizontalalignment='center', fontsize=16)\n",
    "    tpVdcr_hist_norm, xedges, yedges = np.histogram2d(df_cut[f'{tp_param}'], df_cut['dcr_plot'], bins=[t_bins, d_bins], range=([tlo, thi], [dlo, dhi]), weights=wts)\n",
    "    X, Y = np.mgrid[tlo:thi:t_bins*1j, dlo:dhi:d_bins*1j]\n",
    "    \n",
    "    pcm = plt.pcolormesh(X, Y, tpVdcr_hist_norm, norm=LogNorm(0.001, 10))\n",
    "    cb = plt.colorbar()\n",
    "    cb.set_label(\"counts/min\", ha = 'right', va='center', rotation=270, fontsize=14)\n",
    "    cb.ax.tick_params(labelsize=12)\n",
    "    ax.set_xlabel(f'{tp_param}(arb)', fontsize=16)\n",
    "    ax.set_ylabel('DCR (arb)', fontsize=16)\n",
    "    plt.setp(ax.get_xticklabels(), fontsize=12)\n",
    "    plt.setp(ax.get_yticklabels(), fontsize=14)\n",
    "#     plt.xlim(0, 100)\n",
    "    plt.show()"
   ]
  },
  {
   "cell_type": "code",
   "execution_count": null,
   "metadata": {},
   "outputs": [],
   "source": [
    "tp_hi = [20, 30] #, 40, 50, 60, 70, 80, 90, 96\n",
    "tp_param_list = []\n",
    "for t in tp_hi:\n",
    "    tp_param_list.append(f'tp10{t}')\n",
    "print(tp_param_list)\n",
    "\n",
    "for tp_param in tp_param_list:\n",
    "    if run>=36 and run<117:\n",
    "        dlo, dhi = -40, 170\n",
    "        d_bins = 200\n",
    "    elif run>=117:\n",
    "        # dlo, dhi, dpb = -20., 40, 0.1\n",
    "        dlo, dhi = -40, 170\n",
    "        d_bins = 200\n",
    "    fig, ax = plt.subplots()   \n",
    "    tlo, thi, tpb = 0, 500, 10\n",
    "    t_bins = int((thi-tlo)/tpb)\n",
    "    fig.suptitle(f'\\nDCR vs {tp_param}', horizontalalignment='center', fontsize=16)\n",
    "    tpVdcr_hist_norm, xedges, yedges = np.histogram2d(df_cut[f'{tp_param}'], df_cut['dcr_plot'], bins=[t_bins, d_bins], range=([tlo, thi], [dlo, dhi]), weights=wts)\n",
    "    X, Y = np.mgrid[tlo:thi:t_bins*1j, dlo:dhi:d_bins*1j]\n",
    "    \n",
    "    pcm = plt.pcolormesh(X, Y, tpVdcr_hist_norm, norm=LogNorm(0.001, 10))\n",
    "    cb = plt.colorbar()\n",
    "    cb.set_label(\"counts/min\", ha = 'right', va='center', rotation=270, fontsize=14)\n",
    "    cb.ax.tick_params(labelsize=12)\n",
    "    ax.set_xlabel(f'{tp_param}(arb)', fontsize=16)\n",
    "    ax.set_ylabel('DCR (arb)', fontsize=16)\n",
    "    plt.setp(ax.get_xticklabels(), fontsize=12)\n",
    "    plt.setp(ax.get_yticklabels(), fontsize=14)\n",
    "    plt.show()"
   ]
  },
  {
   "cell_type": "code",
   "execution_count": null,
   "metadata": {},
   "outputs": [],
   "source": [
    "tp_hi = [30, 40, 50, 60, 70, 80, 90, 96]\n",
    "tp_param_list = []\n",
    "for t in tp_hi:\n",
    "    tp_param_list.append(f'tp20{t}')\n",
    "print(tp_param_list)\n",
    "\n",
    "for tp_param in tp_param_list:\n",
    "    if run>=36 and run<117:\n",
    "        dlo, dhi = -40, 170\n",
    "        d_bins = 200\n",
    "    elif run>=117:\n",
    "        # dlo, dhi, dpb = -20., 40, 0.1\n",
    "        dlo, dhi = -40, 170\n",
    "        d_bins = 200\n",
    "    fig, ax = plt.subplots()   \n",
    "    tlo, thi, tpb = 0, 500, 10\n",
    "    t_bins = int((thi-tlo)/tpb)\n",
    "    fig.suptitle(f'\\nDCR vs {tp_param}', horizontalalignment='center', fontsize=16)\n",
    "    tpVdcr_hist_norm, xedges, yedges = np.histogram2d(df_cut[f'{tp_param}'], df_cut['dcr_plot'], bins=[t_bins, d_bins], range=([tlo, thi], [dlo, dhi]), weights=wts)\n",
    "    X, Y = np.mgrid[tlo:thi:t_bins*1j, dlo:dhi:d_bins*1j]\n",
    "    \n",
    "    pcm = plt.pcolormesh(X, Y, tpVdcr_hist_norm, norm=LogNorm(0.001, 10))\n",
    "    cb = plt.colorbar()\n",
    "    cb.set_label(\"counts/min\", ha = 'right', va='center', rotation=270, fontsize=14)\n",
    "    cb.ax.tick_params(labelsize=12)\n",
    "    ax.set_xlabel(f'{tp_param}(arb)', fontsize=16)\n",
    "    ax.set_ylabel('DCR (arb)', fontsize=16)\n",
    "    plt.setp(ax.get_xticklabels(), fontsize=12)\n",
    "    plt.setp(ax.get_yticklabels(), fontsize=14)\n",
    "    plt.show()"
   ]
  },
  {
   "cell_type": "code",
   "execution_count": null,
   "metadata": {},
   "outputs": [],
   "source": [
    "tp_hi = [40, 50, 60, 70, 80, 90, 96]\n",
    "tp_param_list = []\n",
    "for t in tp_hi:\n",
    "    tp_param_list.append(f'tp30{t}')\n",
    "print(tp_param_list)\n",
    "\n",
    "for tp_param in tp_param_list:\n",
    "    if run>=36 and run<117:\n",
    "        dlo, dhi = -40, 170\n",
    "        d_bins = 200\n",
    "    elif run>=117:\n",
    "        # dlo, dhi, dpb = -20., 40, 0.1\n",
    "        dlo, dhi = -40, 170\n",
    "        d_bins = 200\n",
    "    fig, ax = plt.subplots()   \n",
    "    tlo, thi, tpb = 0, 500, 10\n",
    "    t_bins = int((thi-tlo)/tpb)\n",
    "    fig.suptitle(f'\\nDCR vs {tp_param}', horizontalalignment='center', fontsize=16)\n",
    "    tpVdcr_hist_norm, xedges, yedges = np.histogram2d(df_cut[f'{tp_param}'], df_cut['dcr_plot'], bins=[t_bins, d_bins], range=([tlo, thi], [dlo, dhi]), weights=wts)\n",
    "    X, Y = np.mgrid[tlo:thi:t_bins*1j, dlo:dhi:d_bins*1j]\n",
    "    \n",
    "    pcm = plt.pcolormesh(X, Y, tpVdcr_hist_norm, norm=LogNorm(0.001, 10))\n",
    "    cb = plt.colorbar()\n",
    "    cb.set_label(\"counts/min\", ha = 'right', va='center', rotation=270, fontsize=14)\n",
    "    cb.ax.tick_params(labelsize=12)\n",
    "    ax.set_xlabel(f'{tp_param}(arb)', fontsize=16)\n",
    "    ax.set_ylabel('DCR (arb)', fontsize=16)\n",
    "    plt.setp(ax.get_xticklabels(), fontsize=12)\n",
    "    plt.setp(ax.get_yticklabels(), fontsize=14)\n",
    "    plt.show()"
   ]
  },
  {
   "cell_type": "code",
   "execution_count": null,
   "metadata": {},
   "outputs": [],
   "source": [
    "tp_hi = [50, 60, 70, 80, 90, 96]\n",
    "tp_param_list = []\n",
    "for t in tp_hi:\n",
    "    tp_param_list.append(f'tp40{t}')\n",
    "print(tp_param_list)\n",
    "\n",
    "for tp_param in tp_param_list:\n",
    "    if run>=36 and run<117:\n",
    "        dlo, dhi = -40, 170\n",
    "        d_bins = 200\n",
    "    elif run>=117:\n",
    "        # dlo, dhi, dpb = -20., 40, 0.1\n",
    "        dlo, dhi = -40, 170\n",
    "        d_bins = 200\n",
    "    fig, ax = plt.subplots()   \n",
    "    tlo, thi, tpb = 0, 500, 10\n",
    "    t_bins = int((thi-tlo)/tpb)\n",
    "    fig.suptitle(f'\\nDCR vs {tp_param}', horizontalalignment='center', fontsize=16)\n",
    "    tpVdcr_hist_norm, xedges, yedges = np.histogram2d(df_cut[f'{tp_param}'], df_cut['dcr_plot'], bins=[t_bins, d_bins], range=([tlo, thi], [dlo, dhi]), weights=wts)\n",
    "    X, Y = np.mgrid[tlo:thi:t_bins*1j, dlo:dhi:d_bins*1j]\n",
    "    \n",
    "    pcm = plt.pcolormesh(X, Y, tpVdcr_hist_norm, norm=LogNorm(0.001, 10))\n",
    "    cb = plt.colorbar()\n",
    "    cb.set_label(\"counts/min\", ha = 'right', va='center', rotation=270, fontsize=14)\n",
    "    cb.ax.tick_params(labelsize=12)\n",
    "    ax.set_xlabel(f'{tp_param}(arb)', fontsize=16)\n",
    "    ax.set_ylabel('DCR (arb)', fontsize=16)\n",
    "    plt.setp(ax.get_xticklabels(), fontsize=12)\n",
    "    plt.setp(ax.get_yticklabels(), fontsize=14)\n",
    "    plt.show()"
   ]
  },
  {
   "cell_type": "code",
   "execution_count": null,
   "metadata": {},
   "outputs": [],
   "source": [
    "tp_hi = [60, 70, 80, 90, 96]\n",
    "tp_param_list = []\n",
    "for t in tp_hi:\n",
    "    tp_param_list.append(f'tp50{t}')\n",
    "print(tp_param_list)\n",
    "\n",
    "for tp_param in tp_param_list:\n",
    "    if run>=36 and run<117:\n",
    "        dlo, dhi = -40, 170\n",
    "        d_bins = 200\n",
    "    elif run>=117:\n",
    "        # dlo, dhi, dpb = -20., 40, 0.1\n",
    "        dlo, dhi = -40, 170\n",
    "        d_bins = 200\n",
    "    fig, ax = plt.subplots()   \n",
    "    tlo, thi, tpb = 0, 500, 10\n",
    "    t_bins = int((thi-tlo)/tpb)\n",
    "    fig.suptitle(f'\\nDCR vs {tp_param}', horizontalalignment='center', fontsize=16)\n",
    "    tpVdcr_hist_norm, xedges, yedges = np.histogram2d(df_cut[f'{tp_param}'], df_cut['dcr_plot'], bins=[t_bins, d_bins], range=([tlo, thi], [dlo, dhi]), weights=wts)\n",
    "    X, Y = np.mgrid[tlo:thi:t_bins*1j, dlo:dhi:d_bins*1j]\n",
    "    \n",
    "    pcm = plt.pcolormesh(X, Y, tpVdcr_hist_norm, norm=LogNorm(0.001, 10))\n",
    "    cb = plt.colorbar()\n",
    "    cb.set_label(\"counts/min\", ha = 'right', va='center', rotation=270, fontsize=14)\n",
    "    cb.ax.tick_params(labelsize=12)\n",
    "    ax.set_xlabel(f'{tp_param}(arb)', fontsize=16)\n",
    "    ax.set_ylabel('DCR (arb)', fontsize=16)\n",
    "    plt.setp(ax.get_xticklabels(), fontsize=12)\n",
    "    plt.setp(ax.get_yticklabels(), fontsize=14)\n",
    "    plt.show()"
   ]
  },
  {
   "cell_type": "code",
   "execution_count": null,
   "metadata": {},
   "outputs": [],
   "source": [
    "tp_hi = [70, 80, 90, 96]\n",
    "tp_param_list = []\n",
    "for t in tp_hi:\n",
    "    tp_param_list.append(f'tp60{t}')\n",
    "print(tp_param_list)\n",
    "\n",
    "for tp_param in tp_param_list:\n",
    "    if run>=36 and run<117:\n",
    "        dlo, dhi = -40, 170\n",
    "        d_bins = 200\n",
    "    elif run>=117:\n",
    "        # dlo, dhi, dpb = -20., 40, 0.1\n",
    "        dlo, dhi = -40, 170\n",
    "        d_bins = 200\n",
    "    fig, ax = plt.subplots()   \n",
    "    tlo, thi, tpb = 0, 500, 10\n",
    "    t_bins = int((thi-tlo)/tpb)\n",
    "    fig.suptitle(f'\\nDCR vs {tp_param}', horizontalalignment='center', fontsize=16)\n",
    "    tpVdcr_hist_norm, xedges, yedges = np.histogram2d(df_cut[f'{tp_param}'], df_cut['dcr_plot'], bins=[t_bins, d_bins], range=([tlo, thi], [dlo, dhi]), weights=wts)\n",
    "    X, Y = np.mgrid[tlo:thi:t_bins*1j, dlo:dhi:d_bins*1j]\n",
    "    \n",
    "    pcm = plt.pcolormesh(X, Y, tpVdcr_hist_norm, norm=LogNorm(0.001, 10))\n",
    "    cb = plt.colorbar()\n",
    "    cb.set_label(\"counts/min\", ha = 'right', va='center', rotation=270, fontsize=14)\n",
    "    cb.ax.tick_params(labelsize=12)\n",
    "    ax.set_xlabel(f'{tp_param}(arb)', fontsize=16)\n",
    "    ax.set_ylabel('DCR (arb)', fontsize=16)\n",
    "    plt.setp(ax.get_xticklabels(), fontsize=12)\n",
    "    plt.setp(ax.get_yticklabels(), fontsize=14)\n",
    "    plt.show()"
   ]
  },
  {
   "cell_type": "code",
   "execution_count": null,
   "metadata": {},
   "outputs": [],
   "source": [
    "tp_hi = [80, 90, 96]\n",
    "tp_param_list = []\n",
    "for t in tp_hi:\n",
    "    tp_param_list.append(f'tp70{t}')\n",
    "print(tp_param_list)\n",
    "\n",
    "for tp_param in tp_param_list:\n",
    "    if run>=36 and run<117:\n",
    "        dlo, dhi = -40, 170\n",
    "        d_bins = 200\n",
    "    elif run>=117:\n",
    "        # dlo, dhi, dpb = -20., 40, 0.1\n",
    "        dlo, dhi = -40, 170\n",
    "        d_bins = 200\n",
    "    fig, ax = plt.subplots()   \n",
    "    tlo, thi, tpb = 0, 500, 10\n",
    "    t_bins = int((thi-tlo)/tpb)\n",
    "    fig.suptitle(f'\\nDCR vs {tp_param}', horizontalalignment='center', fontsize=16)\n",
    "    tpVdcr_hist_norm, xedges, yedges = np.histogram2d(df_cut[f'{tp_param}'], df_cut['dcr_plot'], bins=[t_bins, d_bins], range=([tlo, thi], [dlo, dhi]), weights=wts)\n",
    "    X, Y = np.mgrid[tlo:thi:t_bins*1j, dlo:dhi:d_bins*1j]\n",
    "    \n",
    "    pcm = plt.pcolormesh(X, Y, tpVdcr_hist_norm, norm=LogNorm(0.001, 10))\n",
    "    cb = plt.colorbar()\n",
    "    cb.set_label(\"counts/min\", ha = 'right', va='center', rotation=270, fontsize=14)\n",
    "    cb.ax.tick_params(labelsize=12)\n",
    "    ax.set_xlabel(f'{tp_param}(arb)', fontsize=16)\n",
    "    ax.set_ylabel('DCR (arb)', fontsize=16)\n",
    "    plt.setp(ax.get_xticklabels(), fontsize=12)\n",
    "    plt.setp(ax.get_yticklabels(), fontsize=14)\n",
    "    plt.show()"
   ]
  },
  {
   "cell_type": "code",
   "execution_count": null,
   "metadata": {},
   "outputs": [],
   "source": [
    "tp_hi = [90, 96]\n",
    "tp_param_list = []\n",
    "for t in tp_hi:\n",
    "    tp_param_list.append(f'tp80{t}')\n",
    "print(tp_param_list)\n",
    "\n",
    "for tp_param in tp_param_list:\n",
    "    if run>=36 and run<117:\n",
    "        dlo, dhi = -40, 170\n",
    "        d_bins = 200\n",
    "    elif run>=117:\n",
    "        # dlo, dhi, dpb = -20., 40, 0.1\n",
    "        dlo, dhi = -40, 170\n",
    "        d_bins = 200\n",
    "    fig, ax = plt.subplots()   \n",
    "    tlo, thi, tpb = 0, 500, 10\n",
    "    t_bins = int((thi-tlo)/tpb)\n",
    "    fig.suptitle(f'\\nDCR vs {tp_param}', horizontalalignment='center', fontsize=16)\n",
    "    tpVdcr_hist_norm, xedges, yedges = np.histogram2d(df_cut[f'{tp_param}'], df_cut['dcr_plot'], bins=[t_bins, d_bins], range=([tlo, thi], [dlo, dhi]), weights=wts)\n",
    "    X, Y = np.mgrid[tlo:thi:t_bins*1j, dlo:dhi:d_bins*1j]\n",
    "    \n",
    "    pcm = plt.pcolormesh(X, Y, tpVdcr_hist_norm, norm=LogNorm(0.001, 10))\n",
    "    cb = plt.colorbar()\n",
    "    cb.set_label(\"counts/min\", ha = 'right', va='center', rotation=270, fontsize=14)\n",
    "    cb.ax.tick_params(labelsize=12)\n",
    "    ax.set_xlabel(f'{tp_param}(arb)', fontsize=16)\n",
    "    ax.set_ylabel('DCR (arb)', fontsize=16)\n",
    "    plt.setp(ax.get_xticklabels(), fontsize=12)\n",
    "    plt.setp(ax.get_yticklabels(), fontsize=14)\n",
    "    plt.show()"
   ]
  },
  {
   "cell_type": "code",
   "execution_count": null,
   "metadata": {},
   "outputs": [],
   "source": [
    "\n",
    "tp_param_list = ['tp9096']\n",
    "\n",
    "for tp_param in tp_param_list:\n",
    "    if run>=36 and run<117:\n",
    "        dlo, dhi = -40, 170\n",
    "        d_bins = 200\n",
    "    elif run>=117:\n",
    "        # dlo, dhi, dpb = -20., 40, 0.1\n",
    "        dlo, dhi = -40, 170\n",
    "        d_bins = 200\n",
    "    fig, ax = plt.subplots()   \n",
    "    tlo, thi, tpb = 0, 500, 10\n",
    "    t_bins = int((thi-tlo)/tpb)\n",
    "    fig.suptitle(f'\\nDCR vs {tp_param}', horizontalalignment='center', fontsize=16)\n",
    "    tpVdcr_hist_norm, xedges, yedges = np.histogram2d(df_cut[f'{tp_param}'], df_cut['dcr_plot'], bins=[t_bins, d_bins], range=([tlo, thi], [dlo, dhi]), weights=wts)\n",
    "    X, Y = np.mgrid[tlo:thi:t_bins*1j, dlo:dhi:d_bins*1j]\n",
    "    \n",
    "    pcm = plt.pcolormesh(X, Y, tpVdcr_hist_norm, norm=LogNorm(0.001, 10))\n",
    "    cb = plt.colorbar()\n",
    "    cb.set_label(\"counts/min\", ha = 'right', va='center', rotation=270, fontsize=14)\n",
    "    cb.ax.tick_params(labelsize=12)\n",
    "    ax.set_xlabel(f'{tp_param}(arb)', fontsize=16)\n",
    "    ax.set_ylabel('DCR (arb)', fontsize=16)\n",
    "    plt.setp(ax.get_xticklabels(), fontsize=12)\n",
    "    plt.setp(ax.get_yticklabels(), fontsize=14)\n",
    "    plt.show()"
   ]
  },
  {
   "cell_type": "code",
   "execution_count": null,
   "metadata": {},
   "outputs": [],
   "source": [
    "\n",
    "tp_param_list = ['tp9096']\n",
    "\n",
    "for tp_param in tp_param_list:\n",
    "    if run>=36 and run<117:\n",
    "        dlo, dhi = -40, 170\n",
    "        d_bins = 200\n",
    "    elif run>=117:\n",
    "        # dlo, dhi, dpb = -20., 40, 0.1\n",
    "        dlo, dhi = -40, 170\n",
    "        d_bins = 200\n",
    "    fig, ax = plt.subplots()   \n",
    "    tlo, thi, tpb = 0, 500, 10\n",
    "    t_bins = int((thi-tlo)/tpb)\n",
    "    fig.suptitle(f'\\nDCR vs {tp_param}', horizontalalignment='center', fontsize=16)\n",
    "    tpVtp_hist_norm, xedges, yedges = np.histogram2d(df_cut[f'{tp_param}'], df_cut['tp0210'], bins=[t_bins,t_bins], range=([tlo, thi], [tlo, thi]), weights=wts)\n",
    "    X, Y = np.mgrid[tlo:thi:t_bins*1j, tlo:thi:t_bins*1j]\n",
    "    \n",
    "    pcm = plt.pcolormesh(X, Y, tpVtp_hist_norm, norm=LogNorm(0.001, 10))\n",
    "    cb = plt.colorbar()\n",
    "    cb.set_label(\"counts/min\", ha = 'right', va='center', rotation=270, fontsize=14)\n",
    "    cb.ax.tick_params(labelsize=12)\n",
    "    ax.set_xlabel(f'{tp_param}(arb)', fontsize=16)\n",
    "    ax.set_ylabel('DCR (arb)', fontsize=16)\n",
    "    plt.setp(ax.get_xticklabels(), fontsize=12)\n",
    "    plt.setp(ax.get_yticklabels(), fontsize=14)\n",
    "    plt.show()"
   ]
  },
  {
   "cell_type": "code",
   "execution_count": null,
   "metadata": {},
   "outputs": [],
   "source": [
    "cut_tp0210 = f'tp0210 > 0 and tp0210 < 150'\n",
    "cut2_tp0210 = f'tp0210 > 300 and tp0210 < 375'\n",
    "df_0210 = df_cut.query(cut_tp0210).copy()\n",
    "print(len(df_0210['trapEftp_cal']))\n",
    "# times, superpulse_tp0210 = cage_utils.get_superpulse(df_cut2, dg, cut_tp0210, all=True, norm=True)\n",
    "# times, superpulse_outlier= cage_utils.get_superpulse(df_cut2, dg, cut2_tp0210, all=True, norm=True)"
   ]
  },
  {
   "cell_type": "code",
   "execution_count": null,
   "metadata": {},
   "outputs": [],
   "source": [
    "# %matplotlib widget\n",
    "\n",
    "\n",
    "nb_dcr_corr = 100 #500\n",
    "dlo_corr_norm, dhi_corr_norm = -20, 150\n",
    "nb_energy = 299 #599\n",
    "elo = 50\n",
    "ehi = 6000\n",
    "\n",
    "#normalize hist by runtime\n",
    "rt = np.array([(1/rt_min)])\n",
    "wts = np.repeat(rt, len(df_cut['trapEftp_cal']))\n",
    "print(wts)\n",
    "\n",
    "dcr_corr_vs_E_hist_norm, xedges, yedges = np.histogram2d(df_cut['trapEftp_cal'], df_cut['dcr_plot'], bins=[nb_energy, nb_dcr_corr], range=([elo, ehi], [dlo_corr_norm, dhi_corr_norm]), weights=wts)\n",
    "\n",
    "# dcr_corr_vs_E_hist_norm = np.divide(dcr_corr_vs_E_hist, rt_min)\n",
    "\n",
    "XX, YY = np.mgrid[elo:ehi:nb_energy*1j, dlo_corr_norm:dhi_corr_norm:nb_dcr_corr*1j]\n",
    "\n",
    "pcm1 = plt.pcolormesh(XX, YY, dcr_corr_vs_E_hist_norm, norm=LogNorm())\n",
    "# plt.ylim(-20,20)\n",
    "plt.show()"
   ]
  },
  {
   "cell_type": "code",
   "execution_count": null,
   "metadata": {},
   "outputs": [],
   "source": [
    "# %matplotlib widget\n",
    "\n",
    "\n",
    "nb_dcr_corr = 100 #500\n",
    "dlo_corr_norm, dhi_corr_norm = -20, 150\n",
    "nb_energy = 299 #599 #5950\n",
    "elo = 50\n",
    "ehi = 6000\n",
    "\n",
    "#normalize hist by runtime\n",
    "rt = np.array([(1/rt_min)])\n",
    "wts = np.repeat(rt, len(df_0210['trapEftp_cal']))\n",
    "print(wts)\n",
    "\n",
    "dcr_corr_vs_E_hist_norm, xedges, yedges = np.histogram2d(df_0210['trapEftp_cal'], df_0210['dcr_plot'], bins=[nb_energy, nb_dcr_corr], range=([elo, ehi], [dlo_corr_norm, dhi_corr_norm]), weights=wts)\n",
    "\n",
    "# dcr_corr_vs_E_hist_norm = np.divide(dcr_corr_vs_E_hist, rt_min)\n",
    "\n",
    "XX, YY = np.mgrid[elo:ehi:nb_energy*1j, dlo_corr_norm:dhi_corr_norm:nb_dcr_corr*1j]\n",
    "\n",
    "pcm1 = plt.pcolormesh(XX, YY, dcr_corr_vs_E_hist_norm, norm=LogNorm())\n",
    "# plt.ylim(-20,20)\n",
    "# plt.xlim(50,80)\n",
    "plt.show()"
   ]
  },
  {
   "cell_type": "code",
   "execution_count": null,
   "metadata": {},
   "outputs": [],
   "source": [
    "dcr_cut = f'dcr_plot > 10 and dcr_plot < 125'\n",
    "df_alphaCut = df_0210.query(dcr_cut).copy()\n",
    "print(len(df_alphaCut['trapEftp_cal']))"
   ]
  },
  {
   "cell_type": "code",
   "execution_count": null,
   "metadata": {},
   "outputs": [],
   "source": [
    "df_dcrCut = df_cut.query(dcr_cut).copy()\n",
    "print(len(df_dcrCut['trapEftp_cal']))"
   ]
  },
  {
   "cell_type": "code",
   "execution_count": null,
   "metadata": {},
   "outputs": [],
   "source": [
    "# df_alphaCut = df.query(f'{toe_cut_str} and dcr > {dcrCut_lo} and dcr < {dcrCut_hi}').copy()\n",
    "wts_alphaCut = np.repeat(rt, len(df_alphaCut[etype]))"
   ]
  },
  {
   "cell_type": "code",
   "execution_count": null,
   "metadata": {},
   "outputs": [],
   "source": [
    "# normalized by runtime\n",
    "fig, ax = plt.subplots()\n",
    "alo, ahi, apb = 0.0, 0.09, 0.0001\n",
    "if run>=36:\n",
    "    alo, ahi, apb = 0.005, 0.075, 0.0001\n",
    "if run>=117:\n",
    "    alo, ahi, apb = 0.0, 0.15, 0.00015\n",
    "\n",
    "if corr_AoE==True:\n",
    "    alo, ahi, apb= -0.03, 0.03, 0.0005\n",
    "    \n",
    "elo, ehi, epb = 500, 6000, 1\n",
    "\n",
    "nbx = int((ehi-elo)/epb)\n",
    "nby = int((ahi-alo)/apb)\n",
    "events = len(df_dcrCut['trapEftp_cal'])\n",
    "\n",
    "wts = np.repeat(rt, len(df_dcrCut[etype]))\n",
    "\n",
    "fig.suptitle(f'A/E vs Energy \\nDCR cut only', horizontalalignment='center', fontsize=16)\n",
    "\n",
    "cut_aoe_hist_norm, xedges, yedges = np.histogram2d(df_dcrCut[etype], df_dcrCut['AoE_plot'], bins=[nbx, nby], range=([elo, ehi], [alo, ahi]), weights=wts)\n",
    "X, Y = np.mgrid[elo:ehi:nbx*1j, alo:ahi:nby*1j]\n",
    "\n",
    "#             aoe_hist_norm = np.divide(aoe_hist, (rt_min))\n",
    "\n",
    "pcm = plt.pcolormesh(X, Y, cut_aoe_hist_norm, norm=LogNorm(0.001, 0.1)) #0.002, 0.2\n",
    "\n",
    "cb = plt.colorbar()\n",
    "cb.set_label(\"counts/min\", ha = 'right', va='center', rotation=270, fontsize=14)\n",
    "cb.ax.tick_params(labelsize=12)\n",
    "ax.set_xlabel(f'Energy (kev)', fontsize=16)\n",
    "ax.set_ylabel('A/E (arb)', fontsize=16)\n",
    "plt.setp(ax.get_xticklabels(), fontsize=14)\n",
    "plt.setp(ax.get_yticklabels(), fontsize=14)\n",
    "\n",
    "\n",
    "ax.text(0.95, 0.83, f'{events} events passing cut \\nr = {radius} mm \\ntheta = {angle_det} deg', verticalalignment='bottom',\n",
    "            horizontalalignment='right', transform=ax.transAxes, color='green', fontsize=14, bbox={'facecolor': 'white', 'alpha': 0.5, 'pad': 10})\n",
    "\n",
    "# plt.legend()\n",
    "plt.title(f'\\n{runtype} run {run}, {rt_min:.2f} mins', fontsize=12)\n",
    "plt.tight_layout()"
   ]
  },
  {
   "cell_type": "code",
   "execution_count": null,
   "metadata": {},
   "outputs": [],
   "source": [
    "# normalized by runtime\n",
    "fig, ax = plt.subplots()\n",
    "alo, ahi, apb = 0.0, 0.09, 0.0001\n",
    "if run>=36:\n",
    "    alo, ahi, apb = 0.005, 0.075, 0.0001\n",
    "if run>=117:\n",
    "    alo, ahi, apb = 0.0, 0.15, 0.00015\n",
    "\n",
    "if corr_AoE==True:\n",
    "    alo, ahi, apb= -0.03, 0.03, 0.0005\n",
    "    \n",
    "elo, ehi, epb = 500, 6000, 1\n",
    "\n",
    "nbx = int((ehi-elo)/epb)\n",
    "nby = int((ahi-alo)/apb)\n",
    "events = len(df_alphaCut['trapEftp_cal'])\n",
    "\n",
    "fig.suptitle(f'A/E vs Energy \\nDCR and tp0210 cuts', horizontalalignment='center', fontsize=16)\n",
    "\n",
    "cut_aoe_hist_norm, xedges, yedges = np.histogram2d(df_alphaCut[etype], df_alphaCut['AoE_plot'], bins=[nbx, nby], range=([elo, ehi], [alo, ahi]), weights=wts_alphaCut)\n",
    "X, Y = np.mgrid[elo:ehi:nbx*1j, alo:ahi:nby*1j]\n",
    "\n",
    "#             aoe_hist_norm = np.divide(aoe_hist, (rt_min))\n",
    "\n",
    "pcm = plt.pcolormesh(X, Y, cut_aoe_hist_norm, norm=LogNorm(0.001, 0.1)) #0.002, 0.2\n",
    "\n",
    "cb = plt.colorbar()\n",
    "cb.set_label(\"counts/min\", ha = 'right', va='center', rotation=270, fontsize=14)\n",
    "cb.ax.tick_params(labelsize=12)\n",
    "ax.set_xlabel(f'Energy (kev)', fontsize=16)\n",
    "ax.set_ylabel('A/E (arb)', fontsize=16)\n",
    "plt.setp(ax.get_xticklabels(), fontsize=14)\n",
    "plt.setp(ax.get_yticklabels(), fontsize=14)\n",
    "\n",
    "\n",
    "ax.text(0.95, 0.83, f'{events} events passing cut \\nr = {radius} mm \\ntheta = {angle_det} deg', verticalalignment='bottom',\n",
    "            horizontalalignment='right', transform=ax.transAxes, color='green', fontsize=14, bbox={'facecolor': 'white', 'alpha': 0.5, 'pad': 10})\n",
    "\n",
    "# plt.legend()\n",
    "plt.title(f'\\n{runtype} run {run}, {rt_min:.2f} mins', fontsize=12)\n",
    "plt.tight_layout()"
   ]
  },
  {
   "cell_type": "code",
   "execution_count": null,
   "metadata": {},
   "outputs": [],
   "source": []
  }
 ],
 "metadata": {
  "kernelspec": {
   "display_name": "legend-base",
   "language": "python",
   "name": "legend-base"
  },
  "language_info": {
   "codemirror_mode": {
    "name": "ipython",
    "version": 3
   },
   "file_extension": ".py",
   "mimetype": "text/x-python",
   "name": "python",
   "nbconvert_exporter": "python",
   "pygments_lexer": "ipython3",
   "version": "3.8.5"
  }
 },
 "nbformat": 4,
 "nbformat_minor": 4
}
