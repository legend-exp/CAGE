{
 "cells": [
  {
   "cell_type": "code",
   "execution_count": null,
   "id": "009d472d-3f3d-47df-be31-106d2986dfd4",
   "metadata": {},
   "outputs": [],
   "source": [
    "#!/usr/bin/env python3\n",
    "import os\n",
    "import json\n",
    "import h5py\n",
    "import argparse\n",
    "import pandas as pd\n",
    "import numpy as np\n",
    "import tinydb as db\n",
    "from tinydb.storages import MemoryStorage\n",
    "import matplotlib.pyplot as plt\n",
    "import matplotlib as mpl\n",
    "from matplotlib.colors import LogNorm\n",
    "\n",
    "import boost_histogram as bh\n",
    "import pickle as pl\n",
    "\n",
    "import scipy.stats as stats\n",
    "import scipy.optimize as opt\n",
    "from pygama import DataGroup\n",
    "import pygama.lh5 as lh5\n",
    "import pygama.analysis.histograms as pgh\n",
    "import pygama.analysis.peak_fitting as pgf\n",
    "import cage_utils\n",
    "plt.rcParams['figure.figsize'] = [14, 10]"
   ]
  },
  {
   "cell_type": "code",
   "execution_count": null,
   "id": "814488da-02ec-4906-a2cf-ac3225b347dd",
   "metadata": {},
   "outputs": [],
   "source": [
    "dg = DataGroup('../processing/cage.json', load=True)\n",
    "dsp_dir = '/global/cfs/cdirs/legend/data/cage/LH5/dsp'"
   ]
  },
  {
   "cell_type": "code",
   "execution_count": null,
   "id": "673fea84-9a5b-4de6-963d-2b35f4129689",
   "metadata": {},
   "outputs": [],
   "source": [
    "run = 255\n",
    "df = dg.fileDB.query(f'run == {run} and skip==False')\n",
    "\n",
    "raw_dir = '/global/cfs/cdirs/legend/data/cage/LH5/dsp'\n",
    "f_raw = f\"{raw_dir}/{df['dsp_file'].iloc[-2]}\"\n",
    "raw = h5py.File(f_raw)\n",
    "\n",
    "print(raw['ORSIS3302DecoderForEnergy']['dsp'].keys())\n"
   ]
  },
  {
   "cell_type": "code",
   "execution_count": null,
   "id": "4ce30d7a-0afb-443e-8589-d30b29a2bac0",
   "metadata": {},
   "outputs": [],
   "source": [
    "hit_dir = '/global/cfs/cdirs/legend/data/cage/LH5/hit'\n",
    "f_hit = f\"{hit_dir}/{df['hit_file'].iloc[0]}\"\n",
    "hit = h5py.File(f_hit)\n",
    "\n",
    "print(hit['ORSIS3302DecoderForEnergy']['hit'].keys())\n"
   ]
  },
  {
   "cell_type": "code",
   "execution_count": null,
   "id": "0334114d-eee2-4d14-93f8-305c17888ef8",
   "metadata": {},
   "outputs": [],
   "source": [
    "trapEftp_cal = np.empty(0)\n",
    "print(len(df))\n",
    "for i in range(len(df)):\n",
    "    f_hit = f\"{hit_dir}/{df['hit_file'].iloc[i]}\"\n",
    "    hit = h5py.File(f_hit)\n",
    "    trapEftp_cal = np.append(trapEftp_cal, np.array(hit['ORSIS3302DecoderForEnergy']['hit']['trapEftp_cal']))\n",
    "\n",
    "print(trapEftp_cal[0])"
   ]
  },
  {
   "cell_type": "code",
   "execution_count": null,
   "id": "aab799d9-8e16-4038-96ae-4fa6b128681f",
   "metadata": {},
   "outputs": [],
   "source": [
    "#trapEftp_cal = trapEftp_cal[np.logical_not(np.isnan(trapEftp_cal))]\n",
    "trapEftp_cal = trapEftp_cal[trapEftp_cal>0]"
   ]
  },
  {
   "cell_type": "code",
   "execution_count": null,
   "id": "a26fc06c-680b-4d6e-9520-c669ccb2eab2",
   "metadata": {},
   "outputs": [],
   "source": [
    "print(np.amin(trapEftp_cal))\n",
    "print(np.amax(trapEftp_cal))"
   ]
  },
  {
   "cell_type": "code",
   "execution_count": null,
   "id": "26e6cf26-aa8b-40d3-8bc6-e4244b3efc9e",
   "metadata": {},
   "outputs": [],
   "source": [
    "fig = plt.hist(trapEftp_cal, bins=10000)\n",
    "plt.yscale('log')\n"
   ]
  },
  {
   "cell_type": "code",
   "execution_count": null,
   "id": "445f5ebc-944d-45f8-bb91-8b68c43034ba",
   "metadata": {},
   "outputs": [],
   "source": [
    "run = 245\n",
    "df = dg.fileDB.query(f'run=={run} and skip==False')\n",
    "\n",
    "bins = np.arange(0,40000,4)\n",
    "dsp_dir = '/global/cfs/cdirs/legend/data/cage/LH5/dsp'\n",
    "\n",
    "alp_runtime = 0\n",
    "trapEftp = np.empty(0)\n",
    "\n",
    "for i in range(len(df)):\n",
    "    f_dsp = f\"{dsp_dir}/{df['dsp_file'].iloc[i]}\"\n",
    "    dsp = h5py.File(f_dsp)\n",
    "    trapEftp = np.append(trapEftp, np.array(dsp['ORSIS3302DecoderForEnergy']['dsp']['trapEftp']))\n",
    "    alp_runtime += df['runtime'].iloc[i]"
   ]
  },
  {
   "cell_type": "code",
   "execution_count": null,
   "id": "4e0143c9-030f-4a97-96ed-51127c90775f",
   "metadata": {},
   "outputs": [],
   "source": [
    "alp_hist = plt.hist(trapEftp,bins=bins)\n",
    "plt.yscale('log')\n",
    "plt.ylabel('counts/sec')\n",
    "plt.xlim(1500,3000)"
   ]
  },
  {
   "cell_type": "code",
   "execution_count": null,
   "id": "9b994161-fdb3-42d3-a7f9-76a9abb501da",
   "metadata": {},
   "outputs": [],
   "source": [
    "print(np.amin(trapEftp))\n",
    "print(np.amax(trapEftp))"
   ]
  },
  {
   "cell_type": "code",
   "execution_count": null,
   "id": "d994cc88-bf39-4bff-a7b4-6ffc0370ad31",
   "metadata": {},
   "outputs": [],
   "source": []
  },
  {
   "cell_type": "code",
   "execution_count": null,
   "id": "0ea056db-1f0e-4535-88c4-433244c690db",
   "metadata": {},
   "outputs": [],
   "source": [
    "alp_hist = plt.hist(trapEftp,bins=bins)\n",
    "plt.yscale('log')\n",
    "plt.ylabel('counts/sec')\n",
    "plt.xlim(2000,4000)"
   ]
  },
  {
   "cell_type": "code",
   "execution_count": null,
   "id": "4f562faa-f7b4-4986-a2f7-5c78eaea641c",
   "metadata": {},
   "outputs": [],
   "source": [
    "run = 256\n",
    "df = dg.fileDB.query(f'run == {run} and skip==False')\n",
    "\n",
    "bkg_runtime = 0\n",
    "\n",
    "\n",
    "trapEftp_bkg = np.empty(0)\n",
    "\n",
    "for i in range(len(df)):\n",
    "    f_dsp = f\"{dsp_dir}/{df['dsp_file'].iloc[i]}\"\n",
    "    dsp = h5py.File(f_dsp)\n",
    "    trapEftp_bkg = np.append(trapEftp_bkg, np.array(dsp['ORSIS3302DecoderForEnergy']['dsp']['trapEftp']))\n",
    "    bkg_runtime += df['runtime'].iloc[i]\n",
    "\n",
    "print(trapEftp_bkg[0])\n",
    "print(bkg_runtime)"
   ]
  },
  {
   "cell_type": "code",
   "execution_count": null,
   "id": "83adc31f-102c-42ce-9f82-6a93e73a5beb",
   "metadata": {},
   "outputs": [],
   "source": [
    "bkg_hist = plt.hist(trapEftp_bkg, bins=bins)\n",
    "plt.yscale('log')\n",
    "plt.ylabel('counts/sec')"
   ]
  },
  {
   "cell_type": "code",
   "execution_count": null,
   "id": "bc5d2184-f53f-47f4-a167-e501b53179fd",
   "metadata": {},
   "outputs": [],
   "source": [
    "bkg_hist = plt.hist(trapEftp_bkg, bins=bins)\n",
    "plt.yscale('log')\n",
    "plt.ylabel('counts/sec')\n",
    "plt.xlim(2000,4000)"
   ]
  },
  {
   "cell_type": "code",
   "execution_count": null,
   "id": "485c4e79-a264-4ec1-9ba5-03e0cb9763b3",
   "metadata": {},
   "outputs": [],
   "source": []
  },
  {
   "cell_type": "code",
   "execution_count": null,
   "id": "296a1c71-6a63-4f6d-9584-73ce6f6772a9",
   "metadata": {},
   "outputs": [],
   "source": [
    "bkg_sub = alp_hist[0]/(33*1800) - bkg_hist[0]/(25*1800)"
   ]
  },
  {
   "cell_type": "code",
   "execution_count": null,
   "id": "ac53152d-ad99-447c-a336-8209819a76bc",
   "metadata": {},
   "outputs": [],
   "source": [
    "sub_hist = plt.hist(bins[:-1], bins=bins, weights=bkg_sub)\n",
    "plt.yscale('log')"
   ]
  },
  {
   "cell_type": "code",
   "execution_count": null,
   "id": "8e9f5395-72c4-486b-a019-7d00eed82ae6",
   "metadata": {},
   "outputs": [],
   "source": [
    "dsp_dir = '/global/cfs/cdirs/legend/data/cage/LH5/dsp'\n",
    "\n",
    "cal_const = {\n",
    "    245: (1460, ),\n",
    "    246: (1460, ),\n",
    "    247: (1460, ),\n",
    "    248: (1460, ),\n",
    "    249: (1460, ),\n",
    "    250: (1460, ),\n",
    "    251: (1460, ),\n",
    "    252: (1460, ),\n",
    "    253: (1460, ),\n",
    "    254: (1460, ),\n",
    "    255: (1460, ),\n",
    "    256: (1460, ),\n",
    "    257: (1460, ),\n",
    "    258: (1460, ),\n",
    "    259: (1460, ),\n",
    "    260: (1460, ),\n",
    "    261: (1460, ),\n",
    "    262: (1460, )\n",
    "}\n",
    "    \n",
    "\n",
    "#runtimes are given in minutes\n",
    "def bkg_subtract(alp_run, bkg_run, alp_time=0, bkg_time=0, plot=True):\n",
    "    alp_df = dg.fileDB.query(f'run == {alp_run} and skip==False')\n",
    "    bkg_df = dg.fileDB.query(f'run == {bkg_run} and skip==False')\n",
    "    \n",
    "    alp_runtime = 0\n",
    "    trapEftp_alp = np.empty(0)\n",
    "    for i in range(len(alp_df)):\n",
    "        f_dsp = f\"{dsp_dir}/{alp_df['dsp_file'].iloc[i]}\"\n",
    "        dsp = h5py.File(f_dsp)\n",
    "        trapEftp_alp = np.append(trapEftp_alp, np.array(dsp['ORSIS3302DecoderForEnergy']['dsp']['trapEftp']))\n",
    "        alp_runtime += alp_df['runtime'].iloc[i]\n",
    "    \n",
    "    bkg_runtime = 0\n",
    "    trapEftp_bkg = np.empty(0)\n",
    "    \n",
    "    for i in range(len(bkg_df)):\n",
    "        f_dsp = f\"{dsp_dir}/{bkg_df['dsp_file'].iloc[i]}\"\n",
    "        dsp = h5py.File(f_dsp)\n",
    "        trapEftp_bkg = np.append(trapEftp_bkg, np.array(dsp['ORSIS3302DecoderForEnergy']['dsp']['trapEftp']))\n",
    "        bkg_runtime += bkg_df['runtime'].iloc[i]\n",
    "\n",
    "    if np.isnan(bkg_runtime):\n",
    "        bkg_runtime = bkg_time\n",
    "    if np.isnan(alp_runtime):\n",
    "        alp_runtime = alp_time\n",
    "        \n",
    "    print(alp_runtime, bkg_runtime)    \n",
    "    \n",
    "    bins = np.arange(0,40000,4)\n",
    "    alp_hist = np.histogram(trapEftp_alp, bins=bins)\n",
    "    bkg_hist = np.histogram(trapEftp_bkg, bins=bins)\n",
    "\n",
    "    bkg_sub = alp_hist[0]/(alp_runtime*60) - bkg_hist[0]/(bkg_runtime*60)\n",
    "    \n",
    "    if plot:\n",
    "        plt.hist(bins[:-1], bins=bins, weights=bkg_sub)\n",
    "        plt.ylabel('alpha rate [count/sec]')\n",
    "        plt.xlabel('linear [mm]')\n",
    "        plt.yscale('log')\n",
    "        plt.show()\n",
    "    \n",
    "    return bkg_sub"
   ]
  },
  {
   "cell_type": "code",
   "execution_count": null,
   "id": "e61a0944-ea03-4789-90ca-3f14b5a67381",
   "metadata": {},
   "outputs": [],
   "source": [
    "bkg_subtract(244, 250, 33*30, 25*30)"
   ]
  },
  {
   "cell_type": "code",
   "execution_count": null,
   "id": "9c309efc-d0ce-4e64-9fdc-27f2b2af57e2",
   "metadata": {},
   "outputs": [],
   "source": [
    "rot0_lin5 = bkg_subtract(245, 250, 4*30, 25*30)\n"
   ]
  },
  {
   "cell_type": "code",
   "execution_count": null,
   "id": "f6664a6e-a814-461a-8ef1-9b5ab1266d0c",
   "metadata": {},
   "outputs": [],
   "source": [
    "print(np.sum(rot0_lin5[1250:2500]))"
   ]
  },
  {
   "cell_type": "code",
   "execution_count": null,
   "id": "c5a858c5-511b-4b50-8f88-b6d100460031",
   "metadata": {},
   "outputs": [],
   "source": [
    "rot0_lin6 = bkg_subtract(246, 250, 4*30, 25*30)\n"
   ]
  },
  {
   "cell_type": "code",
   "execution_count": null,
   "id": "4557a425-9c6b-41ec-9aae-c5961da20ea0",
   "metadata": {},
   "outputs": [],
   "source": [
    "print(np.sum(rot0_lin6[1250:2500]))"
   ]
  },
  {
   "cell_type": "code",
   "execution_count": null,
   "id": "9e422441-9461-47a9-b500-b31710abd148",
   "metadata": {},
   "outputs": [],
   "source": [
    "rot0_lin7 = bkg_subtract(247, 250, 4*30, 25*30)\n",
    "print(np.sum(rot0_lin7[1250:2500]))"
   ]
  },
  {
   "cell_type": "code",
   "execution_count": null,
   "id": "00fa5886-fa3b-49f4-bca7-6a184a5385e8",
   "metadata": {},
   "outputs": [],
   "source": [
    "rot0_lin8 = bkg_subtract(248, 250, 4*30, 25*30)\n",
    "print(np.sum(rot0_lin8[1250:2500]))"
   ]
  },
  {
   "cell_type": "code",
   "execution_count": null,
   "id": "66274997-ddee-4468-a6f2-df0dcf615559",
   "metadata": {},
   "outputs": [],
   "source": [
    "rot0_lin9 = bkg_subtract(249, 250, 4*30, 25*30)\n",
    "print(np.sum(rot0_lin9[1250:2500]))"
   ]
  },
  {
   "cell_type": "code",
   "execution_count": null,
   "id": "b91db1a1-1938-481f-a32e-294108253fda",
   "metadata": {},
   "outputs": [],
   "source": [
    "rot0_lin10 = bkg_subtract(240, 241, 4*30, 25*30)\n",
    "print(np.sum(rot0_lin10[1250:2500]))"
   ]
  },
  {
   "cell_type": "code",
   "execution_count": null,
   "id": "b586b400-144c-4361-bb5b-81478d416593",
   "metadata": {},
   "outputs": [],
   "source": []
  },
  {
   "cell_type": "code",
   "execution_count": null,
   "id": "ccf20a91-fd2f-4ef6-b5e1-a5b59f505fc9",
   "metadata": {},
   "outputs": [],
   "source": [
    "print(np.sum(rot180_lin9))"
   ]
  },
  {
   "cell_type": "code",
   "execution_count": null,
   "id": "40a51f17-ba9e-4668-b5c6-986e6a781923",
   "metadata": {},
   "outputs": [],
   "source": [
    "rot0_lin5 = bkg_subtract(245, 250, 4*30, 24.5*30, False)\n",
    "rot0_lin6 = bkg_subtract(246, 250, 4*30, 24.5*30, False)\n",
    "rot0_lin7 = bkg_subtract(247, 250, 4*30, 24.5*30, False)\n",
    "rot0_lin8 = bkg_subtract(248, 250, 4*30, 24.5*30, False)\n",
    "rot0_lin9 = bkg_subtract(249, 250, 4*30, 24.5*30, False)\n",
    "rot0_lin10 = bkg_subtract(240, 241, 9*30, 20*30, False)"
   ]
  },
  {
   "cell_type": "code",
   "execution_count": null,
   "id": "76cc732e-c6f5-46f0-b984-23988e4d0b43",
   "metadata": {},
   "outputs": [],
   "source": [
    "print(np.sum(rot180_lin6))"
   ]
  },
  {
   "cell_type": "code",
   "execution_count": null,
   "id": "7cf1c149-b626-4d36-8e79-9d71c2957e75",
   "metadata": {},
   "outputs": [],
   "source": [
    "rot180_lin5 = bkg_subtract(251, 256, 3*30, 30*30, False)\n",
    "rot180_lin6 = bkg_subtract(252, 256, 3*30, 30*30, False)\n",
    "rot180_lin7 = bkg_subtract(253, 256, 3*30, 30*30, False)\n",
    "rot180_lin8 = bkg_subtract(254, 256, 3*30, 30*30, False)\n",
    "rot180_lin9 = bkg_subtract(255, 256, 3*30, 30*30, False)"
   ]
  },
  {
   "cell_type": "code",
   "execution_count": null,
   "id": "829be43b-1bd4-4646-bfc1-aa984b4a9d62",
   "metadata": {},
   "outputs": [],
   "source": [
    "rot145_lin5 = bkg_subtract(257, 263, 3*30, 23.7*30, False)\n",
    "rot145_lin6 = bkg_subtract(258, 263, 3*30, 23.7*30, False)\n",
    "rot145_lin7 = bkg_subtract(259, 263, 3*30, 23.7*30, False)\n",
    "rot145_lin8 = bkg_subtract(260, 263, 3*30, 23.7*30, False)\n",
    "rot145_lin9 = bkg_subtract(261, 263, 3*30, 23.7*30, False)\n",
    "rot145_lin10 = bkg_subtract(262, 263, 3*30, 23.7*30, False)"
   ]
  },
  {
   "cell_type": "code",
   "execution_count": null,
   "id": "2c9e0392-983d-451e-be01-fedd003cd85e",
   "metadata": {},
   "outputs": [],
   "source": [
    "rot0 = [np.sum(rot0_lin5[1250:2500]), np.sum(rot0_lin6[1250:2500]), np.sum(rot0_lin7[1250:2500]), np.sum(rot0_lin8[1250:2500]), np.sum(rot0_lin9[1250:2500]), np.sum(rot0_lin10[1250:2500])]\n",
    "rot180 = [np.sum(rot180_lin5[1250:2500]), np.sum(rot180_lin6[1250:2500]), np.sum(rot180_lin7[1250:2500]), np.sum(rot180_lin8[1250:2500]), np.sum(rot180_lin9[1250:2500])]\n",
    "rot145 = [np.sum(rot145_lin5[1250:2500]), np.sum(rot145_lin6[1250:2500]), np.sum(rot145_lin7[1250:2500]), np.sum(rot145_lin8[1250:2500]), np.sum(rot145_lin9[1250:2500]), np.sum(rot145_lin10[1250:2500])]\n",
    "lin = [5, 6, 7, 8, 9]\n",
    "lin2 = [5, 6, 7, 8, 9, 10]\n",
    "\n",
    "plt.figure(facecolor='w')\n",
    "plt.scatter(lin2, rot0, label='rotary 0')\n",
    "plt.scatter(lin, rot180, label='rotary 180')\n",
    "plt.scatter(lin2, rot145, label='rotary 145')\n",
    "plt.legend()\n",
    "\n",
    "#plt.axvline(7.2, color='blue')\n",
    "#plt.axvline(6.7, color='orange')\n",
    "#plt.axvline(6.7, color='green')\n",
    "\n",
    "plt.xlabel('linear [mm]')\n",
    "plt.ylabel('rate (count/sec)')"
   ]
  },
  {
   "cell_type": "code",
   "execution_count": null,
   "id": "143c7496-d25c-4244-a814-cc4a1237a977",
   "metadata": {},
   "outputs": [],
   "source": [
    "rot180_lin9 = bkg_subtract(255, 256, 3*30, 30*30, True)"
   ]
  },
  {
   "cell_type": "code",
   "execution_count": null,
   "id": "620c7f62-db3b-4ec1-9463-a08788d5f539",
   "metadata": {},
   "outputs": [],
   "source": [
    "np.sum(rot180_lin9)"
   ]
  },
  {
   "cell_type": "code",
   "execution_count": null,
   "id": "4d7a0749-c898-466d-bb47-3ca60d7f28e2",
   "metadata": {},
   "outputs": [],
   "source": [
    "rot0_lin10 = bkg_subtract(240, 241, 8*30, 20*30, True)\n",
    "print(np.sum(rot0_lin10))"
   ]
  },
  {
   "cell_type": "code",
   "execution_count": null,
   "id": "01e65c95-a1d9-4bf0-b414-85e214b562b6",
   "metadata": {},
   "outputs": [],
   "source": []
  }
 ],
 "metadata": {
  "kernelspec": {
   "display_name": "legend-base",
   "language": "python",
   "name": "legend-base"
  },
  "language_info": {
   "codemirror_mode": {
    "name": "ipython",
    "version": 3
   },
   "file_extension": ".py",
   "mimetype": "text/x-python",
   "name": "python",
   "nbconvert_exporter": "python",
   "pygments_lexer": "ipython3",
   "version": "3.8.5"
  }
 },
 "nbformat": 4,
 "nbformat_minor": 5
}
