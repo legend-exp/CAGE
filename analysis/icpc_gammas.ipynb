{
 "cells": [
  {
   "cell_type": "code",
   "execution_count": null,
   "metadata": {},
   "outputs": [],
   "source": [
    "import matplotlib.pyplot as plt\n",
    "import matplotlib.colors as colors\n",
    "import copy\n",
    "import matplotlib\n",
    "\n",
    "import numpy as np\n",
    "import pandas as pd\n",
    "\n",
    "from scipy.signal import find_peaks\n",
    "\n",
    "from pygama.flow import DataLoader\n",
    "from pygama.flow import FileDB\n",
    "from pygama.lgdo import Array\n",
    "from pygama.lgdo import Struct\n",
    "from pygama.lgdo import LH5Store\n",
    "from pygama.math import histogram as pgh"
   ]
  },
  {
   "cell_type": "code",
   "execution_count": null,
   "metadata": {
    "tags": []
   },
   "outputs": [],
   "source": [
    "matplotlib.rcParams[\"font.family\"] = \"serif\""
   ]
  },
  {
   "cell_type": "code",
   "execution_count": null,
   "metadata": {},
   "outputs": [],
   "source": [
    "fdb = FileDB(config=\"../processing/metadata/dataloader_configs/cage_filedb_config.json\", scan=True)\n",
    "fdb.scan_tables_columns()\n",
    "fdb.to_disk(\"../processing/cage_filedb.lh5\", \"o\")"
   ]
  },
  {
   "cell_type": "code",
   "execution_count": null,
   "metadata": {},
   "outputs": [],
   "source": [
    "fdb = FileDB(\"../processing/cage_filedb.lh5\")"
   ]
  },
  {
   "cell_type": "code",
   "execution_count": null,
   "metadata": {},
   "outputs": [],
   "source": [
    "dl = DataLoader(config=\"../processing/metadata/dataloader_configs/cage_loader_config.json\",\n",
    "                filedb=fdb)"
   ]
  },
  {
   "cell_type": "code",
   "execution_count": null,
   "metadata": {},
   "outputs": [],
   "source": [
    "def get_runtime(data):\n",
    "    if 'timestamp' not in data.keys():\n",
    "        return np.sum([get_runtime(data[key]) for key in data.keys()])\n",
    "    # correct for timestamp rollover\n",
    "    clock = 100e6 # 100 MHz\n",
    "    UINT_MAX = 4294967295 # (0xffffffff)\n",
    "    t_max = UINT_MAX / clock\n",
    "\n",
    "\n",
    "    ts = data['timestamp'].nda / clock # converts to float\n",
    "\n",
    "    tdiff = np.diff(ts)\n",
    "    tdiff = np.insert(tdiff, 0 , 0)\n",
    "    iwrap = np.where(tdiff < 0)\n",
    "    iloop = np.append(iwrap[0], len(ts))\n",
    "\n",
    "    ts_new, t_roll = [], 0\n",
    "    for i, idx in enumerate(iloop):\n",
    "        ilo = 0 if i==0 else iwrap[0][i-1]\n",
    "        ihi = idx\n",
    "        ts_block = ts[ilo:ihi]\n",
    "        t_last = ts[ilo-1]\n",
    "        t_diff = t_max - t_last\n",
    "        ts_new.append(ts_block + t_roll)\n",
    "        t_roll += t_last + t_diff\n",
    "    ts_corr = np.concatenate(ts_new)\n",
    "\n",
    "    # calculate runtime and unix stopTime\n",
    "    rt = ts_corr[-1] / 60 # minutes\n",
    "\n",
    "    return rt \n",
    "\n",
    "def calibrate_energy(energy, ebins):\n",
    "    hist, _ = np.histogram(energy, ebins)\n",
    "    third = int(len(ebins)/3)\n",
    "    k40_peak = ebins[np.argmax(hist[third:]) + third]\n",
    "    return energy*1460.8/k40_peak\n",
    "\n",
    "\n",
    "\n",
    "ebins = np.linspace(0, 6000, 1000)\n",
    "cal_ebins = np.linspace(50, 70, 40)\n",
    "dcr_bins = np.arange(-50, 200)\n",
    "tp20_bins = np.arange(0, 1500, 50)\n",
    "tp90_bins = np.arange(0, 1500, 50)\n",
    "toe_bins = np.linspace(0, 1, 50)\n",
    "lt_bins = np.linspace(-2.5e-4, -0.5e-4, 1000)"
   ]
  },
  {
   "cell_type": "code",
   "execution_count": null,
   "metadata": {},
   "outputs": [],
   "source": [
    "sto = LH5Store()"
   ]
  },
  {
   "cell_type": "code",
   "execution_count": null,
   "metadata": {},
   "outputs": [],
   "source": [
    "dl.reset()\n",
    "dl.set_files(f\"run in [433, 471]\")\n",
    "dl.set_output(merge_files=False, columns=[\"trapEmax_ctc\", \"dcr\", \"ToE\", \"timestamp\", \"tp_0\", \"tp_10\", \"tp_20\", \"tp_90\", \"lt_slope\"])\n",
    "bkg = dl.load()\n",
    "sto.write_object(bkg, \"bkg\", \"icpc_scan_data.lh5\")"
   ]
  },
  {
   "cell_type": "code",
   "execution_count": null,
   "metadata": {},
   "outputs": [],
   "source": [
    "bkg, _ = sto.read_object(\"bkg\", \"icpc_scan_data.lh5\")"
   ]
  },
  {
   "cell_type": "code",
   "execution_count": null,
   "metadata": {},
   "outputs": [],
   "source": [
    "bkg_runtime = get_runtime(bkg)\n",
    "print(bkg_runtime)\n",
    "for file in bkg.keys():\n",
    "    bkg[file]['cal_trapEmax_ctc'] = Array(nda=calibrate_energy(bkg[file]['trapEmax_ctc'].nda, ebins))"
   ]
  },
  {
   "cell_type": "code",
   "execution_count": null,
   "metadata": {},
   "outputs": [],
   "source": [
    "cal_bkg_hist = None\n",
    "for file in bkg.keys():\n",
    "    if cal_bkg_hist is None:\n",
    "        cal_bkg_hist, _ = np.histogram(bkg[file]['cal_trapEmax_ctc'].nda, bins=cal_ebins)\n",
    "    else:\n",
    "        cal_bkg_hist += np.histogram(bkg[file]['cal_trapEmax_ctc'].nda, bins=cal_ebins)[0]"
   ]
  },
  {
   "cell_type": "code",
   "execution_count": null,
   "metadata": {},
   "outputs": [],
   "source": [
    "dcr_bkg_hist = None\n",
    "for file in bkg.keys():\n",
    "    if dcr_bkg_hist is None:\n",
    "        dcr_bkg_hist, _, _ = np.histogram2d(bkg[file]['cal_trapEmax_ctc'].nda, bkg[file]['dcr'].nda, bins=(cal_ebins, dcr_bins))\n",
    "    else:\n",
    "        dcr_bkg_hist += np.histogram2d(bkg[file]['cal_trapEmax_ctc'].nda, bkg[file]['dcr'].nda, bins=(cal_ebins, dcr_bins))[0]"
   ]
  },
  {
   "cell_type": "code",
   "execution_count": null,
   "metadata": {},
   "outputs": [],
   "source": [
    "tp020_bkg_hist = None\n",
    "tp1090_bkg_hist = None\n",
    "for file in bkg.keys():\n",
    "    bkg[file]['tp0_20'] = Array(nda = (bkg[file]['tp_20'].nda - bkg[file]['tp_0'].nda) )\n",
    "    bkg[file]['tp10_90'] = Array(nda = (bkg[file]['tp_90'].nda - bkg[file]['tp_10'].nda) )\n",
    "    if tp020_bkg_hist is None:\n",
    "        tp020_bkg_hist = np.histogram(bkg[file]['tp0_20'].nda, bins=tp20_bins)[0]\n",
    "    else:\n",
    "        tp020_bkg_hist += np.histogram(bkg[file]['tp0_20'].nda, bins=tp20_bins)[0]\n",
    "        \n",
    "    if tp1090_bkg_hist is None:\n",
    "        tp1090_bkg_hist = np.histogram(bkg[file]['tp10_90'].nda, bins=tp90_bins)[0]\n",
    "    else:\n",
    "        tp1090_bkg_hist += np.histogram(bkg[file]['tp10_90'].nda, bins=tp90_bins)[0]"
   ]
  },
  {
   "cell_type": "code",
   "execution_count": null,
   "metadata": {},
   "outputs": [],
   "source": [
    "tp020_energy_bkg_hist = None\n",
    "tp1090_energy_bkg_hist = None\n",
    "for file in bkg.keys():\n",
    "    if tp020_energy_bkg_hist is None:\n",
    "        tp020_energy_bkg_hist = np.histogram2d(bkg[file]['cal_trapEmax_ctc'].nda, bkg[file]['tp0_20'].nda, bins=(cal_ebins, tp20_bins))[0]\n",
    "    else:\n",
    "        tp020_energy_bkg_hist += np.histogram2d(bkg[file]['cal_trapEmax_ctc'].nda, bkg[file]['tp0_20'].nda, bins=(cal_ebins, tp20_bins))[0]\n",
    "    \n",
    "    if tp1090_energy_bkg_hist is None:\n",
    "        tp1090_energy_bkg_hist = np.histogram2d(bkg[file]['cal_trapEmax_ctc'].nda, bkg[file]['tp10_90'].nda, bins=(cal_ebins, tp90_bins))[0]\n",
    "    else:\n",
    "        tp1090_energy_bkg_hist += np.histogram2d(bkg[file]['cal_trapEmax_ctc'].nda, bkg[file]['tp10_90'].nda, bins=(cal_ebins, tp90_bins))[0]\n"
   ]
  },
  {
   "cell_type": "code",
   "execution_count": null,
   "metadata": {},
   "outputs": [],
   "source": [
    "toe_bkg_hist = None\n",
    "for file in bkg.keys():\n",
    "    if toe_bkg_hist is None:\n",
    "        toe_bkg_hist = np.histogram2d(bkg[file]['cal_trapEmax_ctc'].nda, bkg[file]['ToE'].nda, bins=(cal_ebins, toe_bins))[0]\n",
    "    else:\n",
    "        toe_bkg_hist += np.histogram2d(bkg[file]['cal_trapEmax_ctc'].nda, bkg[file]['ToE'].nda, bins=(cal_ebins, toe_bins))[0]\n"
   ]
  },
  {
   "cell_type": "code",
   "execution_count": null,
   "metadata": {},
   "outputs": [],
   "source": [
    "lt_bkg_hist = None\n",
    "for file in bkg.keys():\n",
    "    if lt_bkg_hist is None:\n",
    "        lt_bkg_hist = np.histogram2d(bkg[file]['cal_trapEmax_ctc'].nda, bkg[file]['lt_slope'].nda, bins=(cal_ebins, lt_bins))[0]\n",
    "    else:\n",
    "        lt_bkg_hist += np.histogram2d(bkg[file]['cal_trapEmax_ctc'].nda, bkg[file]['lt_slope'].nda, bins=(cal_ebins, lt_bins))[0]\n"
   ]
  },
  {
   "cell_type": "code",
   "execution_count": null,
   "metadata": {},
   "outputs": [],
   "source": [
    "alp_runs = np.arange(434, 471)\n",
    "alp = {}\n",
    "alp_data = Struct(attrs={'keys_dtype': 'int'})\n",
    "for r in alp_runs:\n",
    "    alp[r] = {'rt': 0,\n",
    "              'cal_hist': None}"
   ]
  },
  {
   "cell_type": "code",
   "execution_count": null,
   "metadata": {},
   "outputs": [],
   "source": [
    "# Run to load data and save to file\n",
    "for run in alp_runs:\n",
    "    dl.reset()\n",
    "    dl.set_files(f\"run == {run}\")\n",
    "    dl.set_output(merge_files=False, columns=[\"trapEmax_ctc\", \"dcr\", \"ToE\", \"timestamp\", \"tp_0\", \"tp_10\", \"tp_20\", \"tp_90\", \"lt_slope\"])\n",
    "    data = dl.load()\n",
    "    alp_data[run] = data\n",
    "    \n",
    "    alp[run]['rt'] = get_runtime(data) \n",
    "    for file in data.keys():\n",
    "        data[file]['cal_trapEmax_ctc'] = Array(nda=calibrate_energy(data[file]['trapEmax_ctc'].nda, ebins))\n",
    "        data[file]['tp0_20'] = Array(nda= (data[file]['tp_20'].nda - data[file]['tp_0'].nda) )\n",
    "        data[file]['tp10_90'] = Array(nda= (data[file]['tp_90'].nda - data[file]['tp_10'].nda) )\n",
    "    \n",
    "    cal_data_hist = None\n",
    "    for file in data.keys():\n",
    "        if cal_data_hist is None:\n",
    "            cal_data_hist, _ = np.histogram(data[file]['cal_trapEmax_ctc'].nda, bins=cal_ebins)\n",
    "        else:\n",
    "            cal_data_hist += np.histogram(data[file]['cal_trapEmax_ctc'].nda, bins=cal_ebins)[0]\n",
    "    alp[run]['cal_hist'] = cal_data_hist\n",
    "    \n",
    "    dcr_data_hist = None\n",
    "    for file in data.keys():\n",
    "        if dcr_data_hist is None:\n",
    "            dcr_data_hist, _, _ = np.histogram2d(data[file]['cal_trapEmax_ctc'].nda, data[file]['dcr'].nda, bins=(cal_ebins, dcr_bins))\n",
    "        else:\n",
    "            dcr_data_hist += np.histogram2d(data[file]['cal_trapEmax_ctc'].nda, data[file]['dcr'].nda, bins=(cal_ebins, dcr_bins))[0]\n",
    "    alp[run]['dcr_hist'] = dcr_data_hist\n",
    "    \n",
    "    alp[run]['subbed_energy_hist'] = alp[run]['cal_hist']/alp[run]['rt'] - cal_bkg_hist/bkg_runtime\n",
    "    alp[run]['subbed_energy_unc'] = np.sqrt(alp[run]['cal_hist'])/alp[run]['rt'] - np.sqrt(cal_bkg_hist)/bkg_runtime\n",
    "    \n",
    "    tp020_hist = None\n",
    "    for file in data.keys():\n",
    "        if tp020_hist is None:\n",
    "            tp020_hist = np.histogram(data[file]['tp0_20'].nda, bins=tp20_bins)[0]\n",
    "        else:\n",
    "            tp020_hist += np.histogram(data[file]['tp0_20'].nda, bins=tp20_bins)[0]\n",
    "    alp[run]['tp020_hist'] = tp020_hist\n",
    "\n",
    "    tp1090_hist = None\n",
    "    for file in data.keys():\n",
    "        if tp1090_hist is None:\n",
    "            tp1090_hist = np.histogram(data[file]['tp10_90'].nda, bins=tp90_bins)[0]\n",
    "        else:\n",
    "            tp1090_hist += np.histogram(data[file]['tp10_90'].nda, bins=tp90_bins)[0]\n",
    "    alp[run]['tp1090_hist'] = tp1090_hist\n",
    "    \n",
    "    tp20_energy_hist = None\n",
    "    for file in data.keys():\n",
    "        if tp20_energy_hist is None:\n",
    "            tp20_energy_hist = np.histogram2d(data[file]['cal_trapEmax_ctc'].nda, data[file]['tp0_20'].nda, bins=(cal_ebins, tp20_bins))[0]\n",
    "        else:\n",
    "            tp20_energy_hist += np.histogram2d(data[file]['cal_trapEmax_ctc'].nda, data[file]['tp0_20'].nda, bins=(cal_ebins, tp20_bins))[0]\n",
    "    alp[run]['tp20_energy_hist'] = tp20_energy_hist\n",
    "    \n",
    "    tp90_energy_hist = None\n",
    "    for file in data.keys():\n",
    "        if tp90_energy_hist is None:\n",
    "            tp90_energy_hist = np.histogram2d(data[file]['cal_trapEmax_ctc'].nda, data[file]['tp10_90'].nda, bins=(cal_ebins, tp90_bins))[0]\n",
    "        else:\n",
    "            tp90_energy_hist += np.histogram2d(data[file]['cal_trapEmax_ctc'].nda, data[file]['tp10_90'].nda, bins=(cal_ebins, tp90_bins))[0]\n",
    "    alp[run]['tp90_energy_hist'] = tp90_energy_hist\n",
    "    \n",
    "    toe_hist = None\n",
    "    for file in data.keys():\n",
    "        if toe_hist is None:\n",
    "            toe_hist = np.histogram2d(data[file]['cal_trapEmax_ctc'].nda, data[file]['ToE'].nda, bins=(cal_ebins, toe_bins))[0]\n",
    "        else:\n",
    "            toe_hist += np.histogram2d(data[file]['cal_trapEmax_ctc'].nda, data[file]['ToE'].nda, bins=(cal_ebins, toe_bins))[0]\n",
    "    alp[run]['toe_hist'] = toe_hist\n",
    "    \n",
    "    lt_hist = None\n",
    "    for file in data.keys():\n",
    "        if lt_hist is None:\n",
    "            lt_hist = np.histogram2d(data[file]['cal_trapEmax_ctc'].nda, data[file]['lt_slope'].nda, bins=(cal_ebins, lt_bins))[0]\n",
    "        else:\n",
    "            lt_hist += np.histogram2d(data[file]['cal_trapEmax_ctc'].nda, data[file]['lt_slope'].nda, bins=(cal_ebins, lt_bins))[0]\n",
    "    alp[run]['lt_hist'] = lt_hist\n",
    "alp_data.update_datatype()\n",
    "sto.write_object(alp_data, \"alp\", \"icpc_scan_data.lh5\", wo_mode=\"o\")"
   ]
  },
  {
   "cell_type": "code",
   "execution_count": null,
   "metadata": {},
   "outputs": [],
   "source": [
    "# Run to use already saved data and remake histograms\n",
    "alp_data, _ = sto.read_object(\"alp\", \"icpc_scan_data.lh5\")\n",
    "\n",
    "for run in alp_runs:\n",
    "    data = alp_data[str(run)]\n",
    "    \n",
    "    alp[run]['rt'] = get_runtime(data) \n",
    "    for file in data.keys():\n",
    "        data[file]['cal_trapEmax_ctc'] = Array(nda=calibrate_energy(data[file]['trapEmax_ctc'].nda, ebins))\n",
    "        data[file]['tp0_20'] = Array(nda= (data[file]['tp_20'].nda - data[file]['tp_0'].nda) )\n",
    "        data[file]['tp10_90'] = Array(nda= (data[file]['tp_90'].nda - data[file]['tp_10'].nda) )\n",
    "    toe_hist = None\n",
    "    for file in data.keys():\n",
    "        if toe_hist is None:\n",
    "            toe_hist = np.histogram2d(data[file]['cal_trapEmax_ctc'].nda, data[file]['ToE'].nda, bins=(cal_ebins, toe_bins))[0]\n",
    "        else:\n",
    "            toe_hist += np.histogram2d(data[file]['cal_trapEmax_ctc'].nda, data[file]['ToE'].nda, bins=(cal_ebins, toe_bins))[0]\n",
    "    alp[run]['toe_hist'] = toe_hist   \n",
    "    \n",
    "    tp020_hist = None\n",
    "    for file in data.keys():\n",
    "        if tp020_hist is None:\n",
    "            tp020_hist = np.histogram(data[file]['tp0_20'].nda, bins=tp20_bins)[0]\n",
    "        else:\n",
    "            tp020_hist += np.histogram(data[file]['tp0_20'].nda, bins=tp20_bins)[0]\n",
    "    alp[run]['tp020_hist'] = tp020_hist\n",
    "    \n",
    "    tp20_energy_hist = None\n",
    "    for file in data.keys():\n",
    "        if tp20_energy_hist is None:\n",
    "            tp20_energy_hist = np.histogram2d(data[file]['cal_trapEmax_ctc'].nda, data[file]['tp0_20'].nda, bins=(cal_ebins, tp20_bins))[0]\n",
    "        else:\n",
    "            tp20_energy_hist += np.histogram2d(data[file]['cal_trapEmax_ctc'].nda, data[file]['tp0_20'].nda, bins=(cal_ebins, tp20_bins))[0]\n",
    "    alp[run]['tp20_energy_hist'] = tp20_energy_hist\n",
    "    \n",
    "    \n",
    "    tp90_energy_hist = None\n",
    "    for file in data.keys():\n",
    "        if tp90_energy_hist is None:\n",
    "            tp90_energy_hist = np.histogram2d(data[file]['cal_trapEmax_ctc'].nda, data[file]['tp10_90'].nda, bins=(cal_ebins, tp90_bins))[0]\n",
    "        else:\n",
    "            tp90_energy_hist += np.histogram2d(data[file]['cal_trapEmax_ctc'].nda, data[file]['tp10_90'].nda, bins=(cal_ebins, tp90_bins))[0]\n",
    "    alp[run]['tp90_energy_hist'] = tp90_energy_hist\n",
    "    \n",
    "    cal_data_hist = None\n",
    "    for file in data.keys():\n",
    "        if cal_data_hist is None:\n",
    "            cal_data_hist, _ = np.histogram(data[file]['cal_trapEmax_ctc'].nda, bins=cal_ebins)\n",
    "        else:\n",
    "            cal_data_hist += np.histogram(data[file]['cal_trapEmax_ctc'].nda, bins=cal_ebins)[0]\n",
    "    alp[run]['cal_hist'] = cal_data_hist\n",
    "\n",
    "\"\"\"    \n",
    "\n",
    "    dcr_data_hist = None\n",
    "    for file in data.keys():\n",
    "        if dcr_data_hist is None:\n",
    "            dcr_data_hist, _, _ = np.histogram2d(data[file]['cal_trapEmax_ctc'].nda, data[file]['dcr'].nda, bins=(cal_ebins, dcr_bins))\n",
    "        else:\n",
    "            dcr_data_hist += np.histogram2d(data[file]['cal_trapEmax_ctc'].nda, data[file]['dcr'].nda, bins=(cal_ebins, dcr_bins))[0]\n",
    "    alp[run]['dcr_hist'] = dcr_data_hist\n",
    "    \n",
    "    alp[run]['subbed_energy_hist'] = alp[run]['cal_hist']/alp[run]['rt'] - cal_bkg_hist/bkg_runtime\n",
    "    alp[run]['subbed_energy_unc'] = np.sqrt(alp[run]['cal_hist'])/alp[run]['rt'] - np.sqrt(cal_bkg_hist)/bkg_runtime\n",
    "    \n",
    "    \n",
    "\n",
    "    tp1090_hist = None\n",
    "    for file in data.keys():\n",
    "        if tp1090_hist is None:\n",
    "            tp1090_hist = np.histogram(data[file]['tp10_90'].nda, bins=tp90_bins)[0]\n",
    "        else:\n",
    "            tp1090_hist += np.histogram(data[file]['tp10_90'].nda, bins=tp90_bins)[0]\n",
    "    alp[run]['tp1090_hist'] = tp1090_hist\n",
    "    \n",
    "    tp20_energy_hist = None\n",
    "    for file in data.keys():\n",
    "        if tp20_energy_hist is None:\n",
    "            tp20_energy_hist = np.histogram2d(data[file]['cal_trapEmax_ctc'].nda, data[file]['tp0_20'].nda, bins=(cal_ebins, tp20_bins))[0]\n",
    "        else:\n",
    "            tp20_energy_hist += np.histogram2d(data[file]['cal_trapEmax_ctc'].nda, data[file]['tp0_20'].nda, bins=(cal_ebins, tp20_bins))[0]\n",
    "    alp[run]['tp20_energy_hist'] = tp20_energy_hist\n",
    "    \n",
    "    tp90_energy_hist = None\n",
    "    for file in data.keys():\n",
    "        if tp90_energy_hist is None:\n",
    "            tp90_energy_hist = np.histogram2d(data[file]['cal_trapEmax_ctc'].nda, data[file]['tp10_90'].nda, bins=(cal_ebins, tp90_bins))[0]\n",
    "        else:\n",
    "            tp90_energy_hist += np.histogram2d(data[file]['cal_trapEmax_ctc'].nda, data[file]['tp10_90'].nda, bins=(cal_ebins, tp90_bins))[0]\n",
    "    alp[run]['tp90_energy_hist'] = tp90_energy_hist\n",
    "\"\"\"    \n",
    "    \n",
    "\"\"\"    \n",
    "    lt_hist = None\n",
    "    for file in data.keys():\n",
    "        if lt_hist is None:\n",
    "            lt_hist = np.histogram2d(data[file]['cal_trapEmax_ctc'].nda, data[file]['lt_slope'].nda, bins=(cal_ebins, lt_bins))[0]\n",
    "        else:\n",
    "            lt_hist += np.histogram2d(data[file]['cal_trapEmax_ctc'].nda, data[file]['lt_slope'].nda, bins=(cal_ebins, lt_bins))[0]\n",
    "    alp[run]['lt_hist'] = lt_hist\n",
    "\"\"\""
   ]
  },
  {
   "cell_type": "code",
   "execution_count": null,
   "metadata": {},
   "outputs": [],
   "source": [
    "rot0 = np.arange(458, 471)\n",
    "rot180 = [458, 457, 456, 455, 442, 441,440, 439, 438, 437, 436, 435, 434]\n",
    "rot145 = [458, 454, 453, 452, 451, 450, 449, 448, 447, 446, 445, 444, 443]\n",
    "\n",
    "rot = {\n",
    "    0: rot0,\n",
    "    145: rot145,\n",
    "    180: rot180\n",
    "}\n",
    "\n",
    "linrange = [0, 1, 2, 3, 4, 5, 6, 7, 8, 9, 10, 12, 14]"
   ]
  },
  {
   "cell_type": "code",
   "execution_count": null,
   "metadata": {
    "tags": []
   },
   "outputs": [],
   "source": [
    "run = '467'\n",
    "data = alp_data[run]\n",
    "toe_1d_hist = None\n",
    "temp_bins = None\n",
    "for file in data.keys():\n",
    "    if toe_1d_hist is None:\n",
    "        toe_1d_hist, temp_bins = np.histogram(data[file]['ToE'].nda, bins=np.linspace(0, 1, 100))\n",
    "    else:\n",
    "        toe_1d_hist += np.histogram(data[file]['ToE'].nda, bins=temp_bins)[0]\n",
    "pgh.plot_hist(toe_1d_hist, bins=temp_bins)"
   ]
  },
  {
   "cell_type": "code",
   "execution_count": null,
   "metadata": {
    "tags": []
   },
   "outputs": [],
   "source": [
    "for i, run in enumerate(rot145):\n",
    "    plt.figure()\n",
    "    pgh.plot_hist(alp[run]['cal_hist'], bins=cal_ebins)\n",
    "    plt.title(f\"Rotary 145 - Linear {linrange[i]}\")"
   ]
  },
  {
   "cell_type": "code",
   "execution_count": null,
   "metadata": {
    "tags": []
   },
   "outputs": [],
   "source": [
    "for i, run in enumerate(rot0):\n",
    "    plt.figure()\n",
    "    pgh.plot_hist(cal_bkg_hist/bkg_runtime, bins=cal_ebins, color='#9c948b', label=\"background\")\n",
    "    pgh.plot_hist(alp[run]['cal_hist']/alp[run]['rt'], bins=cal_ebins, color='#8b9cf6', label=\"source on\")\n",
    "    plt.title(f\"Gamma Spectrum - Rotary 0, Linear {linrange[i]}\")\n",
    "    plt.xlabel(\"Energy [keV]\")\n",
    "    plt.ylabel(\"Counts\")\n",
    "    plt.yscale('log')\n",
    "    plt.legend()"
   ]
  },
  {
   "cell_type": "code",
   "execution_count": null,
   "metadata": {
    "tags": []
   },
   "outputs": [],
   "source": [
    "rot145"
   ]
  },
  {
   "cell_type": "code",
   "execution_count": null,
   "metadata": {
    "tags": []
   },
   "outputs": [],
   "source": [
    "for i, run in enumerate(rot145):\n",
    "    plt.figure()\n",
    "    pgh.plot_hist(cal_bkg_hist/bkg_runtime, bins=cal_ebins, color='#9c948b', label=\"background\")\n",
    "    pgh.plot_hist(alp[run]['cal_hist']/alp[run]['rt'], bins=cal_ebins, color='#8b9cf6', label=\"source on\")\n",
    "    plt.title(f\"Gamma Spectrum - Rotary 145, Linear {linrange[i]}\")\n",
    "    plt.xlabel(\"Energy [keV]\")\n",
    "    plt.ylabel(\"Counts\")\n",
    "    plt.yscale('log')\n",
    "    plt.legend()"
   ]
  },
  {
   "cell_type": "code",
   "execution_count": null,
   "metadata": {
    "tags": []
   },
   "outputs": [],
   "source": [
    "print(cal_ebins[15], cal_ebins[25])"
   ]
  },
  {
   "cell_type": "code",
   "execution_count": null,
   "metadata": {},
   "outputs": [],
   "source": [
    "plt.figure()\n",
    "pgh.plot_hist(cal_bkg_hist/bkg_runtime, bins=cal_ebins)\n",
    "pgh.plot_hist(alp[447]['cal_hist']/alp[447]['rt'], bins=cal_ebins)\n",
    "pgh.plot_hist((alp[447]['cal_hist']/alp[447]['rt'] - cal_bkg_hist/bkg_runtime), bins=cal_ebins)\n",
    "plt.yscale('log')\n",
    "#plt.xlim(50, 70)"
   ]
  },
  {
   "cell_type": "code",
   "execution_count": null,
   "metadata": {
    "tags": []
   },
   "outputs": [],
   "source": [
    "np.sum((alp[447]['cal_hist']/alp[447]['rt'] - cal_bkg_hist/bkg_runtime)[18-5:18+6])"
   ]
  },
  {
   "cell_type": "code",
   "execution_count": null,
   "metadata": {
    "tags": []
   },
   "outputs": [],
   "source": [
    "np.argmax((alp[447]['cal_hist']/alp[447]['rt'] - cal_bkg_hist/bkg_runtime))"
   ]
  },
  {
   "cell_type": "code",
   "execution_count": null,
   "metadata": {
    "tags": []
   },
   "outputs": [],
   "source": [
    "alp_count = {}\n",
    "alp_err = {}\n",
    "\n",
    "ilo = 15\n",
    "ihi = 26\n",
    "\n",
    "for r in alp_runs:\n",
    "    bkg_sub_hist = alp[r]['cal_hist']/alp[r]['rt'] - cal_bkg_hist/bkg_runtime\n",
    "    imax = np.argmax(bkg_sub_hist)\n",
    "    alp_count[r] = np.sum((alp[r]['cal_hist']/alp[r]['rt'] - cal_bkg_hist/bkg_runtime)[imax-5:imax+6])\n",
    "    alp_err[r] = np.sqrt( np.sum( ((np.sqrt(alp[r]['cal_hist'])/alp[r]['rt'] - np.sqrt(cal_bkg_hist)/bkg_runtime )**2)[imax-5:imax+6] ) )\n",
    "'''\n",
    "for r in rot0:\n",
    "    alp_count[0].append(np.sum((alp[r]['cal_hist']/alp[r]['rt'] - cal_bkg_hist/bkg_runtime)[ilo:ihi]))\n",
    "    alp_err[0].append(np.sqrt( np.sum( ((np.sqrt(alp[r]['cal_hist'])/alp[r]['rt'] - np.sqrt(cal_bkg_hist)/bkg_runtime )**2)[ilo:ihi] ) ))\n",
    "                        \n",
    "for r in rot145:\n",
    "    alp_count[1].append(np.sum((alp[r]['cal_hist']/alp[r]['rt'] - cal_bkg_hist/bkg_runtime)[ilo:ihi]))\n",
    "    alp_err[1].append(np.sqrt( np.sum( ((np.sqrt(alp[r]['cal_hist'])/alp[r]['rt'] - np.sqrt(cal_bkg_hist)/bkg_runtime )**2)[ilo:ihi] ) ))\n",
    "                        \n",
    "for r in rot180:\n",
    "    alp_count[2].append(np.sum((alp[r]['cal_hist']/alp[r]['rt'] - cal_bkg_hist/bkg_runtime)[ilo:ihi]))\n",
    "    alp_err[2].append(np.sqrt( np.sum( ((np.sqrt(alp[r]['cal_hist'])/alp[r]['rt'] - np.sqrt(cal_bkg_hist)/bkg_runtime )**2)[ilo:ihi] ) ))\n",
    "'''"
   ]
  },
  {
   "cell_type": "code",
   "execution_count": null,
   "metadata": {
    "tags": []
   },
   "outputs": [],
   "source": [
    "rots = [rot0, rot145, rot180]\n",
    "rots_n = [0, 145, 180]\n",
    "line_colors = ['#293183', '#8b9cf6', '#9c948b']\n",
    "walk_off = [8.4, 3.6, 4]\n",
    "plt.figure(figsize=(12,9))\n",
    "for i in range(len(rots)):\n",
    "    values = [alp_count[r] for r in rots[i]] \n",
    "    errs = [alp_err[r] for r in rots[i]] \n",
    "    plt.errorbar(linrange, values, yerr=errs, fmt='o', label=f\"rot{rots_n[i]}\", color=line_colors[i])\n",
    "    plt.axvline(walk_off[i], color = line_colors[i], linestyle='dashed')\n",
    "plt.legend(loc=2)\n",
    "plt.xlabel(\"Radius [mm]\")\n",
    "plt.ylabel(\"Gamma Rate [cts/min]\")\n",
    "plt.title(\"Linear Scan Gamma Rate\")"
   ]
  },
  {
   "cell_type": "code",
   "execution_count": null,
   "metadata": {
    "tags": []
   },
   "outputs": [],
   "source": [
    "for i, run in enumerate(rot0):\n",
    "    plt.figure()\n",
    "    cmap=matplotlib.colormaps['viridis']\n",
    "    cmap.set_bad('#440154')\n",
    "    plt.pcolor(cal_ebins, toe_bins, \n",
    "                   alp[run]['toe_hist'].T, cmap=cmap, norm=colors.LogNorm())\n",
    "    plt.title(f\"Rotary 0 - Linear {linrange[i]}\")\n",
    "    plt.xlabel(\"Energy [keV]\")\n",
    "    plt.ylabel(\"T/E [arb]\")\n",
    "    plt.colorbar()"
   ]
  },
  {
   "cell_type": "code",
   "execution_count": null,
   "metadata": {
    "tags": []
   },
   "outputs": [],
   "source": [
    "for i, run in enumerate(rot145):\n",
    "    plt.figure()\n",
    "    plt.pcolor(cal_ebins, tp90_bins, \n",
    "                   alp[run]['tp90_energy_hist'].T, cmap=matplotlib.colormaps['Blues'], norm=colors.LogNorm())\n",
    "    plt.title(f\"Rotary 145 - Linear {linrange[i]}\")"
   ]
  },
  {
   "cell_type": "code",
   "execution_count": null,
   "metadata": {},
   "outputs": [],
   "source": [
    "hists = {\n",
    "    \"dcr\": {\n",
    "        \"alp_name\": \"dcr_hist\",\n",
    "        \"bkg\": dcr_bkg_hist,\n",
    "        \"bins\": dcr_bins,\n",
    "        \"title\": \"DCR\"\n",
    "    },\n",
    "    \"ToE\": {\n",
    "        \"alp_name\": \"toe_hist\",\n",
    "        \"bkg\": toe_bkg_hist,\n",
    "        \"bins\": toe_bins,\n",
    "        \"title\": \"ToE\"\n",
    "    },\n",
    "    \"tp020\": {\n",
    "        \"alp_name\": \"tp20_energy_hist\",\n",
    "        \"bkg\": tp020_energy_bkg_hist,\n",
    "        \"bins\": tp20_bins,\n",
    "        \"title\": \"tp20-tp0\"\n",
    "    },\n",
    "    \"tp1090\": {\n",
    "        \"alp_name\": \"tp90_energy_hist\",\n",
    "        \"bkg\": tp1090_energy_bkg_hist,\n",
    "        \"bins\": tp90_bins,\n",
    "        \"title\": \"tp90-tp10\"\n",
    "    },\n",
    "    \"lt\": {\n",
    "        \"alp_name\": \"lt_hist\",\n",
    "        \"bkg\": lt_bkg_hist,\n",
    "        \"bins\": lt_bins,\n",
    "        \"title\": \"Log-Tail Slope\"\n",
    "    }\n",
    "}\n",
    "\n",
    "def plot_subbed_hist_by_run(r, var, cuts=None, save=False):\n",
    "    \"\"\"\n",
    "    r: int, rotary angle (0, 145, or 180)\n",
    "    var: str, key in hists above\n",
    "    cuts: tuple of array-likes, plt.plot(cuts[0], cuts[1])\n",
    "    save: save figures in plots folder\n",
    "    \"\"\"\n",
    "    cmap = copy.copy(matplotlib.cm.get_cmap('viridis'))\n",
    "    cmap.set_bad(cmap(0))\n",
    "    for i, run in enumerate(rot[r]):\n",
    "        sub = alp[run][hists[var]['alp_name']].T/alp[run]['rt']-hists[var]['bkg'].T/bkg_runtime\n",
    "        plt.figure()\n",
    "        plt.pcolor(cal_ebins, hists[var]['bins'], \n",
    "                   sub, \n",
    "                   norm=colors.LogNorm(vmin=1e-4, vmax=1), cmap=cmap)\n",
    "        if cuts:\n",
    "            plt.plot(cuts[0], cuts[1], color='r')\n",
    "        plt.title(f\"{hists[var]['title']} vs Energy Rotary {r} - Linear {linrange[i]}\")\n",
    "        plt.colorbar()\n",
    "        if save:\n",
    "            plt.savefig(f\"plots/gammas/{var}_rot{r}_linear{linrange[i]}.png\")"
   ]
  },
  {
   "cell_type": "code",
   "execution_count": null,
   "metadata": {},
   "outputs": [],
   "source": [
    "# cuts = (cal_ebins[1:], 60*np.log(cal_ebins[1:])) #tp1090\n",
    "cuts = (cal_ebins[1:], [200]*len(cal_ebins[1:]))\n",
    "for r in [0, 145, 180]:\n",
    "    plot_subbed_hist_by_run(r, \"tp020\", cuts, save=False)"
   ]
  },
  {
   "cell_type": "code",
   "execution_count": null,
   "metadata": {},
   "outputs": [],
   "source": [
    "from tqdm.notebook import tqdm"
   ]
  },
  {
   "cell_type": "code",
   "execution_count": null,
   "metadata": {},
   "outputs": [],
   "source": [
    "alp_dfs = {}\n",
    "for i in tqdm(range(len(alp_runs))):\n",
    "    run = alp_runs[i]\n",
    "    run_df = None\n",
    "    data = alp_data[run]\n",
    "    file_dfs = [data[file].get_dataframe() for file in data.keys()]\n",
    "    run_df = pd.concat(file_dfs, ignore_index=True)\n",
    "    alp_dfs[run] = run_df"
   ]
  },
  {
   "cell_type": "code",
   "execution_count": null,
   "metadata": {},
   "outputs": [],
   "source": [
    "bkg_df = pd.concat(bkg[file].get_dataframe() for file in bkg.keys())"
   ]
  },
  {
   "cell_type": "code",
   "execution_count": null,
   "metadata": {},
   "outputs": [],
   "source": [
    "cut_dfs = {}\n",
    "full_cut = \" tp_20 - tp_0 < 200\"\n",
    "for r in alp_dfs.keys():\n",
    "    cut_dfs[r] = alp_dfs[r].query(full_cut)\n",
    "\n",
    "bkg_cut_df = bkg_df.query(full_cut)"
   ]
  },
  {
   "cell_type": "code",
   "execution_count": null,
   "metadata": {},
   "outputs": [],
   "source": [
    "pars = {\n",
    "    \"dcr\": dcr_bins,\n",
    "    \"ToE\": toe_bins,\n",
    "    \"tp0_20\": tp20_bins,\n",
    "    \"tp10_90\": tp90_bins\n",
    "}\n",
    "\n",
    "subbed_cut_hists = {}\n",
    "for i in tqdm(range(len(alp_runs))):\n",
    "    run = alp_runs[i]\n",
    "    subbed_cut_hists[run] = {}\n",
    "    for par in pars:\n",
    "        subbed_cut_hists[run][par] = np.histogram2d(cut_dfs[run]['cal_trapEmax_ctc'], cut_dfs[run][par],\n",
    "                                                    bins=(cal_ebins, pars[par]))[0]/alp[run]['rt'] - np.histogram2d(bkg_df['cal_trapEmax_ctc'], bkg_df[par],\n",
    "                                                    bins=(cal_ebins, pars[par]))[0]/bkg_runtime"
   ]
  },
  {
   "cell_type": "code",
   "execution_count": null,
   "metadata": {},
   "outputs": [],
   "source": [
    "alp_count = [[],[],[]]\n",
    "\n",
    "for r in rot0:\n",
    "    alp_count[0].append(np.sum(subbed_cut_hists[r]['dcr'], where=(subbed_cut_hists[r]['dcr'] > 0)))\n",
    "                        \n",
    "for r in rot145:\n",
    "    alp_count[1].append(np.sum(subbed_cut_hists[r]['dcr'], where=(subbed_cut_hists[r]['dcr'] > 0)))\n",
    "                        \n",
    "for r in rot180:\n",
    "    alp_count[2].append(np.sum(subbed_cut_hists[r]['dcr'], where=(subbed_cut_hists[r]['dcr'] > 0)))\n"
   ]
  },
  {
   "cell_type": "code",
   "execution_count": null,
   "metadata": {},
   "outputs": [],
   "source": [
    "rots = [0, 145, 180]\n",
    "for i in range(len(alp_count)):\n",
    "    plt.errorbar(linrange, alp_count[i], yerr=np.sqrt(alp_count[i]), fmt='.', label=f\"rot{rots[i]}\")\n",
    "plt.legend()"
   ]
  },
  {
   "cell_type": "code",
   "execution_count": null,
   "metadata": {},
   "outputs": [],
   "source": [
    "import gc\n",
    "gc.collect()"
   ]
  },
  {
   "cell_type": "code",
   "execution_count": null,
   "metadata": {},
   "outputs": [],
   "source": [
    "for i, run in enumerate(rot145):\n",
    "    plt.figure()\n",
    "    alp_hist = np.histogram(cut_dfs[run][\"cal_trapEmax_ctc\"],bins=cal_ebins)[0]/alp[run]['rt']\n",
    "    bkg_hist = np.histogram(bkg_cut_df[\"cal_trapEmax_ctc\"],bins=cal_ebins)[0]/bkg_runtime\n",
    "    sub_hist = alp_hist - bkg_hist\n",
    "    \n",
    "    pgh.plot_hist(alp_hist, bins=cal_ebins, label=\"alp\")\n",
    "    pgh.plot_hist(bkg_hist, bins=cal_ebins, label=\"bkg\")\n",
    "    pgh.plot_hist(sub_hist, bins=cal_ebins, label=\"sub\")\n",
    "    plt.xlabel(\"Energy\")\n",
    "    plt.ylabel(\"Count\")\n",
    "    plt.title(f\"Rotary 145, Linear {linrange[i]}\")\n",
    "    plt.legend()\n",
    "    #plt.savefig(f\"plots/gammas/rotary145_linear{linrange[i]}_gamma_spectrum.png\")"
   ]
  },
  {
   "cell_type": "code",
   "execution_count": null,
   "metadata": {},
   "outputs": [],
   "source": [
    "par = 'tp0_20'\n",
    "for i, run in enumerate(rot0):\n",
    "    plt.figure()\n",
    "    plt.pcolor(cal_ebins, pars[par], subbed_cut_hists[run][par].T,\n",
    "              norm=colors.LogNorm(vmin=1e-4, vmax=1))\n",
    "    plt.colorbar()\n",
    "    plt.title(f\"Rotary 0 Linear {linrange[i]} - Cut + Bkg-Sub\")\n",
    "    plt.xlabel(\"Energy\")\n",
    "    plt.ylabel(par)\n",
    "    # plt.savefig(f'plots/cut_{par}_rot0_linear{linrange[i]}.png')"
   ]
  },
  {
   "cell_type": "markdown",
   "metadata": {},
   "source": [
    "## Looking at Alpha Waveforms"
   ]
  },
  {
   "cell_type": "code",
   "execution_count": null,
   "metadata": {},
   "outputs": [],
   "source": [
    "dl.reset()\n",
    "dl.set_files(f\"run == 443\")\n",
    "dl.set_cuts({\"hit\": \"(trapEmax_ctc/0.7 > -35000*(ToE - 0.5)**2 + 1300) and ((tp_20 - tp_0) < 60*log(trapEmax_ctc/0.7-500)-150)\"})\n",
    "dl.set_output(merge_files=True, columns=[\"trapEmax_ctc\", \"dcr\", \"ToE\", \"timestamp\", \"tp_0\", \"tp_10\", \"tp_20\", \"tp_90\", \"waveform\"])\n",
    "rot145_lin9_alp = dl.load()\n",
    "rot145_lin9_alp['cal_trapEmax_ctc'] = Array(nda=calibrate_energy(rot145_lin9_alp['trapEmax_ctc'].nda, ebins))"
   ]
  },
  {
   "cell_type": "code",
   "execution_count": null,
   "metadata": {},
   "outputs": [],
   "source": [
    "dl.reset()\n",
    "dl.set_files(f\"run == 443\")\n",
    "dl.set_cuts({\"hit\": \"ToE < 0.8 and ToE > 0.65 and (tp_90 - tp_10) < 200\"})\n",
    "dl.set_output(merge_files=True, columns=[\"trapEmax_ctc\", \"dcr\", \"ToE\", \"timestamp\", \"tp_0\", \"tp_10\", \"tp_20\", \"tp_90\", \"lt_slope\", \"waveform\"])\n",
    "rot145_lin14_ToE_alp = dl.load()\n",
    "rot145_lin14_ToE_alp['cal_trapEmax_ctc'] = Array(nda=calibrate_energy(rot145_lin14_ToE_alp['trapEmax_ctc'].nda, ebins))"
   ]
  },
  {
   "cell_type": "code",
   "execution_count": null,
   "metadata": {},
   "outputs": [],
   "source": [
    "dl.reset()\n",
    "dl.set_files(f\"run == 436\")\n",
    "dl.set_cuts({\"hit\": \"ToE < 0.8 and ToE > 0.6 and trapEmax_ctc > 1500/0.7\"})\n",
    "dl.set_output(merge_files=True, columns=[\"trapEmax_ctc\", \"dcr\", \"ToE\", \"timestamp\", \"tp_0\", \"tp_10\", \"tp_20\", \"tp_90\", \"lt_slope\", \"waveform\"])\n",
    "rot180_lin10_ToE_alp = dl.load()\n",
    "rot180_lin10_ToE_alp['cal_trapEmax_ctc'] = Array(nda=calibrate_energy(rot180_lin10_ToE_alp['trapEmax_ctc'].nda, ebins))"
   ]
  },
  {
   "cell_type": "code",
   "execution_count": null,
   "metadata": {},
   "outputs": [],
   "source": [
    "dl.reset()\n",
    "dl.set_files(f\"run == 448\")\n",
    "dl.set_cuts({\"hit\": \"abs(ToE - (3e-4*trapEmax_ctc*0.7304 + 0.05) ) < 0.05 and trapEmax_ctc < 500/0.7304\"})\n",
    "dl.set_output(merge_files=True, columns=[\"trapEmax_ctc\", \"dcr\", \"ToE\", \"timestamp\", \"tp_0\", \"tp_10\", \"tp_20\", \"tp_90\", \"lt_slope\", \"waveform\"])\n",
    "rot145_lin7_ToE_alp = dl.load()\n",
    "rot145_lin7_ToE_alp['cal_trapEmax_ctc'] = Array(nda=calibrate_energy(rot145_lin7_ToE_alp['trapEmax_ctc'].nda, ebins))"
   ]
  },
  {
   "cell_type": "code",
   "execution_count": null,
   "metadata": {},
   "outputs": [],
   "source": [
    "dl.reset()\n",
    "dl.set_files(f\"cycle == 3865\")\n",
    "dl.set_cuts({\"hit\": \"abs(ToE - 0.5) < 0.05 and abs(dcr) < 1\"})\n",
    "dl.set_output(merge_files=True, columns=[\"trapEmax_ctc\", \"dcr\", \"ToE\", \"timestamp\", \"tp_0\", \"tp_10\", \"tp_20\", \"tp_90\", \"lt_slope\", \"waveform\"])\n",
    "\n",
    "bulk_el = dl.build_entry_list(save_output_columns=True)"
   ]
  },
  {
   "cell_type": "code",
   "execution_count": null,
   "metadata": {},
   "outputs": [],
   "source": [
    "bulk = dl.load(bulk_el)\n",
    "bulk['cal_trapEmax_ctc'] = Array(nda=calibrate_energy(bulk['trapEmax_ctc'].nda, ebins))"
   ]
  },
  {
   "cell_type": "code",
   "execution_count": null,
   "metadata": {},
   "outputs": [],
   "source": [
    "def truncate_colormap(cmap, minval=0.0, maxval=1.0, n=100):\n",
    "    new_cmap = colors.LinearSegmentedColormap.from_list(\n",
    "        'trunc({n},{a:.2f},{b:.2f})'.format(n=cmap.name, a=minval, b=maxval),\n",
    "        cmap(np.linspace(minval, maxval, n)))\n",
    "    return new_cmap\n",
    "\n",
    "blue_cmap = truncate_colormap(plt.get_cmap('Blues'), 0, 0.5)\n",
    "red_cmap = truncate_colormap(plt.get_cmap('Reds'), 0, 0.5)\n",
    "orange_cmap = truncate_colormap(plt.get_cmap('Oranges'), 0, 0.5)\n",
    "green_cmap = truncate_colormap(plt.get_cmap('Greens'), 0, 0.5)\n",
    "purple_cmap = truncate_colormap(plt.get_cmap('Purples'), 0, 0.5)"
   ]
  },
  {
   "cell_type": "code",
   "execution_count": null,
   "metadata": {},
   "outputs": [],
   "source": [
    "fig, ax = plt.subplots(1,1, figsize=(20,5))\n",
    "bulk_hist = plt.hist2d(x=bulk['cal_trapEmax_ctc'].nda, y=bulk['dcr'].nda,\n",
    "          bins=(cal_ebins, dcr_bins), cmap=blue_cmap, norm=colors.LogNorm(vmax=1), label='bulk')\n",
    "seagull_hist = plt.hist2d(x=rot145_lin14_ToE_alp['cal_trapEmax_ctc'].nda, y=rot145_lin14_ToE_alp['dcr'].nda,\n",
    "          bins=(cal_ebins, dcr_bins), cmap=red_cmap, norm=colors.LogNorm(vmax=1), label='seagull')\n",
    "lowE_hist = plt.hist2d(x=rot145_lin7_ToE_alp['cal_trapEmax_ctc'].nda, y=rot145_lin7_ToE_alp['dcr'].nda,\n",
    "          bins=(cal_ebins, dcr_bins), cmap=orange_cmap, norm=colors.LogNorm(vmax=1), label='lowE')\n",
    "roi_hist = plt.hist2d(x=rot180_lin10_ToE_alp['cal_trapEmax_ctc'].nda, y=rot180_lin10_ToE_alp['dcr'].nda,\n",
    "          bins=(cal_ebins, dcr_bins), cmap=green_cmap, norm=colors.LogNorm(vmax=1), label='RoI')\n",
    "plt.colorbar(bulk_hist[3], orientation='vertical', ticks=matplotlib.ticker.FixedLocator([]))\n",
    "plt.colorbar(seagull_hist[3], orientation='vertical', ticks=matplotlib.ticker.FixedLocator([]))\n",
    "plt.colorbar(lowE_hist[3], orientation='vertical', ticks=matplotlib.ticker.FixedLocator([]))\n",
    "plt.colorbar(roi_hist[3], orientation='vertical', ticks=matplotlib.ticker.FixedLocator([]))\n",
    "plt.xlabel('Energy (keV)')\n",
    "plt.ylabel('DCR (arb)')\n",
    "plt.show()"
   ]
  },
  {
   "cell_type": "code",
   "execution_count": null,
   "metadata": {},
   "outputs": [],
   "source": [
    "fig, ax = plt.subplots(1,1, figsize=(20,5))\n",
    "bulk_hist_toe = plt.hist2d(x=bulk['cal_trapEmax_ctc'].nda, y=bulk['ToE'].nda,\n",
    "          bins=(cal_ebins, toe_bins), cmap=blue_cmap, norm=colors.LogNorm(vmax=1), label='bulk')\n",
    "seagull_hist_toe = plt.hist2d(x=rot145_lin14_ToE_alp['cal_trapEmax_ctc'].nda, y=rot145_lin14_ToE_alp['ToE'].nda,\n",
    "          bins=(cal_ebins, toe_bins), cmap=red_cmap, norm=colors.LogNorm(vmax=1), label='seagull')\n",
    "lowE_hist_toe = plt.hist2d(x=rot145_lin7_ToE_alp['cal_trapEmax_ctc'].nda, y=rot145_lin7_ToE_alp['ToE'].nda,\n",
    "          bins=(cal_ebins, toe_bins), cmap=orange_cmap, norm=colors.LogNorm(vmax=1), label='lowE')\n",
    "roi_hist_toe = plt.hist2d(x=rot180_lin10_ToE_alp['cal_trapEmax_ctc'].nda, y=rot180_lin10_ToE_alp['ToE'].nda,\n",
    "          bins=(cal_ebins, toe_bins), cmap=green_cmap, norm=colors.LogNorm(vmax=1), label='RoI')\n",
    "plt.colorbar(bulk_hist_toe[3], orientation='vertical', ticks=matplotlib.ticker.FixedLocator([]))\n",
    "plt.colorbar(seagull_hist_toe[3], orientation='vertical', ticks=matplotlib.ticker.FixedLocator([]))\n",
    "plt.colorbar(lowE_hist_toe[3], orientation='vertical', ticks=matplotlib.ticker.FixedLocator([]))\n",
    "plt.colorbar(roi_hist_toe[3], orientation='vertical', ticks=matplotlib.ticker.FixedLocator([]))\n",
    "plt.xlabel('Energy (keV)')\n",
    "plt.ylabel('ToE (arb)')\n",
    "plt.show()"
   ]
  },
  {
   "cell_type": "code",
   "execution_count": null,
   "metadata": {},
   "outputs": [],
   "source": [
    "fig, ax = plt.subplots(1,1, figsize=(20,5))\n",
    "bulk_hist_dcr_toe = plt.hist2d(x=bulk['dcr'].nda, y=bulk['ToE'].nda,\n",
    "          bins=(dcr_bins, toe_bins), cmap=blue_cmap, norm=colors.LogNorm(vmax=1), label='bulk')\n",
    "seagull_hist_dcr_toe = plt.hist2d(x=rot145_lin14_ToE_alp['dcr'].nda, y=rot145_lin14_ToE_alp['ToE'].nda,\n",
    "          bins=(dcr_bins, toe_bins), cmap=red_cmap, norm=colors.LogNorm(vmax=1), label='seagull')\n",
    "lowE_hist_dcr_toe = plt.hist2d(x=rot145_lin7_ToE_alp['dcr'].nda, y=rot145_lin7_ToE_alp['ToE'].nda,\n",
    "          bins=(dcr_bins, toe_bins), cmap=orange_cmap, norm=colors.LogNorm(vmax=1), label='lowE')\n",
    "roi_hist_dcr_toe = plt.hist2d(x=rot180_lin10_ToE_alp['dcr'].nda, y=rot180_lin10_ToE_alp['ToE'].nda,\n",
    "          bins=(dcr_bins, toe_bins), cmap=green_cmap, norm=colors.LogNorm(vmax=1), label='RoI')\n",
    "plt.colorbar(bulk_hist_dcr_toe[3], orientation='vertical', ticks=matplotlib.ticker.FixedLocator([]))\n",
    "plt.colorbar(seagull_hist_dcr_toe[3], orientation='vertical', ticks=matplotlib.ticker.FixedLocator([]))\n",
    "plt.colorbar(lowE_hist_dcr_toe[3], orientation='vertical', ticks=matplotlib.ticker.FixedLocator([]))\n",
    "plt.colorbar(roi_hist_dcr_toe[3], orientation='vertical', ticks=matplotlib.ticker.FixedLocator([]))\n",
    "plt.ylabel('ToE (arb)')\n",
    "plt.xlabel('DCR (arb)')\n",
    "plt.show()"
   ]
  },
  {
   "cell_type": "code",
   "execution_count": null,
   "metadata": {},
   "outputs": [],
   "source": [
    "def super_wf(data):\n",
    "    super_alp = None\n",
    "    alp_count = 0\n",
    "    for wf in data['waveform']['values'].nda:\n",
    "        if np.max(wf > 14000):\n",
    "            continue\n",
    "        if super_alp is None:\n",
    "            super_alp = np.array((wf - np.min(wf))/(np.max(wf) - np.min(wf)))\n",
    "        else:\n",
    "            super_alp += np.array((wf - np.min(wf))/(np.max(wf) - np.min(wf)))\n",
    "        alp_count += 1\n",
    "    super_alp /= alp_count\n",
    "    return super_alp\n"
   ]
  },
  {
   "cell_type": "code",
   "execution_count": null,
   "metadata": {},
   "outputs": [],
   "source": [
    "bulk_super = super_wf(bulk)\n",
    "seagull_super = super_wf(rot145_lin14_ToE_alp)\n",
    "lowE_super = super_wf(rot145_lin7_ToE_alp)\n",
    "roi_super = super_wf(rot180_lin10_ToE_alp)\n",
    "alp_super = super_wf(rot145_lin9_alp)"
   ]
  },
  {
   "cell_type": "code",
   "execution_count": null,
   "metadata": {},
   "outputs": [],
   "source": [
    "plt.plot(bulk_super, label='bulk', color='b')\n",
    "plt.plot(seagull_super, label='seagull alp', color='r')\n",
    "plt.plot(lowE_super, label='low alp', color='orange')\n",
    "plt.plot(roi_super, label='roi alp', color='g')\n",
    "plt.plot(alp_super, label='all alp', color='purple')\n",
    "plt.legend()\n",
    "plt.title(\"Alpha vs. Bulk Waveforms\")\n",
    "plt.xlim(3600, 4400)"
   ]
  },
  {
   "cell_type": "code",
   "execution_count": null,
   "metadata": {},
   "outputs": [],
   "source": [
    "pgh.plot_hist(cal_bkg_hist/bkg_runtime, cal_ebins, label=\"bkg\")\n",
    "for run in alp_runs:\n",
    "    pgh.plot_hist(alp[run]['cal_hist']/alp[run]['rt'], cal_ebins, label=run)\n",
    "plt.yscale('log')\n",
    "plt.legend()"
   ]
  },
  {
   "cell_type": "code",
   "execution_count": null,
   "metadata": {},
   "outputs": [],
   "source": [
    "plt.figure(figsize=(10,5))\n",
    "for run in [455, 441]:\n",
    "    pgh.plot_hist(alp[run]['subbed_hist'], cal_ebins, label=f\"{run}\")\n",
    "plt.legend(loc=\"upper right\")\n",
    "#plt.yscale('log')\n",
    "plt.xlim(40, 80)\n",
    "#plt.ylim(0, 0.75)\n",
    "plt.title(\"Background subtracted spectra\")\n",
    "plt.xlabel(\"Energy [keV]\")\n",
    "plt.ylabel(\"Counts [cts/min]\")"
   ]
  },
  {
   "cell_type": "code",
   "execution_count": null,
   "metadata": {},
   "outputs": [],
   "source": [
    "for run in alp_runs:\n",
    "    gamma_bounds = np.where(np.abs(cal_ebins - 60) < 1.5)[0]\n",
    "    alp[run]['gamma_count'] = alp[run]['subbed_hist'][gamma_bounds[0]-1]\n",
    "    alp[run]['gamma_unc'] = alp[run]['subbed_unc'][gamma_bounds[0]-1]\n",
    "    \n",
    "    alpha_bounds = np.where(np.abs(cal_ebins - 2000) < 150)[0][[0, -1]]\n",
    "    alp[run]['alp_count'] = np.sum(alp[run]['subbed_hist'][alpha_bounds[0]:alpha_bounds[1]])\n",
    "    alp[run]['alp_unc'] = np.sqrt(np.sum(alp[run]['subbed_hist'][alpha_bounds[0]:alpha_bounds[1]]**2))"
   ]
  },
  {
   "cell_type": "code",
   "execution_count": null,
   "metadata": {},
   "outputs": [],
   "source": [
    "#plt.figure(figsize=(10,10))\n",
    "plt.errorbar(linrange, [alp[run]['gamma_count'] for run in rot0], \n",
    "             yerr=[alp[run]['gamma_unc'] for run in rot0], \n",
    "             fmt='.', label=\"rot0\", color='b')\n",
    "plt.errorbar(linrange, [alp[run]['gamma_count'] for run in rot180], \n",
    "             yerr=[alp[run]['gamma_unc'] for run in rot180], \n",
    "             fmt='.', label=\"rot180\", color='red')\n",
    "plt.errorbar(linrange, [alp[run]['gamma_count'] for run in rot145], \n",
    "             yerr=[alp[run]['gamma_unc'] for run in rot145], \n",
    "             fmt='.', label=\"rot145\", color='lime')\n",
    "plt.axvline(7.06, linestyle=(6, (2, 10)), color='b')\n",
    "plt.axvline(6.47, linestyle=(0, (2, 10)), color='lime')\n",
    "plt.axvline(7.06, linestyle=(0, (2, 10)), color='red')\n",
    "plt.legend()\n",
    "#plt.yscale('log')\n",
    "#plt.xlim(1200, 4000)\n",
    "plt.title(\"60 keV count\")\n",
    "plt.xlabel(\"Linear position\")\n",
    "plt.ylabel(\"Counts [cts/min]\")"
   ]
  },
  {
   "cell_type": "code",
   "execution_count": null,
   "metadata": {},
   "outputs": [],
   "source": [
    "#plt.figure(figsize=(10,10))\n",
    "plt.errorbar(linrange, [alp[run]['alp_count'] for run in rot0], \n",
    "             yerr=[alp[run]['alp_unc'] for run in rot0], \n",
    "             fmt='.', label=\"rot0\", color='b')\n",
    "plt.errorbar(linrange, [alp[run]['alp_count'] for run in rot180], \n",
    "             yerr=[alp[run]['alp_unc'] for run in rot180], \n",
    "             fmt='.', label=\"rot180\", color='red')\n",
    "plt.errorbar(linrange, [alp[run]['alp_count'] for run in rot145], \n",
    "             yerr=[alp[run]['alp_unc'] for run in rot145], \n",
    "             fmt='.', label=\"rot145\", color='lime')\n",
    "plt.axvline(7.06, linestyle=(6, (2, 10)), color='b')\n",
    "plt.axvline(6.47, linestyle=(0, (2, 10)), color='lime')\n",
    "plt.axvline(7.06, linestyle=(0, (2, 10)), color='red')\n",
    "plt.legend(loc=\"upper left\")\n",
    "#plt.yscale('log')\n",
    "#plt.xlim(1200, 4000)\n",
    "plt.title(\"Alpha count\")\n",
    "plt.xlabel(\"Linear Position\")\n",
    "plt.ylabel(\"Counts [cts/min]\")"
   ]
  },
  {
   "cell_type": "code",
   "execution_count": null,
   "metadata": {},
   "outputs": [],
   "source": [
    "for run in alp_runs:\n",
    "    alp[run]['dcr_sub'] = alp[run]['dcr_hist']/alp[run]['rt'] - dcr_bkg_hist/bkg_runtime"
   ]
  },
  {
   "cell_type": "code",
   "execution_count": null,
   "metadata": {},
   "outputs": [],
   "source": [
    "for i, run in enumerate(rot180[:]):\n",
    "    #plt.figure(figsize=(10,5))\n",
    "    plt.figure()\n",
    "    plt.pcolor(cal_ebins, toe_bins, \n",
    "               alp[run]['toe_hist'].T/alp[run]['rt'], \n",
    "               norm=colors.LogNorm(vmin=1e-3))\n",
    "    plt.title(f\"ToE vs Energy Rotary 180 - Linear {linrange[i]}\")\n",
    "    toe_range = np.arange(0.2, 0.8, 0.1)\n",
    "    plt.plot(-40000*(toe_range-0.5)**2 + 1000, toe_range, color='r')\n",
    "    #plt.axhline(300, color='r')\n",
    "    #plt.xlim(40, 80)\n",
    "    #plt.ylim(0, 150)\n",
    "    plt.colorbar()\n",
    "    #plt.savefig(f\"plots/toe_rot0_linear{linrange[i]}\")\n"
   ]
  },
  {
   "cell_type": "code",
   "execution_count": null,
   "metadata": {},
   "outputs": [],
   "source": [
    "for i, run in enumerate(rot180):\n",
    "    #plt.figure(figsize=(10,5))\n",
    "    plt.figure()\n",
    "    plt.pcolor(cal_ebins, tp_bins, \n",
    "               alp[run]['tp_energy_hist'].T/alp[run]['rt'], \n",
    "               norm=colors.LogNorm(vmin=1e-3))\n",
    "    plt.title(f\"tp20-tp0 vs Energy Rotary 180 - Linear {linrange[i]}\")\n",
    "    plt.axhline(400, color='r')\n",
    "    plt.plot(np.arange(750), 0.8*(np.arange(750) - 250), color='r')\n",
    "    #plt.xlim(40, 80)\n",
    "    #plt.ylim(0, 150)\n",
    "    plt.colorbar()\n",
    "    #plt.savefig(f\"plots/tp_energy_rot0_linear{linrange[i]}\")\n"
   ]
  },
  {
   "cell_type": "code",
   "execution_count": null,
   "metadata": {},
   "outputs": [],
   "source": [
    "plt.figure(figsize=(10,5))\n",
    "plt.pcolor(cal_ebins, dcr_bins, dcr_bkg_hist.T/bkg_runtime, norm=colors.LogNorm())\n",
    "plt.title(f\"DCR vs Energy - Background\")\n",
    "plt.colorbar()\n",
    "for i, run in enumerate(rot145):\n",
    "    plt.figure(figsize=(10,5))\n",
    "    plt.pcolor(cal_ebins, dcr_bins, alp[run]['dcr_hist'].T/alp[run]['rt'], norm=colors.LogNorm())\n",
    "    plt.title(f\"DCR vs Energy Rotary 145 - Linear {linrange[i]}\")\n",
    "    plt.colorbar()\n",
    "    plt.savefig(f\"plots/dcr_rot145_linear{linrange[i]}\")\n"
   ]
  },
  {
   "cell_type": "code",
   "execution_count": null,
   "metadata": {},
   "outputs": [],
   "source": [
    "for i, run in enumerate([444]):\n",
    "    plt.figure(figsize=(10,5))\n",
    "    plt.pcolor(cal_ebins, dcr_bins, alp[run]['dcr_sub'].T, norm=colors.LogNorm(vmin=1e-5))\n",
    "    plt.title(f\"Bkg-Subtracted DCR vs Energy Rotary 145 - Linear {linrange[i]}\")\n",
    "    plt.colorbar()\n",
    "    plt.xlabel(\"Energy (keV)\")\n",
    "    plt.ylabel(\"DCR (arb)\")\n",
    "    plt.axhline(10, color='r')\n",
    "    plt.axvline(500, color='r')\n",
    "    #plt.savefig(f\"plots/dcr_rot145_linear{linrange[i]}.png\")\n"
   ]
  },
  {
   "cell_type": "code",
   "execution_count": null,
   "metadata": {},
   "outputs": [],
   "source": [
    "alp_dfs = {}"
   ]
  },
  {
   "cell_type": "code",
   "execution_count": null,
   "metadata": {},
   "outputs": [],
   "source": [
    "for run in alp_runs:\n",
    "    run_df = None\n",
    "    data = alp_data[run]\n",
    "    file_dfs = [data[file].get_dataframe() for file in data.keys()]\n",
    "    run_df = pd.concat(file_dfs, ignore_index=True)\n",
    "    alp_dfs[run] = run_df\n",
    "    #for file in data.keys():\n",
    "    #    file_df = data[file].get_dataframe()\n",
    "    #    if run_df is None:\n",
    "    #        run_df = file_df\n",
    "    #    else:\n",
    "    #        run_df = pd.concat((run_df, file_df), ignore_index=True)"
   ]
  },
  {
   "cell_type": "code",
   "execution_count": null,
   "metadata": {},
   "outputs": [],
   "source": [
    "cut_dfs = {}\n",
    "for run in alp_runs:\n",
    "    cut_dfs[run] = alp_dfs[run].query(\"cal_trapEmax_ctc > -40000*(ToE-0.5)**2 + 1000 and lt_slope > -1.6e-4 and ( (cal_trapEmax_ctc < 750 and tp0_20 < 0.8*(cal_trapEmax_ctc - 250)) or (tp0_20 < 400) )\")"
   ]
  },
  {
   "cell_type": "code",
   "execution_count": null,
   "metadata": {},
   "outputs": [],
   "source": [
    "for run in rot145:\n",
    "    plt.figure()\n",
    "    plt.hist2d(cut_dfs[run]['cal_trapEmax_ctc'], cut_dfs[run]['dcr'], bins=(cal_ebins, dcr_bins), norm=colors.LogNorm())"
   ]
  },
  {
   "cell_type": "code",
   "execution_count": null,
   "metadata": {},
   "outputs": [],
   "source": [
    "peaks = [238.6, 351.9, 583.2, 609.3, 911.2, 969.0, 1120.3, 1460.8, 1764.6, 2614.5]"
   ]
  },
  {
   "cell_type": "code",
   "execution_count": null,
   "metadata": {},
   "outputs": [],
   "source": [
    "plt.bar(cal_ebins[:-1], cal_data_hist, width=np.diff(cal_ebins), align=\"edge\")\n",
    "plt.yscale('log')\n",
    "plt.xlabel('trapEmax (rough cal)[kev]')\n",
    "plt.ylabel('counts')\n",
    "plt.title(f'Run {run}')\n",
    "for pk in peaks:\n",
    "    plt.axvspan(pk-1, pk+1, alpha = 0.3, color='red')"
   ]
  },
  {
   "cell_type": "code",
   "execution_count": null,
   "metadata": {},
   "outputs": [],
   "source": [
    "pk_idx, _ = find_peaks(ectc_hist_cal)\n",
    "energy_peaks = ectc_bins_cal[pk_idx]"
   ]
  },
  {
   "cell_type": "code",
   "execution_count": null,
   "metadata": {},
   "outputs": [],
   "source": [
    "diffs = np.array([energy_peaks - p for p in peaks])\n",
    "pk_locs = energy_peaks[np.argmin(np.abs(diffs), axis=1)]\n",
    "print(pk_locs)"
   ]
  },
  {
   "cell_type": "code",
   "execution_count": null,
   "metadata": {},
   "outputs": [],
   "source": [
    "residuals = peaks - pk_locs\n",
    "print(residuals)"
   ]
  },
  {
   "cell_type": "code",
   "execution_count": null,
   "metadata": {},
   "outputs": [],
   "source": [
    "plt.scatter(peaks, residuals)\n",
    "plt.xlabel('energy (rough cal) [kev]')\n",
    "plt.ylabel('residuals [kev]')\n",
    "plt.title(f'Run {run} - alpha run @ linear 9 on ICPC')\n"
   ]
  },
  {
   "cell_type": "code",
   "execution_count": null,
   "metadata": {},
   "outputs": [],
   "source": [
    "plt.hist2d(data['trapEmax_ctc'].nda*1460.8/k40_peak, data['dcr'].nda, bins=(np.arange(4000), np.arange(-75, 75)), norm=colors.LogNorm())\n",
    "plt.ylabel('dcr')\n",
    "plt.xlabel('trapEmax (rough cal) [kev]')\n",
    "plt.title(f'Run {run} - alpha run @ linear 9 on ICPC')\n",
    "plt.axhline(0, color='r')"
   ]
  },
  {
   "cell_type": "code",
   "execution_count": null,
   "metadata": {},
   "outputs": [],
   "source": [
    "plt.hist(data['ToE'].nda, np.linspace(-0.5, 1.5, 100))"
   ]
  },
  {
   "cell_type": "code",
   "execution_count": null,
   "metadata": {},
   "outputs": [],
   "source": [
    "plt.hist2d(data['trapEmax_ctc'].nda*1460.8/k40_peak, data['ToE'].nda, bins=(np.linspace(40, 80, 200), np.linspace(-0.5, 2, 100)), norm=colors.LogNorm())\n",
    "plt.xlabel(\"energy\")\n",
    "plt.ylabel(\"ToE\")"
   ]
  },
  {
   "cell_type": "code",
   "execution_count": null,
   "metadata": {},
   "outputs": [],
   "source": [
    "1460.8/(1460.8/k40_peak)"
   ]
  },
  {
   "cell_type": "code",
   "execution_count": null,
   "metadata": {},
   "outputs": [],
   "source": [
    "dl.reset()\n",
    "dl.set_files(f\"run == {run}\")\n",
    "dl.set_cuts({\"hit\": \"trapEmax_ctc > 123 and trapEmax_ctc < 139\"})\n",
    "dl.set_output(columns=[\"waveform\"])\n",
    "gamma_wfs = dl.load()"
   ]
  },
  {
   "cell_type": "code",
   "execution_count": null,
   "metadata": {},
   "outputs": [],
   "source": [
    "avg_wf = np.zeros(8192)\n",
    "count = len(gamma_wfs['waveform']['values'].nda)\n",
    "for wf in gamma_wfs['waveform']['values'].nda:\n",
    "    avg_wf = np.add(avg_wf, wf) \n",
    "\n",
    "avg_wf = np.divide(avg_wf, count)\n",
    "norm_wf = np.divide((avg_wf-np.min(avg_wf)),(np.max(avg_wf)-np.min(avg_wf)))\n",
    "plt.plot(norm_wf)"
   ]
  },
  {
   "cell_type": "code",
   "execution_count": null,
   "metadata": {},
   "outputs": [],
   "source": [
    "dl.reset()\n",
    "dl.set_files(f\"run == {run}\")\n",
    "dl.set_cuts({\"hit\": \"trapEmax_ctc > 3260 and trapEmax_ctc < 3270\"})\n",
    "dl.set_output(columns=[\"waveform\"])\n",
    "k40_wfs = dl.load()"
   ]
  },
  {
   "cell_type": "code",
   "execution_count": null,
   "metadata": {},
   "outputs": [],
   "source": [
    "avg_wf = np.zeros(8192)\n",
    "count = len(k40_wfs['waveform']['values'].nda)\n",
    "for wf in k40_wfs['waveform']['values'].nda:\n",
    "    avg_wf = np.add(avg_wf, wf) \n",
    "\n",
    "avg_wf = np.divide(avg_wf, count)\n",
    "norm_wf = np.divide((avg_wf-np.min(avg_wf)),(np.max(avg_wf)-np.min(avg_wf)))\n",
    "plt.plot(norm_wf)"
   ]
  },
  {
   "cell_type": "code",
   "execution_count": null,
   "metadata": {},
   "outputs": [],
   "source": []
  }
 ],
 "metadata": {
  "kernelspec": {
   "display_name": "legend-base",
   "language": "python",
   "name": "legend-base"
  },
  "language_info": {
   "codemirror_mode": {
    "name": "ipython",
    "version": 3
   },
   "file_extension": ".py",
   "mimetype": "text/x-python",
   "name": "python",
   "nbconvert_exporter": "python",
   "pygments_lexer": "ipython3",
   "version": "3.11.5"
  },
  "vscode": {
   "interpreter": {
    "hash": "31f2aee4e71d21fbe5cf8b01ff0e069b9275f58929596ceb00d14d90e3e16cd6"
   }
  }
 },
 "nbformat": 4,
 "nbformat_minor": 4
}
