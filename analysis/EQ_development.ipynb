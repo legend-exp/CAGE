{
 "cells": [
  {
   "cell_type": "markdown",
   "id": "1cd583e1-7f52-4ddc-95d2-3198b71bf391",
   "metadata": {},
   "source": [
    "# Always Required"
   ]
  },
  {
   "cell_type": "code",
   "execution_count": null,
   "id": "c0052808-e844-4b49-9c43-c3a433ed442b",
   "metadata": {
    "tags": []
   },
   "outputs": [],
   "source": [
    "import matplotlib as mpl\n",
    "import matplotlib.pyplot as plt\n",
    "import matplotlib.colors as colors\n",
    "# import copy\n",
    "# import os\n",
    "# from tqdm.notebook import tqdm\n",
    "\n",
    "import numpy as np\n",
    "import pandas as pd\n",
    "import warnings\n",
    "warnings.filterwarnings('ignore')\n",
    "\n",
    "from pygama.flow import DataLoader\n",
    "from pygama.flow import FileDB\n",
    "from lgdo import LH5Store\n",
    "# from pygama.math import histogram as pgh\n",
    "# from pygama.math import peak_fitting as pf\n",
    "from dspeed import processors"
   ]
  },
  {
   "cell_type": "code",
   "execution_count": null,
   "id": "c7ba345b-88aa-4221-9325-7f9bf032da1b",
   "metadata": {
    "tags": []
   },
   "outputs": [],
   "source": [
    "mpl.rcParams[\"font.family\"] = \"serif\""
   ]
  },
  {
   "cell_type": "markdown",
   "id": "f3e6c171-1b2e-42f7-9a0f-b1d2eee42d37",
   "metadata": {},
   "source": [
    "## FileDB and DataLoader Setup"
   ]
  },
  {
   "cell_type": "markdown",
   "id": "007d486e-9eab-4ab0-a2d5-40f818e07570",
   "metadata": {},
   "source": [
    "### From Scratch"
   ]
  },
  {
   "cell_type": "code",
   "execution_count": null,
   "id": "7ee38c09-f15b-4e10-9b15-562c3d78f9b3",
   "metadata": {
    "tags": []
   },
   "outputs": [],
   "source": [
    "fdb = FileDB(config=\"../processing/metadata/dataloader_configs/cage_filedb_config.json\", scan=True)\n",
    "fdb.scan_tables_columns()\n",
    "fdb.to_disk(\"../processing/cage_filedb.lh5\", \"o\")"
   ]
  },
  {
   "cell_type": "code",
   "execution_count": null,
   "id": "f42b07ff-e4e7-4008-8513-479c705a58bd",
   "metadata": {
    "tags": []
   },
   "outputs": [],
   "source": [
    "dl = DataLoader(config=\"../processing/metadata/dataloader_configs/cage_loader_config.json\",\n",
    "                filedb=fdb)"
   ]
  },
  {
   "cell_type": "markdown",
   "id": "99fafedc-44a0-40fb-ba86-dbd26b3b97f2",
   "metadata": {},
   "source": [
    "### Load Existing"
   ]
  },
  {
   "cell_type": "code",
   "execution_count": null,
   "id": "760c3c3c-a111-4f14-9d70-d01f7cc12eab",
   "metadata": {
    "tags": []
   },
   "outputs": [],
   "source": [
    "fdb = FileDB(\"../processing/cage_filedb.lh5\")"
   ]
  },
  {
   "cell_type": "code",
   "execution_count": null,
   "id": "add54512-e53b-4660-a4df-d9e1d253e80b",
   "metadata": {
    "tags": []
   },
   "outputs": [],
   "source": [
    "# Run this if FDB needs to be updated and then re-saved to disk\n",
    "og_col = fdb.columns\n",
    "fdb.scan_files()\n",
    "fdb.set_file_status()\n",
    "fdb.set_file_sizes()\n",
    "fdb.scan_tables_columns()\n",
    "assert fdb.columns == og_col\n",
    "fdb.to_disk(\"../processing/cage_filedb.lh5\", \"o\")"
   ]
  },
  {
   "cell_type": "code",
   "execution_count": null,
   "id": "a1289f17-f032-4de9-a2e4-9290dd6f59c0",
   "metadata": {
    "tags": []
   },
   "outputs": [],
   "source": [
    "dl = DataLoader(config=\"../processing/metadata/dataloader_configs/cage_loader_config.json\",\n",
    "                filedb=fdb)"
   ]
  },
  {
   "cell_type": "markdown",
   "id": "2831c133-ba0f-4fab-8383-9dca07dad0a6",
   "metadata": {},
   "source": [
    "# Process Data"
   ]
  },
  {
   "cell_type": "markdown",
   "id": "19eeb101-7545-49f7-85a0-01d5099d5297",
   "metadata": {},
   "source": [
    "I'm going to want to load waveforms and compute a parameter based on that. \n",
    "Ideas for EQ parameter:\n",
    "\n",
    "1. Just timepoint data, compare to Joule's tp20-tp2 parameter\n",
    "    1. Load DSP parameters\n",
    "2. Integral underneath waveform up to tp20 (or other tps)\n",
    "    1. Need tp from DSP as well as waveform\n",
    "3. Something like A/E but only with the waveform up to tp50 \n",
    "    1. Need tp from DSP as well as waveform"
   ]
  },
  {
   "cell_type": "code",
   "execution_count": null,
   "id": "10e453ff-f201-4f94-858b-31102627b770",
   "metadata": {
    "tags": []
   },
   "outputs": [],
   "source": [
    "dsp_config_dir = \"../processing/metadata/dsp\"\n",
    "config_files = glob.glob(f\"{dsp_config_dir}/dsp_cyc*.json\")\n",
    "parser = parse.compile(dsp_config_dir + \"/dsp_cyc{}.json\")\n",
    "config_breakpoints = []\n",
    "for file in config_files:\n",
    "    config_breakpoints.append(int(parser.parse(file)[0]))\n",
    "config_breakpoints = np.array(sorted(config_breakpoints))"
   ]
  },
  {
   "cell_type": "code",
   "execution_count": null,
   "id": "6e768947-8087-4f7b-b757-7838033807da",
   "metadata": {
    "tags": []
   },
   "outputs": [],
   "source": [
    "def set_dsp_config(cycle):\n",
    "    if cycle < config_breakpoints[0]:\n",
    "        print(\"DSP configuration parameters not recorded for this cycle, bailing...\")\n",
    "        return\n",
    "    \n",
    "    if cycle < config_breakpoints[-1]:\n",
    "        config_cyc = config_breakpoints[ np.where(config_breakpoints > cycle)[0][0] - 1 ]\n",
    "    else:\n",
    "        print(\"Caution: Using latest DSP configuration, which may not be up to date\")\n",
    "        config_cyc = config_breakpoints[-1]\n",
    "    \n",
    "    config_dict = json.load(f\" {dsp_config_dir}/dsp_cyc{config_cyc}.json \")dsp_db\n",
    "    dsp_db[\"40K\"]"
   ]
  },
  {
   "cell_type": "code",
   "execution_count": null,
   "id": "8be42a59-cc16-4c5d-9e23-b561d8a05fd2",
   "metadata": {
    "tags": []
   },
   "outputs": [],
   "source": [
    "cage_lh5 = os.environ.get('CAGE_LH5')\n",
    "def init_dspdb():\n",
    "    dsp_db = {\n",
    "        \"40K\": {\n",
    "            \"tp\": {\n",
    "                \"0\": 0,\n",
    "                \"2\": 0,\n",
    "                \"20\": 0,\n",
    "                \"50\": 0\n",
    "\n",
    "            },\n",
    "            \"energy\": {\n",
    "                \"trapEmax\": 0,\n",
    "                \"trapEftp\": 0\n",
    "\n",
    "            }\n",
    "        }\n",
    "    }\n",
    "    return dsp_db\n",
    "\n",
    "def set_dspdb(cycle):\n",
    "    dsp_db = init_dspdb()\n",
    "    dsp_file = glob.glob(f\"{cage_lh5}/dsp/cage_run*_cyc{cycle}_dsp.lh5\")[0]\n",
    "    print(dsp_file)"
   ]
  },
  {
   "cell_type": "code",
   "execution_count": null,
   "id": "4b7ea757-7362-4e4a-a22e-1ffe8e34fe87",
   "metadata": {},
   "outputs": [],
   "source": [
    "\n",
    "dsp_config = {\n",
    "  \"outputs\": [\n",
    "    \"channel\", \"timestamp\", \"daqenergy\",\n",
    "    \"bl\", \"bl_sig\", \"bl_slope_ftp\", \"bl_sig\", \"bl_slope\", \"bl_intercept\",\n",
    "    \"wf_max\", \"wf_argmax\", \n",
    "    \"trapEmax\", \"tp_0\", \"trapEftp\", \"trapEmax_ctc\"\n",
    "    \"A_10\", \"AoE\", \"triE\", \"ToE\",\n",
    "    \"tp_max\", \"tp_02\", \"tp_05\", \"tp_10\", \"tp_20\", \"tp_30\", \"tp_40\", \"tp_50\",\n",
    "    \"tp_60\", \"tp_70\", \"tp_80\", \"tp_90\", \"tp_96\"\n",
    "  ],\n",
    "  \"processors\":{\n",
    "    \"bl, bl_sig, bl_slope, bl_intercept\":{\n",
    "      \"function\": \"linear_slope_fit\",\n",
    "      \"module\": \"pygama.dsp.processors\",\n",
    "      \"args\" : [\"waveform[0: 3500]\", \"bl\",\"bl_sig\", \"bl_slope\",\"bl_intercept\"],\n",
    "      \"unit\": [\"ADC\",\"ADC\",\"ADC\",\"ADC\"]\n",
    "    },\n",
    "    \"wf_blsub\":{\n",
    "      \"function\": \"subtract\",\n",
    "      \"module\": \"numpy\",\n",
    "      \"args\": [\"waveform\", \"bl\", \"wf_blsub\"],\n",
    "      \"prereqs\": [\"waveform\", \"bl\"],\n",
    "      \"unit\": \"ADC\"\n",
    "    },\n",
    "    \"tp_min, tp_max, wf_min, wf_max\":{\n",
    "      \"function\": \"min_max\",\n",
    "      \"module\": \"pygama.dsp.processors\",\n",
    "      \"args\": [\"wf_blsub\", \"tp_min\", \"tp_max\", \"wf_min\", \"wf_max\"],\n",
    "      \"unit\": [\"ns\",\"ns\",\"ADC\", \"ADC\"],\n",
    "      \"prereqs\": [\"wf_blsub\"]\n",
    "    },\n",
    "    \n",
    "  }\n",
    "}"
   ]
  },
  {
   "cell_type": "markdown",
   "id": "5af3a159-14c2-4654-8351-a7e94a26e374",
   "metadata": {},
   "source": [
    "# Testing Processors"
   ]
  },
  {
   "cell_type": "code",
   "execution_count": null,
   "id": "4af426c3-ac12-4b8d-967a-202b2786e051",
   "metadata": {
    "tags": []
   },
   "outputs": [],
   "source": [
    "cyc = 4259\n",
    "dl.set_files(f\"cycle == {cyc}\")\n",
    "dl.set_output(columns = [\"waveform\", \"tp_0\", \"tp_02\", \"tp_05\", \"tp_10\", \"tp_20\", \"tp_50\", \"tp_max\", \"trapEmax\", \"dcr\", \"ToE\", \"AoE\"], fmt=\"pd.DataFrame\")\n",
    "# dl.set_output(columns = [\"tp_0\", \"tp_02\", \"tp_20\", \"tp_50\", \"tp_max\", \"trapEmax\", \"dcr\", \"ToE\", \"AoE\"], fmt=\"pd.DataFrame\")\n",
    "d = dl.load()"
   ]
  },
  {
   "cell_type": "code",
   "execution_count": null,
   "id": "32afff57-f040-423e-8000-59caa1f622f1",
   "metadata": {
    "tags": []
   },
   "outputs": [],
   "source": [
    "def bl_subtract(row):\n",
    "    bl_avg = np.average(row.waveform_values[:500])\n",
    "    \n",
    "    return row.waveform_values - bl_avg"
   ]
  },
  {
   "cell_type": "code",
   "execution_count": null,
   "id": "86942ee9-8579-48c8-8f5a-62dc340a5093",
   "metadata": {
    "tags": []
   },
   "outputs": [],
   "source": [
    "d['wf_blsub'] = d.apply(bl_subtract, axis=1)"
   ]
  },
  {
   "cell_type": "markdown",
   "id": "408e77f4-df27-4adb-a2e1-0b5e70b0b170",
   "metadata": {},
   "source": [
    "## Conventional"
   ]
  },
  {
   "cell_type": "code",
   "execution_count": null,
   "id": "701b8a97-b2ff-4c75-8e64-b79b1d194fea",
   "metadata": {
    "tags": []
   },
   "outputs": [],
   "source": [
    "d['tp20-0'] = d.apply(lambda r: r.tp_20 - r.tp_0, axis=1)\n",
    "d['tp20-2'] = d.apply(lambda r: r.tp_20 - r.tp_02, axis=1)\n",
    "d['tp20-5'] = d.apply(lambda r: r.tp_20 - r.tp_05, axis=1)\n",
    "d['tp20-10'] = d.apply(lambda r: r.tp_20 - r.tp_10, axis=1)\n",
    "d['tp50-0'] = d.apply(lambda r: r.tp_50 - r.tp_0, axis=1)\n",
    "d['tp50-2'] = d.apply(lambda r: r.tp_50 - r.tp_02, axis=1)\n",
    "d['tp50-5'] = d.apply(lambda r: r.tp_50 - r.tp_05, axis=1)\n",
    "d['tp50-10'] = d.apply(lambda r: r.tp_50 - r.tp_10, axis=1)\n",
    "d['tp50-20'] = d.apply(lambda r: r.tp_50 - r.tp_20, axis=1)\n"
   ]
  },
  {
   "cell_type": "code",
   "execution_count": null,
   "id": "4468eae4-87ff-4b14-ab17-8c311bce23a5",
   "metadata": {
    "tags": []
   },
   "outputs": [],
   "source": [
    "plt.xlabel(\"trapEmax\")\n",
    "plt.ylabel(\"dcr\")\n",
    "plt.title(\"DCR\")\n",
    "plt.hist2d(d['trapEmax'], d['dcr'], bins=(np.linspace(0, 10000, 500), np.linspace(-50, 200, 200)), norm='log')\n",
    "plt.savefig(f\"plots/EQ/cyc{cyc}_dcr.png\")"
   ]
  },
  {
   "cell_type": "code",
   "execution_count": null,
   "id": "f119482b-dcc9-4bba-b85e-2434468b83aa",
   "metadata": {
    "tags": []
   },
   "outputs": [],
   "source": [
    "plt.xlabel(\"trapEmax\")\n",
    "plt.ylabel(\"T/E\")\n",
    "plt.title(\"T/E\")\n",
    "plt.hist2d(d['trapEmax'], d['ToE'], bins=(np.linspace(0, 10000, 500), np.linspace(-.1, 1, 100)), norm='log')\n",
    "plt.savefig(f\"plots/EQ/cyc{cyc}_ToE.png\")"
   ]
  },
  {
   "cell_type": "code",
   "execution_count": null,
   "id": "8f8d5064-97bf-404c-bfcb-b9547bfb6cf0",
   "metadata": {
    "tags": []
   },
   "outputs": [],
   "source": [
    "plt.xlabel(\"trapEmax\")\n",
    "plt.ylabel(\"tp20 - tp0\")\n",
    "plt.title(\"tp20-tp0\")\n",
    "plt.hist2d(d['trapEmax'], d['tp20-0'], bins=(np.linspace(0, 10000, 500), np.linspace(-50, 2000, 100)), norm='log')"
   ]
  },
  {
   "cell_type": "code",
   "execution_count": null,
   "id": "431518cf-d3e7-48ab-9054-0239c21c6b8e",
   "metadata": {
    "tags": []
   },
   "outputs": [],
   "source": [
    "plt.xlabel(\"trapEmax\")\n",
    "plt.ylabel(\"tp50 - tp0\")\n",
    "plt.title(\"tp50-tp0\")\n",
    "plt.hist2d(d['trapEmax'], d['tp50-0'], bins=(np.linspace(0, 10000, 500), np.linspace(-50, 2000, 100)), norm='log')"
   ]
  },
  {
   "cell_type": "code",
   "execution_count": null,
   "id": "701ae912-3397-4e78-93c6-748a862efeca",
   "metadata": {
    "tags": []
   },
   "outputs": [],
   "source": [
    "plt.xlabel(\"trapEmax\")\n",
    "plt.ylabel(\"tp20 - tp02\")\n",
    "plt.title(\"Joule's tp20-tp02\")\n",
    "plt.hist2d(d['trapEmax'], d['tp20-2'], bins=(np.linspace(0, 10000, 500), np.linspace(-50, 1000, 100)), norm='log')"
   ]
  },
  {
   "cell_type": "code",
   "execution_count": null,
   "id": "bc97d582-dfad-458e-8222-d205f3eb3fd1",
   "metadata": {
    "tags": []
   },
   "outputs": [],
   "source": [
    "plt.xlabel(\"trapEmax\")\n",
    "plt.ylabel(\"tp50 - tp02\")\n",
    "plt.title(\"tp50-tp02\")\n",
    "plt.hist2d(d['trapEmax'], d['tp50-2'], bins=(np.linspace(0, 10000, 500), np.linspace(-50, 1000, 100)), norm='log')"
   ]
  },
  {
   "cell_type": "code",
   "execution_count": null,
   "id": "e38a1c41-8398-4215-91d7-269f84e7cd9b",
   "metadata": {
    "tags": []
   },
   "outputs": [],
   "source": [
    "plt.xlabel(\"trapEmax\")\n",
    "plt.ylabel(\"tp20 - tp05\")\n",
    "plt.title(\"tp20-tp05\")\n",
    "plt.hist2d(d['trapEmax'], d['tp20-5'], bins=(np.linspace(0, 10000, 500), np.linspace(-50, 1000, 100)), norm='log')"
   ]
  },
  {
   "cell_type": "code",
   "execution_count": null,
   "id": "f20d975f-9afd-4ebf-9ac9-e4cc4ec89d98",
   "metadata": {
    "tags": []
   },
   "outputs": [],
   "source": [
    "plt.xlabel(\"trapEmax\")\n",
    "plt.ylabel(\"tp50 - tp05\")\n",
    "plt.title(\"tp50-tp05\")\n",
    "plt.hist2d(d['trapEmax'], d['tp50-5'], bins=(np.linspace(0, 10000, 500), np.linspace(-50, 1000, 100)), norm='log')"
   ]
  },
  {
   "cell_type": "code",
   "execution_count": null,
   "id": "b5465f36-5301-4233-b603-4f9067f85f4f",
   "metadata": {
    "tags": []
   },
   "outputs": [],
   "source": [
    "plt.xlabel(\"trapEmax\")\n",
    "plt.ylabel(\"tp20 - tp10\")\n",
    "plt.title(\"tp20-tp10\")\n",
    "plt.hist2d(d['trapEmax'], d['tp20-10'], bins=(np.linspace(0, 10000, 500), np.linspace(-50, 1000, 100)), norm='log')"
   ]
  },
  {
   "cell_type": "code",
   "execution_count": null,
   "id": "cd9b8050-26b0-4d40-91b2-c73ba22a3b27",
   "metadata": {
    "tags": []
   },
   "outputs": [],
   "source": [
    "plt.xlabel(\"trapEmax\")\n",
    "plt.ylabel(\"tp50 - tp05\")\n",
    "plt.title(\"tp50-tp10\")\n",
    "plt.hist2d(d['trapEmax'], d['tp50-10'], bins=(np.linspace(0, 10000, 500), np.linspace(-50, 1000, 100)), norm='log')"
   ]
  },
  {
   "cell_type": "code",
   "execution_count": null,
   "id": "181d6eea-0866-4b5c-86d1-200e701502aa",
   "metadata": {
    "tags": []
   },
   "outputs": [],
   "source": [
    "plt.xlabel(\"trapEmax\")\n",
    "plt.ylabel(\"tp50 - tp20\")\n",
    "plt.title(\"tp50-tp20\")\n",
    "plt.hist2d(d['trapEmax'], d['tp50-20'], bins=(np.linspace(0, 10000, 500), np.linspace(-50, 2000, 100)), norm='log')"
   ]
  },
  {
   "cell_type": "markdown",
   "id": "8a7d0cd9-4eb3-43bd-a504-42393a7ce9ed",
   "metadata": {},
   "source": [
    "## Integration"
   ]
  },
  {
   "cell_type": "markdown",
   "id": "3a116c29-658f-4625-aff2-070c946267c6",
   "metadata": {},
   "source": [
    "Improvement ideas: \n",
    "- Waveform smoothing"
   ]
  },
  {
   "cell_type": "code",
   "execution_count": null,
   "id": "2d9dc957-6957-460a-9467-340c99684619",
   "metadata": {
    "tags": []
   },
   "outputs": [],
   "source": [
    "def smooth_wf(row, length=5):\n",
    "    smoothed = np.zeros_like(row.wf_blsub)\n",
    "    processors.moving_window_left(row.wf_blsub, length, smoothed)\n",
    "    return smoothed"
   ]
  },
  {
   "cell_type": "code",
   "execution_count": null,
   "id": "94242e9f-17c5-45d1-a48c-59b2bdfcc111",
   "metadata": {
    "tags": []
   },
   "outputs": [],
   "source": [
    "full_d['wf_blsub_smoothed'] = full_d.apply(smooth_wf, axis=1)"
   ]
  },
  {
   "cell_type": "code",
   "execution_count": null,
   "id": "6e234b35-6862-4316-9fcc-4db820f65d6d",
   "metadata": {
    "tags": []
   },
   "outputs": [],
   "source": [
    "def integrate_tp_smoothed(row, tp_start, tp_end):\n",
    "    try:\n",
    "        ind_start = int( row[tp_start] / row.waveform_dt )\n",
    "        ind_end = int( row[tp_end] / row.waveform_dt )\n",
    "    except ValueError:\n",
    "        return np.nan\n",
    "    return np.sum(row.wf_blsub_smoothed[ind_start:ind_end])\n",
    "\n",
    "def integrate_tp(row, tp_start, tp_end):\n",
    "    try:\n",
    "        ind_start = int( row[tp_start] / row.waveform_dt )\n",
    "        ind_end = int( row[tp_end] / row.waveform_dt )\n",
    "    except ValueError:\n",
    "        return np.nan\n",
    "    return np.sum(row.wf_blsub[ind_start:ind_end])"
   ]
  },
  {
   "cell_type": "code",
   "execution_count": null,
   "id": "8a27872b-9ebb-4cf8-9ef6-7a538af73cae",
   "metadata": {},
   "outputs": [],
   "source": [
    "def calc_plot_int(tp_start, tp_end, df, int_bins=np.linspace(-100, 500, 400), save=False):\n",
    "    start = tp_start[3:]\n",
    "    end = tp_end[3:]\n",
    "    int_name = f'int_{start}_{end}'\n",
    "    df[int_name] = df.apply(integrate_tp, args=(tp_start, tp_end), axis=1)\n",
    "    \n",
    "    plt.figure()\n",
    "    plt.title(f\"Integration {tp_start} to {tp_end}\")\n",
    "    plt.xlabel(\"trapEmax\")\n",
    "    plt.ylabel(f\"int {tp_start} - {tp_end}\")\n",
    "    plt.hist2d(df['trapEmax'], df[int_name]/df['trapEmax'], bins=(np.linspace(0, 10000, 500), int_bins), norm='log')\n",
    "    \n",
    "    if save:\n",
    "        plt.savefig(f\"plots/EQ/cyc{cyc}_int_{tp_start}_{tp_end}.png\")"
   ]
  },
  {
   "cell_type": "code",
   "execution_count": null,
   "id": "784fac67-bc69-4bc9-9a9a-c90d12a28e23",
   "metadata": {
    "tags": []
   },
   "outputs": [],
   "source": [
    "calc_plot_int(\"tp_0\", \"tp_20\", d, np.linspace(-5, 20, 100), True)"
   ]
  },
  {
   "cell_type": "code",
   "execution_count": null,
   "id": "97e21ad6-8219-4f13-be2b-d59609056e08",
   "metadata": {
    "tags": []
   },
   "outputs": [],
   "source": [
    "calc_plot_int(\"tp_0\", \"tp_50\", d, np.linspace(-5, 20, 100), True)"
   ]
  },
  {
   "cell_type": "code",
   "execution_count": null,
   "id": "c5a59cf0-dcc8-4e20-b9dd-c114fb4d9726",
   "metadata": {
    "tags": []
   },
   "outputs": [],
   "source": [
    "calc_plot_int(\"tp_02\", \"tp_20\", d, np.linspace(-5, 20, 100), True)"
   ]
  },
  {
   "cell_type": "code",
   "execution_count": null,
   "id": "a6cff315-80fa-434f-9027-cdc1d610f6af",
   "metadata": {
    "tags": []
   },
   "outputs": [],
   "source": [
    "calc_plot_int(\"tp_02\", \"tp_50\", d, np.linspace(-5, 20, 100), True)"
   ]
  },
  {
   "cell_type": "code",
   "execution_count": null,
   "id": "3ef3a473-95a3-49eb-8882-7f702e5b0397",
   "metadata": {
    "tags": []
   },
   "outputs": [],
   "source": [
    "calc_plot_int(\"tp_05\", \"tp_20\", d, np.linspace(-5, 20, 100), True)"
   ]
  },
  {
   "cell_type": "code",
   "execution_count": null,
   "id": "f3123060-1735-4989-aa67-de497c97e4e2",
   "metadata": {
    "tags": []
   },
   "outputs": [],
   "source": [
    "calc_plot_int(\"tp_05\", \"tp_50\", d, np.linspace(-5, 20, 100), True)"
   ]
  },
  {
   "cell_type": "code",
   "execution_count": null,
   "id": "eea10f18-f1c5-4da2-b85e-b78762735cd6",
   "metadata": {
    "tags": []
   },
   "outputs": [],
   "source": [
    "calc_plot_int(\"tp_10\", \"tp_20\", d, np.linspace(-5, 20, 100), True)"
   ]
  },
  {
   "cell_type": "code",
   "execution_count": null,
   "id": "75d6123a-4cd6-4db7-95b1-a35da3a6f88c",
   "metadata": {
    "tags": []
   },
   "outputs": [],
   "source": [
    "calc_plot_int(\"tp_10\", \"tp_50\", d, np.linspace(-5, 20, 100), True)"
   ]
  },
  {
   "cell_type": "code",
   "execution_count": null,
   "id": "89bb1000-7ec6-40cf-ae59-94e7afce271d",
   "metadata": {
    "tags": []
   },
   "outputs": [],
   "source": [
    "calc_plot_int(\"tp_20\", \"tp_50\", d, np.linspace(-5, 20, 100), True)"
   ]
  },
  {
   "cell_type": "markdown",
   "id": "326a05c3-8146-4e04-a7e8-b6e4619e6f7a",
   "metadata": {},
   "source": [
    "## Derivative"
   ]
  },
  {
   "cell_type": "code",
   "execution_count": null,
   "id": "2dea5728-9cc8-4fb5-b598-3e0c63017d34",
   "metadata": {
    "tags": []
   },
   "outputs": [],
   "source": [
    "def early_curr_max(row, length=5, tp_end='tp_50'):\n",
    "    if np.isnan(row[tp_end]):\n",
    "        return np.nan\n",
    "    ind = int( row[tp_end]/row.waveform_dt )\n",
    "    curr_wf = np.zeros( ind - length)\n",
    "    processors.avg_current(row.wf_blsub[:ind], length, curr_wf)\n",
    "    time_before_max = row.tp_max - int( np.argmax(curr_wf) ) * row.waveform_dt\n",
    "    \n",
    "    return np.max(curr_wf), time_before_max"
   ]
  },
  {
   "cell_type": "code",
   "execution_count": null,
   "id": "dfc42001-c0e5-4539-b935-0fd68b95faad",
   "metadata": {
    "tags": []
   },
   "outputs": [],
   "source": [
    "full_d[[\"A_max_50\", \"A_argmax_50\"]] = full_d.apply(early_curr_max, axis=1, result_type='expand', args=(5, 'tp_50'))"
   ]
  },
  {
   "cell_type": "code",
   "execution_count": null,
   "id": "5e892b3a-a23c-47b1-9155-7ca9ef2ba521",
   "metadata": {
    "tags": []
   },
   "outputs": [],
   "source": [
    "full_d[[\"A_max_20\", \"A_argmax_20\"]] = full_d.apply(early_curr_max, axis=1, result_type='expand', args=(5, 'tp_20'))"
   ]
  },
  {
   "cell_type": "code",
   "execution_count": null,
   "id": "51fde65d-b4c4-4bd4-a805-69af8516eb3f",
   "metadata": {
    "tags": []
   },
   "outputs": [],
   "source": [
    "plt.xlabel(\"trapEmax\")\n",
    "plt.ylabel(\"AoE\")\n",
    "plt.title(\"AoE up to tp50\")\n",
    "plt.hist2d(full_d['trapEmax'], full_d['A_max_50']/full_d['trapEmax'], bins=(np.linspace(0, 10000, 500), np.linspace(-0.1, 1, 200)), norm='log')"
   ]
  },
  {
   "cell_type": "code",
   "execution_count": null,
   "id": "719205ba-8f17-4762-9f45-71a02491bc32",
   "metadata": {
    "tags": []
   },
   "outputs": [],
   "source": [
    "plt.xlabel(\"trapEmax\")\n",
    "plt.ylabel(\"AoE\")\n",
    "plt.title(\"AoE up to tp20\")\n",
    "plt.hist2d(full_d['trapEmax'], full_d['A_max_20']/full_d['trapEmax'], bins=(np.linspace(0, 10000, 500), np.linspace(-0.1, 1, 200)), norm='log')"
   ]
  },
  {
   "cell_type": "code",
   "execution_count": null,
   "id": "6d113385-8b89-40e0-a67d-53599eb9df46",
   "metadata": {
    "tags": []
   },
   "outputs": [],
   "source": [
    "plt.xlabel(\"trapEmax\")\n",
    "plt.ylabel(\"A_argmax - tp0\")\n",
    "plt.title(\"Time from max of derivative to tp_max\")\n",
    "plt.hist2d(d['trapEmax'], d['A_argmax_50']/d['trapEmax'], bins=(np.linspace(0, 10000, 500), np.linspace(-0.1, 100, 200)), norm='log')"
   ]
  },
  {
   "cell_type": "code",
   "execution_count": null,
   "id": "2be6fc7a-6946-4ace-a836-52e18c9d65e7",
   "metadata": {
    "tags": []
   },
   "outputs": [],
   "source": [
    "plt.xlabel(\"trapEmax\")\n",
    "plt.ylabel(\"A_argmax - tp0\")\n",
    "plt.title(\"Time from max of derivative to tp_max\")\n",
    "plt.hist2d(d['trapEmax'], d['A_argmax_20']/d['trapEmax'], bins=(np.linspace(0, 10000, 500), np.linspace(-0.1, 100, 200)), norm='log')"
   ]
  },
  {
   "cell_type": "markdown",
   "id": "db46100b-f97e-4244-a361-9f72d4edc8bc",
   "metadata": {},
   "source": [
    "## Double Derivative?"
   ]
  },
  {
   "cell_type": "markdown",
   "id": "81278cf4-af99-4500-be00-d902dec1f5df",
   "metadata": {},
   "source": [
    "This feels very promising - main thing is to figure out how we want to calculate the derivative\n",
    "- AoE method: using avg_current from dsp\n",
    "    - Need to optimize length parameter\n",
    "- T/E method: using triangle filter\n",
    "    - Need to optimize rise/fall times\n",
    "    \n",
    "Optimization based on width of double_curr distribution at 1460/2615"
   ]
  },
  {
   "cell_type": "markdown",
   "id": "5ab397ab-abc5-4ba7-a962-aefd0e8792c7",
   "metadata": {},
   "source": [
    "### avg_curr"
   ]
  },
  {
   "cell_type": "code",
   "execution_count": null,
   "id": "0d970845-05e2-40af-b4be-8d12edfdfe53",
   "metadata": {
    "tags": []
   },
   "outputs": [],
   "source": [
    "def double_derv(row, length=5):\n",
    "    wf_blsub = row.wf_blsub\n",
    "    curr_wf = np.zeros( len(wf_blsub) - length)\n",
    "    doublecurr_wf = np.zeros( len(wf_blsub) - 2*length )\n",
    "    processors.avg_current(wf_blsub, length, curr_wf)\n",
    "    processors.avg_current(curr_wf, length, doublecurr_wf)\n",
    "    return np.max(doublecurr_wf)\n",
    "\n",
    "def double_derv_wf(row, length=5):\n",
    "    wf_blsub = row.wf_blsub\n",
    "    curr_wf = np.zeros( len(wf_blsub) - length)\n",
    "    doublecurr_wf = np.zeros( len(wf_blsub) - 2*length )\n",
    "    processors.avg_current(wf_blsub, length, curr_wf)\n",
    "    processors.avg_current(curr_wf, length, doublecurr_wf)\n",
    "    return doublecurr_wf"
   ]
  },
  {
   "cell_type": "code",
   "execution_count": null,
   "id": "b4e3c380-53df-49e7-9cdd-5cea875ea316",
   "metadata": {
    "tags": []
   },
   "outputs": [],
   "source": [
    "d['double_curr'] = d.apply(double_derv, args=(2,), axis=1)\n",
    "plt.figure()\n",
    "plt.title(f\"Double Derivative Length = 2\")\n",
    "plt.xlabel(\"trapEmax\")\n",
    "plt.ylabel(f\"double_curr\")\n",
    "plt.hist2d(d['trapEmax'], d['double_curr'], bins=(np.linspace(0, 10000, 500), np.linspace(-0.01, 100, 100)), norm='log')\n",
    "plt.savefig(f\"plots/EQ/cyc{cyc}_doublederv.png\")"
   ]
  },
  {
   "cell_type": "code",
   "execution_count": null,
   "id": "445aa330-b7fe-4aad-8f0e-80bdd822159c",
   "metadata": {
    "tags": []
   },
   "outputs": [],
   "source": [
    "d['double_curr'] = d.apply(double_derv, args=(10,), axis=1)\n",
    "plt.figure()\n",
    "plt.title(f\"Double Derivative Length = 10\")\n",
    "plt.xlabel(\"trapEmax\")\n",
    "plt.ylabel(f\"double_curr\")\n",
    "plt.hist2d(d['trapEmax'], d['double_curr'], bins=(np.linspace(0, 10000, 500), np.linspace(-0.01, 200, 100)), norm='log')"
   ]
  },
  {
   "cell_type": "code",
   "execution_count": null,
   "id": "7e789edb-5dcf-42d0-8b68-ef62b0351f28",
   "metadata": {
    "tags": []
   },
   "outputs": [],
   "source": [
    "d['double_curr'] = d.apply(double_derv, args=(1,), axis=1)\n",
    "plt.figure()\n",
    "plt.title(f\"Double Derivative Length = 1\")\n",
    "plt.xlabel(\"trapEmax\")\n",
    "plt.ylabel(f\"double_curr\")\n",
    "plt.hist2d(d['trapEmax'], d['double_curr'], bins=(np.linspace(0, 10000, 500), np.linspace(-0.01, 200, 100)), norm='log')"
   ]
  },
  {
   "cell_type": "code",
   "execution_count": null,
   "id": "3e86920c-39d5-455b-8828-8067d555488f",
   "metadata": {
    "tags": []
   },
   "outputs": [],
   "source": [
    "d['double_curr'] = d.apply(double_derv, args=(3,), axis=1)\n",
    "plt.figure()\n",
    "plt.title(f\"Double Derivative Length = 3\")\n",
    "plt.xlabel(\"trapEmax\")\n",
    "plt.ylabel(f\"double_curr\")\n",
    "plt.hist2d(d['trapEmax'], d['double_curr'], bins=(np.linspace(0, 10000, 500), np.linspace(-0.01, 200, 100)), norm='log')"
   ]
  },
  {
   "cell_type": "code",
   "execution_count": null,
   "id": "328455dd-87bb-4528-b878-a1b6bdd73c9c",
   "metadata": {
    "tags": []
   },
   "outputs": [],
   "source": [
    "for i in range(10,20):\n",
    "    dcurr_wf = double_derv_wf(d.iloc[i], 2)\n",
    "    plt.plot(dcurr_wf[:-1])\n",
    "    plt.xlim(3800, 4100)"
   ]
  },
  {
   "cell_type": "code",
   "execution_count": null,
   "id": "3546215b-0030-4ad1-b80d-51bf2ad9d7e8",
   "metadata": {
    "tags": []
   },
   "outputs": [],
   "source": [
    "for i in range(10,20):\n",
    "    dcurr_wf = double_derv_wf(d.iloc[i], 2)\n",
    "    plt.plot( [np.max(dcurr_wf[:-1])]*10 )"
   ]
  },
  {
   "cell_type": "code",
   "execution_count": null,
   "id": "6a83887e-e07d-4678-93cd-d10203dbb83c",
   "metadata": {
    "tags": []
   },
   "outputs": [],
   "source": [
    "def plot_aligned_wf(df, length=1000, **kwargs):\n",
    "    half = int( length/2 )\n",
    "    norm_wfs = df.wf_blsub / np.array([max(x) for x in df.wf_blsub])\n",
    "    aligned_wfs = []\n",
    "    for i, row in df.iterrows():\n",
    "        if not np.isnan(row.tp_50):\n",
    "            aligned_wfs.append( norm_wfs.loc[i][int(row.tp_50/row.waveform_dt)-half : int(row.tp_50/row.waveform_dt)+half] )\n",
    "\n",
    "    for wf in aligned_wfs:\n",
    "        plt.plot(wf, **kwargs)"
   ]
  },
  {
   "cell_type": "code",
   "execution_count": null,
   "id": "0abc33b3-cac5-406c-85d6-0665b529d8d6",
   "metadata": {
    "tags": []
   },
   "outputs": [],
   "source": [
    "plot_aligned_wf(.query(\"double_curr > 35 and double_curr < 50\").iloc[:20], 1000, color='blue', linewidth=0.1)\n",
    "plot_aligned_wf(d.query(\"double_curr < 35\").iloc[:20], length=1000, color='red', linewidth=0.1)"
   ]
  },
  {
   "cell_type": "markdown",
   "id": "0f337e39-70dd-4f22-897b-4682a9273997",
   "metadata": {},
   "source": [
    "### Triangle Filter"
   ]
  },
  {
   "cell_type": "code",
   "execution_count": null,
   "id": "7599fe4c-c8b0-4bf0-bdeb-72267ef0f5ed",
   "metadata": {
    "tags": []
   },
   "outputs": [],
   "source": [
    "def double_tri(row, rise=2, fall=2):\n",
    "    wf_blsub = row.wf_blsub\n",
    "    curr_wf = np.zeros( len(wf_blsub))\n",
    "    doublecurr_wf = np.zeros( len(wf_blsub))\n",
    "    processors.asym_trap_filter(wf_blsub, rise, 0, fall, curr_wf)\n",
    "    processors.asym_trap_filter(curr_wf, rise, 0, fall, doublecurr_wf)\n",
    "    return np.max(doublecurr_wf)\n",
    "\n",
    "def double_tri_wf(row, rise=2, fall=2):\n",
    "    wf_blsub = row.wf_blsub\n",
    "    curr_wf = np.zeros( len(wf_blsub))\n",
    "    doublecurr_wf = np.zeros( len(wf_blsub))\n",
    "    processors.asym_trap_filter(wf_blsub, rise, 0, fall, curr_wf)\n",
    "    processors.asym_trap_filter(curr_wf, rise, 0, fall, doublecurr_wf)\n",
    "    return doublecurr_wf"
   ]
  },
  {
   "cell_type": "code",
   "execution_count": null,
   "id": "e49c1a7c-cc6c-4814-b33f-14323c86b618",
   "metadata": {
    "tags": []
   },
   "outputs": [],
   "source": [
    "d['double_tri'] = d.apply(double_tri, axis=1)\n",
    "plt.figure()\n",
    "plt.title(f\"Double Triangle Rise = 2, Fall=2\")\n",
    "plt.xlabel(\"trapEmax\")\n",
    "plt.ylabel(f\"double_tri\")\n",
    "plt.hist2d(d['trapEmax'], d['double_tri'], bins=(np.linspace(0, 10000, 500), np.linspace(0, 500, 100)), norm='log')"
   ]
  },
  {
   "cell_type": "code",
   "execution_count": null,
   "id": "09a63010-3b8b-4a1f-a1f4-1735c5c7c306",
   "metadata": {
    "tags": []
   },
   "outputs": [],
   "source": [
    "d['double_tri'] = d.apply(double_tri, args=(5, 1), axis=1)\n",
    "plt.figure()\n",
    "plt.title(f\"Double Triangle Rise = 5, Fall=1\")\n",
    "plt.xlabel(\"trapEmax\")\n",
    "plt.ylabel(f\"double_tri\")\n",
    "plt.hist2d(d['trapEmax'], d['double_tri'], bins=(np.linspace(0, 10000, 500), np.linspace(0, 500, 100)), norm='log')"
   ]
  },
  {
   "cell_type": "code",
   "execution_count": null,
   "id": "04584329-9448-46e4-bb15-8bc1b7dd4e01",
   "metadata": {
    "tags": []
   },
   "outputs": [],
   "source": [
    "d['double_tri'] = d.apply(double_tri, args=(10, 1), axis=1)\n",
    "plt.figure()\n",
    "plt.title(f\"Double Triangle Rise = 10, Fall=1\")\n",
    "plt.xlabel(\"trapEmax\")\n",
    "plt.ylabel(f\"double_tri\")\n",
    "plt.hist2d(d['trapEmax'], d['double_tri'], bins=(np.linspace(0, 10000, 500), np.linspace(0, 500, 100)), norm='log')"
   ]
  },
  {
   "cell_type": "code",
   "execution_count": null,
   "id": "91c76f4d-0515-4f58-ab93-6b6cb7d1b220",
   "metadata": {
    "tags": []
   },
   "outputs": [],
   "source": [
    "d['double_tri'] = d.apply(double_tri, args=(10, 5), axis=1)\n",
    "plt.figure()\n",
    "plt.title(f\"Double Triangle Rise = 10, Fall=5\")\n",
    "plt.xlabel(\"trapEmax\")\n",
    "plt.ylabel(f\"double_tri\")\n",
    "plt.hist2d(d['trapEmax'], d['double_tri'], bins=(np.linspace(0, 10000, 500), np.linspace(0, 500, 100)), norm='log')"
   ]
  },
  {
   "cell_type": "code",
   "execution_count": null,
   "id": "693ae3b4-2d46-41bc-a700-3ffd2697f8bb",
   "metadata": {
    "tags": []
   },
   "outputs": [],
   "source": [
    "d['double_tri'] = d.apply(double_tri, args=(5, 2), axis=1)\n",
    "plt.figure()\n",
    "plt.title(f\"Double Triangle Rise = 5, Fall=2\")\n",
    "plt.xlabel(\"trapEmax\")\n",
    "plt.ylabel(f\"double_tri\")\n",
    "plt.hist2d(d['trapEmax'], d['double_tri'], bins=(np.linspace(0, 10000, 500), np.linspace(0, 500, 100)), norm='log')"
   ]
  },
  {
   "cell_type": "code",
   "execution_count": null,
   "id": "53e68e83-9a64-4c2d-b98c-5125cad795a0",
   "metadata": {
    "tags": []
   },
   "outputs": [],
   "source": [
    "d['double_tri'] = d.apply(double_tri, args=(2, 1), axis=1)\n",
    "plt.figure()\n",
    "plt.title(f\"Double Triangle Rise = 2, Fall=1\")\n",
    "plt.xlabel(\"trapEmax\")\n",
    "plt.ylabel(f\"double_tri\")\n",
    "plt.hist2d(d['trapEmax'], d['double_tri'], bins=(np.linspace(0, 10000, 500), np.linspace(0, 500, 100)), norm='log')"
   ]
  },
  {
   "cell_type": "code",
   "execution_count": null,
   "id": "3dc0e689-e530-4c84-bff0-14546934ccc0",
   "metadata": {
    "tags": []
   },
   "outputs": [],
   "source": [
    "plt.figure()\n",
    "plt.title(f\"Double Triangle Rise = 2, Fall=1\")\n",
    "plt.xlabel(\"trapEmax\")\n",
    "plt.ylabel(f\"double_tri\")\n",
    "plt.hist2d(d['trapEmax'], d['double_tri'], bins=(np.linspace(0, 10000, 500), np.linspace(0, 500, 100)), norm='log')\n",
    "plt.axhline(80)\n",
    "plt.axhline(130)"
   ]
  },
  {
   "cell_type": "code",
   "execution_count": null,
   "id": "15bbb4bc-b7f8-4cb0-9f36-474f167ed9cd",
   "metadata": {
    "tags": []
   },
   "outputs": [],
   "source": [
    "d['double_tri'] = d.apply(double_tri, args=(4, 2), axis=1)\n",
    "plt.figure()\n",
    "plt.title(f\"Double Triangle Rise = 4, Fall=2\")\n",
    "plt.xlabel(\"trapEmax\")\n",
    "plt.ylabel(f\"double_tri\")\n",
    "plt.hist2d(d['trapEmax'], d['double_tri'], bins=(np.linspace(0, 10000, 500), np.linspace(0, 500, 100)), norm='log')"
   ]
  },
  {
   "cell_type": "code",
   "execution_count": null,
   "id": "dca5f942-53b6-4368-8397-f17194f3855e",
   "metadata": {
    "tags": []
   },
   "outputs": [],
   "source": [
    "d['double_tri'] = d.apply(double_tri, args=(3, 2), axis=1)\n",
    "plt.figure()\n",
    "plt.title(f\"Double Triangle Rise = 3, Fall=2\")\n",
    "plt.xlabel(\"trapEmax\")\n",
    "plt.ylabel(f\"double_tri\")\n",
    "plt.hist2d(d['trapEmax'], d['double_tri'], bins=(np.linspace(0, 10000, 500), np.linspace(0, 500, 100)), norm='log')"
   ]
  },
  {
   "cell_type": "code",
   "execution_count": null,
   "id": "b2d31d7e-9892-48b4-bedb-1b16ebbd00fd",
   "metadata": {
    "tags": []
   },
   "outputs": [],
   "source": [
    "d['double_tri'] = d.apply(double_tri, args=(3, 1), axis=1)\n",
    "plt.figure()\n",
    "plt.title(f\"Double Triangle Rise = 3, Fall=1\")\n",
    "plt.xlabel(\"trapEmax\")\n",
    "plt.ylabel(f\"double_tri\")\n",
    "plt.hist2d(d['trapEmax'], d['double_tri'], bins=(np.linspace(0, 10000, 500), np.linspace(0, 500, 100)), norm='log')"
   ]
  },
  {
   "cell_type": "code",
   "execution_count": null,
   "id": "a4c76e36-b5ad-4bba-bc1f-b178166ac53b",
   "metadata": {
    "tags": []
   },
   "outputs": [],
   "source": [
    "d['double_tri'] = d.apply(double_tri, args=(2, 3), axis=1)\n",
    "plt.figure()\n",
    "plt.title(f\"Double Triangle Rise = 2, Fall=3\")\n",
    "plt.xlabel(\"trapEmax\")\n",
    "plt.ylabel(f\"double_tri\")\n",
    "plt.hist2d(d['trapEmax'], d['double_tri'], bins=(np.linspace(0, 10000, 500), np.linspace(0, 500, 100)), norm='log')"
   ]
  },
  {
   "cell_type": "code",
   "execution_count": null,
   "id": "d16cfb96-bd51-4f7b-84c2-bde519289bf5",
   "metadata": {
    "tags": []
   },
   "outputs": [],
   "source": [
    "for i in range(10,20):\n",
    "    dcurr_wf = double_tri_wf(d.iloc[i], 2, 1)\n",
    "    plt.plot(dcurr_wf[:-1])\n",
    "    plt.xlim(3800, 4100)"
   ]
  },
  {
   "cell_type": "code",
   "execution_count": null,
   "id": "1aa5b669-ff03-47ef-a6f2-6da20b94a7d3",
   "metadata": {
    "tags": []
   },
   "outputs": [],
   "source": [
    "for i in range(10,20):\n",
    "    dcurr_wf = double_tri_wf(d.iloc[i], 2, 1)\n",
    "    plt.plot( [np.max(dcurr_wf[:-1])]*10 )"
   ]
  },
  {
   "cell_type": "code",
   "execution_count": null,
   "id": "392378cb-2270-40ef-8b93-cf30ef1ccd21",
   "metadata": {
    "tags": []
   },
   "outputs": [],
   "source": [
    "plot_aligned_wf(d.query(\"double_tri > 80 and double_curr < 130\").iloc[:20], 1000, color='blue', linewidth=0.1)\n",
    "plot_aligned_wf(d.query(\"double_tri < 80\").iloc[:20], length=1000, color='red', linewidth=0.1)"
   ]
  },
  {
   "cell_type": "markdown",
   "id": "11ff22e5-306c-4afc-bef0-228f77e88cbe",
   "metadata": {},
   "source": [
    "# Double Derivative Optimization"
   ]
  },
  {
   "cell_type": "markdown",
   "id": "b104e598-7d2f-4213-ba71-3823245e6c46",
   "metadata": {},
   "source": [
    "At some point I might test using different parameters for the first and second derivatives, but I'm not convinced that's super useful"
   ]
  },
  {
   "cell_type": "code",
   "execution_count": null,
   "id": "17e58f8a-d003-4611-8e9d-708471890d45",
   "metadata": {
    "tags": []
   },
   "outputs": [],
   "source": [
    "def gaus(x, mu, sig, A):\n",
    "    return A*np.exp(-(x- mu)**2/sig**2)\n",
    "\n",
    "def percentile_mean_std(lo_per, hi_per, data, show=False):\n",
    "    lo, hi = np.percentile(data, [lo_per, hi_per])\n",
    "    mask = (data > lo) & (data < hi)\n",
    "    if show:\n",
    "        print(lo, hi)\n",
    "    return np.average(data[mask]), np.std(data[mask])"
   ]
  },
  {
   "cell_type": "code",
   "execution_count": null,
   "id": "b9e953f5-a6d6-40eb-b09a-c65e162cf2bf",
   "metadata": {
    "tags": []
   },
   "outputs": [],
   "source": [
    "cycle = 4292"
   ]
  },
  {
   "cell_type": "code",
   "execution_count": null,
   "id": "3ee440ac-1ad2-408f-b7c4-431a02d12831",
   "metadata": {
    "tags": []
   },
   "outputs": [],
   "source": [
    "dl.reset()\n",
    "dl.set_files(f\"cycle == {cycle}\")\n",
    "dl.set_output(columns = [\"waveform\", \"trapEmax\"], fmt=\"pd.DataFrame\")\n",
    "el = dl.build_entry_list()\n",
    "d = dl.load(el[:500])"
   ]
  },
  {
   "cell_type": "code",
   "execution_count": null,
   "id": "ea93b5e7-06b1-498b-9ea7-15bdaa216d09",
   "metadata": {
    "tags": []
   },
   "outputs": [],
   "source": [
    "plt.hist(d.trapEmax, bins=np.linspace(0, 6000, 4000))\n",
    "plt.yscale('log')\n",
    "plt.xlim(3000, 4000)"
   ]
  },
  {
   "cell_type": "code",
   "execution_count": null,
   "id": "f587bb61-ae88-483f-bc68-2db6a6d30073",
   "metadata": {
    "tags": []
   },
   "outputs": [],
   "source": [
    "elo = 3100\n",
    "ehi = 3200\n",
    "\n",
    "dl.reset()\n",
    "dl.set_files(f\"cycle == {cycle}\")\n",
    "dl.set_output(columns = [\"waveform\", \"tp_0\", \"tp_02\", \"tp_20\", \"tp_50\", \"tp_max\", \"trapEmax\", \"dcr\", \"ToE\", \"AoE\"], fmt=\"pd.DataFrame\")\n",
    "dl.set_cuts({\"hit\": f\"trapEmax > {elo} and trapEmax < {ehi}\"})\n",
    "d = dl.load()"
   ]
  },
  {
   "cell_type": "code",
   "execution_count": null,
   "id": "b03e209a-13ca-471e-9b70-7625079ede91",
   "metadata": {
    "tags": []
   },
   "outputs": [],
   "source": [
    "dl.reset()\n",
    "dl.set_files(f\"cycle == {cycle}\")\n",
    "dl.set_output(columns = [\"waveform\", \"tp_0\", \"tp_02\", \"tp_20\", \"tp_50\", \"tp_max\", \"trapEmax\", \"dcr\", \"ToE\", \"AoE\"], fmt=\"pd.DataFrame\")\n",
    "# dl.set_cuts({\"hit\": f\"trapEmax > {elo} and trapEmax < {ehi}\"})\n",
    "full_d = dl.load()"
   ]
  },
  {
   "cell_type": "code",
   "execution_count": null,
   "id": "7313c75e-a4aa-4460-b41b-fee40d7f4618",
   "metadata": {
    "tags": []
   },
   "outputs": [],
   "source": [
    "def bl_subtract(row):\n",
    "    bl_avg = np.average(row.waveform_values[:500])\n",
    "    return list(row.waveform_values - bl_avg)"
   ]
  },
  {
   "cell_type": "code",
   "execution_count": null,
   "id": "aa8bf12e-e140-4c79-8d8c-a66e6723365a",
   "metadata": {
    "tags": []
   },
   "outputs": [],
   "source": [
    "full_d['wf_blsub'] = full_d.apply(bl_subtract, axis=1)"
   ]
  },
  {
   "cell_type": "markdown",
   "id": "cd47112d-436c-4e0c-852f-c4ef302b3970",
   "metadata": {},
   "source": [
    "## avg_curr"
   ]
  },
  {
   "cell_type": "code",
   "execution_count": null,
   "id": "f01a2ba6-0e50-44d5-abca-5536d3fb86e0",
   "metadata": {
    "tags": []
   },
   "outputs": [],
   "source": [
    "def double_derv(row, length=5):\n",
    "    wf_blsub = row.wf_blsub\n",
    "    curr_wf = np.zeros( len(wf_blsub) - length)\n",
    "    doublecurr_wf = np.zeros( len(wf_blsub) - 2*length )\n",
    "    processors.avg_current(wf_blsub, length, curr_wf)\n",
    "    processors.avg_current(curr_wf, length, doublecurr_wf)\n",
    "    return np.max(doublecurr_wf)"
   ]
  },
  {
   "cell_type": "code",
   "execution_count": null,
   "id": "1cd6ea6f-7385-451d-8e21-72a98a30c31d",
   "metadata": {
    "tags": []
   },
   "outputs": [],
   "source": [
    "for l in range(1, 8):\n",
    "    double_curr = full_d.apply(double_derv, args=(l,), axis=1)\n",
    "    plt.figure()\n",
    "    plt.hist2d(full_d.trapEmax, double_curr, bins=(np.linspace(0, 10000, 500), np.linspace(-0.01, 100, 100)), norm='log' )\n",
    "    plt.title(f\"length = {l}\")\n",
    "    # coeff = pf.gauss_mode_width_max(hist, bins, n_bins=11)[0]\n",
    "    # plt.plot(bins, gaus(bins, *coeff))\n",
    "    # plt.yscale('log')\n",
    "    print(l, np.std(double_curr)/np.mean(double_curr))\n",
    "    # print(l, np.ptp(double_curr)/np.mean(double_curr))\n",
    "    # print(l, coeff[1])"
   ]
  },
  {
   "cell_type": "code",
   "execution_count": null,
   "id": "5fbf6d82-5217-42b7-954e-fc0309153d17",
   "metadata": {
    "tags": []
   },
   "outputs": [],
   "source": [
    "best_length = 2"
   ]
  },
  {
   "cell_type": "code",
   "execution_count": null,
   "id": "45c0a3c3-95c8-4a31-99a8-73f3955a5ad5",
   "metadata": {
    "tags": []
   },
   "outputs": [],
   "source": [
    "dl.reset()\n",
    "dl.set_files(f\"cycle == {cycle}\")\n",
    "dl.set_output(columns = [\"waveform\", \"trapEmax\"], fmt=\"pd.DataFrame\")\n",
    "full_d = dl.load()"
   ]
  },
  {
   "cell_type": "code",
   "execution_count": null,
   "id": "bbaff56e-0695-4bab-a641-77246f471a4b",
   "metadata": {},
   "outputs": [],
   "source": [
    "full_d['wf_blsub'] = full_d.apply(bl_subtract, axis=1)"
   ]
  },
  {
   "cell_type": "code",
   "execution_count": null,
   "id": "76a5e4ac-153a-4b4c-93af-d7f8533e7a22",
   "metadata": {
    "tags": []
   },
   "outputs": [],
   "source": [
    "full_d['double_curr'] = full_d.apply(double_derv, args=(best_length,), axis=1)"
   ]
  },
  {
   "cell_type": "code",
   "execution_count": null,
   "id": "fd95b7f1-cc4b-40ad-8ab5-81faddfe98bb",
   "metadata": {
    "tags": []
   },
   "outputs": [],
   "source": [
    "plt.figure()\n",
    "plt.title(f\"Double Derivative Length = {best_length}\")\n",
    "plt.xlabel(\"trapEmax\")\n",
    "plt.ylabel(f\"double_curr\")\n",
    "plt.hist2d(full_d['trapEmax'], full_d['double_curr'], bins=(np.linspace(0, 10000, 500), np.linspace(-0.01, 100, 100)), norm='log')\n",
    "plt.axhline(18)"
   ]
  },
  {
   "cell_type": "code",
   "execution_count": null,
   "id": "f921d65e-6010-4f22-9419-2b00c8af7a88",
   "metadata": {
    "tags": []
   },
   "outputs": [],
   "source": [
    "plot_aligned_wf(full_d.query(\"trapEmax > 100 and double_curr > 18\").iloc[:20], 250, color='blue', linewidth=0.2)\n",
    "plot_aligned_wf(full_d.query(\"trapEmax > 100 and double_curr < 18\").iloc[:20], length=250, color='red', linewidth=0.2)"
   ]
  },
  {
   "cell_type": "markdown",
   "id": "922f03ef-2644-4def-9e78-fa585a8d9837",
   "metadata": {},
   "source": [
    "## Triangle Filter"
   ]
  },
  {
   "cell_type": "code",
   "execution_count": null,
   "id": "c90a81c2-b4f5-409a-8bb6-1240400292a3",
   "metadata": {
    "tags": []
   },
   "outputs": [],
   "source": [
    "def double_tri(row, rise=2, fall=2):\n",
    "    wf_blsub = row.wf_blsub\n",
    "    curr_wf = np.zeros( len(wf_blsub))\n",
    "    doublecurr_wf = np.zeros( len(wf_blsub))\n",
    "    processors.asym_trap_filter(wf_blsub, rise, 0, fall, curr_wf)\n",
    "    processors.asym_trap_filter(curr_wf, rise, 0, fall, doublecurr_wf)\n",
    "    return np.max(doublecurr_wf)"
   ]
  },
  {
   "cell_type": "code",
   "execution_count": null,
   "id": "069f80e6-1c6f-4f85-8ee0-7e8433c839e7",
   "metadata": {
    "tags": []
   },
   "outputs": [],
   "source": [
    "double_curr = d.apply(double_tri, args=(2, 5), axis=1)\n",
    "plt.figure()\n",
    "hist, bins, _ = plt.hist(double_curr, bins=40)\n",
    "plt.title(f\"({2},{5})\")\n",
    "coeff = percentile_mean_std(5, 95, double_curr, True)\n",
    "print(coeff)\n",
    "# plt.plot(bins, gaus(bins, *coeff))"
   ]
  },
  {
   "cell_type": "code",
   "execution_count": null,
   "id": "8e5eeed6-7bdf-43ae-803a-2066c868357d",
   "metadata": {
    "tags": []
   },
   "outputs": [],
   "source": [
    "for rise in range(2, 6):\n",
    "    for fall in range(2, 6):\n",
    "        double_curr = full_d.apply(double_tri, args=(rise, fall), axis=1)\n",
    "        plt.figure()\n",
    "        plt.hist2d(full_d.trapEmax, double_curr, bins=(np.linspace(0, 6000, 4000), np.linspace(0, 100, 100)), norm='log' )\n",
    "        print(rise, fall, np.std(double_curr)/np.mean(double_curr))\n",
    "        # plt.title(f\"({rise},{fall})\")\n",
    "        # coeff = pf.gauss_mode_width_max(hist, bins, n_bins=11)[0]\n",
    "        # plt.plot(bins, gaus(bins, *coeff))\n",
    "        # plt.yscale('log')\n",
    "        # coeff = percentile_mean_std(5, 95, double_curr)\n",
    "        # print(rise, fall, coeff, coeff[1]/coeff[0])"
   ]
  },
  {
   "cell_type": "code",
   "execution_count": null,
   "id": "47a7ca74-3fbc-4f94-b725-e6fb3267d2c6",
   "metadata": {},
   "outputs": [],
   "source": []
  }
 ],
 "metadata": {
  "kernelspec": {
   "display_name": "pygama-dev",
   "language": "python",
   "name": "pygama-dev"
  },
  "language_info": {
   "codemirror_mode": {
    "name": "ipython",
    "version": 3
   },
   "file_extension": ".py",
   "mimetype": "text/x-python",
   "name": "python",
   "nbconvert_exporter": "python",
   "pygments_lexer": "ipython3",
   "version": "3.11.7"
  }
 },
 "nbformat": 4,
 "nbformat_minor": 5
}
