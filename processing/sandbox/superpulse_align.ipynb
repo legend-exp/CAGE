{
 "cells": [
  {
   "cell_type": "code",
   "execution_count": null,
   "id": "e6109620-fe62-429f-87ae-c36be919b22a",
   "metadata": {},
   "outputs": [],
   "source": [
    "import os, sys, h5py, json, time\n",
    "import pandas as pd\n",
    "import numpy as np\n",
    "import matplotlib.pyplot as plt\n",
    "from scipy.optimize import curve_fit\n",
    "\n",
    "import warnings\n",
    "with warnings.catch_warnings():\n",
    "    warnings.simplefilter(\"ignore\")\n",
    "    from tqdm import tqdm\n",
    "    tqdm.pandas() # suppress annoying FutureWarning\n",
    "\n",
    "import pygama.analysis.histograms as pgh\n",
    "import pygama.analysis.peak_fitting as pgf\n",
    "from pygama import DataGroup, lh5\n",
    "from pygama.dsp.dsp_optimize import *\n",
    "from pygama.dsp.WaveformBrowser import WaveformBrowser as wfb"
   ]
  },
  {
   "cell_type": "code",
   "execution_count": null,
   "id": "17b35c80-9257-4306-9f42-32b7c653fcd4",
   "metadata": {},
   "outputs": [],
   "source": [
    "query = 'cycle > 2185 and cycle < 2188'\n",
    "\n",
    "# set raw energy estimator\n",
    "etype = 'energy'\n",
    "tb_in = 'ORSIS3302DecoderForEnergy/raw'\n",
    "wf_in = 'ORSIS3302DecoderForEnergy/raw/waveform'\n",
    "xlo, xhi, xpb = 0, 4e6, 10000\n",
    "\n",
    "nwfs = 100\n",
    "norm = True\n",
    "tp_align = 0.01\n",
    "n_pre, n_post = 3500, 3500"
   ]
  },
  {
   "cell_type": "code",
   "execution_count": null,
   "id": "13301b66-47ab-461b-8330-556109e16807",
   "metadata": {},
   "outputs": [],
   "source": [
    "dg = DataGroup('$CAGE_SW/processing/cage.json', load=True)\n",
    "dg.fileDB.query(query, inplace=True)\n",
    "\n",
    "# limit this test to just the first file in the list\n",
    "raw_files = dg.lh5_dir + dg.fileDB['raw_path'] + '/' + dg.fileDB['raw_file']\n",
    "raw_file = raw_files.tolist()[0]\n",
    "\n",
    "# load the energy array to make a cut\n",
    "ene_vals = lh5.load_nda(raw_file, ['energy'], tb_in)['energy']"
   ]
  },
  {
   "cell_type": "code",
   "execution_count": null,
   "id": "80e997a9-9172-44c3-98b1-9a517c91f54d",
   "metadata": {},
   "outputs": [],
   "source": [
    "# pull a limited number of waveforms passing a cut on energy\n",
    "\n",
    "ix_ene = np.where((ene_vals > 1e6) & (ene_vals < 1e7))[0][:nwfs]\n",
    "\n",
    "sto = lh5.Store()\n",
    "tb_raw, n_rows = sto.read_object(tb_in, raw_file, idx=ix_ene)\n",
    "wfs = tb_raw['waveform']['values'].nda\n",
    "\n",
    "print(ix_ene)\n",
    "print(n_rows)\n",
    "print(wfs.shape)"
   ]
  },
  {
   "cell_type": "code",
   "execution_count": null,
   "id": "fc10279f-4f70-4331-a7c7-e707245752ac",
   "metadata": {},
   "outputs": [],
   "source": [
    "# baseline subtraction\n",
    "bl_means = wfs[:,:3500].mean(axis=1)\n",
    "wf_blsub = (wfs.transpose() - bl_means).transpose()\n",
    "\n",
    "# time alignment\n",
    "ts = np.arange(0, wf_blsub.shape[1], 1)\n",
    "\n",
    "wf_maxes = np.amax(wf_blsub, axis=1)\n",
    "timepoints = np.argmax(wf_blsub >= wf_maxes[:, None]*tp_align, axis=1)\n",
    "\n",
    "# idxs: [n_rows, (n_pre+n_post samples)]\n",
    "wf_idxs = np.zeros([wf_blsub.shape[0], n_pre + n_post], dtype=int)\n",
    "row_idxs = np.zeros_like(wf_idxs)\n",
    "for i, tp in enumerate(timepoints):\n",
    "    wf_idxs[i, :] = np.arange(tp - n_pre, tp + n_post, 1)\n",
    "    row_idxs[i, :] = i\n",
    "\n",
    "wf_win = wf_blsub[row_idxs, wf_idxs]\n",
    "\n",
    "# normalize to pulse height maximum\n",
    "wf_norm = np.divide(wf_win, wf_maxes[:,None])"
   ]
  },
  {
   "cell_type": "code",
   "execution_count": null,
   "id": "09fd0647-597e-42fb-ab25-e2a9d12d15de",
   "metadata": {},
   "outputs": [],
   "source": [
    "%matplotlib widget\n",
    "\n",
    "ts = np.arange(0, wf_norm.shape[1], 1)\n",
    "\n",
    "for iwf in range(0, wf_norm.shape[0]):\n",
    "    wf = wf_norm[iwf,:]\n",
    "    plt.plot(ts, wf, alpha=0.5)\n",
    "    \n",
    "plt.xlim(3400, 3600)\n",
    "plt.show()"
   ]
  },
  {
   "cell_type": "code",
   "execution_count": null,
   "id": "c27d6a51-e609-4b59-b40a-7923720b4c35",
   "metadata": {},
   "outputs": [],
   "source": []
  }
 ],
 "metadata": {
  "kernelspec": {
   "display_name": "legend-base",
   "language": "python",
   "name": "legend-base"
  },
  "language_info": {
   "codemirror_mode": {
    "name": "ipython",
    "version": 3
   },
   "file_extension": ".py",
   "mimetype": "text/x-python",
   "name": "python",
   "nbconvert_exporter": "python",
   "pygments_lexer": "ipython3",
   "version": "3.8.5"
  }
 },
 "nbformat": 4,
 "nbformat_minor": 5
}
