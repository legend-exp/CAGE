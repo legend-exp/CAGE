{
 "cells": [
  {
   "cell_type": "code",
   "execution_count": null,
   "id": "6a3fd5c1-4b3d-4e47-a0b3-21731f7fb82a",
   "metadata": {},
   "outputs": [],
   "source": [
    "import os, sys, h5py, json, time\n",
    "import pandas as pd\n",
    "import numpy as np\n",
    "import matplotlib.pyplot as plt\n",
    "from scipy.optimize import curve_fit\n",
    "\n",
    "import warnings\n",
    "with warnings.catch_warnings():\n",
    "    warnings.simplefilter(\"ignore\")\n",
    "    from tqdm import tqdm\n",
    "    tqdm.pandas() # suppress annoying FutureWarning\n",
    "\n",
    "import pygama.analysis.histograms as pgh\n",
    "import pygama.analysis.peak_fitting as pgf\n",
    "from pygama import DataGroup, lh5\n",
    "from pygama.dsp.dsp_optimize import *\n",
    "from pygama.dsp.WaveformBrowser import WaveformBrowser as wfb"
   ]
  },
  {
   "cell_type": "code",
   "execution_count": null,
   "id": "7ced6783-6640-4167-a559-f1f1feec8db4",
   "metadata": {},
   "outputs": [],
   "source": [
    "# config\n",
    "query = 'cycle > 2185 and cycle < 2188'\n",
    "tb_in = 'ORSIS3302DecoderForEnergy/raw'\n",
    "nwfs = 100"
   ]
  },
  {
   "cell_type": "code",
   "execution_count": null,
   "id": "e65154f8-89f6-42b7-98ca-c026399c050e",
   "metadata": {},
   "outputs": [],
   "source": [
    "# load data into LH5 Table for DSP\n",
    "dg = DataGroup('$CAGE_SW/processing/cage.json', load=True)\n",
    "dg.fileDB.query(query, inplace=True)\n",
    "\n",
    "# limit this test to just the first file in the list\n",
    "raw_files = dg.lh5_dir + dg.fileDB['raw_path'] + '/' + dg.fileDB['raw_file']\n",
    "raw_file = raw_files.tolist()[0]\n",
    "\n",
    "# pull a limited number of waveforms passing a cut on energy -- speeds up DSP\n",
    "ene_vals = lh5.load_nda(raw_file, ['energy'], tb_in)['energy']\n",
    "ix_ene = np.where((ene_vals > 1e6) & (ene_vals < 1e7))[0][:nwfs]\n",
    "\n",
    "sto = lh5.Store()\n",
    "tb_raw, n_rows = sto.read_object(tb_in, raw_file, idx=ix_ene)\n",
    "# wfs = tb_raw['waveform']['values'].nda\n",
    "\n",
    "print(ix_ene)\n",
    "print(n_rows)"
   ]
  },
  {
   "cell_type": "code",
   "execution_count": null,
   "id": "d16b9598-8035-4f0e-9871-f6cb3b3b5605",
   "metadata": {},
   "outputs": [],
   "source": [
    "# load config file and run DSP on small table to make sure it doesn't error\n",
    "\n",
    "dsp_id = '06'\n",
    "dsp_config = os.path.expandvars(f'$CAGE_SW/processing/metadata/dsp/dsp_{dsp_id}.json')\n",
    "\n",
    "tb_out = run_one_dsp(tb_raw, dsp_config, verbosity=1)\n",
    "\n",
    "print(tb_out.keys())\n",
    "df = tb_out.get_dataframe()\n",
    "df"
   ]
  },
  {
   "cell_type": "code",
   "execution_count": null,
   "id": "cb37bf92-6dba-4a78-883c-204cfea39e34",
   "metadata": {},
   "outputs": [],
   "source": []
  },
  {
   "cell_type": "code",
   "execution_count": null,
   "id": "0e44bc9b-f0bd-4afb-ae30-eacfbff551a8",
   "metadata": {},
   "outputs": [],
   "source": []
  }
 ],
 "metadata": {
  "kernelspec": {
   "display_name": "legend-base",
   "language": "python",
   "name": "legend-base"
  },
  "language_info": {
   "codemirror_mode": {
    "name": "ipython",
    "version": 3
   },
   "file_extension": ".py",
   "mimetype": "text/x-python",
   "name": "python",
   "nbconvert_exporter": "python",
   "pygments_lexer": "ipython3",
   "version": "3.8.5"
  }
 },
 "nbformat": 4,
 "nbformat_minor": 5
}
