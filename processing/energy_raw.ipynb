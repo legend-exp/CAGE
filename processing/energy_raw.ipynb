{
 "cells": [
  {
   "cell_type": "markdown",
   "metadata": {},
   "source": [
    "## CAGE raw energy spectrum checker\n",
    "\n",
    "This notebook is intended to complement `energy_cal.py`.  \n",
    "We use the interactive mode to load a raw spectrum from a particular set of cycle files, and use it to pick out the raw locations of the peaks, which can then be added to `metadata/input_peaks.json` as input guesses.\n",
    "\n",
    "Run this notebook using the `legend-base` Shifter image.  [Here are the instructions to set this up.](https://github.com/legend-exp/legend/wiki/Computing-Resources-at-NERSC)"
   ]
  },
  {
   "cell_type": "code",
   "execution_count": 1,
   "metadata": {},
   "outputs": [],
   "source": [
    "# install user prerequisites\n",
    "# !pip install ipympl==0.5.7 --user\n",
    "\n",
    "# Use this at NERSC to get interactive plots.\n",
    "# %matplotlib widget\n",
    "\n",
    "import os, h5py\n",
    "import pandas as pd\n",
    "import numpy as np\n",
    "import matplotlib.pyplot as plt\n",
    "\n",
    "from pygama import DataGroup, lh5\n",
    "import pygama.analysis.histograms as pgh"
   ]
  },
  {
   "cell_type": "markdown",
   "metadata": {},
   "source": [
    "#### >>> Users, set config here ! <<<\n",
    "Set the query here to DataGroup to load files.  You may want to refer to `runDB.json` to see how to vary this.  Here we also set the energy parameter of interest. "
   ]
  },
  {
   "cell_type": "code",
   "execution_count": 8,
   "metadata": {},
   "outputs": [
    {
     "data": {
      "text/html": [
       "<div>\n",
       "<style scoped>\n",
       "    .dataframe tbody tr th:only-of-type {\n",
       "        vertical-align: middle;\n",
       "    }\n",
       "\n",
       "    .dataframe tbody tr th {\n",
       "        vertical-align: top;\n",
       "    }\n",
       "\n",
       "    .dataframe thead th {\n",
       "        text-align: right;\n",
       "    }\n",
       "</style>\n",
       "<table border=\"1\" class=\"dataframe\">\n",
       "  <thead>\n",
       "    <tr style=\"text-align: right;\">\n",
       "      <th></th>\n",
       "      <th>run</th>\n",
       "      <th>cycle</th>\n",
       "      <th>skip</th>\n",
       "      <th>runtype</th>\n",
       "      <th>startTime</th>\n",
       "      <th>threshold</th>\n",
       "      <th>stopTime</th>\n",
       "      <th>runtime</th>\n",
       "    </tr>\n",
       "  </thead>\n",
       "  <tbody>\n",
       "    <tr>\n",
       "      <th>838</th>\n",
       "      <td>60</td>\n",
       "      <td>840</td>\n",
       "      <td>False</td>\n",
       "      <td>alp</td>\n",
       "      <td>1.602111e+09</td>\n",
       "      <td>16.0</td>\n",
       "      <td>1.602113e+09</td>\n",
       "      <td>29.985067</td>\n",
       "    </tr>\n",
       "    <tr>\n",
       "      <th>839</th>\n",
       "      <td>60</td>\n",
       "      <td>841</td>\n",
       "      <td>False</td>\n",
       "      <td>alp</td>\n",
       "      <td>1.602113e+09</td>\n",
       "      <td>16.0</td>\n",
       "      <td>1.602115e+09</td>\n",
       "      <td>29.975351</td>\n",
       "    </tr>\n",
       "    <tr>\n",
       "      <th>840</th>\n",
       "      <td>60</td>\n",
       "      <td>842</td>\n",
       "      <td>False</td>\n",
       "      <td>alp</td>\n",
       "      <td>1.602115e+09</td>\n",
       "      <td>16.0</td>\n",
       "      <td>1.602117e+09</td>\n",
       "      <td>29.982877</td>\n",
       "    </tr>\n",
       "    <tr>\n",
       "      <th>841</th>\n",
       "      <td>60</td>\n",
       "      <td>843</td>\n",
       "      <td>False</td>\n",
       "      <td>alp</td>\n",
       "      <td>1.602117e+09</td>\n",
       "      <td>16.0</td>\n",
       "      <td>1.602119e+09</td>\n",
       "      <td>29.987740</td>\n",
       "    </tr>\n",
       "    <tr>\n",
       "      <th>842</th>\n",
       "      <td>60</td>\n",
       "      <td>844</td>\n",
       "      <td>False</td>\n",
       "      <td>alp</td>\n",
       "      <td>1.602119e+09</td>\n",
       "      <td>16.0</td>\n",
       "      <td>1.602120e+09</td>\n",
       "      <td>29.997601</td>\n",
       "    </tr>\n",
       "    <tr>\n",
       "      <th>843</th>\n",
       "      <td>60</td>\n",
       "      <td>845</td>\n",
       "      <td>False</td>\n",
       "      <td>alp</td>\n",
       "      <td>1.602120e+09</td>\n",
       "      <td>16.0</td>\n",
       "      <td>1.602122e+09</td>\n",
       "      <td>29.985982</td>\n",
       "    </tr>\n",
       "    <tr>\n",
       "      <th>844</th>\n",
       "      <td>60</td>\n",
       "      <td>846</td>\n",
       "      <td>False</td>\n",
       "      <td>alp</td>\n",
       "      <td>1.602122e+09</td>\n",
       "      <td>16.0</td>\n",
       "      <td>1.602124e+09</td>\n",
       "      <td>29.991980</td>\n",
       "    </tr>\n",
       "    <tr>\n",
       "      <th>845</th>\n",
       "      <td>60</td>\n",
       "      <td>847</td>\n",
       "      <td>False</td>\n",
       "      <td>alp</td>\n",
       "      <td>1.602124e+09</td>\n",
       "      <td>16.0</td>\n",
       "      <td>1.602126e+09</td>\n",
       "      <td>29.999852</td>\n",
       "    </tr>\n",
       "    <tr>\n",
       "      <th>846</th>\n",
       "      <td>60</td>\n",
       "      <td>848</td>\n",
       "      <td>False</td>\n",
       "      <td>alp</td>\n",
       "      <td>1.602126e+09</td>\n",
       "      <td>16.0</td>\n",
       "      <td>1.602128e+09</td>\n",
       "      <td>29.989732</td>\n",
       "    </tr>\n",
       "    <tr>\n",
       "      <th>847</th>\n",
       "      <td>60</td>\n",
       "      <td>849</td>\n",
       "      <td>False</td>\n",
       "      <td>alp</td>\n",
       "      <td>1.602128e+09</td>\n",
       "      <td>16.0</td>\n",
       "      <td>1.602129e+09</td>\n",
       "      <td>29.978323</td>\n",
       "    </tr>\n",
       "  </tbody>\n",
       "</table>\n",
       "</div>"
      ],
      "text/plain": [
       "     run  cycle   skip runtype     startTime  threshold      stopTime  \\\n",
       "838   60    840  False     alp  1.602111e+09       16.0  1.602113e+09   \n",
       "839   60    841  False     alp  1.602113e+09       16.0  1.602115e+09   \n",
       "840   60    842  False     alp  1.602115e+09       16.0  1.602117e+09   \n",
       "841   60    843  False     alp  1.602117e+09       16.0  1.602119e+09   \n",
       "842   60    844  False     alp  1.602119e+09       16.0  1.602120e+09   \n",
       "843   60    845  False     alp  1.602120e+09       16.0  1.602122e+09   \n",
       "844   60    846  False     alp  1.602122e+09       16.0  1.602124e+09   \n",
       "845   60    847  False     alp  1.602124e+09       16.0  1.602126e+09   \n",
       "846   60    848  False     alp  1.602126e+09       16.0  1.602128e+09   \n",
       "847   60    849  False     alp  1.602128e+09       16.0  1.602129e+09   \n",
       "\n",
       "       runtime  \n",
       "838  29.985067  \n",
       "839  29.975351  \n",
       "840  29.982877  \n",
       "841  29.987740  \n",
       "842  29.997601  \n",
       "843  29.985982  \n",
       "844  29.991980  \n",
       "845  29.999852  \n",
       "846  29.989732  \n",
       "847  29.978323  "
      ]
     },
     "execution_count": 8,
     "metadata": {},
     "output_type": "execute_result"
    }
   ],
   "source": [
    "# fileDB query\n",
    "# que = 'run==66 and cycle > 885'\n",
    "que = 'run==60'\n",
    "\n",
    "# energy estimator of interest\n",
    "# etype = 'energy'\n",
    "etype = 'trapEftp'\n",
    "\n",
    "# lh5 table name\n",
    "tb_in = 'ORSIS3302DecoderForEnergy/dsp'\n",
    "\n",
    "# uncalibrated energy range\n",
    "# xlo, xhi, xpb = 0, 3e6, 1000 #10000\n",
    "xlo, xhi, xpb = 0, 10000, 1 #10  # good for trapEmax and trapEftp\n",
    "\n",
    "# load the fileDB and make sure the entries exist\n",
    "dg = DataGroup('$CAGE_SW/processing/cage.json', load=True)\n",
    "dg.fileDB.query(que, inplace=True)\n",
    "if len(dg.fileDB)==0:\n",
    "    print('Error, no files found.  Check your query, and fileDB.h5.')\n",
    "\n",
    "ecal_cols = ['run', 'cycle', 'skip', 'runtype', 'startTime', 'threshold', 'stopTime', 'runtime']\n",
    "dg.fileDB[ecal_cols]"
   ]
  },
  {
   "cell_type": "markdown",
   "metadata": {},
   "source": [
    "#### Load data\n",
    "Here we use DataGroup's fileDB to select files, retrieve DSP data,\n",
    "and show some information about what we've selected."
   ]
  },
  {
   "cell_type": "code",
   "execution_count": 9,
   "metadata": {},
   "outputs": [
    {
     "name": "stdout",
     "output_type": "stream",
     "text": [
      "\n",
      "LH5 columns: ['A_10', 'AoE', 'ToE', 'bl', 'bl_sig', 'bl_slope', 'channel', 'dcr', 'energy', 'hf_max', 'lf_max', 'log_tail_fit_intercept', 'log_tail_fit_mean', 'log_tail_fit_slope', 'lot_tail_fit_sigma', 'timestamp', 'tp_0', 'tp_10', 'tp_20', 'tp_30', 'tp_40', 'tp_50', 'tp_60', 'tp_70', 'tp_80', 'tp_90', 'tp_96', 'tp_max', 'trapEftp', 'trapEmax', 'triE']\n",
      "\n",
      "Raw E: trapEftp, 1127073 cts, runtime: 299.87 min\n"
     ]
    }
   ],
   "source": [
    "# essentially the same code as in energy_cal::check_raw_spectrum\n",
    "\n",
    "# load numpy arrays of uncalibrated energy\n",
    "dsp_list = dg.lh5_dir + dg.fileDB['dsp_path'] + '/' + dg.fileDB['dsp_file']\n",
    "raw_data = lh5.load_nda(dsp_list, [etype], tb_in, verbose=False)\n",
    "\n",
    "# get runtime\n",
    "runtime_min = dg.fileDB['runtime'].sum()\n",
    "\n",
    "# print columns of table\n",
    "with h5py.File(dsp_list.iloc[0], 'r') as hf:\n",
    "    print('\\nLH5 columns:', list(hf[f'{tb_in}'].keys()))\n",
    "    \n",
    "# histogram energy data for this estimator and normalize by runtime\n",
    "data = raw_data[etype]\n",
    "hist, bins, var = pgh.get_hist(data, range=(xlo, xhi), dx=xpb)\n",
    "bins = bins[1:] # trim zero bin, not needed with ds='steps'\n",
    "hist_rt = np.divide(hist, runtime_min * 60)\n",
    "\n",
    "print(f'\\nRaw E: {etype}, {len(data)} cts, runtime: {runtime_min:.2f} min')"
   ]
  },
  {
   "cell_type": "markdown",
   "metadata": {},
   "source": [
    "#### Create interactive spectrum"
   ]
  },
  {
   "cell_type": "code",
   "execution_count": 11,
   "metadata": {},
   "outputs": [
    {
     "data": {
      "image/png": "[encoded data removed]",
      "text/plain": [
       "<Figure size 432x288 with 1 Axes>"
      ]
     },
     "metadata": {
      "needs_background": "light"
     },
     "output_type": "display_data"
    }
   ],
   "source": [
    "# %matplotlib widget\n",
    "plt.semilogy(bins, hist_rt, ds='steps', c='b', lw=1, label=etype)\n",
    "plt.xlabel(etype, ha='right', x=1)\n",
    "plt.ylabel(f'cts/sec, {xpb}/bin', ha='right', y=1)\n",
    "# plt.xlim(8000,1000000)\n",
    "plt.xlim(100, 1800)\n",
    "plt.show()"
   ]
  },
  {
   "cell_type": "code",
   "execution_count": 5,
   "metadata": {},
   "outputs": [
    {
     "data": {
      "image/png": "[encoded data removed]",
      "text/plain": [
       "<Figure size 432x288 with 1 Axes>"
      ]
     },
     "metadata": {
      "needs_background": "light"
     },
     "output_type": "display_data"
    }
   ],
   "source": [
    "# draw a few lines in the uncalibrated spectrum\n",
    "\n",
    "# %matplotlib widget\n",
    "plt.semilogy(bins, hist_rt, ds='steps', c='b', lw=1, label=etype)\n",
    "\n",
    "# plt.axvline(5120, c='r', lw=1)\n",
    "# plt.axvline(1665, c='b', lw=1)\n",
    "\n",
    "plt.xlabel(etype, ha='right', x=1)\n",
    "plt.ylabel(f'cts/sec, {xpb}/bin', ha='right', y=1)\n",
    "plt.show()\n"
   ]
  },
  {
   "cell_type": "code",
   "execution_count": 6,
   "metadata": {},
   "outputs": [
    {
     "data": {
      "image/png": "[encoded data removed]",
      "text/plain": [
       "<Figure size 432x288 with 1 Axes>"
      ]
     },
     "metadata": {
      "needs_background": "light"
     },
     "output_type": "display_data"
    }
   ],
   "source": [
    "# apply an arbitrary set of calibration constants\n",
    "# can be the output of np.polyfit\n",
    "\n",
    "# pars = [-4.14621058e-06, 5.21111045e-01, 5.47450830e+01]\n",
    "# pars = [ 4.79137964e-07, 9.98176163e-01, -4.24949030e-02]\n",
    "pars = [0, 1, 0]\n",
    "pars = [-4.28582919e-06, 5.20891424e-01, 5.47741940e+01]\n",
    "\n",
    "xlo, xhi, xpb = 0, 500, 1\n",
    "# xlo, xhi, xpb = 0, 100, 1\n",
    "\n",
    "pfunc = np.poly1d(pars)\n",
    "cal_data = pfunc(raw_data[etype])\n",
    "hist, bins, var = pgh.get_hist(cal_data, range=(xlo, xhi), dx=xpb)\n",
    "bins = bins[1:]\n",
    "hist_rt = np.divide(hist, runtime_min * 60)\n",
    "\n",
    "# %matplotlib widget\n",
    "\n",
    "plt.semilogy(bins, hist_rt, ds='steps', c='b', lw=1, label=etype)\n",
    "\n",
    "plt.xlabel(etype, ha='right', x=1)\n",
    "plt.ylabel(f'cts/sec, {xpb}/bin', ha='right', y=1)\n",
    "plt.show()"
   ]
  },
  {
   "cell_type": "code",
   "execution_count": null,
   "metadata": {},
   "outputs": [],
   "source": []
  }
 ],
 "metadata": {
  "kernelspec": {
   "display_name": "legend-base",
   "language": "python",
   "name": "legend-base"
  },
  "language_info": {
   "codemirror_mode": {
    "name": "ipython",
    "version": 3
   },
   "file_extension": ".py",
   "mimetype": "text/x-python",
   "name": "python",
   "nbconvert_exporter": "python",
   "pygments_lexer": "ipython3",
   "version": "3.8.5"
  }
 },
 "nbformat": 4,
 "nbformat_minor": 4
}
