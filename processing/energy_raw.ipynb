{
 "cells": [
  {
   "cell_type": "markdown",
   "metadata": {},
   "source": [
    "## CAGE raw energy spectrum checker\n",
    "\n",
    "This notebook is intended to complement `energy_cal.py`.  \n",
    "We use the interactive mode to load a raw spectrum from a particular set of cycle files, and use it to pick out the raw locations of the peaks, which can then be added to `metadata/input_peaks.json` as input guesses.\n",
    "\n",
    "Run this notebook using the `legend-base` Shifter image.  [Here are the instructions to set this up.](https://github.com/legend-exp/legend/wiki/Computing-Resources-at-NERSC)"
   ]
  },
  {
   "cell_type": "code",
   "execution_count": null,
   "metadata": {},
   "outputs": [],
   "source": [
    "# install user prerequisites\n",
    "# !pip install ipympl==0.5.7 --user\n",
    "\n",
    "# Use this at NERSC to get interactive plots.\n",
    "%matplotlib widget\n",
    "\n",
    "import os, h5py\n",
    "import pandas as pd\n",
    "import numpy as np\n",
    "import matplotlib.pyplot as plt\n",
    "\n",
    "from pygama import DataGroup, lh5\n",
    "import pygama.analysis.histograms as pgh"
   ]
  },
  {
   "cell_type": "markdown",
   "metadata": {},
   "source": [
    "#### >>> Users, set config here ! <<<\n",
    "Set the query here to DataGroup to load files.  You may want to refer to `runDB.json` to see how to vary this.  Here we also set the energy parameter of interest. "
   ]
  },
  {
   "cell_type": "code",
   "execution_count": null,
   "metadata": {},
   "outputs": [],
   "source": [
    "# fileDB query\n",
    "# que = 'run==66 and cycle > 885'\n",
    "que = 'run==280'\n",
    "\n",
    "# energy estimator of interest\n",
    "# etype = 'energy'\n",
    "etype = 'trapEftp'\n",
    "\n",
    "# lh5 table name\n",
    "tb_in = 'ORSIS3302DecoderForEnergy/dsp'\n",
    "\n",
    "# uncalibrated energy range\n",
    "# xlo, xhi, xpb = 0, 4e6, 10000   # good for energy\n",
    "xlo, xhi, xpb = 0, 10000, 10  # good for trapEmax and trapEftp\n",
    "\n",
    "# load the fileDB and make sure the entries exist\n",
    "dg = DataGroup('$CAGE_SW/processing/cage.json', load=True)\n",
    "dg.fileDB.query(que, inplace=True)\n",
    "if len(dg.fileDB)==0:\n",
    "    print('Error, no files found.  Check your query, and fileDB.h5.')\n",
    "\n",
    "ecal_cols = ['run', 'cycle', 'skip', 'runtype', 'startTime', 'threshold', 'stopTime', 'runtime']\n",
    "dg.fileDB[ecal_cols]"
   ]
  },
  {
   "cell_type": "markdown",
   "metadata": {},
   "source": [
    "#### Load data\n",
    "Here we use DataGroup's fileDB to select files, retrieve DSP data,\n",
    "and show some information about what we've selected."
   ]
  },
  {
   "cell_type": "code",
   "execution_count": null,
   "metadata": {},
   "outputs": [],
   "source": [
    "# essentially the same code as in energy_cal::check_raw_spectrum\n",
    "\n",
    "# load numpy arrays of uncalibrated energy\n",
    "dsp_list = dg.lh5_dir + dg.fileDB['dsp_path'] + '/' + dg.fileDB['dsp_file']\n",
    "raw_data = lh5.load_nda(dsp_list, [etype], tb_in, verbose=False)\n",
    "\n",
    "# get runtime\n",
    "runtime_min = dg.fileDB['runtime'].sum()\n",
    "\n",
    "# print columns of table\n",
    "with h5py.File(dsp_list.iloc[0], 'r') as hf:\n",
    "    print('\\nLH5 columns:', list(hf[f'{tb_in}'].keys()))\n",
    "    \n",
    "# histogram energy data for this estimator and normalize by runtime\n",
    "data = raw_data[etype]\n",
    "hist, bins, var = pgh.get_hist(data, range=(xlo, xhi), dx=xpb)\n",
    "bins = bins[1:] # trim zero bin, not needed with ds='steps'\n",
    "hist_rt = np.divide(hist, runtime_min * 60)\n",
    "\n",
    "print(f'\\nRaw E: {etype}, {len(data)} cts, runtime: {runtime_min:.2f} min')"
   ]
  },
  {
   "cell_type": "markdown",
   "metadata": {},
   "source": [
    "#### Create interactive spectrum"
   ]
  },
  {
   "cell_type": "code",
   "execution_count": null,
   "metadata": {},
   "outputs": [],
   "source": [
    "%matplotlib widget\n",
    "plt.semilogy(bins, hist_rt, ds='steps', c='b', lw=1, label=etype)\n",
    "plt.xlabel(etype, ha='right', x=1)\n",
    "plt.ylabel(f'cts/sec, {xpb}/bin', ha='right', y=1)\n",
    "plt.show()"
   ]
  },
  {
   "cell_type": "code",
   "execution_count": null,
   "metadata": {},
   "outputs": [],
   "source": [
    "# draw a few lines in the uncalibrated spectrum\n",
    "\n",
    "# %matplotlib widget\n",
    "%matplotlib inline\n",
    "plt.semilogy(bins, hist_rt, ds='steps', c='b', lw=1, label=etype)\n",
    "\n",
    "# plt.axvline(5120, c='r', lw=1)\n",
    "# plt.axvline(1665, c='b', lw=1)\n",
    "\n",
    "plt.xlabel(etype, ha='right', x=1)\n",
    "plt.ylabel(f'cts/sec, {xpb}/bin', ha='right', y=1)\n",
    "plt.show()\n"
   ]
  },
  {
   "cell_type": "code",
   "execution_count": null,
   "metadata": {},
   "outputs": [],
   "source": [
    "# apply an arbitrary set of calibration constants\n",
    "# can be the output of np.polyfit\n",
    "\n",
    "# pars = [-4.14621058e-06, 5.21111045e-01, 5.47450830e+01]\n",
    "# pars = [ 4.79137964e-07, 9.98176163e-01, -4.24949030e-02]\n",
    "pars = [0, 1, 0]\n",
    "pars = [-4.28582919e-06, 5.20891424e-01, 5.47741940e+01]\n",
    "\n",
    "xlo, xhi, xpb = 0, 500, 1\n",
    "# xlo, xhi, xpb = 0, 100, 1\n",
    "\n",
    "pfunc = np.poly1d(pars)\n",
    "cal_data = pfunc(raw_data[etype])\n",
    "hist, bins, var = pgh.get_hist(cal_data, range=(xlo, xhi), dx=xpb)\n",
    "bins = bins[1:]\n",
    "hist_rt = np.divide(hist, runtime_min * 60)\n",
    "\n",
    "%matplotlib widget\n",
    "\n",
    "plt.semilogy(bins, hist_rt, ds='steps', c='b', lw=1, label=etype)\n",
    "\n",
    "plt.xlabel(etype, ha='right', x=1)\n",
    "plt.ylabel(f'cts/sec, {xpb}/bin', ha='right', y=1)\n",
    "plt.show()"
   ]
  },
  {
   "cell_type": "code",
   "execution_count": null,
   "metadata": {},
   "outputs": [],
   "source": [
    "%matplotlib widget\n",
    "plt.semilogy(bins, hist_rt, ds='steps', c='b', lw=1, label=etype)\n",
    "plt.xlabel(etype, ha='right', x=1)\n",
    "plt.ylabel(f'cts/sec, {xpb}/bin', ha='right', y=1)\n",
    "plt.show()"
   ]
  }
 ],
 "metadata": {
  "kernelspec": {
   "display_name": "legend-base",
   "language": "python",
   "name": "legend-base"
  },
  "language_info": {
   "codemirror_mode": {
    "name": "ipython",
    "version": 3
   },
   "file_extension": ".py",
   "mimetype": "text/x-python",
   "name": "python",
   "nbconvert_exporter": "python",
   "pygments_lexer": "ipython3",
   "version": "3.9.12"
  }
 },
 "nbformat": 4,
 "nbformat_minor": 4
}
