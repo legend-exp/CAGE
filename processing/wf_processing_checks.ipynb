{
 "cells": [
  {
   "cell_type": "markdown",
   "metadata": {},
   "source": [
    "## Waveform Processing -- DSP Optimization Helper\n",
    "\n",
    "To find an ideal set of DSP parameters, it's helpful to load raw/dsp/hit files and look at a few waveforms.  The `WaveformBrowser` object uses `ProcessingChain` under the hood to process a few waveforms at a time and show you the result."
   ]
  },
  {
   "cell_type": "code",
   "execution_count": null,
   "metadata": {},
   "outputs": [],
   "source": [
    "import os\n",
    "import json\n",
    "import h5py\n",
    "import argparse\n",
    "import pandas as pd\n",
    "import numpy as np\n",
    "import tinydb as db\n",
    "from tinydb.storages import MemoryStorage\n",
    "import matplotlib.pyplot as plt\n",
    "# plt.style.use('../clint.mpl')\n",
    "from matplotlib.colors import LogNorm\n",
    "import boost_histogram as bh\n",
    "import pickle as pl\n",
    "from pygama import DataGroup\n",
    "import pygama.lh5 as lh5\n",
    "import pygama.analysis.histograms as pgh\n",
    "import pygama.analysis.peak_fitting as pgf\n",
    "from pygama.dsp.WaveformBrowser import WaveformBrowser\n",
    "\n",
    "# do this to use cage_utils functions\n",
    "import sys\n",
    "sys.path.insert(1, '../analysis/')\n",
    "import cage_utils"
   ]
  },
  {
   "cell_type": "code",
   "execution_count": null,
   "metadata": {},
   "outputs": [],
   "source": [
    "run = 244\n",
    "\n",
    "dsp_id = '06'\n",
    "\n",
    "user = False\n",
    "hit = True\n",
    "cal = True\n",
    "lowE = False\n",
    "cut = False\n",
    "\n",
    "etype = 'trapEftp_cal'\n",
    "\n",
    "# dsp list for uncalibrated data\n",
    "# dsp_list = ['energy', 'trapEftp', 'trapEmax', 'bl','bl_sig', 'bl_slope', 'AoE', 'dcr', \"tp_0\", \"tp_02\", \"tp_05\", \"tp_10\", \"tp_20\", \"tp_30\", \"tp_40\", \"tp_50\", \"tp_60\", \"tp_70\", \"tp_80\", \"tp_90\", \"tp_96\", 'tp_max', 'ToE', 'log_tail_fit_slope', 'wf_max', 'wf_argmax', 'trapE_argmax', 'lf_max']\n",
    "\n",
    "# dsp list for calibrated data\n",
    "# dsp_list = ['energy', 'trapEftp', 'trapEmax', 'trapEftp_cal', 'bl','bl_sig', 'bl_slope', 'AoE', 'dcr', \"tp_0\", \"tp_02\", \"tp_05\", \"tp_10\", \"tp_20\", \"tp_30\", \"tp_40\", \"tp_50\", \"tp_60\", \"tp_70\", \"tp_80\", \"tp_90\", \"tp_96\", 'tp_max', 'ToE', 'log_tail_fit_slope', 'wf_max', 'wf_argmax', 'trapE_argmax', 'lf_max']\n",
    "dsp_list = ['trapEftp', 'trapEftp_cal', 'bl', 'bl_sig', 'bl_slope']\n",
    "\n",
    "df_raw, dg, runtype, rt_min, radius, angle_det, rotary = cage_utils.getDataFrame(run, user=user, hit=hit, cal=cal, dsp_list=dsp_list, lowE=lowE)\n",
    "\n",
    "print(df_raw)"
   ]
  },
  {
   "cell_type": "code",
   "execution_count": null,
   "metadata": {},
   "outputs": [],
   "source": [
    "# get raw files for wfs\n",
    "raw_lh5_dir = dg.lh5_dir\n",
    "raw_list = raw_lh5_dir + dg.fileDB['raw_path'] + '/' + dg.fileDB['raw_file']\n",
    "print(raw_list)"
   ]
  },
  {
   "cell_type": "markdown",
   "metadata": {},
   "source": [
    "Apply data-cleaning cuts if relevant"
   ]
  },
  {
   "cell_type": "code",
   "execution_count": null,
   "metadata": {},
   "outputs": [],
   "source": [
    "if cut == True:\n",
    "    print(f'Making cut')\n",
    "    df_cut = cage_utils.apply_DC_Cuts(run, df_raw)\n",
    "else:\n",
    "    df_cut = df_raw\n",
    "    \n",
    "print(df_cut)"
   ]
  },
  {
   "cell_type": "markdown",
   "metadata": {},
   "source": [
    "Make baseline cut if didn't apply other cuts"
   ]
  },
  {
   "cell_type": "code",
   "execution_count": null,
   "metadata": {},
   "outputs": [],
   "source": [
    "# baseline cut\n",
    "if cut:\n",
    "    if run <79:\n",
    "        bl_cut_lo, bl_cut_hi = 9150,9320\n",
    "    if run>79 and run <117:\n",
    "        bl_cut_lo, bl_cut_hi = 8500, 10000\n",
    "    if run>=117:\n",
    "        bl_cut_lo, bl_cut_hi = 9700, 9760\n",
    "\n",
    "    df_cut = df.query(f'bl > {bl_cut_lo} and bl < {bl_cut_hi}').copy()\n",
    "    \n",
    "    # baseline cut\n",
    "    bl = df['bl']\n",
    "    bl_cut = (bl > bl_cut_lo) & (bl < bl_cut_hi)\n",
    "\n",
    "    # print(cut)\n",
    "    print(bl_cut.value_counts())"
   ]
  },
  {
   "cell_type": "code",
   "execution_count": null,
   "metadata": {},
   "outputs": [],
   "source": [
    "# energy cut \n",
    "energy = df_cut[etype]\n",
    "# print(df_cut)\n",
    "\n",
    "if cal == True:\n",
    "    energy = df_cut['trapEftp_cal']\n",
    "    energy_cut = (energy > 1450) & (energy < 1470) # 1460 peak\n",
    "    # energy_cut = (energy > 60) & (energy < 65) # 60 keV peak\n",
    "    \n",
    "else:\n",
    "    # energy = df_hit['trapEmax']\n",
    "    energy_cut = (energy > 2805) & (energy < 2835) # 1460 peak, uncalibratedm trapEmax\n",
    "    # energy_cut = (energy > 2000000) & (energy < 2500000) #where alphas seem to be in run 117, raw energy parameter\n",
    "    # energy_cut = (energy > 200) & (energy < 1000) #where low e weirdness is in DCR, in trapEftp\n",
    "    \n",
    "# print(type(energy))\n",
    "# print(energy_cut)\n",
    "print(energy_cut.value_counts())\n",
    "\n",
    "# energy_raw = df['energy']\n",
    "# energy_cut_raw = (energy_raw > 10200) & (energy_raw < 10600)\n",
    "\n",
    "# -- set the cut to be used when viewing waveforms -- \n",
    "# cut = bl_cut & energy_cut\n",
    "cut = energy_cut\n",
    "# print(cut)\n",
    "print(cut.value_counts())"
   ]
  },
  {
   "cell_type": "markdown",
   "metadata": {},
   "source": [
    "\n",
    "\n",
    "## DCR / Pole-Zero Correction Plots\n",
    "\n",
    "Show the raw waveform and the pole-zero corrected waveform used to calculate the DCR (tail slope) parameters.\n"
   ]
  },
  {
   "cell_type": "code",
   "execution_count": null,
   "metadata": {},
   "outputs": [],
   "source": [
    "dsp_config_file = os.path.expandvars(f'$CAGE_SW/processing/metadata/dsp/dsp_{dsp_id}.json')\n",
    "print(dsp_id)\n",
    "browser = WaveformBrowser(raw_list, 'ORSIS3302DecoderForEnergy/raw', dsp_config_file, # Need to include a dsp config file!\n",
    "                          # database={\"pz_const\":'396.9*us'}, # TODO: use metadata instead of manually defining...\n",
    "                          waveforms=['wf_blsub', 'wf_pzDCR', 'dcr_trap'], # names of waveforms from dsp config file\n",
    "                          selection = cut, # Apply cut\n",
    "                          wf_styles=[{'linestyle':['-']},{'linestyle':[':']},{'ls':['--']}],\n",
    "                          legend=['Waveform', 'PZ Corrected', \"DCR: {dcr:0.2f}\"],\n",
    "                          legend_opts={'loc':\"lower right\"},\n",
    "                          lines=['dcr'], # add hlines and vlines\n",
    "                          x_lim=(38000, 80000) # x axis range\n",
    "                          )\n",
    "# plt.rcParams['figure.figsize'] = [14, 10]"
   ]
  },
  {
   "cell_type": "code",
   "execution_count": null,
   "metadata": {},
   "outputs": [],
   "source": [
    "%matplotlib widget\n",
    "browser.draw_next()\n",
    "# plt.ylim(3100, 3300)\n",
    "plt.axvline(42500, c='r')\n",
    "plt.axvline(55000, c='r')"
   ]
  },
  {
   "cell_type": "markdown",
   "metadata": {},
   "source": [
    "## Energy Plots"
   ]
  },
  {
   "cell_type": "code",
   "execution_count": null,
   "metadata": {},
   "outputs": [],
   "source": [
    "dsp_config_file = os.path.expandvars(f'$CAGE_SW/processing/metadata/dsp/dsp_{dsp_id}.json')\n",
    "browser2 = WaveformBrowser(raw_list, 'ORSIS3302DecoderForEnergy/raw', dsp_config_file, \n",
    "                           waveforms =['wf_blsub', 'wf_pz', 'wf_trap'],\n",
    "                           selection = cut, \n",
    "                           wf_styles = [{'linestyle':['-']},{'linestyle':[':']},{'ls':['--']}],\n",
    "                           legend = ['Waveform', 'PZ Corrected',  'trapEftp = {trapEftp:0.2f}'],\n",
    "                           legend_opts = {'loc':\"lower left\"},\n",
    "                           lines = ['trapEftp'],\n",
    "                           x_lim = (0, 80000)\n",
    "                           )"
   ]
  },
  {
   "cell_type": "code",
   "execution_count": null,
   "metadata": {},
   "outputs": [],
   "source": [
    "%matplotlib widget\n",
    "browser2.draw_next()\n",
    "# plt.ylim(4000, 4500)"
   ]
  },
  {
   "cell_type": "markdown",
   "metadata": {},
   "source": [
    "## Timepoint calculators -- `tp_0`, etc."
   ]
  },
  {
   "cell_type": "code",
   "execution_count": null,
   "metadata": {},
   "outputs": [],
   "source": [
    "dsp_config_file = os.path.expandvars(f'$CAGE_SW/processing/metadata/dsp/dsp_{dsp_id}.json')\n",
    "browser3 = WaveformBrowser(raw_list, 'ORSIS3302DecoderForEnergy/raw', dsp_config_file, \n",
    "                           waveforms = ['wf_blsub', 'wf_pz', 'wf_atrap'],\n",
    "                           selection = cut,\n",
    "                           wf_styles = [{'linestyle':['-']},{'linestyle':[':']},{'ls':['--']}],\n",
    "                           legend = ['Waveform', 'PZ Corrected',  't0 = {tp_0:0.2f}'],\n",
    "                           lines=['tp_0'],\n",
    "                           x_lim=(39000, 41000)\n",
    "                           )"
   ]
  },
  {
   "cell_type": "code",
   "execution_count": null,
   "metadata": {},
   "outputs": [],
   "source": [
    "%matplotlib widget\n",
    "browser3.draw_next()\n",
    "# plt.ylim(-10, 200) \n",
    "# plt.xlim(38000, 45000)"
   ]
  },
  {
   "cell_type": "markdown",
   "metadata": {},
   "source": [
    "## T/E calculator"
   ]
  },
  {
   "cell_type": "code",
   "execution_count": null,
   "metadata": {},
   "outputs": [],
   "source": [
    "dsp_config_file = os.path.expandvars(f'$CAGE_SW/processing/metadata/dsp/dsp_{dsp_id}.json')\n",
    "browser_tri = WaveformBrowser(raw_list, 'ORSIS3302DecoderForEnergy/raw', dsp_config_file,\n",
    "                              waveforms = ['wf_blsub', 'wf_pz', 'wf_triangle'],\n",
    "                              selection = cut,\n",
    "                              wf_styles=[{'linestyle':['-']},{'linestyle':[':']},{'ls':['--']}],\n",
    "                              legend=['Waveform', 'PZ Corrected',  'triE= {triE:0.2f}'],\n",
    "                              lines=['triE'],\n",
    "                              x_lim=(0, 50000)\n",
    "                              )"
   ]
  },
  {
   "cell_type": "code",
   "execution_count": null,
   "metadata": {},
   "outputs": [],
   "source": [
    "%matplotlib widget\n",
    "browser_tri.draw_next()\n",
    "# plt.ylim(-10, 100) \n",
    "plt.xlim(38000, 45000)"
   ]
  },
  {
   "cell_type": "markdown",
   "metadata": {},
   "source": [
    "## WF_psd\n",
    "(todo)"
   ]
  },
  {
   "cell_type": "markdown",
   "metadata": {},
   "source": [
    "## LF noise\n",
    "Low-frequency maximum value `lf_max`"
   ]
  },
  {
   "cell_type": "code",
   "execution_count": null,
   "metadata": {},
   "outputs": [],
   "source": [
    "dsp_config_file = os.path.expandvars(f'$CAGE_SW/processing/metadata/dsp/dsp_{dsp_id}.json')\n",
    "browser4 = WaveformBrowser(raw_list, 'ORSIS3302DecoderForEnergy/raw', dsp_config_file,\n",
    "                           waveforms = ['wf_psd', 'wf_psd'],\n",
    "                           selection = cut,\n",
    "                           wf_styles = [{'linestyle':['-']}],\n",
    "                           legend = ['lf_max = {lf_max:0.2f}', 'wf_psd'],\n",
    "                           lines=['lf_max'],\n",
    "                           x_unit = 'khz',\n",
    "                           x_lim=(0, 200),\n",
    "                           verbosity=2\n",
    "                           )"
   ]
  },
  {
   "cell_type": "code",
   "execution_count": null,
   "metadata": {},
   "outputs": [],
   "source": [
    "%matplotlib widget\n",
    "browser4.draw_next()\n",
    "# plt.ylim(0, 2000)"
   ]
  },
  {
   "cell_type": "markdown",
   "metadata": {},
   "source": [
    "## HF PSD\n",
    "\n",
    "High-frequency maximum value `hf_max`"
   ]
  },
  {
   "cell_type": "code",
   "execution_count": null,
   "metadata": {},
   "outputs": [],
   "source": [
    "dsp_config_file = os.path.expandvars(f'$CAGE_SW/processing/metadata/dsp/dsp_{dsp_id}.json')\n",
    "browser5 = WaveformBrowser(raw_list, 'ORSIS3302DecoderForEnergy/raw', dsp_config_file,\n",
    "                           waveforms = ['wf_psd', 'wf_psd'],\n",
    "                           selection = cut, \n",
    "                           wf_styles = [{'linestyle':['-']}],\n",
    "                           legend=['hf_max = {hf_max:0.2f}', 'wf_psd'],\n",
    "                           lines=['hf_max'],\n",
    "                           x_unit = 'mhz',\n",
    "                           x_lim=(0, 50),\n",
    "                           verbosity=2\n",
    "                           )"
   ]
  },
  {
   "cell_type": "code",
   "execution_count": null,
   "metadata": {},
   "outputs": [],
   "source": [
    "%matplotlib widget\n",
    "browser5.draw_next()\n",
    "# plt.ylim(0, 2000)"
   ]
  },
  {
   "cell_type": "markdown",
   "metadata": {},
   "source": [
    "## Baseline Slope"
   ]
  },
  {
   "cell_type": "code",
   "execution_count": null,
   "metadata": {},
   "outputs": [],
   "source": [
    "dsp_config_file = os.path.expandvars(f'$CAGE_SW/processing/metadata/dsp/dsp_{dsp_id}.json')\n",
    "browser6 = WaveformBrowser(raw_list, 'ORSIS3302DecoderForEnergy/raw', dsp_config_file,\n",
    "                           waveforms=['wf_blsub', 'wf_pzDCR', 'bl_trap'],\n",
    "                           selection = cut,\n",
    "                           wf_styles=[{'linestyle':['-']},{'linestyle':[':']},{'ls':['--']}],\n",
    "                           legend=['Waveform', 'PZ Corrected', \"bl_slope: {bl_slope:0.2f}\"],\n",
    "                           lines=['bl_slope'],\n",
    "                           x_lim=(0, 20000),\n",
    "                           )"
   ]
  },
  {
   "cell_type": "code",
   "execution_count": null,
   "metadata": {},
   "outputs": [],
   "source": [
    "%matplotlib widget\n",
    "browser6.draw_next()\n",
    "plt.ylim(-30, 30)"
   ]
  },
  {
   "cell_type": "code",
   "execution_count": null,
   "metadata": {},
   "outputs": [],
   "source": [
    "dsp_config_file = os.path.expandvars(f'$CAGE_SW/processing/metadata/dsp/dsp_{dsp_id}.json')\n",
    "browser7 = WaveformBrowser(raw_list, 'ORSIS3302DecoderForEnergy/raw', dsp_config_file,\n",
    "                           waveforms = ['log_tail'],\n",
    "                           selection = cut,\n",
    "                           wf_styles=[{'linestyle':['-']}],\n",
    "                           legend=['log tail'],\n",
    "                           # x_lim=(0, 80000)\n",
    "                           )"
   ]
  },
  {
   "cell_type": "code",
   "execution_count": null,
   "metadata": {},
   "outputs": [],
   "source": [
    "%matplotlib widget\n",
    "browser7.draw_next()\n",
    "# plt.xlim(0, 40000)"
   ]
  },
  {
   "cell_type": "code",
   "execution_count": null,
   "metadata": {},
   "outputs": [],
   "source": []
  },
  {
   "cell_type": "code",
   "execution_count": null,
   "metadata": {},
   "outputs": [],
   "source": []
  },
  {
   "cell_type": "code",
   "execution_count": null,
   "metadata": {},
   "outputs": [],
   "source": []
  },
  {
   "cell_type": "code",
   "execution_count": null,
   "metadata": {},
   "outputs": [],
   "source": []
  }
 ],
 "metadata": {
  "kernelspec": {
   "display_name": "legend-base",
   "language": "python",
   "name": "legend-base"
  },
  "language_info": {
   "codemirror_mode": {
    "name": "ipython",
    "version": 3
   },
   "file_extension": ".py",
   "mimetype": "text/x-python",
   "name": "python",
   "nbconvert_exporter": "python",
   "pygments_lexer": "ipython3",
   "version": "3.8.5"
  }
 },
 "nbformat": 4,
 "nbformat_minor": 4
}
