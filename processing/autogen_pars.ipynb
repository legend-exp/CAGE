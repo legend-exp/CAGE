{
 "cells": [
  {
   "cell_type": "code",
   "execution_count": 1,
   "metadata": {},
   "outputs": [],
   "source": [
    "import matplotlib.pyplot as plt\n",
    "import matplotlib.colors as colors\n",
    "import numpy as np\n",
    "import pandas as pd\n",
    "import os\n",
    "import pint\n",
    "import json\n",
    "import pprint\n",
    "\n",
    "from pygama.flow import DataLoader\n",
    "from pygama.flow import FileDB\n",
    "from lgdo.lh5_store import LH5Store\n",
    "from lgdo import ls, Table, WaveformTable\n",
    "from dspeed import build_dsp"
   ]
  },
  {
   "cell_type": "markdown",
   "metadata": {},
   "source": [
    "# Setup FileDB and DataLoader"
   ]
  },
  {
   "cell_type": "code",
   "execution_count": 2,
   "metadata": {},
   "outputs": [
    {
     "name": "stderr",
     "output_type": "stream",
     "text": [
      "cannot find 'ORSIS3302DecoderForEnergy/raw' in /global/cfs/cdirs/m2676/data/cage/LH5/raw/cage_run385_cyc2527_raw.lh5\n",
      "cannot find 'ORSIS3302DecoderForEnergy/raw' in /global/cfs/cdirs/m2676/data/cage/LH5/raw/cage_run385_cyc2528_raw.lh5\n",
      "cannot find 'ORSIS3302DecoderForEnergy/raw' in /global/cfs/cdirs/m2676/data/cage/LH5/raw/cage_run386_cyc2529_raw.lh5\n",
      "cannot find 'ORSIS3302DecoderForEnergy/raw' in /global/cfs/cdirs/m2676/data/cage/LH5/raw/cage_run386_cyc2530_raw.lh5\n",
      "cannot find 'ORSIS3302DecoderForEnergy/raw' in /global/cfs/cdirs/m2676/data/cage/LH5/raw/cage_run386_cyc2531_raw.lh5\n",
      "cannot find 'ORSIS3302DecoderForEnergy/raw' in /global/cfs/cdirs/m2676/data/cage/LH5/raw/cage_run386_cyc2532_raw.lh5\n",
      "cannot find 'ORSIS3302DecoderForEnergy/raw' in /global/cfs/cdirs/m2676/data/cage/LH5/raw/cage_run387_cyc2533_raw.lh5\n",
      "cannot find 'ORSIS3302DecoderForEnergy/raw' in /global/cfs/cdirs/m2676/data/cage/LH5/raw/cage_run387_cyc2534_raw.lh5\n",
      "cannot find 'ORSIS3302DecoderForEnergy/raw' in /global/cfs/cdirs/m2676/data/cage/LH5/raw/cage_run387_cyc2535_raw.lh5\n",
      "cannot find 'ORSIS3302DecoderForEnergy/raw' in /global/cfs/cdirs/m2676/data/cage/LH5/raw/cage_run388_cyc2536_raw.lh5\n",
      "cannot find 'ORSIS3302DecoderForEnergy/raw' in /global/cfs/cdirs/m2676/data/cage/LH5/raw/cage_run388_cyc2537_raw.lh5\n",
      "cannot find 'ORSIS3302DecoderForEnergy/raw' in /global/cfs/cdirs/m2676/data/cage/LH5/raw/cage_run388_cyc2538_raw.lh5\n",
      "cannot find 'ORSIS3302DecoderForEnergy/raw' in /global/cfs/cdirs/m2676/data/cage/LH5/raw/cage_run389_cyc2539_raw.lh5\n",
      "cannot find 'ORSIS3302DecoderForEnergy/raw' in /global/cfs/cdirs/m2676/data/cage/LH5/raw/cage_run389_cyc2540_raw.lh5\n",
      "cannot find 'ORSIS3302DecoderForEnergy/raw' in /global/cfs/cdirs/m2676/data/cage/LH5/raw/cage_run389_cyc2541_raw.lh5\n",
      "cannot find 'ORSIS3302DecoderForEnergy/raw' in /global/cfs/cdirs/m2676/data/cage/LH5/raw/cage_run389_cyc2542_raw.lh5\n",
      "cannot find 'ORSIS3302DecoderForEnergy/raw' in /global/cfs/cdirs/m2676/data/cage/LH5/raw/cage_run390_cyc2543_raw.lh5\n",
      "cannot find 'ORSIS3302DecoderForEnergy/raw' in /global/cfs/cdirs/m2676/data/cage/LH5/raw/cage_run390_cyc2544_raw.lh5\n",
      "cannot find 'ORSIS3302DecoderForEnergy/raw' in /global/cfs/cdirs/m2676/data/cage/LH5/raw/cage_run390_cyc2545_raw.lh5\n",
      "cannot find 'ORSIS3302DecoderForEnergy/raw' in /global/cfs/cdirs/m2676/data/cage/LH5/raw/cage_run391_cyc2546_raw.lh5\n",
      "cannot find 'ORSIS3302DecoderForEnergy/raw' in /global/cfs/cdirs/m2676/data/cage/LH5/raw/cage_run391_cyc2547_raw.lh5\n",
      "cannot find 'ORSIS3302DecoderForEnergy/raw' in /global/cfs/cdirs/m2676/data/cage/LH5/raw/cage_run391_cyc2548_raw.lh5\n",
      "cannot find 'ORSIS3302DecoderForEnergy/raw' in /global/cfs/cdirs/m2676/data/cage/LH5/raw/cage_run391_cyc2549_raw.lh5\n",
      "cannot find 'ORSIS3302DecoderForEnergy/raw' in /global/cfs/cdirs/m2676/data/cage/LH5/raw/cage_run391_cyc2550_raw.lh5\n",
      "cannot find 'ORSIS3302DecoderForEnergy/raw' in /global/cfs/cdirs/m2676/data/cage/LH5/raw/cage_run391_cyc2551_raw.lh5\n",
      "cannot find 'ORSIS3302DecoderForEnergy/raw' in /global/cfs/cdirs/m2676/data/cage/LH5/raw/cage_run391_cyc2552_raw.lh5\n",
      "cannot find 'ORSIS3302DecoderForEnergy/raw' in /global/cfs/cdirs/m2676/data/cage/LH5/raw/cage_run391_cyc2553_raw.lh5\n",
      "cannot find 'ORSIS3302DecoderForEnergy/raw' in /global/cfs/cdirs/m2676/data/cage/LH5/raw/cage_run391_cyc2554_raw.lh5\n",
      "cannot find 'ORSIS3302DecoderForEnergy/raw' in /global/cfs/cdirs/m2676/data/cage/LH5/raw/cage_run391_cyc2555_raw.lh5\n",
      "cannot find 'ORSIS3302DecoderForEnergy/raw' in /global/cfs/cdirs/m2676/data/cage/LH5/raw/cage_run391_cyc2556_raw.lh5\n",
      "cannot find 'ORSIS3302DecoderForEnergy/raw' in /global/cfs/cdirs/m2676/data/cage/LH5/raw/cage_run391_cyc2557_raw.lh5\n",
      "cannot find 'ORSIS3302DecoderForEnergy/raw' in /global/cfs/cdirs/m2676/data/cage/LH5/raw/cage_run391_cyc2558_raw.lh5\n",
      "cannot find 'ORSIS3302DecoderForEnergy/raw' in /global/cfs/cdirs/m2676/data/cage/LH5/raw/cage_run391_cyc2559_raw.lh5\n",
      "cannot find 'ORSIS3302DecoderForEnergy/raw' in /global/cfs/cdirs/m2676/data/cage/LH5/raw/cage_run391_cyc2560_raw.lh5\n",
      "cannot find 'ORSIS3302DecoderForEnergy/raw' in /global/cfs/cdirs/m2676/data/cage/LH5/raw/cage_run391_cyc2561_raw.lh5\n",
      "cannot find 'ORSIS3302DecoderForEnergy/dsp' in /global/cfs/cdirs/m2676/data/cage/LH5/dsp/cage_run385_cyc2527_dsp.lh5\n",
      "cannot find 'ORSIS3302DecoderForEnergy/dsp' in /global/cfs/cdirs/m2676/data/cage/LH5/dsp/cage_run385_cyc2528_dsp.lh5\n",
      "cannot find 'ORSIS3302DecoderForEnergy/dsp' in /global/cfs/cdirs/m2676/data/cage/LH5/dsp/cage_run386_cyc2529_dsp.lh5\n",
      "cannot find 'ORSIS3302DecoderForEnergy/dsp' in /global/cfs/cdirs/m2676/data/cage/LH5/dsp/cage_run386_cyc2530_dsp.lh5\n",
      "cannot find 'ORSIS3302DecoderForEnergy/dsp' in /global/cfs/cdirs/m2676/data/cage/LH5/dsp/cage_run386_cyc2531_dsp.lh5\n",
      "cannot find 'ORSIS3302DecoderForEnergy/dsp' in /global/cfs/cdirs/m2676/data/cage/LH5/dsp/cage_run386_cyc2532_dsp.lh5\n",
      "cannot find 'ORSIS3302DecoderForEnergy/dsp' in /global/cfs/cdirs/m2676/data/cage/LH5/dsp/cage_run387_cyc2533_dsp.lh5\n",
      "cannot find 'ORSIS3302DecoderForEnergy/dsp' in /global/cfs/cdirs/m2676/data/cage/LH5/dsp/cage_run387_cyc2534_dsp.lh5\n",
      "cannot find 'ORSIS3302DecoderForEnergy/dsp' in /global/cfs/cdirs/m2676/data/cage/LH5/dsp/cage_run387_cyc2535_dsp.lh5\n",
      "cannot find 'ORSIS3302DecoderForEnergy/dsp' in /global/cfs/cdirs/m2676/data/cage/LH5/dsp/cage_run388_cyc2536_dsp.lh5\n",
      "cannot find 'ORSIS3302DecoderForEnergy/dsp' in /global/cfs/cdirs/m2676/data/cage/LH5/dsp/cage_run388_cyc2537_dsp.lh5\n",
      "cannot find 'ORSIS3302DecoderForEnergy/dsp' in /global/cfs/cdirs/m2676/data/cage/LH5/dsp/cage_run388_cyc2538_dsp.lh5\n",
      "cannot find 'ORSIS3302DecoderForEnergy/dsp' in /global/cfs/cdirs/m2676/data/cage/LH5/dsp/cage_run389_cyc2539_dsp.lh5\n",
      "cannot find 'ORSIS3302DecoderForEnergy/dsp' in /global/cfs/cdirs/m2676/data/cage/LH5/dsp/cage_run389_cyc2540_dsp.lh5\n",
      "cannot find 'ORSIS3302DecoderForEnergy/dsp' in /global/cfs/cdirs/m2676/data/cage/LH5/dsp/cage_run389_cyc2541_dsp.lh5\n",
      "cannot find 'ORSIS3302DecoderForEnergy/dsp' in /global/cfs/cdirs/m2676/data/cage/LH5/dsp/cage_run389_cyc2542_dsp.lh5\n",
      "cannot find 'ORSIS3302DecoderForEnergy/dsp' in /global/cfs/cdirs/m2676/data/cage/LH5/dsp/cage_run390_cyc2543_dsp.lh5\n",
      "cannot find 'ORSIS3302DecoderForEnergy/dsp' in /global/cfs/cdirs/m2676/data/cage/LH5/dsp/cage_run390_cyc2544_dsp.lh5\n",
      "cannot find 'ORSIS3302DecoderForEnergy/dsp' in /global/cfs/cdirs/m2676/data/cage/LH5/dsp/cage_run390_cyc2545_dsp.lh5\n",
      "cannot find 'ORSIS3302DecoderForEnergy/dsp' in /global/cfs/cdirs/m2676/data/cage/LH5/dsp/cage_run391_cyc2546_dsp.lh5\n",
      "cannot find 'ORSIS3302DecoderForEnergy/dsp' in /global/cfs/cdirs/m2676/data/cage/LH5/dsp/cage_run391_cyc2547_dsp.lh5\n",
      "cannot find 'ORSIS3302DecoderForEnergy/dsp' in /global/cfs/cdirs/m2676/data/cage/LH5/dsp/cage_run391_cyc2548_dsp.lh5\n",
      "cannot find 'ORSIS3302DecoderForEnergy/dsp' in /global/cfs/cdirs/m2676/data/cage/LH5/dsp/cage_run391_cyc2549_dsp.lh5\n",
      "cannot find 'ORSIS3302DecoderForEnergy/dsp' in /global/cfs/cdirs/m2676/data/cage/LH5/dsp/cage_run391_cyc2550_dsp.lh5\n",
      "cannot find 'ORSIS3302DecoderForEnergy/dsp' in /global/cfs/cdirs/m2676/data/cage/LH5/dsp/cage_run391_cyc2551_dsp.lh5\n",
      "cannot find 'ORSIS3302DecoderForEnergy/dsp' in /global/cfs/cdirs/m2676/data/cage/LH5/dsp/cage_run391_cyc2552_dsp.lh5\n",
      "cannot find 'ORSIS3302DecoderForEnergy/dsp' in /global/cfs/cdirs/m2676/data/cage/LH5/dsp/cage_run391_cyc2553_dsp.lh5\n",
      "cannot find 'ORSIS3302DecoderForEnergy/dsp' in /global/cfs/cdirs/m2676/data/cage/LH5/dsp/cage_run391_cyc2554_dsp.lh5\n",
      "cannot find 'ORSIS3302DecoderForEnergy/dsp' in /global/cfs/cdirs/m2676/data/cage/LH5/dsp/cage_run391_cyc2555_dsp.lh5\n",
      "cannot find 'ORSIS3302DecoderForEnergy/dsp' in /global/cfs/cdirs/m2676/data/cage/LH5/dsp/cage_run391_cyc2556_dsp.lh5\n",
      "cannot find 'ORSIS3302DecoderForEnergy/dsp' in /global/cfs/cdirs/m2676/data/cage/LH5/dsp/cage_run391_cyc2557_dsp.lh5\n",
      "cannot find 'ORSIS3302DecoderForEnergy/dsp' in /global/cfs/cdirs/m2676/data/cage/LH5/dsp/cage_run391_cyc2558_dsp.lh5\n",
      "cannot find 'ORSIS3302DecoderForEnergy/dsp' in /global/cfs/cdirs/m2676/data/cage/LH5/dsp/cage_run391_cyc2559_dsp.lh5\n",
      "cannot find 'ORSIS3302DecoderForEnergy/dsp' in /global/cfs/cdirs/m2676/data/cage/LH5/dsp/cage_run391_cyc2560_dsp.lh5\n",
      "cannot find 'ORSIS3302DecoderForEnergy/dsp' in /global/cfs/cdirs/m2676/data/cage/LH5/dsp/cage_run391_cyc2561_dsp.lh5\n",
      "cannot find 'ORSIS3302DecoderForEnergy/dsp' in /global/cfs/cdirs/m2676/data/cage/LH5/dsp/cage_run392_cyc2563_dsp.lh5\n"
     ]
    }
   ],
   "source": [
    "# Run this to perform a scan of all files and create a FileDB from scratch, then save it to disk\n",
    "fdb = FileDB(config=\"metadata/dataloader_configs/cage_filedb_config.json\")\n",
    "fdb.scan_tables_columns()\n",
    "fdb.to_disk(\"cage_filedb.lh5\", \"o\")"
   ]
  },
  {
   "cell_type": "code",
   "execution_count": null,
   "metadata": {},
   "outputs": [],
   "source": [
    "# Run this to load an existing FileDB from disk\n",
    "fdb = FileDB(\"cage_filedb.lh5\")"
   ]
  },
  {
   "cell_type": "code",
   "execution_count": 3,
   "metadata": {},
   "outputs": [],
   "source": [
    "dl = DataLoader(config=\"metadata/dataloader_configs/cage_loader_config.json\",\n",
    "                filedb=fdb)"
   ]
  },
  {
   "cell_type": "code",
   "execution_count": null,
   "metadata": {},
   "outputs": [],
   "source": [
    "cyc = 3207\n",
    "dl.reset()\n",
    "dl.set_files(f\"cycle == {cyc}\")\n",
    "dl.set_output(fmt=\"pd.DataFrame\", columns=[\"energy\"])\n",
    "el = dl.build_entry_list(save_output_columns=True)\n",
    "data = dl.load(el)"
   ]
  },
  {
   "cell_type": "markdown",
   "metadata": {},
   "source": [
    "Below you can check the spectrum to make sure it looks okay, then you can zoom in and pick out where the 1460 kev peak is. "
   ]
  },
  {
   "cell_type": "code",
   "execution_count": null,
   "metadata": {},
   "outputs": [],
   "source": [
    "%matplotlib widget"
   ]
  },
  {
   "cell_type": "code",
   "execution_count": null,
   "metadata": {},
   "outputs": [],
   "source": [
    "%matplotlib inline"
   ]
  },
  {
   "cell_type": "code",
   "execution_count": null,
   "metadata": {},
   "outputs": [],
   "source": [
    "plt.figure()\n",
    "#plt.yscale('log')\n",
    "plt.hist(data['energy'], bins = np.linspace(0, 4e6, 1000))\n",
    "plt.xlabel('energy')\n",
    "plt.ylabel('count')"
   ]
  },
  {
   "cell_type": "code",
   "execution_count": null,
   "metadata": {},
   "outputs": [],
   "source": [
    "plt.figure()\n",
    "plt.hist(data['energy'], bins = np.linspace(1.75e6, 1.85e6, 40))\n",
    "plt.xlabel('energy')\n",
    "plt.ylabel('count')"
   ]
  },
  {
   "cell_type": "code",
   "execution_count": null,
   "metadata": {},
   "outputs": [],
   "source": [
    "# input the low and high ends of the 1460 kev peak here\n",
    "elo = 1.77e6\n",
    "ehi = 1.80e6"
   ]
  },
  {
   "cell_type": "markdown",
   "metadata": {},
   "source": [
    "# Load 1460 keV Waveforms"
   ]
  },
  {
   "cell_type": "code",
   "execution_count": null,
   "metadata": {},
   "outputs": [],
   "source": [
    "dl.reset()\n",
    "dl.set_files(f\"cycle == {cyc}\")\n",
    "dl.set_cuts({\"hit\": f\"energy > {elo} and energy < {ehi}\"})\n",
    "dl.set_output(columns=[\"waveform\"])\n",
    "wfs = dl.load()"
   ]
  },
  {
   "cell_type": "code",
   "execution_count": null,
   "metadata": {},
   "outputs": [],
   "source": [
    "wfs['waveform']['dt'].attrs"
   ]
  },
  {
   "cell_type": "code",
   "execution_count": null,
   "metadata": {},
   "outputs": [],
   "source": [
    "# Save waveforms to a temporary \"raw\" file\n",
    "raw_file = \"1460raw_temp.lh5\"\n",
    "# sto.write_object(obj=wfs[\"energy\"], name=\"energy\", lh5_file=raw_file, group=\"raw\")\n",
    "sto = LH5Store()\n",
    "sto.write_object(obj=wfs, name=\"40K\", lh5_file=raw_file, wo_mode=\"of\")"
   ]
  },
  {
   "cell_type": "code",
   "execution_count": null,
   "metadata": {},
   "outputs": [],
   "source": [
    "ureg = pint.UnitRegistry()\n",
    "per_unit = 1/(wfs['waveform']['dt'].nda[0] * ureg(wfs['waveform']['dt'].attrs['units']).units)\n",
    "per_us = per_unit.to(\"1/us\")\n",
    "print(per_unit)\n",
    "print(per_us)"
   ]
  },
  {
   "cell_type": "markdown",
   "metadata": {},
   "source": [
    "# First Pass DSP\n",
    "We run the DSP once to find a reasonable guess for `pz_tau` and bins for our energy histogram"
   ]
  },
  {
   "cell_type": "code",
   "execution_count": null,
   "metadata": {},
   "outputs": [],
   "source": [
    "dsp_db = {\n",
    "    \"40K\": {\n",
    "        \"etrap\": {\n",
    "            \"rise\": \"8*us\",\n",
    "            \"flat\": \"2*us\"\n",
    "        },\n",
    "        \"pz\": {\n",
    "            \"tau\": \"70*us\"\n",
    "        },\n",
    "        \"dcr_trap\": {\n",
    "            \"rise\": \"8*us\",\n",
    "            \"flat\": \"2*us\"\n",
    "        },\n",
    "        \"ctc\": {\n",
    "            \"alpha\": 1\n",
    "        }\n",
    "    }\n",
    "}\n",
    "dsp_config = {\n",
    "  \"outputs\": [\n",
    "    \"trapEmax\", \"lt_slope\"\n",
    "  ],\n",
    "  \"processors\":{\n",
    "    \"bl, bl_sig, bl_slope, bl_intercept\":{\n",
    "      \"function\": \"linear_slope_fit\",\n",
    "      \"module\": \"pygama.dsp.processors\",\n",
    "      \"args\" : [\"waveform[0: 3500]\", \"bl\",\"bl_sig\", \"bl_slope\",\"bl_intercept\"],\n",
    "      \"unit\": [\"ADC\",\"ADC\",\"ADC\",\"ADC\"]\n",
    "    },\n",
    "    \"wf_blsub\":{\n",
    "      \"function\": \"subtract\",\n",
    "      \"module\": \"numpy\",\n",
    "      \"args\": [\"waveform\", \"bl\", \"wf_blsub\"],\n",
    "      \"prereqs\": [\"waveform\", \"bl\"],\n",
    "      \"unit\": \"ADC\"\n",
    "    },\n",
    "    \"wf_logtail\": {\n",
    "      \"function\": \"log\",\n",
    "      \"module\": \"numpy\",\n",
    "      \"args\": [\"wf_blsub[4250:8000]\", \"wf_logtail\"],\n",
    "      \"unit\": \"ADC\",\n",
    "      \"prereqs\": [\"wf_blsub\"]\n",
    "    },\n",
    "    \"lt_mean, lt_sig, lt_slope, lt_int\": {\n",
    "        \"function\": \"linear_slope_fit\",\n",
    "        \"module\": \"pygama.dsp.processors\",\n",
    "        \"args\": [\"wf_logtail\", \"lt_mean\", \"lt_sig\", \"lt_slope\", \"lt_int\"],\n",
    "        \"unit\": [\"ADC\", \"ADC\", \"ADC\", \"ADC\"],\n",
    "        \"prereqs\": [\"wf_logtail\"]\n",
    "    },\n",
    "    \"wf_pz\": {\n",
    "      \"function\": \"pole_zero\",\n",
    "      \"module\": \"pygama.dsp.processors\",\n",
    "      \"args\": [\"wf_blsub\", \"db.pz.tau\", \"wf_pz\"],\n",
    "      \"prereqs\": [\"wf_blsub\"],\n",
    "      \"unit\": \"ADC\",\n",
    "    },\n",
    "    \"wf_etrap\": {\n",
    "      \"function\": \"trap_norm\",\n",
    "      \"module\": \"pygama.dsp.processors\",\n",
    "      \"prereqs\": [\"wf_pz\"],\n",
    "      \"args\": [\"wf_pz\", \"db.etrap.rise\", \"db.etrap.flat\", \"wf_etrap\"],\n",
    "      \"unit\": \"ADC\"\n",
    "    },\n",
    "    \"trapEmax\": {\n",
    "      \"function\": \"amax\",\n",
    "      \"module\": \"numpy\",\n",
    "      \"args\": [\"wf_etrap\", 1, \"trapEmax\"],\n",
    "      \"kwargs\": {\"signature\":\"(n),()->()\", \"types\":[\"fi->f\"]},\n",
    "      \"unit\": \"ADC\",\n",
    "      \"prereqs\": [\"wf_etrap\"]\n",
    "    },\n",
    "    \"trapEmax_ctc\": {\n",
    "      \"function\": \"add\",\n",
    "      \"module\": \"numpy\",\n",
    "      \"args\": [\"trapEmax\", \"db.ctc.alpha*dcr\", \"trapEmax_ctc\"],\n",
    "      \"unit\": \"ADC\",\n",
    "      \"prereqs\": [\"trapEmax\", \"dcr\"]\n",
    "    },\n",
    "    \"tp_min, tp_max, wf_min, wf_max\":{\n",
    "      \"function\": \"min_max\",\n",
    "      \"module\": \"pygama.dsp.processors\",\n",
    "      \"args\": [\"wf_blsub\", \"tp_min\", \"tp_max\", \"wf_min\", \"wf_max\"],\n",
    "      \"unit\": [\"ns\",\"ns\",\"ADC\", \"ADC\"],\n",
    "      \"prereqs\": [\"wf_blsub\"]\n",
    "    },\n",
    "    \"pz_mean, pz_sig, pz_slope, pz_int\": {\n",
    "        \"function\": \"linear_slope_fit\",\n",
    "        \"module\": \"pygama.dsp.processors\",\n",
    "        \"args\": [\"wf_pz[5750:8000]\", \"pz_mean\", \"pz_sig\", \"pz_slope\", \"pz_int\"],\n",
    "        \"unit\": [\"ADC\", \"ADC\", \"ADC\", \"ADC\"],\n",
    "        \"prereqs\": [\"wf_pz\"]\n",
    "    },\n",
    "    \"wf_dcr_trap\": {\n",
    "        \"function\": \"trap_norm\",\n",
    "        \"module\": \"pygama.dsp.processors\",\n",
    "        \"args\": [\"wf_pz\", \"db.dcr_trap.rise\", \"db.dcr_trap.flat\", \"wf_dcr_trap\"],\n",
    "        \"defaults\" : {\"db.dcr_trap.rise\":\"7*us\", \"db.dcr_trap.flat\":\"20*us\"},\n",
    "        \"unit\": \"ADC\",\n",
    "        \"prereqs\": [\"wf_pz\"]\n",
    "    },\n",
    "    \"dcr\": {\n",
    "        \"function\": \"fixed_time_pickoff\",\n",
    "        \"module\": \"pygama.dsp.processors\",\n",
    "        \"args\": [\"wf_dcr_trap\", \"db.dcr.ftp\", \"i\", \"dcr\"],\n",
    "        \"defaults\" : {\"db.dcr.ftp\" : \"80*us\"},\n",
    "        \"unit\": \"ADC\",\n",
    "        \"prereqs\": [\"wf_dcr_trap\"]\n",
    "    }\n",
    "  }\n",
    "}\n"
   ]
  },
  {
   "cell_type": "code",
   "execution_count": null,
   "metadata": {},
   "outputs": [],
   "source": [
    "dsp_file = \"1460dsp_temp.lh5\"\n",
    "build_dsp(f_raw=raw_file, f_dsp=dsp_file, dsp_config=dsp_config, database=dsp_db, write_mode='r', n_max=100)"
   ]
  },
  {
   "cell_type": "code",
   "execution_count": null,
   "metadata": {},
   "outputs": [],
   "source": [
    "pk_table, _ = sto.read_object(\"40K\", dsp_file)\n",
    "pk_df = pk_table.get_dataframe()"
   ]
  },
  {
   "cell_type": "code",
   "execution_count": null,
   "metadata": {},
   "outputs": [],
   "source": [
    "lt_tau = 1 / (pk_df['lt_slope'].mean()*per_us.magnitude) # ADC/sample * samples/us = ADC/us\n",
    "tau_range = -np.arange(lt_tau - 1, lt_tau + 1, .2)"
   ]
  },
  {
   "cell_type": "code",
   "execution_count": null,
   "metadata": {},
   "outputs": [],
   "source": [
    "emed = pk_df.median()['trapEmax']\n",
    "ebins = np.linspace(emed - 0.02*emed, emed + 0.02*emed, 20)"
   ]
  },
  {
   "cell_type": "code",
   "execution_count": null,
   "metadata": {},
   "outputs": [],
   "source": [
    "rise_range = np.arange(5, 15)\n",
    "dcrrise_range = np.arange(2, 5)\n",
    "dcrflat_range = np.arange(18, 21)\n",
    "alpha_range = np.linspace(0.5, 15, 10)"
   ]
  },
  {
   "cell_type": "code",
   "execution_count": null,
   "metadata": {},
   "outputs": [],
   "source": [
    "#plt.hist(pk_df['trapEmax_ctc'], bins=ebins, histtype='step')\n",
    "plt.hist(pk_df['trapEmax'], bins=ebins, histtype='step')"
   ]
  },
  {
   "cell_type": "code",
   "execution_count": null,
   "metadata": {},
   "outputs": [],
   "source": [
    "print(lt_tau)\n",
    "print(tau_range)\n",
    "print(rise_range)\n",
    "print(dcrrise_range)\n",
    "print(dcrflat_range)\n",
    "print(ebins)\n",
    "print(alpha_range)"
   ]
  },
  {
   "cell_type": "markdown",
   "metadata": {},
   "source": [
    "# DSP Loop"
   ]
  },
  {
   "cell_type": "code",
   "execution_count": null,
   "metadata": {},
   "outputs": [],
   "source": [
    "dsp_config[\"outputs\"] = [\"pz_slope\", \"trapEmax\", \"dcr\", \"trapEmax_ctc\"]\n",
    "dsp_config[\"processors\"].pop(\"wf_logtail\")\n",
    "dsp_config[\"processors\"].pop(\"lt_mean, lt_sig, lt_slope, lt_int\")"
   ]
  },
  {
   "cell_type": "markdown",
   "metadata": {},
   "source": [
    "## Pole Zero Loop"
   ]
  },
  {
   "cell_type": "markdown",
   "metadata": {},
   "source": [
    "Here we are finding the optimum time constant for the decay of the tail, determined by which one gives the flattest slope of the tail once pole-zero corrected"
   ]
  },
  {
   "cell_type": "code",
   "execution_count": null,
   "metadata": {},
   "outputs": [],
   "source": [
    "results = None\n",
    "for tau in tau_range:\n",
    "    dsp_db[\"40K\"][\"pz\"][\"tau\"] = str(tau) + \" * us\"\n",
    "        \n",
    "    dsp_file = \"1460dsp_temp.lh5\"\n",
    "    build_dsp(f_raw=raw_file, f_dsp=dsp_file, dsp_config=dsp_config, database=dsp_db, write_mode='r', n_max=20)\n",
    "    \n",
    "    pk_table, _ = sto.read_object(\"40K\", dsp_file)\n",
    "    res = pd.DataFrame({\n",
    "        \"tau\": [tau],\n",
    "        \"pz_slope_avg\": [np.nanmean(np.abs(pk_table['pz_slope'].nda))]\n",
    "    })\n",
    "    if results is None:\n",
    "        results = res\n",
    "    else:\n",
    "        results = pd.concat([results, res], ignore_index=True)\n",
    "print(results)"
   ]
  },
  {
   "cell_type": "markdown",
   "metadata": {},
   "source": [
    "If the best result is at the edge of the range, reset `tau_range` to explore more values, and run the above loop again"
   ]
  },
  {
   "cell_type": "code",
   "execution_count": null,
   "metadata": {},
   "outputs": [],
   "source": [
    "tau_range = np.linspace(65.2, 65.8, 10)"
   ]
  },
  {
   "cell_type": "markdown",
   "metadata": {},
   "source": [
    "Set the DB value to the best tau we found and then plot `wf_pz` to look at the tails"
   ]
  },
  {
   "cell_type": "code",
   "execution_count": null,
   "metadata": {},
   "outputs": [],
   "source": [
    "tau = results.abs().sort_values(\"pz_slope_avg\").iloc[0]['tau']\n",
    "print(tau)\n",
    "dsp_db[\"40K\"][\"pz\"][\"tau\"] = str(tau) + \"* us\""
   ]
  },
  {
   "cell_type": "code",
   "execution_count": null,
   "metadata": {},
   "outputs": [],
   "source": [
    "dsp_config[\"outputs\"].append(\"wf_pz\")\n",
    "build_dsp(f_raw=raw_file, f_dsp=dsp_file, dsp_config=dsp_config, database=dsp_db, write_mode='r')\n",
    "pk_table, _ = sto.read_object(\"40K\", dsp_file)\n",
    "plt.figure()\n",
    "for wf in pk_table['wf_pz']['values'].nda:\n",
    "    plt.plot(wf[4250:])\n",
    "dsp_config[\"outputs\"] = dsp_config[\"outputs\"][:-1]"
   ]
  },
  {
   "cell_type": "markdown",
   "metadata": {},
   "source": [
    "## Energy Trap Loop"
   ]
  },
  {
   "cell_type": "markdown",
   "metadata": {},
   "source": [
    "We vary the `rise` parameter in the energy trapezoid to find which one gives the highest peak for the 1460 keV line. "
   ]
  },
  {
   "cell_type": "code",
   "execution_count": null,
   "metadata": {},
   "outputs": [],
   "source": [
    "results = None\n",
    "for rise in rise_range:\n",
    "    dsp_db[\"40K\"][\"etrap\"][\"rise\"] = str(rise) + \" * us\"\n",
    "        \n",
    "    dsp_file = \"1460dsp_temp.lh5\"\n",
    "    build_dsp(f_raw=raw_file, f_dsp=dsp_file, dsp_config=dsp_config, database=dsp_db, write_mode='r')\n",
    "    \n",
    "    pk_table, _ = sto.read_object(\"40K\", dsp_file)\n",
    "    \n",
    "    # These lines will plot each energy histogram\n",
    "    #plt.figure()\n",
    "    #plt.yscale('log')\n",
    "    #ehist, _, _ = plt.hist(pk_table['trapEmax'].nda, bins = np.linspace(3300, 3600, 50), label=rise)\n",
    "    #plt.legend()\n",
    "    \n",
    "    # This one just runs and tells the answer\n",
    "    ehist, _ = np.histogram(pk_table['trapEmax'].nda, bins = ebins)\n",
    "    \n",
    "    res = pd.DataFrame({\n",
    "        \"rise\": [rise],\n",
    "        \"peak_height\": [np.max(ehist)]\n",
    "    })\n",
    "    if results is None:\n",
    "        results = res\n",
    "    else:\n",
    "        results = pd.concat([results, res], ignore_index=True)\n",
    "print(results)"
   ]
  },
  {
   "cell_type": "code",
   "execution_count": null,
   "metadata": {},
   "outputs": [],
   "source": [
    "rise_range = np.arange(1, 18)"
   ]
  },
  {
   "cell_type": "code",
   "execution_count": null,
   "metadata": {},
   "outputs": [],
   "source": [
    "plt.figure()\n",
    "plt.plot(results[\"peak_height\"])\n",
    "plt.xlabel(\"etrap rise (us)\")\n",
    "plt.ylabel(\"peak height\")"
   ]
  },
  {
   "cell_type": "code",
   "execution_count": null,
   "metadata": {},
   "outputs": [],
   "source": [
    "rise = results.abs().sort_values(\"peak_height\").iloc[-1]['rise']\n",
    "print(rise)\n",
    "dsp_db[\"40K\"][\"etrap\"][\"rise\"] = str(rise) + \"* us\""
   ]
  },
  {
   "cell_type": "markdown",
   "metadata": {},
   "source": [
    "## DCR Loop"
   ]
  },
  {
   "cell_type": "markdown",
   "metadata": {},
   "source": [
    "We do a grid-search on both the `rise` and `flat` parameters for the DCR trapezoid that give us a DCR centered around zero."
   ]
  },
  {
   "cell_type": "code",
   "execution_count": null,
   "metadata": {},
   "outputs": [],
   "source": [
    "results = None\n",
    "for rise in dcrrise_range:\n",
    "    for flat in dcrflat_range:\n",
    "        dsp_db[\"40K\"][\"dcr_trap\"][\"rise\"] = str(rise) + \" * us\"\n",
    "        dsp_db[\"40K\"][\"dcr_trap\"][\"flat\"] = str(flat) + \" * us\"\n",
    "\n",
    "        dsp_file = \"1460dsp_temp.lh5\"\n",
    "        build_dsp(f_raw=raw_file, f_dsp=dsp_file, dsp_config=dsp_config, database=dsp_db, write_mode='r')\n",
    "\n",
    "        pk_table, _ = sto.read_object(\"40K\", dsp_file)\n",
    "\n",
    "        res = pd.DataFrame({\n",
    "            \"rise\": [rise],\n",
    "            \"flat\": [flat],\n",
    "            \"dcr_mean\": [np.abs(np.mean(pk_table['dcr'].nda))]\n",
    "        })\n",
    "        if results is None:\n",
    "            results = res\n",
    "        else:\n",
    "            results = pd.concat([results, res], ignore_index=True)\n",
    "print(results)"
   ]
  },
  {
   "cell_type": "markdown",
   "metadata": {},
   "source": [
    "If the best result is at the edge of the range, reset `dcrrise_range` and `dcrflat_range` to explore more values, and run the above loop again"
   ]
  },
  {
   "cell_type": "code",
   "execution_count": null,
   "metadata": {},
   "outputs": [],
   "source": [
    "dcrrise_range = np.linspace(3.75, 4.5, 4)\n",
    "dcrflat_range = np.linspace(19.75, 20.5, 4)"
   ]
  },
  {
   "cell_type": "markdown",
   "metadata": {},
   "source": [
    "Set the DB value to the best tau we found and then plot `wf_pz` to look at the tails"
   ]
  },
  {
   "cell_type": "code",
   "execution_count": null,
   "metadata": {},
   "outputs": [],
   "source": [
    "dcrrise = results.abs().sort_values(\"dcr_mean\").iloc[0]['rise']\n",
    "dcrflat = results.abs().sort_values(\"dcr_mean\").iloc[0]['flat']\n",
    "print(dcrrise, dcrflat)\n",
    "dsp_db[\"40K\"][\"dcr_trap\"][\"rise\"] = str(dcrrise) + \"* us\"\n",
    "dsp_db[\"40K\"][\"dcr_trap\"][\"flat\"] = str(dcrflat) + \"* us\""
   ]
  },
  {
   "cell_type": "markdown",
   "metadata": {},
   "source": [
    "## Charge Trapping Correction"
   ]
  },
  {
   "cell_type": "markdown",
   "metadata": {},
   "source": [
    "We want to correct our energy estimation by adding a value to `trapEftp` based on the DCR. \n",
    "- trapEftp_ctc = trapEftp + alpha*DCR\n",
    "\n",
    "We are trying to optimize a value for `alpha` that gives the highest peak for the 1460 keV line"
   ]
  },
  {
   "cell_type": "code",
   "execution_count": null,
   "metadata": {},
   "outputs": [],
   "source": [
    "results = None\n",
    "for alpha in alpha_range:\n",
    "    dsp_db[\"40K\"][\"ctc\"][\"alpha\"] = str(alpha)\n",
    "        \n",
    "    dsp_file = \"1460dsp_temp.lh5\"\n",
    "    build_dsp(f_raw=raw_file, f_dsp=dsp_file, dsp_config=dsp_config, database=dsp_db, write_mode='r')\n",
    "    \n",
    "    pk_table, _ = sto.read_object(\"40K\", dsp_file)\n",
    "    \n",
    "    # These lines will plot each energy histogram\n",
    "    #plt.figure()\n",
    "    #plt.yscale('log')\n",
    "    #ehist, _, _ = plt.hist(pk_table['trapEmax_ctc'].nda, bins = ebins, label=alpha)\n",
    "    #plt.legend()\n",
    "    \n",
    "    # This one just runs and tells the answer\n",
    "    ehist, _ = np.histogram(pk_table['trapEmax_ctc'].nda, bins = ebins)\n",
    "    \n",
    "    res = pd.DataFrame({\n",
    "        \"alpha\": [alpha],\n",
    "        \"peak_height\": [np.max(ehist)]\n",
    "    })\n",
    "    if results is None:\n",
    "        results = res\n",
    "    else:\n",
    "        results = pd.concat([results, res], ignore_index=True)\n",
    "print(results)"
   ]
  },
  {
   "cell_type": "markdown",
   "metadata": {},
   "source": [
    "If the best result is at the edge of the range, reset `alpha_range` to explore more values, and run the above loop again"
   ]
  },
  {
   "cell_type": "code",
   "execution_count": null,
   "metadata": {},
   "outputs": [],
   "source": [
    "alpha_range = np.append([0], np.linspace(0, 0.9, 10))"
   ]
  },
  {
   "cell_type": "code",
   "execution_count": null,
   "metadata": {},
   "outputs": [],
   "source": [
    "alpha = results.abs().sort_values(\"peak_height\").iloc[-1]['alpha']\n",
    "print(alpha)\n",
    "dsp_db[\"40K\"][\"ctc\"][\"alpha\"] = alpha"
   ]
  },
  {
   "cell_type": "code",
   "execution_count": null,
   "metadata": {},
   "outputs": [],
   "source": [
    "build_dsp(f_raw=raw_file, f_dsp=dsp_file, dsp_config=dsp_config, database=dsp_db, write_mode='r')\n",
    "pk_table, _ = sto.read_object(\"40K\", dsp_file)\n",
    "plt.figure()\n",
    "plt.hist(pk_table['trapEmax'].nda, bins=ebins, histtype='step')\n",
    "plt.hist(pk_table['trapEmax_ctc'].nda, bins=ebins, histtype='step')"
   ]
  },
  {
   "cell_type": "code",
   "execution_count": null,
   "metadata": {},
   "outputs": [],
   "source": [
    "plt.figure()\n",
    "plt.hist2d(pk_table['trapEmax'].nda, pk_table['dcr'].nda, bins=(ebins, np.arange(-20, 20)))\n",
    "plt.colorbar()"
   ]
  },
  {
   "cell_type": "code",
   "execution_count": null,
   "metadata": {},
   "outputs": [],
   "source": [
    "plt.figure()\n",
    "plt.hist2d(pk_table['trapEmax_ctc'].nda, pk_table['dcr'].nda, bins=(ebins, np.arange(-20, 20)))\n",
    "plt.colorbar()"
   ]
  },
  {
   "cell_type": "markdown",
   "metadata": {},
   "source": [
    "# Run On One File"
   ]
  },
  {
   "cell_type": "code",
   "execution_count": null,
   "metadata": {},
   "outputs": [],
   "source": [
    "raw = fdb.df.query(f\"cycle == {cyc}\").iloc[0]\n",
    "raw = os.path.join(fdb.data_dir, fdb.tier_dirs['raw'], raw['raw_file'])\n",
    "dsp = f\"cycle{cyc}_testdsp.lh5\""
   ]
  },
  {
   "cell_type": "code",
   "execution_count": null,
   "metadata": {},
   "outputs": [],
   "source": [
    "# Write results to dsp_07.json defaults\n",
    "with open('./metadata/dsp/dsp_07.json') as f:\n",
    "    test_config = json.load(f)\n",
    "test_config['processors']['wf_pz']['defaults'] = {\"db.pz.tau\": dsp_db['40K']['pz']['tau']}\n",
    "test_config['processors']['wf_etrap']['defaults'] = {\"db.etrap.rise\": dsp_db['40K']['etrap']['rise'], \n",
    "                                                  \"db.etrap.flat\": dsp_db['40K']['etrap']['flat']}\n",
    "test_config['processors']['wf_dcr_trap']['defaults'] = {\"db.dcr_trap.rise\": dsp_db['40K']['dcr_trap']['rise'], \n",
    "                                                  \"db.dcr_trap.flat\": dsp_db['40K']['dcr_trap']['flat']}\n",
    "test_config['processors']['trapEmax_ctc']['defaults'] = {\"db.ctc.alpha\": dsp_db['40K']['ctc']['alpha']}"
   ]
  },
  {
   "cell_type": "code",
   "execution_count": null,
   "metadata": {},
   "outputs": [],
   "source": [
    "pprint.pprint(dsp_db)"
   ]
  },
  {
   "cell_type": "code",
   "execution_count": null,
   "metadata": {},
   "outputs": [],
   "source": [
    "pprint.pprint(test_config)"
   ]
  },
  {
   "cell_type": "code",
   "execution_count": null,
   "metadata": {},
   "outputs": [],
   "source": [
    "build_dsp(f_raw=raw, f_dsp=dsp, dsp_config=test_config, write_mode='r')"
   ]
  },
  {
   "cell_type": "code",
   "execution_count": null,
   "metadata": {},
   "outputs": [],
   "source": [
    "ls(dsp, 'ORSIS3302DecoderForEnergy/dsp/*')"
   ]
  },
  {
   "cell_type": "code",
   "execution_count": null,
   "metadata": {},
   "outputs": [],
   "source": [
    "dsp_table, _ = sto.read_object(\"ORSIS3302DecoderForEnergy/dsp\", dsp)"
   ]
  },
  {
   "cell_type": "code",
   "execution_count": null,
   "metadata": {},
   "outputs": [],
   "source": [
    "# energy histogram\n",
    "plt.figure()\n",
    "plt.yscale('log')\n",
    "plt.hist(dsp_table['trapEmax'].nda, bins=np.linspace(3140, 3170, 500))"
   ]
  },
  {
   "cell_type": "code",
   "execution_count": null,
   "metadata": {},
   "outputs": [],
   "source": [
    "# check linearity\n",
    "k40_peak = 3155\n",
    "plt.figure()\n",
    "plt.yscale('log')\n",
    "plt.hist(dsp_table['trapEmax'].nda*(1460/k40_peak), bins=np.linspace(2600, 2630, 20))"
   ]
  },
  {
   "cell_type": "code",
   "execution_count": null,
   "metadata": {},
   "outputs": [],
   "source": [
    "# dcr histogram\n",
    "plt.figure()\n",
    "plt.hist(dsp_table['dcr'].nda, bins=np.arange(-50, 50))"
   ]
  },
  {
   "cell_type": "code",
   "execution_count": null,
   "metadata": {},
   "outputs": [],
   "source": [
    "plt.figure()\n",
    "plt.hist2d(dsp_table['trapEmax'].nda, dsp_table['dcr'].nda, \n",
    "           bins = (np.linspace(0, 10000, 100), np.arange(-200, 200)), \n",
    "           norm=colors.LogNorm())\n",
    "plt.xlabel(\"trapEmax\")\n",
    "plt.ylabel(\"DCR\")\n",
    "plt.axhline(0, color='r')\n",
    "plt.xlim(3000, 7000)\n",
    "plt.ylim(-50, 50)"
   ]
  },
  {
   "cell_type": "code",
   "execution_count": null,
   "metadata": {},
   "outputs": [],
   "source": [
    "plt.figure()\n",
    "plt.hist2d(dsp_table['trapEmax_ctc'].nda, dsp_table['dcr'].nda, \n",
    "           bins = (np.linspace(0, 10000, 100), np.arange(-200, 200)), \n",
    "           norm=colors.LogNorm())\n",
    "plt.xlabel(\"trapEmax_ctc\")\n",
    "plt.ylabel(\"DCR\")\n",
    "plt.axhline(0, color='r')\n",
    "plt.xlim(3000, 7000)\n",
    "plt.ylim(-50, 50)"
   ]
  },
  {
   "cell_type": "code",
   "execution_count": null,
   "metadata": {},
   "outputs": [],
   "source": [
    "plt.figure()\n",
    "plt.hist2d(dsp_table['trapEmax_ctc'].nda, dsp_table['dcr'].nda, \n",
    "           bins = (np.linspace(0, 10000, 100), np.arange(-200, 200)), \n",
    "           norm=colors.LogNorm())\n",
    "plt.xlabel(\"trapEmax_ctc\")\n",
    "plt.ylabel(\"DCR\")\n",
    "plt.axhline(0, color='r')"
   ]
  },
  {
   "cell_type": "code",
   "execution_count": null,
   "metadata": {},
   "outputs": [],
   "source": [
    "plt.figure()\n",
    "plt.hist2d(dsp_table['trapEmax'].nda, dsp_table['dcr'].nda, \n",
    "           bins = (np.linspace(0, 10000, 100), np.arange(-200, 200)), \n",
    "           norm=colors.LogNorm())\n",
    "plt.xlabel(\"trapEmax\")\n",
    "plt.ylabel(\"DCR\")\n",
    "plt.axhline(0, color='r')"
   ]
  },
  {
   "cell_type": "code",
   "execution_count": null,
   "metadata": {},
   "outputs": [],
   "source": [
    "# energy histogram\n",
    "plt.figure()\n",
    "plt.yscale('log')\n",
    "plt.hist(dsp_table['trapEmax'].nda, bins=np.linspace(3000, 3500, 50), histtype='step')\n",
    "plt.hist(dsp_table['trapEmax_ctc'].nda, bins=np.linspace(3000, 3500, 50), histtype='step')"
   ]
  },
  {
   "cell_type": "code",
   "execution_count": null,
   "metadata": {},
   "outputs": [],
   "source": [
    "# energy histogram\n",
    "plt.figure()\n",
    "plt.yscale('log')\n",
    "plt.hist(dsp_table['trapEmax'].nda, bins=np.linspace(5750, 6250, 50), histtype='step')\n",
    "plt.hist(dsp_table['trapEmax_ctc'].nda, bins=np.linspace(5750, 6250, 50), histtype='step')"
   ]
  },
  {
   "cell_type": "code",
   "execution_count": null,
   "metadata": {},
   "outputs": [],
   "source": [
    "test_config"
   ]
  },
  {
   "cell_type": "code",
   "execution_count": null,
   "metadata": {},
   "outputs": [],
   "source": [
    "# Write this configuration to a file\n",
    "with open(f'./metadata/dsp/dsp_cyc{cyc}.json', 'w') as f:\n",
    "    json.dump(test_config, f)"
   ]
  },
  {
   "cell_type": "code",
   "execution_count": null,
   "metadata": {},
   "outputs": [],
   "source": []
  }
 ],
 "metadata": {
  "kernelspec": {
   "display_name": "legend-base",
   "language": "python",
   "name": "legend-base"
  },
  "language_info": {
   "codemirror_mode": {
    "name": "ipython",
    "version": 3
   },
   "file_extension": ".py",
   "mimetype": "text/x-python",
   "name": "python",
   "nbconvert_exporter": "python",
   "pygments_lexer": "ipython3",
   "version": "3.10.9"
  }
 },
 "nbformat": 4,
 "nbformat_minor": 4
}
