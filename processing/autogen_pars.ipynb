{
 "cells": [
  {
   "cell_type": "code",
   "execution_count": 1,
   "metadata": {},
   "outputs": [],
   "source": [
    "import matplotlib.pyplot as plt\n",
    "import matplotlib.colors as colors\n",
    "import numpy as np\n",
    "import pandas as pd\n",
    "import os\n",
    "import pint\n",
    "import json\n",
    "import pprint\n",
    "\n",
    "from pygama.flow import DataLoader\n",
    "from pygama.flow import FileDB\n",
    "from pygama.lgdo.lh5_store import LH5Store\n",
    "from pygama.lgdo import ls, Table, WaveformTable\n",
    "from pygama.dsp import build_dsp"
   ]
  },
  {
   "cell_type": "markdown",
   "metadata": {},
   "source": [
    "# Setup FileDB and DataLoader"
   ]
  },
  {
   "cell_type": "code",
   "execution_count": 2,
   "metadata": {},
   "outputs": [
    {
     "name": "stderr",
     "output_type": "stream",
     "text": [
      "Cannot find 'ORSIS3302DecoderForEnergy/raw' in /global/cfs/cdirs/m2676/data/cage/LH5/raw/cage_run385_cyc2527_raw.lh5\n",
      "Cannot find 'ORSIS3302DecoderForEnergy/raw' in /global/cfs/cdirs/m2676/data/cage/LH5/raw/cage_run385_cyc2528_raw.lh5\n",
      "Cannot find 'ORSIS3302DecoderForEnergy/raw' in /global/cfs/cdirs/m2676/data/cage/LH5/raw/cage_run386_cyc2529_raw.lh5\n",
      "Cannot find 'ORSIS3302DecoderForEnergy/raw' in /global/cfs/cdirs/m2676/data/cage/LH5/raw/cage_run386_cyc2530_raw.lh5\n",
      "Cannot find 'ORSIS3302DecoderForEnergy/raw' in /global/cfs/cdirs/m2676/data/cage/LH5/raw/cage_run386_cyc2531_raw.lh5\n",
      "Cannot find 'ORSIS3302DecoderForEnergy/raw' in /global/cfs/cdirs/m2676/data/cage/LH5/raw/cage_run386_cyc2532_raw.lh5\n",
      "Cannot find 'ORSIS3302DecoderForEnergy/raw' in /global/cfs/cdirs/m2676/data/cage/LH5/raw/cage_run387_cyc2533_raw.lh5\n",
      "Cannot find 'ORSIS3302DecoderForEnergy/raw' in /global/cfs/cdirs/m2676/data/cage/LH5/raw/cage_run387_cyc2534_raw.lh5\n",
      "Cannot find 'ORSIS3302DecoderForEnergy/raw' in /global/cfs/cdirs/m2676/data/cage/LH5/raw/cage_run387_cyc2535_raw.lh5\n",
      "Cannot find 'ORSIS3302DecoderForEnergy/raw' in /global/cfs/cdirs/m2676/data/cage/LH5/raw/cage_run388_cyc2536_raw.lh5\n",
      "Cannot find 'ORSIS3302DecoderForEnergy/raw' in /global/cfs/cdirs/m2676/data/cage/LH5/raw/cage_run388_cyc2537_raw.lh5\n",
      "Cannot find 'ORSIS3302DecoderForEnergy/raw' in /global/cfs/cdirs/m2676/data/cage/LH5/raw/cage_run388_cyc2538_raw.lh5\n",
      "Cannot find 'ORSIS3302DecoderForEnergy/raw' in /global/cfs/cdirs/m2676/data/cage/LH5/raw/cage_run389_cyc2539_raw.lh5\n",
      "Cannot find 'ORSIS3302DecoderForEnergy/raw' in /global/cfs/cdirs/m2676/data/cage/LH5/raw/cage_run389_cyc2540_raw.lh5\n",
      "Cannot find 'ORSIS3302DecoderForEnergy/raw' in /global/cfs/cdirs/m2676/data/cage/LH5/raw/cage_run389_cyc2541_raw.lh5\n",
      "Cannot find 'ORSIS3302DecoderForEnergy/raw' in /global/cfs/cdirs/m2676/data/cage/LH5/raw/cage_run389_cyc2542_raw.lh5\n",
      "Cannot find 'ORSIS3302DecoderForEnergy/raw' in /global/cfs/cdirs/m2676/data/cage/LH5/raw/cage_run390_cyc2543_raw.lh5\n",
      "Cannot find 'ORSIS3302DecoderForEnergy/raw' in /global/cfs/cdirs/m2676/data/cage/LH5/raw/cage_run390_cyc2544_raw.lh5\n",
      "Cannot find 'ORSIS3302DecoderForEnergy/raw' in /global/cfs/cdirs/m2676/data/cage/LH5/raw/cage_run390_cyc2545_raw.lh5\n",
      "Cannot find 'ORSIS3302DecoderForEnergy/raw' in /global/cfs/cdirs/m2676/data/cage/LH5/raw/cage_run391_cyc2546_raw.lh5\n",
      "Cannot find 'ORSIS3302DecoderForEnergy/raw' in /global/cfs/cdirs/m2676/data/cage/LH5/raw/cage_run391_cyc2547_raw.lh5\n",
      "Cannot find 'ORSIS3302DecoderForEnergy/raw' in /global/cfs/cdirs/m2676/data/cage/LH5/raw/cage_run391_cyc2548_raw.lh5\n",
      "Cannot find 'ORSIS3302DecoderForEnergy/raw' in /global/cfs/cdirs/m2676/data/cage/LH5/raw/cage_run391_cyc2549_raw.lh5\n",
      "Cannot find 'ORSIS3302DecoderForEnergy/raw' in /global/cfs/cdirs/m2676/data/cage/LH5/raw/cage_run391_cyc2550_raw.lh5\n",
      "Cannot find 'ORSIS3302DecoderForEnergy/raw' in /global/cfs/cdirs/m2676/data/cage/LH5/raw/cage_run391_cyc2551_raw.lh5\n",
      "Cannot find 'ORSIS3302DecoderForEnergy/raw' in /global/cfs/cdirs/m2676/data/cage/LH5/raw/cage_run391_cyc2552_raw.lh5\n",
      "Cannot find 'ORSIS3302DecoderForEnergy/raw' in /global/cfs/cdirs/m2676/data/cage/LH5/raw/cage_run391_cyc2553_raw.lh5\n",
      "Cannot find 'ORSIS3302DecoderForEnergy/raw' in /global/cfs/cdirs/m2676/data/cage/LH5/raw/cage_run391_cyc2554_raw.lh5\n",
      "Cannot find 'ORSIS3302DecoderForEnergy/raw' in /global/cfs/cdirs/m2676/data/cage/LH5/raw/cage_run391_cyc2555_raw.lh5\n",
      "Cannot find 'ORSIS3302DecoderForEnergy/raw' in /global/cfs/cdirs/m2676/data/cage/LH5/raw/cage_run391_cyc2556_raw.lh5\n",
      "Cannot find 'ORSIS3302DecoderForEnergy/raw' in /global/cfs/cdirs/m2676/data/cage/LH5/raw/cage_run391_cyc2557_raw.lh5\n",
      "Cannot find 'ORSIS3302DecoderForEnergy/raw' in /global/cfs/cdirs/m2676/data/cage/LH5/raw/cage_run391_cyc2558_raw.lh5\n",
      "Cannot find 'ORSIS3302DecoderForEnergy/raw' in /global/cfs/cdirs/m2676/data/cage/LH5/raw/cage_run391_cyc2559_raw.lh5\n",
      "Cannot find 'ORSIS3302DecoderForEnergy/raw' in /global/cfs/cdirs/m2676/data/cage/LH5/raw/cage_run391_cyc2560_raw.lh5\n",
      "Cannot find 'ORSIS3302DecoderForEnergy/raw' in /global/cfs/cdirs/m2676/data/cage/LH5/raw/cage_run391_cyc2561_raw.lh5\n",
      "Cannot find 'ORSIS3302DecoderForEnergy/dsp' in /global/cfs/cdirs/m2676/data/cage/LH5/dsp/cage_run385_cyc2527_dsp.lh5\n",
      "Cannot find 'ORSIS3302DecoderForEnergy/dsp' in /global/cfs/cdirs/m2676/data/cage/LH5/dsp/cage_run385_cyc2528_dsp.lh5\n",
      "Cannot find 'ORSIS3302DecoderForEnergy/dsp' in /global/cfs/cdirs/m2676/data/cage/LH5/dsp/cage_run386_cyc2529_dsp.lh5\n",
      "Cannot find 'ORSIS3302DecoderForEnergy/dsp' in /global/cfs/cdirs/m2676/data/cage/LH5/dsp/cage_run386_cyc2530_dsp.lh5\n",
      "Cannot find 'ORSIS3302DecoderForEnergy/dsp' in /global/cfs/cdirs/m2676/data/cage/LH5/dsp/cage_run386_cyc2531_dsp.lh5\n",
      "Cannot find 'ORSIS3302DecoderForEnergy/dsp' in /global/cfs/cdirs/m2676/data/cage/LH5/dsp/cage_run386_cyc2532_dsp.lh5\n",
      "Cannot find 'ORSIS3302DecoderForEnergy/dsp' in /global/cfs/cdirs/m2676/data/cage/LH5/dsp/cage_run387_cyc2533_dsp.lh5\n",
      "Cannot find 'ORSIS3302DecoderForEnergy/dsp' in /global/cfs/cdirs/m2676/data/cage/LH5/dsp/cage_run387_cyc2534_dsp.lh5\n",
      "Cannot find 'ORSIS3302DecoderForEnergy/dsp' in /global/cfs/cdirs/m2676/data/cage/LH5/dsp/cage_run387_cyc2535_dsp.lh5\n",
      "Cannot find 'ORSIS3302DecoderForEnergy/dsp' in /global/cfs/cdirs/m2676/data/cage/LH5/dsp/cage_run388_cyc2536_dsp.lh5\n",
      "Cannot find 'ORSIS3302DecoderForEnergy/dsp' in /global/cfs/cdirs/m2676/data/cage/LH5/dsp/cage_run388_cyc2537_dsp.lh5\n",
      "Cannot find 'ORSIS3302DecoderForEnergy/dsp' in /global/cfs/cdirs/m2676/data/cage/LH5/dsp/cage_run388_cyc2538_dsp.lh5\n",
      "Cannot find 'ORSIS3302DecoderForEnergy/dsp' in /global/cfs/cdirs/m2676/data/cage/LH5/dsp/cage_run389_cyc2539_dsp.lh5\n",
      "Cannot find 'ORSIS3302DecoderForEnergy/dsp' in /global/cfs/cdirs/m2676/data/cage/LH5/dsp/cage_run389_cyc2540_dsp.lh5\n",
      "Cannot find 'ORSIS3302DecoderForEnergy/dsp' in /global/cfs/cdirs/m2676/data/cage/LH5/dsp/cage_run389_cyc2541_dsp.lh5\n",
      "Cannot find 'ORSIS3302DecoderForEnergy/dsp' in /global/cfs/cdirs/m2676/data/cage/LH5/dsp/cage_run389_cyc2542_dsp.lh5\n",
      "Cannot find 'ORSIS3302DecoderForEnergy/dsp' in /global/cfs/cdirs/m2676/data/cage/LH5/dsp/cage_run390_cyc2543_dsp.lh5\n",
      "Cannot find 'ORSIS3302DecoderForEnergy/dsp' in /global/cfs/cdirs/m2676/data/cage/LH5/dsp/cage_run390_cyc2544_dsp.lh5\n",
      "Cannot find 'ORSIS3302DecoderForEnergy/dsp' in /global/cfs/cdirs/m2676/data/cage/LH5/dsp/cage_run390_cyc2545_dsp.lh5\n",
      "Cannot find 'ORSIS3302DecoderForEnergy/dsp' in /global/cfs/cdirs/m2676/data/cage/LH5/dsp/cage_run391_cyc2546_dsp.lh5\n",
      "Cannot find 'ORSIS3302DecoderForEnergy/dsp' in /global/cfs/cdirs/m2676/data/cage/LH5/dsp/cage_run391_cyc2547_dsp.lh5\n",
      "Cannot find 'ORSIS3302DecoderForEnergy/dsp' in /global/cfs/cdirs/m2676/data/cage/LH5/dsp/cage_run391_cyc2548_dsp.lh5\n",
      "Cannot find 'ORSIS3302DecoderForEnergy/dsp' in /global/cfs/cdirs/m2676/data/cage/LH5/dsp/cage_run391_cyc2549_dsp.lh5\n",
      "Cannot find 'ORSIS3302DecoderForEnergy/dsp' in /global/cfs/cdirs/m2676/data/cage/LH5/dsp/cage_run391_cyc2550_dsp.lh5\n",
      "Cannot find 'ORSIS3302DecoderForEnergy/dsp' in /global/cfs/cdirs/m2676/data/cage/LH5/dsp/cage_run391_cyc2551_dsp.lh5\n",
      "Cannot find 'ORSIS3302DecoderForEnergy/dsp' in /global/cfs/cdirs/m2676/data/cage/LH5/dsp/cage_run391_cyc2552_dsp.lh5\n",
      "Cannot find 'ORSIS3302DecoderForEnergy/dsp' in /global/cfs/cdirs/m2676/data/cage/LH5/dsp/cage_run391_cyc2553_dsp.lh5\n",
      "Cannot find 'ORSIS3302DecoderForEnergy/dsp' in /global/cfs/cdirs/m2676/data/cage/LH5/dsp/cage_run391_cyc2554_dsp.lh5\n",
      "Cannot find 'ORSIS3302DecoderForEnergy/dsp' in /global/cfs/cdirs/m2676/data/cage/LH5/dsp/cage_run391_cyc2555_dsp.lh5\n",
      "Cannot find 'ORSIS3302DecoderForEnergy/dsp' in /global/cfs/cdirs/m2676/data/cage/LH5/dsp/cage_run391_cyc2556_dsp.lh5\n",
      "Cannot find 'ORSIS3302DecoderForEnergy/dsp' in /global/cfs/cdirs/m2676/data/cage/LH5/dsp/cage_run391_cyc2557_dsp.lh5\n",
      "Cannot find 'ORSIS3302DecoderForEnergy/dsp' in /global/cfs/cdirs/m2676/data/cage/LH5/dsp/cage_run391_cyc2558_dsp.lh5\n",
      "Cannot find 'ORSIS3302DecoderForEnergy/dsp' in /global/cfs/cdirs/m2676/data/cage/LH5/dsp/cage_run391_cyc2559_dsp.lh5\n",
      "Cannot find 'ORSIS3302DecoderForEnergy/dsp' in /global/cfs/cdirs/m2676/data/cage/LH5/dsp/cage_run391_cyc2560_dsp.lh5\n",
      "Cannot find 'ORSIS3302DecoderForEnergy/dsp' in /global/cfs/cdirs/m2676/data/cage/LH5/dsp/cage_run391_cyc2561_dsp.lh5\n",
      "Cannot find 'ORSIS3302DecoderForEnergy/dsp' in /global/cfs/cdirs/m2676/data/cage/LH5/dsp/cage_run392_cyc2563_dsp.lh5\n"
     ]
    }
   ],
   "source": [
    "# Run this to perform a scan of all files and create a FileDB from scratch, then save it to disk\n",
    "fdb = FileDB(config=\"metadata/dataloader_configs/cage_filedb_config.json\")\n",
    "fdb.scan_tables_columns()\n",
    "fdb.to_disk(\"cage_filedb.lh5\", \"o\")"
   ]
  },
  {
   "cell_type": "code",
   "execution_count": null,
   "metadata": {},
   "outputs": [],
   "source": [
    "# Run this to load an existing FileDB from disk\n",
    "fdb = FileDB(\"cage_filedb.lh5\")"
   ]
  },
  {
   "cell_type": "code",
   "execution_count": 3,
   "metadata": {},
   "outputs": [],
   "source": [
    "dl = DataLoader(config=\"metadata/dataloader_configs/cage_loader_config.json\",\n",
    "                filedb=fdb)"
   ]
  },
  {
   "cell_type": "code",
   "execution_count": 4,
   "metadata": {},
   "outputs": [
    {
     "data": {
      "text/plain": [
       "0       [0]\n",
       "1       [0]\n",
       "2       [0]\n",
       "3       [0]\n",
       "4       [0]\n",
       "       ... \n",
       "3863    [0]\n",
       "3864    [0]\n",
       "3865    [0]\n",
       "3866    [0]\n",
       "3867    [0]\n",
       "Name: raw_tables, Length: 3868, dtype: object"
      ]
     },
     "execution_count": 4,
     "metadata": {},
     "output_type": "execute_result"
    }
   ],
   "source": [
    "fdb.df['raw_tables']"
   ]
  },
  {
   "cell_type": "code",
   "execution_count": 5,
   "metadata": {},
   "outputs": [
    {
     "name": "stderr",
     "output_type": "stream",
     "text": [
      "Building entry list: 100%|██████████| 1/1 [00:00<00:00, 4544.21 keys/s, key=3207]"
     ]
    }
   ],
   "source": [
    "cyc = 3207\n",
    "dl.reset()\n",
    "dl.set_files(f\"cycle == {cyc}\")\n",
    "dl.set_output(fmt=\"pd.DataFrame\", columns=[\"energy\"])\n",
    "el = dl.build_entry_list(save_output_columns=True)\n",
    "data = dl.load(el)"
   ]
  },
  {
   "cell_type": "markdown",
   "metadata": {},
   "source": [
    "Below you can check the spectrum to make sure it looks okay, then you can zoom in and pick out where the 1460 kev peak is. "
   ]
  },
  {
   "cell_type": "code",
   "execution_count": null,
   "metadata": {},
   "outputs": [],
   "source": [
    "%matplotlib widget"
   ]
  },
  {
   "cell_type": "code",
   "execution_count": null,
   "metadata": {},
   "outputs": [],
   "source": [
    "%matplotlib inline"
   ]
  },
  {
   "cell_type": "code",
   "execution_count": 6,
   "metadata": {},
   "outputs": [
    {
     "data": {
      "text/plain": [
       "Text(0, 0.5, 'count')"
      ]
     },
     "execution_count": 6,
     "metadata": {},
     "output_type": "execute_result"
    },
    {
     "data": {
      "image/png": "[encoded data removed]",
      "text/plain": [
       "<Figure size 640x480 with 1 Axes>"
      ]
     },
     "metadata": {},
     "output_type": "display_data"
    }
   ],
   "source": [
    "plt.figure()\n",
    "#plt.yscale('log')\n",
    "plt.hist(data['energy'], bins = np.linspace(0, 4e6, 1000))\n",
    "plt.xlabel('energy')\n",
    "plt.ylabel('count')"
   ]
  },
  {
   "cell_type": "code",
   "execution_count": 12,
   "metadata": {},
   "outputs": [
    {
     "data": {
      "text/plain": [
       "Text(0, 0.5, 'count')"
      ]
     },
     "execution_count": 12,
     "metadata": {},
     "output_type": "execute_result"
    },
    {
     "data": {
      "image/png": "[encoded data removed]",
      "text/plain": [
       "<Figure size 640x480 with 1 Axes>"
      ]
     },
     "metadata": {},
     "output_type": "display_data"
    }
   ],
   "source": [
    "plt.figure()\n",
    "plt.hist(data['energy'], bins = np.linspace(1.75e6, 1.85e6, 40))\n",
    "plt.xlabel('energy')\n",
    "plt.ylabel('count')"
   ]
  },
  {
   "cell_type": "code",
   "execution_count": 13,
   "metadata": {},
   "outputs": [],
   "source": [
    "# input the low and high ends of the 1460 kev peak here\n",
    "elo = 1.77e6\n",
    "ehi = 1.80e6"
   ]
  },
  {
   "cell_type": "markdown",
   "metadata": {},
   "source": [
    "# Load 1460 keV Waveforms"
   ]
  },
  {
   "cell_type": "code",
   "execution_count": 14,
   "metadata": {},
   "outputs": [
    {
     "name": "stderr",
     "output_type": "stream",
     "text": [
      "Building entry list: 100%|██████████| 1/1 [00:00<00:00, 4396.55 keys/s, key=3207]"
     ]
    }
   ],
   "source": [
    "dl.reset()\n",
    "dl.set_files(f\"cycle == {cyc}\")\n",
    "dl.set_cuts({\"hit\": f\"energy > {elo} and energy < {ehi}\"})\n",
    "dl.set_output(columns=[\"waveform\"])\n",
    "wfs = dl.load()"
   ]
  },
  {
   "cell_type": "code",
   "execution_count": 16,
   "metadata": {},
   "outputs": [
    {
     "data": {
      "text/plain": [
       "{'datatype': 'array<1>{real}', 'units': 'ns'}"
      ]
     },
     "execution_count": 16,
     "metadata": {},
     "output_type": "execute_result"
    }
   ],
   "source": [
    "wfs['waveform']['dt'].attrs"
   ]
  },
  {
   "cell_type": "code",
   "execution_count": 18,
   "metadata": {},
   "outputs": [],
   "source": [
    "# Save waveforms to a temporary \"raw\" file\n",
    "raw_file = \"1460raw_temp.lh5\"\n",
    "# sto.write_object(obj=wfs[\"energy\"], name=\"energy\", lh5_file=raw_file, group=\"raw\")\n",
    "sto = LH5Store()\n",
    "sto.write_object(obj=wfs, name=\"40K\", lh5_file=raw_file, wo_mode=\"of\")"
   ]
  },
  {
   "cell_type": "code",
   "execution_count": 19,
   "metadata": {},
   "outputs": [
    {
     "name": "stdout",
     "output_type": "stream",
     "text": [
      "0.1 / nanosecond\n",
      "100.0 / microsecond\n"
     ]
    }
   ],
   "source": [
    "ureg = pint.UnitRegistry()\n",
    "per_unit = 1/(wfs['waveform']['dt'].nda[0] * ureg(wfs['waveform']['dt'].attrs['units']).units)\n",
    "per_us = per_unit.to(\"1/us\")\n",
    "print(per_unit)\n",
    "print(per_us)"
   ]
  },
  {
   "cell_type": "markdown",
   "metadata": {},
   "source": [
    "# First Pass DSP\n",
    "We run the DSP once to find a reasonable guess for `pz_tau` and bins for our energy histogram"
   ]
  },
  {
   "cell_type": "code",
   "execution_count": 20,
   "metadata": {},
   "outputs": [],
   "source": [
    "dsp_db = {\n",
    "    \"40K\": {\n",
    "        \"etrap\": {\n",
    "            \"rise\": \"8*us\",\n",
    "            \"flat\": \"2*us\"\n",
    "        },\n",
    "        \"pz\": {\n",
    "            \"tau\": \"70*us\"\n",
    "        },\n",
    "        \"dcr_trap\": {\n",
    "            \"rise\": \"8*us\",\n",
    "            \"flat\": \"2*us\"\n",
    "        },\n",
    "        \"ctc\": {\n",
    "            \"alpha\": 1\n",
    "        }\n",
    "    }\n",
    "}\n",
    "dsp_config = {\n",
    "  \"outputs\": [\n",
    "    \"trapEmax\", \"lt_slope\"\n",
    "  ],\n",
    "  \"processors\":{\n",
    "    \"bl, bl_sig, bl_slope, bl_intercept\":{\n",
    "      \"function\": \"linear_slope_fit\",\n",
    "      \"module\": \"pygama.dsp.processors\",\n",
    "      \"args\" : [\"waveform[0: 3500]\", \"bl\",\"bl_sig\", \"bl_slope\",\"bl_intercept\"],\n",
    "      \"unit\": [\"ADC\",\"ADC\",\"ADC\",\"ADC\"]\n",
    "    },\n",
    "    \"wf_blsub\":{\n",
    "      \"function\": \"subtract\",\n",
    "      \"module\": \"numpy\",\n",
    "      \"args\": [\"waveform\", \"bl\", \"wf_blsub\"],\n",
    "      \"prereqs\": [\"waveform\", \"bl\"],\n",
    "      \"unit\": \"ADC\"\n",
    "    },\n",
    "    \"wf_logtail\": {\n",
    "      \"function\": \"log\",\n",
    "      \"module\": \"numpy\",\n",
    "      \"args\": [\"wf_blsub[4250:8000]\", \"wf_logtail\"],\n",
    "      \"unit\": \"ADC\",\n",
    "      \"prereqs\": [\"wf_blsub\"]\n",
    "    },\n",
    "    \"lt_mean, lt_sig, lt_slope, lt_int\": {\n",
    "        \"function\": \"linear_slope_fit\",\n",
    "        \"module\": \"pygama.dsp.processors\",\n",
    "        \"args\": [\"wf_logtail\", \"lt_mean\", \"lt_sig\", \"lt_slope\", \"lt_int\"],\n",
    "        \"unit\": [\"ADC\", \"ADC\", \"ADC\", \"ADC\"],\n",
    "        \"prereqs\": [\"wf_logtail\"]\n",
    "    },\n",
    "    \"wf_pz\": {\n",
    "      \"function\": \"pole_zero\",\n",
    "      \"module\": \"pygama.dsp.processors\",\n",
    "      \"args\": [\"wf_blsub\", \"db.pz.tau\", \"wf_pz\"],\n",
    "      \"prereqs\": [\"wf_blsub\"],\n",
    "      \"unit\": \"ADC\",\n",
    "    },\n",
    "    \"wf_etrap\": {\n",
    "      \"function\": \"trap_norm\",\n",
    "      \"module\": \"pygama.dsp.processors\",\n",
    "      \"prereqs\": [\"wf_pz\"],\n",
    "      \"args\": [\"wf_pz\", \"db.etrap.rise\", \"db.etrap.flat\", \"wf_etrap\"],\n",
    "      \"unit\": \"ADC\"\n",
    "    },\n",
    "    \"trapEmax\": {\n",
    "      \"function\": \"amax\",\n",
    "      \"module\": \"numpy\",\n",
    "      \"args\": [\"wf_etrap\", 1, \"trapEmax\"],\n",
    "      \"kwargs\": {\"signature\":\"(n),()->()\", \"types\":[\"fi->f\"]},\n",
    "      \"unit\": \"ADC\",\n",
    "      \"prereqs\": [\"wf_etrap\"]\n",
    "    },\n",
    "    \"trapEmax_ctc\": {\n",
    "      \"function\": \"add\",\n",
    "      \"module\": \"numpy\",\n",
    "      \"args\": [\"trapEmax\", \"db.ctc.alpha*dcr\", \"trapEmax_ctc\"],\n",
    "      \"unit\": \"ADC\",\n",
    "      \"prereqs\": [\"trapEmax\", \"dcr\"]\n",
    "    },\n",
    "    \"tp_min, tp_max, wf_min, wf_max\":{\n",
    "      \"function\": \"min_max\",\n",
    "      \"module\": \"pygama.dsp.processors\",\n",
    "      \"args\": [\"wf_blsub\", \"tp_min\", \"tp_max\", \"wf_min\", \"wf_max\"],\n",
    "      \"unit\": [\"ns\",\"ns\",\"ADC\", \"ADC\"],\n",
    "      \"prereqs\": [\"wf_blsub\"]\n",
    "    },\n",
    "    \"pz_mean, pz_sig, pz_slope, pz_int\": {\n",
    "        \"function\": \"linear_slope_fit\",\n",
    "        \"module\": \"pygama.dsp.processors\",\n",
    "        \"args\": [\"wf_pz[5750:8000]\", \"pz_mean\", \"pz_sig\", \"pz_slope\", \"pz_int\"],\n",
    "        \"unit\": [\"ADC\", \"ADC\", \"ADC\", \"ADC\"],\n",
    "        \"prereqs\": [\"wf_pz\"]\n",
    "    },\n",
    "    \"wf_dcr_trap\": {\n",
    "        \"function\": \"trap_norm\",\n",
    "        \"module\": \"pygama.dsp.processors\",\n",
    "        \"args\": [\"wf_pz\", \"db.dcr_trap.rise\", \"db.dcr_trap.flat\", \"wf_dcr_trap\"],\n",
    "        \"defaults\" : {\"db.dcr_trap.rise\":\"7*us\", \"db.dcr_trap.flat\":\"20*us\"},\n",
    "        \"unit\": \"ADC\",\n",
    "        \"prereqs\": [\"wf_pz\"]\n",
    "    },\n",
    "    \"dcr\": {\n",
    "        \"function\": \"fixed_time_pickoff\",\n",
    "        \"module\": \"pygama.dsp.processors\",\n",
    "        \"args\": [\"wf_dcr_trap\", \"db.dcr.ftp\", \"i\", \"dcr\"],\n",
    "        \"defaults\" : {\"db.dcr.ftp\" : \"80*us\"},\n",
    "        \"unit\": \"ADC\",\n",
    "        \"prereqs\": [\"wf_dcr_trap\"]\n",
    "    }\n",
    "  }\n",
    "}\n"
   ]
  },
  {
   "cell_type": "code",
   "execution_count": 21,
   "metadata": {},
   "outputs": [],
   "source": [
    "dsp_file = \"1460dsp_temp.lh5\"\n",
    "build_dsp(f_raw=raw_file, f_dsp=dsp_file, dsp_config=dsp_config, database=dsp_db, write_mode='r', n_max=100)"
   ]
  },
  {
   "cell_type": "code",
   "execution_count": 22,
   "metadata": {},
   "outputs": [],
   "source": [
    "pk_table, _ = sto.read_object(\"40K\", dsp_file)\n",
    "pk_df = pk_table.get_dataframe()"
   ]
  },
  {
   "cell_type": "code",
   "execution_count": 23,
   "metadata": {},
   "outputs": [],
   "source": [
    "lt_tau = 1 / (pk_df['lt_slope'].mean()*per_us.magnitude) # ADC/sample * samples/us = ADC/us\n",
    "tau_range = -np.arange(lt_tau - 1, lt_tau + 1, .2)"
   ]
  },
  {
   "cell_type": "code",
   "execution_count": 24,
   "metadata": {},
   "outputs": [],
   "source": [
    "emed = pk_df.median()['trapEmax']\n",
    "ebins = np.linspace(emed - 0.02*emed, emed + 0.02*emed, 20)"
   ]
  },
  {
   "cell_type": "code",
   "execution_count": 25,
   "metadata": {},
   "outputs": [],
   "source": [
    "rise_range = np.arange(5, 15)\n",
    "dcrrise_range = np.arange(2, 5)\n",
    "dcrflat_range = np.arange(18, 21)\n",
    "alpha_range = np.linspace(0.5, 15, 10)"
   ]
  },
  {
   "cell_type": "code",
   "execution_count": 26,
   "metadata": {},
   "outputs": [
    {
     "data": {
      "text/plain": [
       "(array([0., 0., 0., ..., 0., 0., 0.]),\n",
       " array([3093.52073242, 3100.16631939, 3106.81190635, ..., 3206.49571083,\n",
       "        3213.1412978 , 3219.78688477]),\n",
       " [<matplotlib.patches.Polygon at 0x7f2a14cfb400>])"
      ]
     },
     "execution_count": 26,
     "metadata": {},
     "output_type": "execute_result"
    },
    {
     "data": {
      "image/png": "[encoded data removed]",
      "text/plain": [
       "<Figure size 640x480 with 1 Axes>"
      ]
     },
     "metadata": {},
     "output_type": "display_data"
    }
   ],
   "source": [
    "#plt.hist(pk_df['trapEmax_ctc'], bins=ebins, histtype='step')\n",
    "plt.hist(pk_df['trapEmax'], bins=ebins, histtype='step')"
   ]
  },
  {
   "cell_type": "code",
   "execution_count": 27,
   "metadata": {},
   "outputs": [
    {
     "name": "stdout",
     "output_type": "stream",
     "text": [
      "-64.48161905690468\n",
      "[65.48161906 65.28161906 65.08161906 64.88161906 64.68161906 64.48161906\n",
      " 64.28161906 64.08161906 63.88161906 63.68161906]\n",
      "[ 5  6  7  8  9 10 11 12 13 14]\n",
      "[2 3 4]\n",
      "[18 19 20]\n",
      "[3093.52073242 3100.16631939 3106.81190635 ... 3206.49571083 3213.1412978\n",
      " 3219.78688477]\n",
      "[ 0.5         2.11111111  3.72222222  5.33333333  6.94444444  8.55555556\n",
      " 10.16666667 11.77777778 13.38888889 15.        ]\n"
     ]
    }
   ],
   "source": [
    "print(lt_tau)\n",
    "print(tau_range)\n",
    "print(rise_range)\n",
    "print(dcrrise_range)\n",
    "print(dcrflat_range)\n",
    "print(ebins)\n",
    "print(alpha_range)"
   ]
  },
  {
   "cell_type": "markdown",
   "metadata": {},
   "source": [
    "# DSP Loop"
   ]
  },
  {
   "cell_type": "code",
   "execution_count": 28,
   "metadata": {},
   "outputs": [
    {
     "data": {
      "text/plain": [
       "{'function': 'linear_slope_fit',\n",
       " 'module': 'pygama.dsp.processors',\n",
       " 'args': ['wf_logtail', 'lt_mean', 'lt_sig', 'lt_slope', 'lt_int'],\n",
       " 'unit': ['ADC', 'ADC', 'ADC', 'ADC'],\n",
       " 'prereqs': ['wf_logtail']}"
      ]
     },
     "execution_count": 28,
     "metadata": {},
     "output_type": "execute_result"
    }
   ],
   "source": [
    "dsp_config[\"outputs\"] = [\"pz_slope\", \"trapEmax\", \"dcr\", \"trapEmax_ctc\"]\n",
    "dsp_config[\"processors\"].pop(\"wf_logtail\")\n",
    "dsp_config[\"processors\"].pop(\"lt_mean, lt_sig, lt_slope, lt_int\")"
   ]
  },
  {
   "cell_type": "markdown",
   "metadata": {},
   "source": [
    "## Pole Zero Loop"
   ]
  },
  {
   "cell_type": "markdown",
   "metadata": {},
   "source": [
    "Here we are finding the optimum time constant for the decay of the tail, determined by which one gives the flattest slope of the tail once pole-zero corrected"
   ]
  },
  {
   "cell_type": "code",
   "execution_count": 37,
   "metadata": {},
   "outputs": [
    {
     "name": "stdout",
     "output_type": "stream",
     "text": [
      "         tau  pz_slope_avg\n",
      "0  65.200000      0.002622\n",
      "1  65.266667      0.002396\n",
      "2  65.333333      0.002175\n",
      "3  65.400000      0.001954\n",
      "4  65.466667      0.001782\n",
      "5  65.533333      0.001703\n",
      "6  65.600000      0.001657\n",
      "7  65.666667      0.001630\n",
      "8  65.733333      0.001692\n",
      "9  65.800000      0.001757\n"
     ]
    }
   ],
   "source": [
    "results = None\n",
    "for tau in tau_range:\n",
    "    dsp_db[\"40K\"][\"pz\"][\"tau\"] = str(tau) + \" * us\"\n",
    "        \n",
    "    dsp_file = \"1460dsp_temp.lh5\"\n",
    "    build_dsp(f_raw=raw_file, f_dsp=dsp_file, dsp_config=dsp_config, database=dsp_db, write_mode='r', n_max=20)\n",
    "    \n",
    "    pk_table, _ = sto.read_object(\"40K\", dsp_file)\n",
    "    res = pd.DataFrame({\n",
    "        \"tau\": [tau],\n",
    "        \"pz_slope_avg\": [np.nanmean(np.abs(pk_table['pz_slope'].nda))]\n",
    "    })\n",
    "    if results is None:\n",
    "        results = res\n",
    "    else:\n",
    "        results = pd.concat([results, res], ignore_index=True)\n",
    "print(results)"
   ]
  },
  {
   "cell_type": "markdown",
   "metadata": {},
   "source": [
    "If the best result is at the edge of the range, reset `tau_range` to explore more values, and run the above loop again"
   ]
  },
  {
   "cell_type": "code",
   "execution_count": 36,
   "metadata": {},
   "outputs": [],
   "source": [
    "tau_range = np.linspace(65.2, 65.8, 10)"
   ]
  },
  {
   "cell_type": "markdown",
   "metadata": {},
   "source": [
    "Set the DB value to the best tau we found and then plot `wf_pz` to look at the tails"
   ]
  },
  {
   "cell_type": "code",
   "execution_count": 38,
   "metadata": {},
   "outputs": [
    {
     "name": "stdout",
     "output_type": "stream",
     "text": [
      "65.66666666666667\n"
     ]
    }
   ],
   "source": [
    "tau = results.abs().sort_values(\"pz_slope_avg\").iloc[0]['tau']\n",
    "print(tau)\n",
    "dsp_db[\"40K\"][\"pz\"][\"tau\"] = str(tau) + \"* us\""
   ]
  },
  {
   "cell_type": "code",
   "execution_count": null,
   "metadata": {},
   "outputs": [],
   "source": [
    "dsp_config[\"outputs\"].append(\"wf_pz\")\n",
    "build_dsp(f_raw=raw_file, f_dsp=dsp_file, dsp_config=dsp_config, database=dsp_db, write_mode='r')\n",
    "pk_table, _ = sto.read_object(\"40K\", dsp_file)\n",
    "plt.figure()\n",
    "for wf in pk_table['wf_pz']['values'].nda:\n",
    "    plt.plot(wf[4250:])\n",
    "dsp_config[\"outputs\"] = dsp_config[\"outputs\"][:-1]"
   ]
  },
  {
   "cell_type": "markdown",
   "metadata": {},
   "source": [
    "## Energy Trap Loop"
   ]
  },
  {
   "cell_type": "markdown",
   "metadata": {},
   "source": [
    "We vary the `rise` parameter in the energy trapezoid to find which one gives the highest peak for the 1460 keV line. "
   ]
  },
  {
   "cell_type": "code",
   "execution_count": 41,
   "metadata": {},
   "outputs": [
    {
     "name": "stdout",
     "output_type": "stream",
     "text": [
      "    rise  peak_height\n",
      "0      1          498\n",
      "1      2          741\n",
      "2      3          915\n",
      "3      4          973\n",
      "4      5         1071\n",
      "5      6         1025\n",
      "6      7          991\n",
      "7      8         1139\n",
      "8      9         1020\n",
      "9     10         1134\n",
      "10    11         1190\n",
      "11    12          937\n",
      "12    13         1163\n",
      "13    14         1206\n",
      "14    15         1047\n",
      "15    16         1015\n",
      "16    17         1125\n"
     ]
    }
   ],
   "source": [
    "results = None\n",
    "for rise in rise_range:\n",
    "    dsp_db[\"40K\"][\"etrap\"][\"rise\"] = str(rise) + \" * us\"\n",
    "        \n",
    "    dsp_file = \"1460dsp_temp.lh5\"\n",
    "    build_dsp(f_raw=raw_file, f_dsp=dsp_file, dsp_config=dsp_config, database=dsp_db, write_mode='r')\n",
    "    \n",
    "    pk_table, _ = sto.read_object(\"40K\", dsp_file)\n",
    "    \n",
    "    # These lines will plot each energy histogram\n",
    "    #plt.figure()\n",
    "    #plt.yscale('log')\n",
    "    #ehist, _, _ = plt.hist(pk_table['trapEmax'].nda, bins = np.linspace(3300, 3600, 50), label=rise)\n",
    "    #plt.legend()\n",
    "    \n",
    "    # This one just runs and tells the answer\n",
    "    ehist, _ = np.histogram(pk_table['trapEmax'].nda, bins = ebins)\n",
    "    \n",
    "    res = pd.DataFrame({\n",
    "        \"rise\": [rise],\n",
    "        \"peak_height\": [np.max(ehist)]\n",
    "    })\n",
    "    if results is None:\n",
    "        results = res\n",
    "    else:\n",
    "        results = pd.concat([results, res], ignore_index=True)\n",
    "print(results)"
   ]
  },
  {
   "cell_type": "code",
   "execution_count": 40,
   "metadata": {},
   "outputs": [],
   "source": [
    "rise_range = np.arange(1, 18)"
   ]
  },
  {
   "cell_type": "code",
   "execution_count": 42,
   "metadata": {},
   "outputs": [
    {
     "data": {
      "text/plain": [
       "Text(0, 0.5, 'peak height')"
      ]
     },
     "execution_count": 42,
     "metadata": {},
     "output_type": "execute_result"
    },
    {
     "data": {
      "image/png": "[encoded data removed]",
      "text/plain": [
       "<Figure size 640x480 with 1 Axes>"
      ]
     },
     "metadata": {},
     "output_type": "display_data"
    }
   ],
   "source": [
    "plt.figure()\n",
    "plt.plot(results[\"peak_height\"])\n",
    "plt.xlabel(\"etrap rise (us)\")\n",
    "plt.ylabel(\"peak height\")"
   ]
  },
  {
   "cell_type": "code",
   "execution_count": 43,
   "metadata": {},
   "outputs": [
    {
     "name": "stdout",
     "output_type": "stream",
     "text": [
      "14\n"
     ]
    }
   ],
   "source": [
    "rise = results.abs().sort_values(\"peak_height\").iloc[-1]['rise']\n",
    "print(rise)\n",
    "dsp_db[\"40K\"][\"etrap\"][\"rise\"] = str(rise) + \"* us\""
   ]
  },
  {
   "cell_type": "markdown",
   "metadata": {},
   "source": [
    "## DCR Loop"
   ]
  },
  {
   "cell_type": "markdown",
   "metadata": {},
   "source": [
    "We do a grid-search on both the `rise` and `flat` parameters for the DCR trapezoid that give us a DCR centered around zero."
   ]
  },
  {
   "cell_type": "code",
   "execution_count": 47,
   "metadata": {},
   "outputs": [
    {
     "name": "stdout",
     "output_type": "stream",
     "text": [
      "    rise   flat  dcr_mean\n",
      "0   3.75  19.75  1.542071\n",
      "1   3.75  20.00  1.295285\n",
      "2   3.75  20.25  1.042691\n",
      "3   3.75  20.50  0.768694\n",
      "4   4.00  19.75  1.068663\n",
      "5   4.00  20.00  0.807321\n",
      "6   4.00  20.25  0.523754\n",
      "7   4.00  20.50  0.226272\n",
      "8   4.25  19.75  0.571634\n",
      "9   4.25  20.00  0.276961\n",
      "10  4.25  20.25  0.024409\n",
      "11  4.25  20.50  0.338620\n",
      "12  4.50  19.75  0.029111\n",
      "13  4.50  20.00  0.278061\n",
      "14  4.50  20.25  0.605579\n",
      "15  4.50  20.50  0.946343\n"
     ]
    }
   ],
   "source": [
    "results = None\n",
    "for rise in dcrrise_range:\n",
    "    for flat in dcrflat_range:\n",
    "        dsp_db[\"40K\"][\"dcr_trap\"][\"rise\"] = str(rise) + \" * us\"\n",
    "        dsp_db[\"40K\"][\"dcr_trap\"][\"flat\"] = str(flat) + \" * us\"\n",
    "\n",
    "        dsp_file = \"1460dsp_temp.lh5\"\n",
    "        build_dsp(f_raw=raw_file, f_dsp=dsp_file, dsp_config=dsp_config, database=dsp_db, write_mode='r')\n",
    "\n",
    "        pk_table, _ = sto.read_object(\"40K\", dsp_file)\n",
    "\n",
    "        res = pd.DataFrame({\n",
    "            \"rise\": [rise],\n",
    "            \"flat\": [flat],\n",
    "            \"dcr_mean\": [np.abs(np.mean(pk_table['dcr'].nda))]\n",
    "        })\n",
    "        if results is None:\n",
    "            results = res\n",
    "        else:\n",
    "            results = pd.concat([results, res], ignore_index=True)\n",
    "print(results)"
   ]
  },
  {
   "cell_type": "markdown",
   "metadata": {},
   "source": [
    "If the best result is at the edge of the range, reset `dcrrise_range` and `dcrflat_range` to explore more values, and run the above loop again"
   ]
  },
  {
   "cell_type": "code",
   "execution_count": 46,
   "metadata": {},
   "outputs": [],
   "source": [
    "dcrrise_range = np.linspace(3.75, 4.5, 4)\n",
    "dcrflat_range = np.linspace(19.75, 20.5, 4)"
   ]
  },
  {
   "cell_type": "markdown",
   "metadata": {},
   "source": [
    "Set the DB value to the best tau we found and then plot `wf_pz` to look at the tails"
   ]
  },
  {
   "cell_type": "code",
   "execution_count": 48,
   "metadata": {},
   "outputs": [
    {
     "name": "stdout",
     "output_type": "stream",
     "text": [
      "4.25 20.25\n"
     ]
    }
   ],
   "source": [
    "dcrrise = results.abs().sort_values(\"dcr_mean\").iloc[0]['rise']\n",
    "dcrflat = results.abs().sort_values(\"dcr_mean\").iloc[0]['flat']\n",
    "print(dcrrise, dcrflat)\n",
    "dsp_db[\"40K\"][\"dcr_trap\"][\"rise\"] = str(dcrrise) + \"* us\"\n",
    "dsp_db[\"40K\"][\"dcr_trap\"][\"flat\"] = str(dcrflat) + \"* us\""
   ]
  },
  {
   "cell_type": "markdown",
   "metadata": {},
   "source": [
    "## Charge Trapping Correction"
   ]
  },
  {
   "cell_type": "markdown",
   "metadata": {},
   "source": [
    "We want to correct our energy estimation by adding a value to `trapEftp` based on the DCR. \n",
    "- trapEftp_ctc = trapEftp + alpha*DCR\n",
    "\n",
    "We are trying to optimize a value for `alpha` that gives the highest peak for the 1460 keV line"
   ]
  },
  {
   "cell_type": "code",
   "execution_count": 51,
   "metadata": {},
   "outputs": [
    {
     "name": "stdout",
     "output_type": "stream",
     "text": [
      "    alpha  peak_height\n",
      "0     0.0         1206\n",
      "1     0.0         1206\n",
      "2     0.1         1111\n",
      "3     0.2         1029\n",
      "4     0.3          919\n",
      "5     0.4          860\n",
      "6     0.5          874\n",
      "7     0.6          888\n",
      "8     0.7          875\n",
      "9     0.8          837\n",
      "10    0.9          783\n"
     ]
    }
   ],
   "source": [
    "results = None\n",
    "for alpha in alpha_range:\n",
    "    dsp_db[\"40K\"][\"ctc\"][\"alpha\"] = str(alpha)\n",
    "        \n",
    "    dsp_file = \"1460dsp_temp.lh5\"\n",
    "    build_dsp(f_raw=raw_file, f_dsp=dsp_file, dsp_config=dsp_config, database=dsp_db, write_mode='r')\n",
    "    \n",
    "    pk_table, _ = sto.read_object(\"40K\", dsp_file)\n",
    "    \n",
    "    # These lines will plot each energy histogram\n",
    "    #plt.figure()\n",
    "    #plt.yscale('log')\n",
    "    #ehist, _, _ = plt.hist(pk_table['trapEmax_ctc'].nda, bins = ebins, label=alpha)\n",
    "    #plt.legend()\n",
    "    \n",
    "    # This one just runs and tells the answer\n",
    "    ehist, _ = np.histogram(pk_table['trapEmax_ctc'].nda, bins = ebins)\n",
    "    \n",
    "    res = pd.DataFrame({\n",
    "        \"alpha\": [alpha],\n",
    "        \"peak_height\": [np.max(ehist)]\n",
    "    })\n",
    "    if results is None:\n",
    "        results = res\n",
    "    else:\n",
    "        results = pd.concat([results, res], ignore_index=True)\n",
    "print(results)"
   ]
  },
  {
   "cell_type": "markdown",
   "metadata": {},
   "source": [
    "If the best result is at the edge of the range, reset `alpha_range` to explore more values, and run the above loop again"
   ]
  },
  {
   "cell_type": "code",
   "execution_count": 50,
   "metadata": {},
   "outputs": [],
   "source": [
    "alpha_range = np.append([0], np.linspace(0, 0.9, 10))"
   ]
  },
  {
   "cell_type": "code",
   "execution_count": 52,
   "metadata": {},
   "outputs": [
    {
     "name": "stdout",
     "output_type": "stream",
     "text": [
      "0.0\n"
     ]
    }
   ],
   "source": [
    "alpha = results.abs().sort_values(\"peak_height\").iloc[-1]['alpha']\n",
    "print(alpha)\n",
    "dsp_db[\"40K\"][\"ctc\"][\"alpha\"] = alpha"
   ]
  },
  {
   "cell_type": "code",
   "execution_count": 53,
   "metadata": {},
   "outputs": [
    {
     "data": {
      "text/plain": [
       "(array([0., 0., 1., ..., 0., 0., 0.]),\n",
       " array([3093.52073242, 3100.16631939, 3106.81190635, ..., 3206.49571083,\n",
       "        3213.1412978 , 3219.78688477]),\n",
       " [<matplotlib.patches.Polygon at 0x7f2a0fe2aa00>])"
      ]
     },
     "execution_count": 53,
     "metadata": {},
     "output_type": "execute_result"
    },
    {
     "data": {
      "image/png": "[encoded data removed]",
      "text/plain": [
       "<Figure size 640x480 with 1 Axes>"
      ]
     },
     "metadata": {},
     "output_type": "display_data"
    }
   ],
   "source": [
    "build_dsp(f_raw=raw_file, f_dsp=dsp_file, dsp_config=dsp_config, database=dsp_db, write_mode='r')\n",
    "pk_table, _ = sto.read_object(\"40K\", dsp_file)\n",
    "plt.figure()\n",
    "plt.hist(pk_table['trapEmax'].nda, bins=ebins, histtype='step')\n",
    "plt.hist(pk_table['trapEmax_ctc'].nda, bins=ebins, histtype='step')"
   ]
  },
  {
   "cell_type": "code",
   "execution_count": 54,
   "metadata": {},
   "outputs": [
    {
     "data": {
      "text/plain": [
       "<matplotlib.colorbar.Colorbar at 0x7f2a145b6910>"
      ]
     },
     "execution_count": 54,
     "metadata": {},
     "output_type": "execute_result"
    },
    {
     "data": {
      "image/png": "[encoded data removed]",
      "text/plain": [
       "<Figure size 640x480 with 2 Axes>"
      ]
     },
     "metadata": {},
     "output_type": "display_data"
    }
   ],
   "source": [
    "plt.figure()\n",
    "plt.hist2d(pk_table['trapEmax'].nda, pk_table['dcr'].nda, bins=(ebins, np.arange(-20, 20)))\n",
    "plt.colorbar()"
   ]
  },
  {
   "cell_type": "code",
   "execution_count": 55,
   "metadata": {},
   "outputs": [
    {
     "data": {
      "text/plain": [
       "<matplotlib.colorbar.Colorbar at 0x7f2a14d43130>"
      ]
     },
     "execution_count": 55,
     "metadata": {},
     "output_type": "execute_result"
    },
    {
     "data": {
      "image/png": "[encoded data removed]",
      "text/plain": [
       "<Figure size 640x480 with 2 Axes>"
      ]
     },
     "metadata": {},
     "output_type": "display_data"
    }
   ],
   "source": [
    "plt.figure()\n",
    "plt.hist2d(pk_table['trapEmax_ctc'].nda, pk_table['dcr'].nda, bins=(ebins, np.arange(-20, 20)))\n",
    "plt.colorbar()"
   ]
  },
  {
   "cell_type": "markdown",
   "metadata": {},
   "source": [
    "# Run On One File"
   ]
  },
  {
   "cell_type": "code",
   "execution_count": 56,
   "metadata": {},
   "outputs": [],
   "source": [
    "raw = fdb.df.query(f\"cycle == {cyc}\").iloc[0]\n",
    "raw = os.path.join(fdb.data_dir, fdb.tier_dirs['raw'], raw['raw_file'])\n",
    "dsp = f\"cycle{cyc}_testdsp.lh5\""
   ]
  },
  {
   "cell_type": "code",
   "execution_count": 57,
   "metadata": {},
   "outputs": [],
   "source": [
    "# Write results to dsp_07.json defaults\n",
    "with open('./metadata/dsp/dsp_07.json') as f:\n",
    "    test_config = json.load(f)\n",
    "test_config['processors']['wf_pz']['defaults'] = {\"db.pz.tau\": dsp_db['40K']['pz']['tau']}\n",
    "test_config['processors']['wf_etrap']['defaults'] = {\"db.etrap.rise\": dsp_db['40K']['etrap']['rise'], \n",
    "                                                  \"db.etrap.flat\": dsp_db['40K']['etrap']['flat']}\n",
    "test_config['processors']['wf_dcr_trap']['defaults'] = {\"db.dcr_trap.rise\": dsp_db['40K']['dcr_trap']['rise'], \n",
    "                                                  \"db.dcr_trap.flat\": dsp_db['40K']['dcr_trap']['flat']}\n",
    "test_config['processors']['trapEmax_ctc']['defaults'] = {\"db.ctc.alpha\": dsp_db['40K']['ctc']['alpha']}"
   ]
  },
  {
   "cell_type": "code",
   "execution_count": 58,
   "metadata": {},
   "outputs": [
    {
     "name": "stdout",
     "output_type": "stream",
     "text": [
      "{'40K': {'ctc': {'alpha': 0.0},\n",
      "         'dcr_trap': {'flat': '20.25* us', 'rise': '4.25* us'},\n",
      "         'etrap': {'flat': '2*us', 'rise': '14* us'},\n",
      "         'pz': {'tau': '65.66666666666667* us'}}}\n"
     ]
    }
   ],
   "source": [
    "pprint.pprint(dsp_db)"
   ]
  },
  {
   "cell_type": "code",
   "execution_count": 59,
   "metadata": {},
   "outputs": [
    {
     "name": "stdout",
     "output_type": "stream",
     "text": [
      "{'outputs': ['channel',\n",
      "             'timestamp',\n",
      "             'energy',\n",
      "             'bl',\n",
      "             'bl_sig',\n",
      "             'bl_slope_ftp',\n",
      "             'bl_sig',\n",
      "             'bl_slope',\n",
      "             'bl_intercept',\n",
      "             'wf_max',\n",
      "             'wf_argmax',\n",
      "             'fltp',\n",
      "             'fltp_sig',\n",
      "             'trapEmax',\n",
      "             'trapE_argmax',\n",
      "             'atrap_max',\n",
      "             'tp_0',\n",
      "             'trapEftp',\n",
      "             'trapEmax_ctc',\n",
      "             'dcr',\n",
      "             'dtrap_max',\n",
      "             'qdrift',\n",
      "             'lt_mean',\n",
      "             'lt_sig',\n",
      "             'lt_slope',\n",
      "             'lt_int',\n",
      "             'A_10',\n",
      "             'AoE',\n",
      "             'triE',\n",
      "             'ToE',\n",
      "             'tp_max',\n",
      "             'tp_02',\n",
      "             'tp_05',\n",
      "             'tp_10',\n",
      "             'tp_20',\n",
      "             'tp_30',\n",
      "             'tp_40',\n",
      "             'tp_50',\n",
      "             'tp_60',\n",
      "             'tp_70',\n",
      "             'tp_80',\n",
      "             'tp_90',\n",
      "             'tp_96'],\n",
      " 'processors': {'A_10': {'args': ['curr', 1, 'A_10'],\n",
      "                         'function': 'amax',\n",
      "                         'kwargs': {'signature': '(n),()->()',\n",
      "                                    'types': ['fi->f']},\n",
      "                         'module': 'numpy',\n",
      "                         'prereqs': ['curr'],\n",
      "                         'unit': 'ADC'},\n",
      "                'AoE': {'args': ['A_10', 'trapEftp', 'AoE'],\n",
      "                        'function': 'divide',\n",
      "                        'module': 'numpy',\n",
      "                        'prereqs': ['A_10', 'trapEftp'],\n",
      "                        'unit': '1/sample'},\n",
      "                'ToE': {'args': ['triE', 'trapEftp', 'ToE'],\n",
      "                        'function': 'divide',\n",
      "                        'module': 'numpy',\n",
      "                        'prereqs': ['triE'],\n",
      "                        'unit': 'ADC'},\n",
      "                'atrap_max': {'args': ['wf_atrap', 1, 'atrap_max'],\n",
      "                              'function': 'argmax',\n",
      "                              'kwargs': {'signature': '(n),()->()',\n",
      "                                         'types': ['fi->i']},\n",
      "                              'module': 'numpy',\n",
      "                              'prereqs': ['wf_atrap'],\n",
      "                              'unit': 'ns'},\n",
      "                'bl, bl_sig, bl_slope, bl_intercept': {'args': ['waveform[0: '\n",
      "                                                                '3500]',\n",
      "                                                                'bl',\n",
      "                                                                'bl_sig',\n",
      "                                                                'bl_slope',\n",
      "                                                                'bl_intercept'],\n",
      "                                                       'function': 'linear_slope_fit',\n",
      "                                                       'module': 'pygama.dsp.processors',\n",
      "                                                       'unit': ['ADC',\n",
      "                                                                'ADC',\n",
      "                                                                'ADC',\n",
      "                                                                'ADC']},\n",
      "                'bl_slope_ftp': {'args': ['wf_bltrap',\n",
      "                                          '7.5*us',\n",
      "                                          'i',\n",
      "                                          'bl_slope_ftp'],\n",
      "                                 'function': 'fixed_time_pickoff',\n",
      "                                 'module': 'pygama.dsp.processors',\n",
      "                                 'prereqs': ['wf_bltrap'],\n",
      "                                 'unit': 'ADC'},\n",
      "                'curr': {'args': ['wf_pz', 10, \"curr(len(wf_pz)-10, 'f')\"],\n",
      "                         'function': 'avg_current',\n",
      "                         'module': 'pygama.dsp.processors',\n",
      "                         'unit': 'ADC/sample'},\n",
      "                'curr_psd': {'args': ['curr', 'curr_psd'],\n",
      "                             'function': 'psd',\n",
      "                             'init_args': ['curr',\n",
      "                                           \"curr_psd(len(curr)//2+1, 'f')\"],\n",
      "                             'module': 'pygama.dsp.processors',\n",
      "                             'prereqs': ['curr'],\n",
      "                             'unit': ''},\n",
      "                'dcr': {'args': ['wf_dcr_trap', 'db.dcr.ftp', 'i', 'dcr'],\n",
      "                        'defaults': {'db.dcr.ftp': '80*us'},\n",
      "                        'function': 'fixed_time_pickoff',\n",
      "                        'module': 'pygama.dsp.processors',\n",
      "                        'prereqs': ['wf_dcr_trap'],\n",
      "                        'unit': 'ADC'},\n",
      "                'dtrap_max': {'args': ['wf_dcr_trap', 1, 'dtrap_max'],\n",
      "                              'function': 'argmax',\n",
      "                              'kwargs': {'signature': '(n),()->()',\n",
      "                                         'types': ['fi->i']},\n",
      "                              'module': 'numpy',\n",
      "                              'prereqs': ['wf_dcr_trap'],\n",
      "                              'unit': 'ns'},\n",
      "                'fltp, fltp_sig, fltp_slope, fltp_int': {'args': ['wf_pz[4250:8000]',\n",
      "                                                                  'fltp',\n",
      "                                                                  'fltp_sig',\n",
      "                                                                  'fltp_slope',\n",
      "                                                                  'fltp_int'],\n",
      "                                                         'function': 'linear_slope_fit',\n",
      "                                                         'module': 'pygama.dsp.processors',\n",
      "                                                         'prereqs': ['wf_pz'],\n",
      "                                                         'unit': ['ADC',\n",
      "                                                                  'ADC',\n",
      "                                                                  'ADC',\n",
      "                                                                  'ADC']},\n",
      "                'hf_max': {'args': ['wf_psd[round(10*mhz*3000):round(20*mhz*3000)]',\n",
      "                                    1,\n",
      "                                    'hf_max'],\n",
      "                           'function': 'amax',\n",
      "                           'kwargs': {'signature': '(n),()->()',\n",
      "                                      'types': ['fi->f']},\n",
      "                           'module': 'numpy',\n",
      "                           'prereqs': ['wf_psd'],\n",
      "                           'unit': ''},\n",
      "                'lf_max': {'args': ['wf_psd[:round(150*khz*3000)]',\n",
      "                                    1,\n",
      "                                    'lf_max'],\n",
      "                           'function': 'amax',\n",
      "                           'kwargs': {'signature': '(n),()->()',\n",
      "                                      'types': ['fi->f']},\n",
      "                           'module': 'numpy',\n",
      "                           'prereqs': ['wf_psd'],\n",
      "                           'unit': ''},\n",
      "                'lt_mean, lt_sig, lt_slope, lt_int': {'args': ['wf_logtail',\n",
      "                                                               'lt_mean',\n",
      "                                                               'lt_sig',\n",
      "                                                               'lt_slope',\n",
      "                                                               'lt_int'],\n",
      "                                                      'function': 'linear_slope_fit',\n",
      "                                                      'module': 'pygama.dsp.processors',\n",
      "                                                      'prereqs': ['wf_logtail'],\n",
      "                                                      'unit': ['ADC',\n",
      "                                                               'ADC',\n",
      "                                                               'ADC',\n",
      "                                                               'ADC']},\n",
      "                'qdrift': {'args': ['wf_pz', '1.5*us', 0, 'tp_0', 'qdrift'],\n",
      "                           'function': 'trap_pickoff',\n",
      "                           'module': 'pygama.dsp.processors',\n",
      "                           'prereqs': ['wf_pz', 'tp_0'],\n",
      "                           'unit': 'ADC'},\n",
      "                'tp_0': {'args': ['wf_atrap', 0, 'tp_max', 0, 'tp_0'],\n",
      "                         'function': 'time_point_thresh',\n",
      "                         'module': 'pygama.dsp.processors',\n",
      "                         'unit': 'ns'},\n",
      "                'tp_02': {'args': ['wf_blsub',\n",
      "                                   '0.02*wf_max',\n",
      "                                   'tp_max',\n",
      "                                   0,\n",
      "                                   'tp_02'],\n",
      "                          'function': 'time_point_thresh',\n",
      "                          'module': 'pygama.dsp.processors',\n",
      "                          'unit': 'ns'},\n",
      "                'tp_05': {'args': ['wf_blsub',\n",
      "                                   '0.05*wf_max',\n",
      "                                   'tp_max',\n",
      "                                   0,\n",
      "                                   'tp_05'],\n",
      "                          'function': 'time_point_thresh',\n",
      "                          'module': 'pygama.dsp.processors',\n",
      "                          'unit': 'ns'},\n",
      "                'tp_10': {'args': ['wf_blsub',\n",
      "                                   '0.10*wf_max',\n",
      "                                   'tp_max',\n",
      "                                   0,\n",
      "                                   'tp_10'],\n",
      "                          'function': 'time_point_thresh',\n",
      "                          'module': 'pygama.dsp.processors',\n",
      "                          'unit': 'ns'},\n",
      "                'tp_20': {'args': ['wf_blsub',\n",
      "                                   '0.20*wf_max',\n",
      "                                   'tp_max',\n",
      "                                   0,\n",
      "                                   'tp_20'],\n",
      "                          'function': 'time_point_thresh',\n",
      "                          'module': 'pygama.dsp.processors',\n",
      "                          'unit': 'ns'},\n",
      "                'tp_30': {'args': ['wf_blsub',\n",
      "                                   '0.30*wf_max',\n",
      "                                   'tp_max',\n",
      "                                   0,\n",
      "                                   'tp_30'],\n",
      "                          'function': 'time_point_thresh',\n",
      "                          'module': 'pygama.dsp.processors',\n",
      "                          'unit': 'ns'},\n",
      "                'tp_40': {'args': ['wf_blsub',\n",
      "                                   '0.40*wf_max',\n",
      "                                   'tp_max',\n",
      "                                   0,\n",
      "                                   'tp_40'],\n",
      "                          'function': 'time_point_thresh',\n",
      "                          'module': 'pygama.dsp.processors',\n",
      "                          'unit': 'ns'},\n",
      "                'tp_50': {'args': ['wf_blsub',\n",
      "                                   '0.50*wf_max',\n",
      "                                   'tp_max',\n",
      "                                   0,\n",
      "                                   'tp_50'],\n",
      "                          'function': 'time_point_thresh',\n",
      "                          'module': 'pygama.dsp.processors',\n",
      "                          'unit': 'ns'},\n",
      "                'tp_60': {'args': ['wf_blsub',\n",
      "                                   '0.60*wf_max',\n",
      "                                   'tp_max',\n",
      "                                   0,\n",
      "                                   'tp_60'],\n",
      "                          'function': 'time_point_thresh',\n",
      "                          'module': 'pygama.dsp.processors',\n",
      "                          'unit': 'ns'},\n",
      "                'tp_70': {'args': ['wf_blsub',\n",
      "                                   '0.70*wf_max',\n",
      "                                   'tp_max',\n",
      "                                   0,\n",
      "                                   'tp_70'],\n",
      "                          'function': 'time_point_thresh',\n",
      "                          'module': 'pygama.dsp.processors',\n",
      "                          'unit': 'ns'},\n",
      "                'tp_80': {'args': ['wf_blsub',\n",
      "                                   '0.80*wf_max',\n",
      "                                   'tp_max',\n",
      "                                   0,\n",
      "                                   'tp_80'],\n",
      "                          'function': 'time_point_thresh',\n",
      "                          'module': 'pygama.dsp.processors',\n",
      "                          'unit': 'ns'},\n",
      "                'tp_90': {'args': ['wf_blsub',\n",
      "                                   '0.90*wf_max',\n",
      "                                   'tp_max',\n",
      "                                   0,\n",
      "                                   'tp_90'],\n",
      "                          'function': 'time_point_thresh',\n",
      "                          'module': 'pygama.dsp.processors',\n",
      "                          'unit': 'ns'},\n",
      "                'tp_96': {'args': ['wf_blsub',\n",
      "                                   '0.96*wf_max',\n",
      "                                   'tp_max',\n",
      "                                   0,\n",
      "                                   'tp_96'],\n",
      "                          'function': 'time_point_thresh',\n",
      "                          'module': 'pygama.dsp.processors',\n",
      "                          'unit': 'ns'},\n",
      "                'tp_ftp': {'args': ['tp_0', 'db.tp_ftp.ftp', 'tp_ftp'],\n",
      "                           'defaults': {'db.tp_ftp.ftp': 'tp_0 + 11.75*us'},\n",
      "                           'function': 'add',\n",
      "                           'module': 'numpy',\n",
      "                           'prereqs': ['tp_0'],\n",
      "                           'unit': 'ns'},\n",
      "                'tp_min, tp_max, wf_min, wf_max': {'args': ['wf_blsub',\n",
      "                                                            'tp_min',\n",
      "                                                            'tp_max',\n",
      "                                                            'wf_min',\n",
      "                                                            'wf_max'],\n",
      "                                                   'function': 'min_max',\n",
      "                                                   'module': 'pygama.dsp.processors',\n",
      "                                                   'prereqs': ['wf_blsub'],\n",
      "                                                   'unit': ['ns',\n",
      "                                                            'ns',\n",
      "                                                            'ADC',\n",
      "                                                            'ADC']},\n",
      "                'trapE_argmax': {'args': ['wf_etrap', 1, 'trapE_argmax'],\n",
      "                                 'function': 'argmax',\n",
      "                                 'kwargs': {'signature': '(n),()->()',\n",
      "                                            'types': ['fi->i']},\n",
      "                                 'module': 'numpy',\n",
      "                                 'prereqs': ['wf_etrap'],\n",
      "                                 'unit': 'ns'},\n",
      "                'trapEftp': {'args': ['wf_etrap',\n",
      "                                      'db.tp_ftp.ftp',\n",
      "                                      'i',\n",
      "                                      'trapEftp'],\n",
      "                             'defaults': {'db.tp_ftp.ftp': 'tp_0 + 11.75*us'},\n",
      "                             'function': 'fixed_time_pickoff',\n",
      "                             'module': 'pygama.dsp.processors',\n",
      "                             'prereqs': ['wf_etrap', 'tp_0'],\n",
      "                             'unit': 'ADC'},\n",
      "                'trapEmax': {'args': ['wf_etrap', 1, 'trapEmax'],\n",
      "                             'function': 'amax',\n",
      "                             'kwargs': {'signature': '(n),()->()',\n",
      "                                        'types': ['fi->f']},\n",
      "                             'module': 'numpy',\n",
      "                             'prereqs': ['wf_etrap'],\n",
      "                             'unit': 'ADC'},\n",
      "                'trapEmax_ctc': {'args': ['trapEmax',\n",
      "                                          'db.ctc.alpha*dcr',\n",
      "                                          'trapEmax_ctc'],\n",
      "                                 'defaults': {'db.ctc.alpha': 0.0},\n",
      "                                 'function': 'add',\n",
      "                                 'module': 'numpy',\n",
      "                                 'prereqs': ['trapEmax', 'dcr'],\n",
      "                                 'unit': 'ADC'},\n",
      "                'triE': {'args': ['wf_triangle', 1, 'triE'],\n",
      "                         'function': 'amax',\n",
      "                         'kwargs': {'signature': '(n),()->()',\n",
      "                                    'types': ['fi->f']},\n",
      "                         'module': 'numpy',\n",
      "                         'prereqs': ['wf_triangle'],\n",
      "                         'unit': 'ADC'},\n",
      "                'wf_argmax': {'args': ['wf_blsub', 1, 'wf_argmax'],\n",
      "                              'function': 'argmax',\n",
      "                              'kwargs': {'signature': '(n),()->()',\n",
      "                                         'types': ['fi->i']},\n",
      "                              'module': 'numpy',\n",
      "                              'prereqs': ['wf_blsub'],\n",
      "                              'unit': 'ns'},\n",
      "                'wf_atrap': {'args': ['wf_pz',\n",
      "                                      'db.atrap.rise',\n",
      "                                      'db.atrap.flat',\n",
      "                                      'db.atrap.fall',\n",
      "                                      'wf_atrap'],\n",
      "                             'defaults': {'db.atrap.fall': '4*us',\n",
      "                                          'db.atrap.flat': '1*us',\n",
      "                                          'db.atrap.rise': '20*ns'},\n",
      "                             'function': 'asym_trap_filter',\n",
      "                             'module': 'pygama.dsp.processors',\n",
      "                             'unit': 'ADC'},\n",
      "                'wf_blsub': {'args': ['waveform', 'bl', 'wf_blsub'],\n",
      "                             'function': 'subtract',\n",
      "                             'module': 'numpy',\n",
      "                             'prereqs': ['waveform', 'bl'],\n",
      "                             'unit': 'ADC'},\n",
      "                'wf_bltrap': {'args': ['wf_blsub', 500, 500, 'wf_bltrap'],\n",
      "                              'function': 'trap_norm',\n",
      "                              'module': 'pygama.dsp.processors',\n",
      "                              'prereqs': ['wf_blsub'],\n",
      "                              'unit': 'ADC'},\n",
      "                'wf_dcr_trap': {'args': ['wf_pz',\n",
      "                                         'db.dcr_trap.rise',\n",
      "                                         'db.dcr_trap.flat',\n",
      "                                         'wf_dcr_trap'],\n",
      "                                'defaults': {'db.dcr_trap.flat': '20.25* us',\n",
      "                                             'db.dcr_trap.rise': '4.25* us'},\n",
      "                                'function': 'trap_norm',\n",
      "                                'module': 'pygama.dsp.processors',\n",
      "                                'prereqs': ['wf_pz'],\n",
      "                                'unit': 'ADC'},\n",
      "                'wf_double_pz': {'args': ['wf_blsub',\n",
      "                                          'db.pz2.tau1',\n",
      "                                          'db.pz2.tau2',\n",
      "                                          'db.pz2.frac',\n",
      "                                          'wf_double_pz'],\n",
      "                                 'defaults': {'db.pz2.frac': '0.043',\n",
      "                                              'db.pz2.tau1': '52.00*us',\n",
      "                                              'db.pz2.tau2': '6.4*us'},\n",
      "                                 'function': 'double_pole_zero',\n",
      "                                 'module': 'pygama.dsp.processors',\n",
      "                                 'prereqs': ['wf_blsub'],\n",
      "                                 'unit': 'ADC'},\n",
      "                'wf_etrap': {'args': ['wf_pz',\n",
      "                                      'db.etrap.rise',\n",
      "                                      'db.etrap.flat',\n",
      "                                      'wf_etrap'],\n",
      "                             'defaults': {'db.etrap.flat': '2*us',\n",
      "                                          'db.etrap.rise': '14* us'},\n",
      "                             'function': 'trap_norm',\n",
      "                             'module': 'pygama.dsp.processors',\n",
      "                             'prereqs': ['wf_pz'],\n",
      "                             'unit': 'ADC'},\n",
      "                'wf_logtail': {'args': ['wf_blsub[4250:8000]', 'wf_logtail'],\n",
      "                               'function': 'log',\n",
      "                               'module': 'numpy',\n",
      "                               'prereqs': ['wf_blsub'],\n",
      "                               'unit': 'ADC'},\n",
      "                'wf_psd': {'args': ['wf_blsub[:3000]', 'wf_psd'],\n",
      "                           'function': 'psd',\n",
      "                           'init_args': ['wf_blsub[:3000]',\n",
      "                                         'wf_psd(len(wf_blsub[:3000])//2+1, '\n",
      "                                         \"'f')\"],\n",
      "                           'module': 'pygama.dsp.processors',\n",
      "                           'prereqs': ['wf_blsub'],\n",
      "                           'unit': ''},\n",
      "                'wf_pz': {'args': ['wf_blsub', 'db.pz.tau', 'wf_pz'],\n",
      "                          'defaults': {'db.pz.tau': '65.66666666666667* us'},\n",
      "                          'function': 'pole_zero',\n",
      "                          'module': 'pygama.dsp.processors',\n",
      "                          'prereqs': ['wf_blsub'],\n",
      "                          'unit': 'ADC'},\n",
      "                'wf_triangle': {'args': ['wf_pz',\n",
      "                                         '100*ns',\n",
      "                                         '10*ns',\n",
      "                                         'wf_triangle'],\n",
      "                                'function': 'trap_norm',\n",
      "                                'module': 'pygama.dsp.processors',\n",
      "                                'prereqs': ['wf_pz'],\n",
      "                                'unit': 'ADC'}}}\n"
     ]
    }
   ],
   "source": [
    "pprint.pprint(test_config)"
   ]
  },
  {
   "cell_type": "code",
   "execution_count": 60,
   "metadata": {},
   "outputs": [
    {
     "name": "stderr",
     "output_type": "stream",
     "text": [
      "/global/u2/g/grsong/legend/pygama/src/pygama/dsp/processing_chain.py:1228: RuntimeWarning: invalid value encountered in log\n",
      "  self.processor(*self.args, **self.kwargs)\n",
      "Processing table ORSIS3302DecoderForEnergy/raw: 100%|██████████| 119982/119982 [03:15<00:00, 613.86 rows/s]\n"
     ]
    }
   ],
   "source": [
    "build_dsp(f_raw=raw, f_dsp=dsp, dsp_config=test_config, write_mode='r')"
   ]
  },
  {
   "cell_type": "code",
   "execution_count": 61,
   "metadata": {},
   "outputs": [
    {
     "data": {
      "text/plain": [
       "['ORSIS3302DecoderForEnergy/dsp/A_10',\n",
       " 'ORSIS3302DecoderForEnergy/dsp/AoE',\n",
       " 'ORSIS3302DecoderForEnergy/dsp/ToE',\n",
       " 'ORSIS3302DecoderForEnergy/dsp/atrap_max',\n",
       " 'ORSIS3302DecoderForEnergy/dsp/bl',\n",
       " 'ORSIS3302DecoderForEnergy/dsp/bl_intercept',\n",
       " 'ORSIS3302DecoderForEnergy/dsp/bl_sig',\n",
       " 'ORSIS3302DecoderForEnergy/dsp/bl_slope',\n",
       " 'ORSIS3302DecoderForEnergy/dsp/bl_slope_ftp',\n",
       " 'ORSIS3302DecoderForEnergy/dsp/channel',\n",
       " 'ORSIS3302DecoderForEnergy/dsp/dcr',\n",
       " 'ORSIS3302DecoderForEnergy/dsp/dtrap_max',\n",
       " 'ORSIS3302DecoderForEnergy/dsp/energy',\n",
       " 'ORSIS3302DecoderForEnergy/dsp/fltp',\n",
       " 'ORSIS3302DecoderForEnergy/dsp/fltp_sig',\n",
       " 'ORSIS3302DecoderForEnergy/dsp/lt_int',\n",
       " 'ORSIS3302DecoderForEnergy/dsp/lt_mean',\n",
       " 'ORSIS3302DecoderForEnergy/dsp/lt_sig',\n",
       " 'ORSIS3302DecoderForEnergy/dsp/lt_slope',\n",
       " 'ORSIS3302DecoderForEnergy/dsp/qdrift',\n",
       " 'ORSIS3302DecoderForEnergy/dsp/timestamp',\n",
       " 'ORSIS3302DecoderForEnergy/dsp/tp_0',\n",
       " 'ORSIS3302DecoderForEnergy/dsp/tp_02',\n",
       " 'ORSIS3302DecoderForEnergy/dsp/tp_05',\n",
       " 'ORSIS3302DecoderForEnergy/dsp/tp_10',\n",
       " 'ORSIS3302DecoderForEnergy/dsp/tp_20',\n",
       " 'ORSIS3302DecoderForEnergy/dsp/tp_30',\n",
       " 'ORSIS3302DecoderForEnergy/dsp/tp_40',\n",
       " 'ORSIS3302DecoderForEnergy/dsp/tp_50',\n",
       " 'ORSIS3302DecoderForEnergy/dsp/tp_60',\n",
       " 'ORSIS3302DecoderForEnergy/dsp/tp_70',\n",
       " 'ORSIS3302DecoderForEnergy/dsp/tp_80',\n",
       " 'ORSIS3302DecoderForEnergy/dsp/tp_90',\n",
       " 'ORSIS3302DecoderForEnergy/dsp/tp_96',\n",
       " 'ORSIS3302DecoderForEnergy/dsp/tp_max',\n",
       " 'ORSIS3302DecoderForEnergy/dsp/trapE_argmax',\n",
       " 'ORSIS3302DecoderForEnergy/dsp/trapEftp',\n",
       " 'ORSIS3302DecoderForEnergy/dsp/trapEmax',\n",
       " 'ORSIS3302DecoderForEnergy/dsp/trapEmax_ctc',\n",
       " 'ORSIS3302DecoderForEnergy/dsp/triE',\n",
       " 'ORSIS3302DecoderForEnergy/dsp/wf_argmax',\n",
       " 'ORSIS3302DecoderForEnergy/dsp/wf_max']"
      ]
     },
     "execution_count": 61,
     "metadata": {},
     "output_type": "execute_result"
    }
   ],
   "source": [
    "ls(dsp, 'ORSIS3302DecoderForEnergy/dsp/*')"
   ]
  },
  {
   "cell_type": "code",
   "execution_count": 62,
   "metadata": {},
   "outputs": [],
   "source": [
    "dsp_table, _ = sto.read_object(\"ORSIS3302DecoderForEnergy/dsp\", dsp)"
   ]
  },
  {
   "cell_type": "code",
   "execution_count": 68,
   "metadata": {},
   "outputs": [
    {
     "data": {
      "text/plain": [
       "(array([0., 1., 0., ..., 0., 0., 0.]),\n",
       " array([3140.        , 3140.06012024, 3140.12024048, ..., 3169.87975952,\n",
       "        3169.93987976, 3170.        ]),\n",
       " <BarContainer object of 499 artists>)"
      ]
     },
     "execution_count": 68,
     "metadata": {},
     "output_type": "execute_result"
    },
    {
     "data": {
      "image/png": "[encoded data removed]",
      "text/plain": [
       "<Figure size 640x480 with 1 Axes>"
      ]
     },
     "metadata": {},
     "output_type": "display_data"
    }
   ],
   "source": [
    "# energy histogram\n",
    "plt.figure()\n",
    "plt.yscale('log')\n",
    "plt.hist(dsp_table['trapEmax'].nda, bins=np.linspace(3140, 3170, 500))"
   ]
  },
  {
   "cell_type": "code",
   "execution_count": 70,
   "metadata": {},
   "outputs": [
    {
     "data": {
      "text/plain": [
       "(array([0., 0., 2., ..., 0., 0., 0.]),\n",
       " array([2600.        , 2601.57894737, 2603.15789474, ..., 2626.84210526,\n",
       "        2628.42105263, 2630.        ]),\n",
       " <BarContainer object of 19 artists>)"
      ]
     },
     "execution_count": 70,
     "metadata": {},
     "output_type": "execute_result"
    },
    {
     "data": {
      "image/png": "[encoded data removed]",
      "text/plain": [
       "<Figure size 640x480 with 1 Axes>"
      ]
     },
     "metadata": {},
     "output_type": "display_data"
    }
   ],
   "source": [
    "# check linearity\n",
    "k40_peak = 3155\n",
    "plt.figure()\n",
    "plt.yscale('log')\n",
    "plt.hist(dsp_table['trapEmax'].nda*(1460/k40_peak), bins=np.linspace(2600, 2630, 20))"
   ]
  },
  {
   "cell_type": "code",
   "execution_count": 71,
   "metadata": {},
   "outputs": [
    {
     "data": {
      "text/plain": [
       "(array([1., 0., 1., ..., 5., 4., 4.]),\n",
       " array([-50, -49, -48, ...,  47,  48,  49]),\n",
       " <BarContainer object of 99 artists>)"
      ]
     },
     "execution_count": 71,
     "metadata": {},
     "output_type": "execute_result"
    },
    {
     "data": {
      "image/png": "[encoded data removed]",
      "text/plain": [
       "<Figure size 640x480 with 1 Axes>"
      ]
     },
     "metadata": {},
     "output_type": "display_data"
    }
   ],
   "source": [
    "# dcr histogram\n",
    "plt.figure()\n",
    "plt.hist(dsp_table['dcr'].nda, bins=np.arange(-50, 50))"
   ]
  },
  {
   "cell_type": "code",
   "execution_count": 72,
   "metadata": {},
   "outputs": [
    {
     "data": {
      "text/plain": [
       "(-50.0, 50.0)"
      ]
     },
     "execution_count": 72,
     "metadata": {},
     "output_type": "execute_result"
    },
    {
     "data": {
      "image/png": "[encoded data removed]",
      "text/plain": [
       "<Figure size 640x480 with 1 Axes>"
      ]
     },
     "metadata": {},
     "output_type": "display_data"
    }
   ],
   "source": [
    "plt.figure()\n",
    "plt.hist2d(dsp_table['trapEmax'].nda, dsp_table['dcr'].nda, \n",
    "           bins = (np.linspace(0, 10000, 100), np.arange(-200, 200)), \n",
    "           norm=colors.LogNorm())\n",
    "plt.xlabel(\"trapEmax\")\n",
    "plt.ylabel(\"DCR\")\n",
    "plt.axhline(0, color='r')\n",
    "plt.xlim(3000, 7000)\n",
    "plt.ylim(-50, 50)"
   ]
  },
  {
   "cell_type": "code",
   "execution_count": 73,
   "metadata": {},
   "outputs": [
    {
     "data": {
      "text/plain": [
       "(-50.0, 50.0)"
      ]
     },
     "execution_count": 73,
     "metadata": {},
     "output_type": "execute_result"
    },
    {
     "data": {
      "image/png": "[encoded data removed]",
      "text/plain": [
       "<Figure size 640x480 with 1 Axes>"
      ]
     },
     "metadata": {},
     "output_type": "display_data"
    }
   ],
   "source": [
    "plt.figure()\n",
    "plt.hist2d(dsp_table['trapEmax_ctc'].nda, dsp_table['dcr'].nda, \n",
    "           bins = (np.linspace(0, 10000, 100), np.arange(-200, 200)), \n",
    "           norm=colors.LogNorm())\n",
    "plt.xlabel(\"trapEmax_ctc\")\n",
    "plt.ylabel(\"DCR\")\n",
    "plt.axhline(0, color='r')\n",
    "plt.xlim(3000, 7000)\n",
    "plt.ylim(-50, 50)"
   ]
  },
  {
   "cell_type": "code",
   "execution_count": 74,
   "metadata": {},
   "outputs": [
    {
     "data": {
      "text/plain": [
       "<matplotlib.lines.Line2D at 0x7f2a0f360640>"
      ]
     },
     "execution_count": 74,
     "metadata": {},
     "output_type": "execute_result"
    },
    {
     "data": {
      "image/png": "[encoded data removed]",
      "text/plain": [
       "<Figure size 640x480 with 1 Axes>"
      ]
     },
     "metadata": {},
     "output_type": "display_data"
    }
   ],
   "source": [
    "plt.figure()\n",
    "plt.hist2d(dsp_table['trapEmax_ctc'].nda, dsp_table['dcr'].nda, \n",
    "           bins = (np.linspace(0, 10000, 100), np.arange(-200, 200)), \n",
    "           norm=colors.LogNorm())\n",
    "plt.xlabel(\"trapEmax_ctc\")\n",
    "plt.ylabel(\"DCR\")\n",
    "plt.axhline(0, color='r')"
   ]
  },
  {
   "cell_type": "code",
   "execution_count": 75,
   "metadata": {},
   "outputs": [
    {
     "data": {
      "text/plain": [
       "<matplotlib.lines.Line2D at 0x7f2a0f2dadc0>"
      ]
     },
     "execution_count": 75,
     "metadata": {},
     "output_type": "execute_result"
    },
    {
     "data": {
      "image/png": "[encoded data removed]",
      "text/plain": [
       "<Figure size 640x480 with 1 Axes>"
      ]
     },
     "metadata": {},
     "output_type": "display_data"
    }
   ],
   "source": [
    "plt.figure()\n",
    "plt.hist2d(dsp_table['trapEmax'].nda, dsp_table['dcr'].nda, \n",
    "           bins = (np.linspace(0, 10000, 100), np.arange(-200, 200)), \n",
    "           norm=colors.LogNorm())\n",
    "plt.xlabel(\"trapEmax\")\n",
    "plt.ylabel(\"DCR\")\n",
    "plt.axhline(0, color='r')"
   ]
  },
  {
   "cell_type": "code",
   "execution_count": 76,
   "metadata": {},
   "outputs": [
    {
     "data": {
      "text/plain": [
       "(array([32., 40., 45., ..., 16., 17., 10.]),\n",
       " array([3000.        , 3010.20408163, 3020.40816327, ..., 3479.59183673,\n",
       "        3489.79591837, 3500.        ]),\n",
       " [<matplotlib.patches.Polygon at 0x7f2a0f20ba30>])"
      ]
     },
     "execution_count": 76,
     "metadata": {},
     "output_type": "execute_result"
    },
    {
     "data": {
      "image/png": "[encoded data removed]",
      "text/plain": [
       "<Figure size 640x480 with 1 Axes>"
      ]
     },
     "metadata": {},
     "output_type": "display_data"
    }
   ],
   "source": [
    "# energy histogram\n",
    "plt.figure()\n",
    "plt.yscale('log')\n",
    "plt.hist(dsp_table['trapEmax'].nda, bins=np.linspace(3000, 3500, 50), histtype='step')\n",
    "plt.hist(dsp_table['trapEmax_ctc'].nda, bins=np.linspace(3000, 3500, 50), histtype='step')"
   ]
  },
  {
   "cell_type": "code",
   "execution_count": 77,
   "metadata": {},
   "outputs": [
    {
     "data": {
      "text/plain": [
       "(array([1., 0., 2., ..., 3., 0., 0.]),\n",
       " array([5750.        , 5760.20408163, 5770.40816327, ..., 6229.59183673,\n",
       "        6239.79591837, 6250.        ]),\n",
       " [<matplotlib.patches.Polygon at 0x7f2a0f14e4c0>])"
      ]
     },
     "execution_count": 77,
     "metadata": {},
     "output_type": "execute_result"
    },
    {
     "data": {
      "image/png": "[encoded data removed]",
      "text/plain": [
       "<Figure size 640x480 with 1 Axes>"
      ]
     },
     "metadata": {},
     "output_type": "display_data"
    }
   ],
   "source": [
    "# energy histogram\n",
    "plt.figure()\n",
    "plt.yscale('log')\n",
    "plt.hist(dsp_table['trapEmax'].nda, bins=np.linspace(5750, 6250, 50), histtype='step')\n",
    "plt.hist(dsp_table['trapEmax_ctc'].nda, bins=np.linspace(5750, 6250, 50), histtype='step')"
   ]
  },
  {
   "cell_type": "code",
   "execution_count": null,
   "metadata": {},
   "outputs": [],
   "source": [
    "test_config"
   ]
  },
  {
   "cell_type": "code",
   "execution_count": 78,
   "metadata": {},
   "outputs": [],
   "source": [
    "# Write this configuration to a file\n",
    "with open(f'./metadata/dsp/dsp_cyc{cyc}.json', 'w') as f:\n",
    "    json.dump(test_config, f)"
   ]
  },
  {
   "cell_type": "code",
   "execution_count": null,
   "metadata": {},
   "outputs": [],
   "source": []
  }
 ],
 "metadata": {
  "kernelspec": {
   "display_name": "legend-base",
   "language": "python",
   "name": "legend-base"
  },
  "language_info": {
   "codemirror_mode": {
    "name": "ipython",
    "version": 3
   },
   "file_extension": ".py",
   "mimetype": "text/x-python",
   "name": "python",
   "nbconvert_exporter": "python",
   "pygments_lexer": "ipython3",
   "version": "3.9.13"
  }
 },
 "nbformat": 4,
 "nbformat_minor": 4
}
