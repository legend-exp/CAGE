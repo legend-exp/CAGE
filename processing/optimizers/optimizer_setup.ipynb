{
 "cells": [
  {
   "cell_type": "markdown",
   "metadata": {},
   "source": [
    "Use this code to help determine parameter values to input into apdb to be used in optimizer code"
   ]
  },
  {
   "cell_type": "code",
   "execution_count": null,
   "metadata": {},
   "outputs": [],
   "source": [
    "#!/usr/bin/env python3\n",
    "import os\n",
    "import json\n",
    "import h5py\n",
    "import argparse\n",
    "import pandas as pd\n",
    "import numpy as np\n",
    "import tinydb as db\n",
    "from tinydb.storages import MemoryStorage\n",
    "import matplotlib.pyplot as plt\n",
    "# plt.style.use('../clint.mpl')\n",
    "from matplotlib.colors import LogNorm\n",
    "\n",
    "# import boost_histogram as bh\n",
    "# import pickle as pl\n",
    "\n",
    "from pygama import DataGroup\n",
    "import pygama.lh5 as lh5\n",
    "import pygama.analysis.histograms as pgh\n",
    "import pygama.analysis.peak_fitting as pgf\n",
    "from pygama.dsp.WaveformBrowser import WaveformBrowser"
   ]
  },
  {
   "cell_type": "code",
   "execution_count": null,
   "metadata": {},
   "outputs": [],
   "source": [
    "bkg_dg = DataGroup('$CAGE_SW/processing/cage.json', load=True)\n",
    "# bkg_run = 'run==180 and skip==False'\n",
    "bkg_run = 'run==56 and skip==False' #57\n",
    "# bkg_run = 'run==34 and skip==False'\n",
    "bkg_dg.fileDB.query(bkg_run, inplace=True)\n",
    "view_cols = ['runtype', 'run', 'cycle', 'startTime', 'runtime', 'threshold']\n",
    "print(bkg_dg.fileDB[view_cols])\n",
    "\n",
    "dsp_id = '01'"
   ]
  },
  {
   "cell_type": "code",
   "execution_count": null,
   "metadata": {},
   "outputs": [],
   "source": [
    "user = False\n",
    "hit = False\n",
    "# hit = True"
   ]
  },
  {
   "cell_type": "code",
   "execution_count": null,
   "metadata": {},
   "outputs": [],
   "source": [
    "# get file list and load background energy data\n",
    "\n",
    "lh5_dir = bkg_dg.lh5_user_dir if user else bkg_dg.lh5_dir\n",
    "\n",
    "# if hit files\n",
    "if hit == True:\n",
    "    bkg_file_list = lh5_dir + bkg_dg.fileDB['hit_path'] + '/' + bkg_dg.fileDB['hit_file']\n",
    "    # bkg_df = lh5.load_dfs(bkg_file_list, ['energy', 'trapEmax', 'trapEftp', 'trapEmax_cal', 'trapEftp_cal', 'bl','bl_sig', 'bl_slope', 'lf_max', 'A_10','AoE', 'dcr', 'tp_0', 'tp_10', 'tp_90', 'tp_50', 'tp_80', 'tp_max', 'ts_sec', 'timestamp', 'ts_glo'], 'ORSIS3302DecoderForEnergy/hit')\n",
    "    bkg_df = lh5.load_dfs(bkg_file_list, ['energy', 'trapEftp', 'trapEftp_cal', 'bl','bl_sig'], 'ORSIS3302DecoderForEnergy/hit')\n",
    "    \n",
    "else:\n",
    "    bkg_file_list = lh5_dir + bkg_dg.fileDB['dsp_path'] + '/' + bkg_dg.fileDB['dsp_file']\n",
    "    bkg_df = lh5.load_dfs(bkg_file_list, ['energy', 'trapEmax', 'trapEftp'], 'ORSIS3302DecoderForEnergy/dsp')\n",
    "    \n",
    "    print(bkg_file_list)\n",
    "\n",
    "bkg_rt_min = bkg_dg.fileDB['runtime'].sum()\n",
    "bkg_u_start = bkg_dg.fileDB.iloc[0]['startTime']\n",
    "bkg_t_start = pd.to_datetime(bkg_u_start, unit='s') # str\n",
    "print(f'Background Runtime: {bkg_rt_min} minutes')"
   ]
  },
  {
   "cell_type": "code",
   "execution_count": null,
   "metadata": {},
   "outputs": [],
   "source": [
    "plt.rcParams['figure.figsize'] = [14, 10]"
   ]
  },
  {
   "cell_type": "markdown",
   "metadata": {},
   "source": [
    "Plot full energy spectrum"
   ]
  },
  {
   "cell_type": "code",
   "execution_count": null,
   "metadata": {},
   "outputs": [],
   "source": [
    "elo, ehi, epb = 0, 5000000, 1000 #full energy range, dsp_id = 02\n",
    "nbx = int((ehi-elo)/epb)\n",
    "e_unit = ' raw'\n",
    "\n",
    "etype = 'energy'"
   ]
  },
  {
   "cell_type": "code",
   "execution_count": null,
   "metadata": {},
   "outputs": [],
   "source": [
    "\n",
    "bkg_ene_hist_raw, bins = np.histogram(bkg_df[etype], bins=nbx, range=([elo, ehi]))\n",
    "\n",
    "# print(bins)\n",
    "\n",
    "plt.semilogy(bins[1:], bkg_ene_hist_raw, ds='steps', c='b', lw=1,\n",
    "            label=f'{etype}, background energy')\n",
    "\n",
    "plt.xlabel(etype, ha='right', x=1)\n",
    "plt.ylabel('cts', ha='right', y=1)\n",
    "plt.ylabel(f'counts/{str(epb)}{e_unit}', fontsize=16)\n",
    "# plt.xlim(2610, 2620)\n",
    "# plt.ylim(0.001, 30)\n",
    "plt.legend()\n",
    "plt.title(f'Background run, raw energy: {bkg_run}')\n",
    "plt.show()"
   ]
  },
  {
   "cell_type": "markdown",
   "metadata": {},
   "source": [
    "Plot 1460 peak location"
   ]
  },
  {
   "cell_type": "code",
   "execution_count": null,
   "metadata": {},
   "outputs": [],
   "source": [
    "k40_elo, k40_ehi, k40_epb = 2500000, 2650000, 1000 #1460 peak, dsp_id = 01\n",
    "# k40_elo, k40_ehi, k40_epb = 2610000, 2660000, 1000 #1460 peak, dsp_id = 02\n",
    "k40_nbx = int((k40_ehi-k40_elo)/k40_epb)\n",
    "e_unit = ' raw'\n",
    "\n",
    "etype = 'energy'"
   ]
  },
  {
   "cell_type": "code",
   "execution_count": null,
   "metadata": {},
   "outputs": [],
   "source": [
    "k40_bkg_ene_hist_raw, k40_bins = np.histogram(bkg_df[etype], bins=k40_nbx, range=([k40_elo, k40_ehi]))\n",
    "\n",
    "# print(bins)\n",
    "\n",
    "plt.semilogy(k40_bins[1:], k40_bkg_ene_hist_raw, ds='steps', c='b', lw=1,\n",
    "            label=f'{etype}, background energy')\n",
    "\n",
    "plt.xlabel(etype, ha='right', x=1)\n",
    "plt.ylabel('cts', ha='right', y=1)\n",
    "plt.ylabel(f'counts/{str(epb)}{e_unit}', fontsize=16)\n",
    "# plt.xlim(2610, 2620)\n",
    "# plt.ylim(0.001, 30)\n",
    "plt.legend()\n",
    "plt.title(f'Background run, raw energy: {bkg_run}')\n",
    "plt.show()"
   ]
  },
  {
   "cell_type": "markdown",
   "metadata": {},
   "source": [
    "plot 2615 peak "
   ]
  },
  {
   "cell_type": "code",
   "execution_count": null,
   "metadata": {},
   "outputs": [],
   "source": [
    "tl_elo, tl_ehi, tl_epb = 4580000, 4650000, 1000 #2615 peak, dsp_id = 01\n",
    "# tl_elo, tl_ehi, tl_epb = 4715000, 4740000, 1000 #2615 peak, dsp_id = 02\n",
    "tl_nbx = int((tl_ehi-elo)/tl_epb)\n",
    "e_unit = ' raw'\n",
    "\n",
    "etype = 'energy'"
   ]
  },
  {
   "cell_type": "code",
   "execution_count": null,
   "metadata": {},
   "outputs": [],
   "source": [
    "tl_bkg_ene_hist_raw, tl_bins = np.histogram(bkg_df[etype], bins=tl_nbx, range=([tl_elo, tl_ehi]))\n",
    "\n",
    "# print(bins)\n",
    "\n",
    "plt.semilogy(tl_bins[1:], tl_bkg_ene_hist_raw, ds='steps', c='b', lw=1,\n",
    "            label=f'{etype}, background energy')\n",
    "\n",
    "plt.xlabel(etype, ha='right', x=1)\n",
    "plt.ylabel('cts', ha='right', y=1)\n",
    "plt.ylabel(f'counts/{str(epb)}{e_unit}', fontsize=16)\n",
    "# plt.xlim(2610, 2620)\n",
    "# plt.ylim(0.001, 30)\n",
    "plt.legend()\n",
    "plt.title(f'Background run, raw energy: {bkg_run}')\n",
    "plt.show()"
   ]
  },
  {
   "cell_type": "markdown",
   "metadata": {},
   "source": [
    "Use Waveform Browser to figure out optimal time bins to optimize DCR and energy traps"
   ]
  },
  {
   "cell_type": "code",
   "execution_count": null,
   "metadata": {},
   "outputs": [],
   "source": [
    "# get raw files for wfs\n",
    "\n",
    "raw_lh5_dir = bkg_dg.lh5_dir\n",
    "raw_list = raw_lh5_dir + bkg_dg.fileDB['raw_path'] + '/' + bkg_dg.fileDB['raw_file']\n",
    "\n",
    "print(raw_list)"
   ]
  },
  {
   "cell_type": "code",
   "execution_count": null,
   "metadata": {},
   "outputs": [],
   "source": [
    "# look at 1460 events\n",
    "\n",
    "energy = bkg_df[etype]\n",
    "\n",
    "energy_cut = (energy > 2580000) & (energy < 2600000) #1460 peak, dsp_id = 01\n",
    "# energy_cut = (energy > 2610000) & (energy < 2650000) #1460 peak, dsp_id = 02"
   ]
  },
  {
   "cell_type": "markdown",
   "metadata": {},
   "source": [
    "DCR"
   ]
  },
  {
   "cell_type": "code",
   "execution_count": null,
   "metadata": {},
   "outputs": [],
   "source": [
    "dsp_config_file = os.path.expandvars(f'$CAGE_SW/processing/metadata/dsp/dsp_{dsp_id}.json')\n",
    "browser = WaveformBrowser(raw_list, 'ORSIS3302DecoderForEnergy/raw', dsp_config_file, # Need to include a dsp config file!\n",
    "                          database={\"pz_const\":'396.9*us'}, # TODO: use metadata instead of manually defining...\n",
    "                          waveforms=['wf_blsub', 'wf_pzDCR', 'dcr_trap', 'dcr_trap'], # names of waveforms from dsp config file\n",
    "                          selection   = energy_cut,           # Apply cut\n",
    "                          wf_styles=[{'linestyle':['-']},{'linestyle':[':']},{'ls':['--']}],\n",
    "                          legend=['Waveform', 'PZ Corrected', \"DCR: {dcr:0.2f}\"],\n",
    "#                           legend_opts={'loc':\"upper left\"},\n",
    "                          lines=['dcr'], # add hlines and vlines\n",
    "                          x_lim=(38000, 80000) # x axis range\n",
    "                         )"
   ]
  },
  {
   "cell_type": "code",
   "execution_count": null,
   "metadata": {},
   "outputs": [],
   "source": [
    "browser.draw_next()\n",
    "# plt.ylim(0, 100)\n",
    "# plt.plot(4090)"
   ]
  },
  {
   "cell_type": "markdown",
   "metadata": {},
   "source": [
    "Energy"
   ]
  },
  {
   "cell_type": "code",
   "execution_count": null,
   "metadata": {},
   "outputs": [],
   "source": [
    "dsp_config_file = os.path.expandvars(f'$CAGE_SW/processing/metadata/dsp/dsp_{dsp_id}.json')\n",
    "browser2 = WaveformBrowser(raw_list, 'ORSIS3302DecoderForEnergy/raw', dsp_config_file, # Need to include a dsp config file!\n",
    "                          database={\"pz_const\":'396.9*us'}, # TODO: use metadata instead of manually defining...\n",
    "                          waveforms=['wf_blsub', 'wf_pz', 'wf_trap'], # names of waveforms from dsp config file\n",
    "                          selection   = energy_cut,           # Apply cut\n",
    "                          wf_styles=[{'linestyle':['-']},{'linestyle':[':']},{'ls':['--']}],\n",
    "                          legend=['Waveform', 'PZ Corrected',  'trapEftp = {trapEftp:0.2f}'],\n",
    "#                           legend_opts={'loc':\"upper left\"},\n",
    "                          lines=['trapEftp'], # add hlines and vlines\n",
    "                          x_lim=(0, 80000) # x axis range\n",
    "                         )"
   ]
  },
  {
   "cell_type": "code",
   "execution_count": null,
   "metadata": {},
   "outputs": [],
   "source": [
    "browser2.draw_next()\n",
    "plt.xlim(35000, 80000)\n",
    "plt.ylim(3000,4400)"
   ]
  },
  {
   "cell_type": "code",
   "execution_count": null,
   "metadata": {},
   "outputs": [],
   "source": []
  }
 ],
 "metadata": {
  "kernelspec": {
   "display_name": "legend-base",
   "language": "python",
   "name": "legend-base"
  },
  "language_info": {
   "codemirror_mode": {
    "name": "ipython",
    "version": 3
   },
   "file_extension": ".py",
   "mimetype": "text/x-python",
   "name": "python",
   "nbconvert_exporter": "python",
   "pygments_lexer": "ipython3",
   "version": "3.8.5"
  }
 },
 "nbformat": 4,
 "nbformat_minor": 4
}
